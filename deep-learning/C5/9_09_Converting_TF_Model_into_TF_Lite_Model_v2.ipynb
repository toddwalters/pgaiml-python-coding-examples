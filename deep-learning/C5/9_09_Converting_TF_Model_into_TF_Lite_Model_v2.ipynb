{
  "cells": [
    {
      "cell_type": "markdown",
      "metadata": {
        "id": "_ye549M-Vcfa"
      },
      "source": [
        "# Tutorial on Converting Tensorflow Model to TensorFlow Lite Model\n",
        "- The TensorFlow Lite converter takes a TensorFlow model and generates\n",
        "a TensorFlow Lite model (an optimized **FlatBuffer** format identified by the **tflite** file extension)\n"
      ]
    },
    {
      "cell_type": "markdown",
      "source": [
        "## Steps to Be Followed:\n",
        "1. Importing the required library\n",
        "2. Creating and saving the model\n",
        "3. Converting the Keras model to a TensorFlow lite model\n",
        "4. Converting concrete functions"
      ],
      "metadata": {
        "id": "vsUwMzpVnfOy"
      }
    },
    {
      "cell_type": "markdown",
      "source": [
        "### Step 1: Importing the Required Library\n",
        "- To utilize the popular open-source machine learning framework for building and training neural networks, import the **tensorflow** library\n"
      ],
      "metadata": {
        "id": "9jh_T8IcVwgI"
      }
    },
    {
      "cell_type": "code",
      "execution_count": 1,
      "metadata": {
        "id": "t7vHaQU7Vcfi"
      },
      "outputs": [],
      "source": [
        "import tensorflow as tf"
      ]
    },
    {
      "cell_type": "markdown",
      "source": [
        "### Step 2: Creating and Saving the Model\n",
        "- Create a sequential model using the Keras API in TensorFlow\n",
        "- Compile the model with the specified optimizer and loss function\n",
        "- Fit the model to the training data for a specified number of epochs\n",
        "- Save the trained model in the specified directory using the TensorFlow **SavedModel** format\n",
        "\n"
      ],
      "metadata": {
        "id": "XP6pIUuvV6dN"
      }
    },
    {
      "cell_type": "code",
      "execution_count": 2,
      "metadata": {
        "id": "a0bVrMs0Vcfj",
        "outputId": "1e03f3c9-d4af-411e-c1e1-355bcdda671c",
        "colab": {
          "base_uri": "https://localhost:8080/"
        }
      },
      "outputs": [
        {
          "output_type": "stream",
          "name": "stdout",
          "text": [
            "Epoch 1/5\n",
            "1/1 [==============================] - 2s 2s/step - loss: 2.8389\n",
            "Epoch 2/5\n",
            "1/1 [==============================] - 0s 38ms/step - loss: 2.5713\n",
            "Epoch 3/5\n",
            "1/1 [==============================] - 0s 32ms/step - loss: 2.3067\n",
            "Epoch 4/5\n",
            "1/1 [==============================] - 0s 24ms/step - loss: 2.0617\n",
            "Epoch 5/5\n",
            "1/1 [==============================] - 0s 54ms/step - loss: 1.8354\n"
          ]
        }
      ],
      "source": [
        "model = tf.keras.models.Sequential([\n",
        "    tf.keras.layers.Dense(units = 1, input_shape = [1]),\n",
        "    tf.keras.layers.Dense(units = 16, activation = 'relu'),\n",
        "    tf.keras.layers.Dense(units = 1)\n",
        "])\n",
        "\n",
        "model.compile(optimizer = 'sgd', loss = 'mean_squared_error')\n",
        "\n",
        "model.fit(x = [-1, 0, 1], y = [-3,-1, 1], epochs = 5)\n",
        "\n",
        "tf.saved_model.save(model, 'saved_model_keras_dir')"
      ]
    },
    {
      "cell_type": "markdown",
      "source": [
        "__Observation:__\n",
        "\n",
        "The code defines, trains, and saves a sequential Keras model in TensorFlow."
      ],
      "metadata": {
        "id": "RAOrPWgfol99"
      }
    },
    {
      "cell_type": "markdown",
      "source": [
        "### Step 3: Converting the Keras Model to a Tensorflow Lite Model\n",
        "- Save the TensorFlow Lite model to a file\n",
        "\n"
      ],
      "metadata": {
        "id": "Df_zoSvDWQOC"
      }
    },
    {
      "cell_type": "code",
      "execution_count": 3,
      "metadata": {
        "id": "vFrWAF4fVcfl"
      },
      "outputs": [],
      "source": [
        "converter = tf.lite.TFLiteConverter.from_keras_model(model)\n",
        "tflite_model = converter.convert()\n",
        "\n",
        "with open('model.tflite', 'wb') as f:\n",
        "  f.write(tflite_model)"
      ]
    },
    {
      "cell_type": "code",
      "source": [
        "def summation(x,y):\n",
        "  return x+y\n",
        "\n",
        "# optimization with tensorflow\n",
        "tf.function(summation)\n",
        "\n",
        "# approach\n",
        "@tf.function\n",
        "def summation(x,y):\n",
        "  return x+y\n",
        "\n",
        "# Optimize the function with the datatype\n",
        "\n",
        "summation.get_concrete_function(tf.TensorSpec(shape=[None], dtype=tf.float32),\n",
        "                                tf.TensorSpec(shape=[None], dtype=tf.float32))"
      ],
      "metadata": {
        "id": "Mgx94HAAel1K"
      },
      "execution_count": null,
      "outputs": []
    },
    {
      "cell_type": "markdown",
      "source": [
        "__Observation:__\n",
        "\n",
        "The updated code converts a Keras model into a TensorFlow Lite model and saves it to a file named **model.tflite**.\n",
        "\n",
        "\n",
        "\n",
        "\n"
      ],
      "metadata": {
        "id": "dCDmUrmPocbS"
      }
    },
    {
      "cell_type": "markdown",
      "source": [
        "### Step 4: Converting Concrete Functions\n",
        "- Create a model using low-level tf.* APIs\n",
        "- Define a custom TensorFlow module named **Squared** that squares input values.\n",
        "- Create an instance of the Squared module\n",
        "- Get the concrete function from the module's **__call__** method\n",
        "- Convert the concrete function to a TensorFlow Lite model\n",
        "\n"
      ],
      "metadata": {
        "id": "G_ZIMTH_WeTM"
      }
    },
    {
      "cell_type": "code",
      "execution_count": null,
      "metadata": {
        "id": "rJGGm3pZVcfl"
      },
      "outputs": [],
      "source": [
        "class Squared(tf.Module):\n",
        "  @tf.function(input_signature=[tf.TensorSpec(shape=[None], dtype=tf.float32)])\n",
        "  def __call__(self, x):\n",
        "    return tf.square(x)\n",
        "model = Squared()\n",
        "\n",
        "concrete_func = model.__call__.get_concrete_function()\n",
        "\n",
        "converter = tf.lite.TFLiteConverter.from_concrete_functions([concrete_func],\n",
        "                                                            model)\n",
        "tflite_model = converter.convert()"
      ]
    },
    {
      "cell_type": "markdown",
      "source": [
        "Observation:\n",
        "\n",
        "The provided code defines a TensorFlow module called **Squared** and converts it into a TensorFlow Lite model using the TensorFlow Lite converter."
      ],
      "metadata": {
        "id": "RL5X4FgcoH8z"
      }
    }
  ],
  "metadata": {
    "kernelspec": {
      "display_name": "Python 3",
      "language": "python",
      "name": "python3"
    },
    "language_info": {
      "codemirror_mode": {
        "name": "ipython",
        "version": 3
      },
      "file_extension": ".py",
      "mimetype": "text/x-python",
      "name": "python",
      "nbconvert_exporter": "python",
      "pygments_lexer": "ipython3",
      "version": "3.7.6"
    },
    "colab": {
      "provenance": []
    }
  },
  "nbformat": 4,
  "nbformat_minor": 0
}
{
  "nbformat": 4,
  "nbformat_minor": 0,
  "metadata": {
    "colab": {
      "provenance": []
    },
    "kernelspec": {
      "name": "python3",
      "display_name": "Python 3"
    },
    "language_info": {
      "name": "python"
    }
  },
  "cells": [
    {
      "cell_type": "code",
      "execution_count": 1,
      "metadata": {
        "id": "FGaGmG7qsfyn"
      },
      "outputs": [],
      "source": [
        "# Demo of Conv2D layers\n",
        "from tensorflow.keras import layers\n",
        "from tensorflow.keras import models\n",
        "from tensorflow.keras.layers import Conv2D\n",
        "from tensorflow.keras.layers import MaxPooling2D\n",
        "from tensorflow.keras.layers import Flatten\n",
        "from tensorflow.keras.layers import Dense"
      ]
    },
    {
      "cell_type": "markdown",
      "source": [
        "https://www.tensorflow.org/api_docs/python/tf/keras/layers/Conv2D"
      ],
      "metadata": {
        "id": "2N5fEyvdtCJP"
      }
    },
    {
      "cell_type": "code",
      "source": [
        "# Basics\n",
        "# Image is sent to a Conv2D in the format of - Batch Size - Height, width , number of color channels"
      ],
      "metadata": {
        "id": "HiEk3tMds74a"
      },
      "execution_count": 2,
      "outputs": []
    },
    {
      "cell_type": "code",
      "source": [
        "import numpy as np\n",
        "x = np.random.randint(0,100,(5,5))\n",
        "x = np.array(x,dtype=\"float32\")\n",
        "print(x)"
      ],
      "metadata": {
        "colab": {
          "base_uri": "https://localhost:8080/"
        },
        "id": "oy9eleFbtNYs",
        "outputId": "173c254e-b65d-4312-9a9d-3f28391b2374"
      },
      "execution_count": 3,
      "outputs": [
        {
          "output_type": "stream",
          "name": "stdout",
          "text": [
            "[[32.  0. 35. 72. 33.]\n",
            " [86. 75. 90. 75. 40.]\n",
            " [74. 20. 42.  1. 70.]\n",
            " [99.  3. 79. 87. 31.]\n",
            " [67. 39. 73. 16. 70.]]\n"
          ]
        }
      ]
    },
    {
      "cell_type": "code",
      "source": [
        "# reshape the x\n",
        "x = np.reshape(x,(1,5,5,1))\n",
        "print(x.shape)"
      ],
      "metadata": {
        "colab": {
          "base_uri": "https://localhost:8080/"
        },
        "id": "T2aqglD9tWdV",
        "outputId": "b4aab2a6-c50f-4c65-b715-aab002863e6d"
      },
      "execution_count": 7,
      "outputs": [
        {
          "output_type": "stream",
          "name": "stdout",
          "text": [
            "(1, 5, 5, 1)\n"
          ]
        }
      ]
    },
    {
      "cell_type": "code",
      "source": [
        "conv = Conv2D(filters=1, kernel_size=(3,3), strides=(1,1),\n",
        "              padding=\"same\", input_shape=(5,5,1)) # use the padding"
      ],
      "metadata": {
        "id": "4p_ix_Aetgah"
      },
      "execution_count": 8,
      "outputs": []
    },
    {
      "cell_type": "code",
      "source": [
        "conv = Conv2D(filters=1, kernel_size=(3,3), strides=(1,1),\n",
        "              padding=\"valid\", input_shape=(5,5,1)) # no padding"
      ],
      "metadata": {
        "id": "Oa9rLX_bubwM"
      },
      "execution_count": 12,
      "outputs": []
    },
    {
      "cell_type": "code",
      "source": [
        "conv(x)"
      ],
      "metadata": {
        "colab": {
          "base_uri": "https://localhost:8080/"
        },
        "id": "Yk_x5aZet-MT",
        "outputId": "8a79fd6a-a903-4155-9506-01cedd3b0d26"
      },
      "execution_count": 13,
      "outputs": [
        {
          "output_type": "execute_result",
          "data": {
            "text/plain": [
              "<tf.Tensor: shape=(1, 3, 3, 1), dtype=float32, numpy=\n",
              "array([[[[ 75.1994  ],\n",
              "         [ 47.953373],\n",
              "         [ 20.399586]],\n",
              "\n",
              "        [[ 16.072336],\n",
              "         [-15.537022],\n",
              "         [ 27.85926 ]],\n",
              "\n",
              "        [[ 46.483227],\n",
              "         [ 36.98137 ],\n",
              "         [ 75.17574 ]]]], dtype=float32)>"
            ]
          },
          "metadata": {},
          "execution_count": 13
        }
      ]
    },
    {
      "cell_type": "code",
      "source": [
        "conv.get_weights()"
      ],
      "metadata": {
        "colab": {
          "base_uri": "https://localhost:8080/"
        },
        "id": "39GLqLyCuIi3",
        "outputId": "a924bd92-98c8-4073-f4a6-0b28c99c0439"
      },
      "execution_count": 14,
      "outputs": [
        {
          "output_type": "execute_result",
          "data": {
            "text/plain": [
              "[array([[[[-0.21173632]],\n",
              " \n",
              "         [[-0.4835992 ]],\n",
              " \n",
              "         [[-0.06153399]]],\n",
              " \n",
              " \n",
              "        [[[ 0.36669493]],\n",
              " \n",
              "         [[ 0.2559998 ]],\n",
              " \n",
              "         [[-0.14718872]]],\n",
              " \n",
              " \n",
              "        [[[ 0.5517949 ]],\n",
              " \n",
              "         [[ 0.44872284]],\n",
              " \n",
              "         [[-0.07541388]]]], dtype=float32),\n",
              " array([0.], dtype=float32)]"
            ]
          },
          "metadata": {},
          "execution_count": 14
        }
      ]
    },
    {
      "cell_type": "code",
      "source": [
        "conv.get_weights()[0].reshape(3,3)"
      ],
      "metadata": {
        "colab": {
          "base_uri": "https://localhost:8080/"
        },
        "id": "HWKSwB-guUye",
        "outputId": "30b817b9-9e01-40d3-a267-ddba386929f9"
      },
      "execution_count": 15,
      "outputs": [
        {
          "output_type": "execute_result",
          "data": {
            "text/plain": [
              "array([[-0.21173632, -0.4835992 , -0.06153399],\n",
              "       [ 0.36669493,  0.2559998 , -0.14718872],\n",
              "       [ 0.5517949 ,  0.44872284, -0.07541388]], dtype=float32)"
            ]
          },
          "metadata": {},
          "execution_count": 15
        }
      ]
    },
    {
      "cell_type": "code",
      "source": [
        "import tensorflow as tf\n",
        "tf.reshape(x,(5,5))"
      ],
      "metadata": {
        "colab": {
          "base_uri": "https://localhost:8080/"
        },
        "id": "_uZcbH8buzw5",
        "outputId": "3d73c25c-e87b-4291-db08-9917f0540d5c"
      },
      "execution_count": 17,
      "outputs": [
        {
          "output_type": "execute_result",
          "data": {
            "text/plain": [
              "<tf.Tensor: shape=(5, 5), dtype=float32, numpy=\n",
              "array([[32.,  0., 35., 72., 33.],\n",
              "       [86., 75., 90., 75., 40.],\n",
              "       [74., 20., 42.,  1., 70.],\n",
              "       [99.,  3., 79., 87., 31.],\n",
              "       [67., 39., 73., 16., 70.]], dtype=float32)>"
            ]
          },
          "metadata": {},
          "execution_count": 17
        }
      ]
    },
    {
      "cell_type": "code",
      "source": [
        "#Test Theoritical Knowledge\n",
        "x_flat = tf.reshape(x[:,:3,:3,:],-1) # input\n",
        "w_flat = tf.reshape(conv.get_weights()[0],-1) # weights\n",
        "tf.tensordot(x_flat,w_flat,axes=1)"
      ],
      "metadata": {
        "colab": {
          "base_uri": "https://localhost:8080/"
        },
        "id": "2G1X--dCu2w5",
        "outputId": "03dcbb07-fcf0-49a9-fdd6-13956faf8eee"
      },
      "execution_count": 19,
      "outputs": [
        {
          "output_type": "execute_result",
          "data": {
            "text/plain": [
              "<tf.Tensor: shape=(), dtype=float32, numpy=75.19941>"
            ]
          },
          "metadata": {},
          "execution_count": 19
        }
      ]
    },
    {
      "cell_type": "code",
      "source": [
        "pool = MaxPooling2D(pool_size=(2,2))"
      ],
      "metadata": {
        "id": "txvXhWu9vDCp"
      },
      "execution_count": 20,
      "outputs": []
    },
    {
      "cell_type": "code",
      "source": [
        "x"
      ],
      "metadata": {
        "colab": {
          "base_uri": "https://localhost:8080/"
        },
        "id": "4YPcNeTqvVWQ",
        "outputId": "e9637a86-eff0-46c1-8c67-471e2406fdb4"
      },
      "execution_count": 21,
      "outputs": [
        {
          "output_type": "execute_result",
          "data": {
            "text/plain": [
              "array([[[[32.],\n",
              "         [ 0.],\n",
              "         [35.],\n",
              "         [72.],\n",
              "         [33.]],\n",
              "\n",
              "        [[86.],\n",
              "         [75.],\n",
              "         [90.],\n",
              "         [75.],\n",
              "         [40.]],\n",
              "\n",
              "        [[74.],\n",
              "         [20.],\n",
              "         [42.],\n",
              "         [ 1.],\n",
              "         [70.]],\n",
              "\n",
              "        [[99.],\n",
              "         [ 3.],\n",
              "         [79.],\n",
              "         [87.],\n",
              "         [31.]],\n",
              "\n",
              "        [[67.],\n",
              "         [39.],\n",
              "         [73.],\n",
              "         [16.],\n",
              "         [70.]]]], dtype=float32)"
            ]
          },
          "metadata": {},
          "execution_count": 21
        }
      ]
    },
    {
      "cell_type": "markdown",
      "source": [
        "![image.png](data:image/png;base64,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)"
      ],
      "metadata": {
        "id": "gTvTwqugvesm"
      }
    },
    {
      "cell_type": "code",
      "source": [
        "pool(x)"
      ],
      "metadata": {
        "colab": {
          "base_uri": "https://localhost:8080/"
        },
        "id": "AeFnvLG-veiM",
        "outputId": "9be0616c-0180-41d2-aa3d-d95f22cce029"
      },
      "execution_count": 22,
      "outputs": [
        {
          "output_type": "execute_result",
          "data": {
            "text/plain": [
              "<tf.Tensor: shape=(1, 2, 2, 1), dtype=float32, numpy=\n",
              "array([[[[86.],\n",
              "         [90.]],\n",
              "\n",
              "        [[99.],\n",
              "         [87.]]]], dtype=float32)>"
            ]
          },
          "metadata": {},
          "execution_count": 22
        }
      ]
    },
    {
      "cell_type": "code",
      "source": [],
      "metadata": {
        "id": "aJFn7zfovWEj"
      },
      "execution_count": null,
      "outputs": []
    }
  ]
}
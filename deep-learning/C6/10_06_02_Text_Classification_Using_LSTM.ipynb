{
  "cells": [
    {
      "cell_type": "markdown",
      "metadata": {
        "id": "AMGXXgNF7k61"
      },
      "source": [
        "# __Text Classification using LSTM__\n",
        "\n",
        "Let's see how to classify the text using LSTM (Long Short-Term Memory)."
      ]
    },
    {
      "cell_type": "code",
      "source": [
        "import nltk\n",
        "nltk.download('stopwords')"
      ],
      "metadata": {
        "colab": {
          "base_uri": "https://localhost:8080/"
        },
        "id": "RME2Qywv_p7Z",
        "outputId": "4847175e-619b-417e-87a6-3a8a4a830bde"
      },
      "execution_count": 1,
      "outputs": [
        {
          "output_type": "stream",
          "name": "stderr",
          "text": [
            "[nltk_data] Downloading package stopwords to /root/nltk_data...\n",
            "[nltk_data]   Unzipping corpora/stopwords.zip.\n"
          ]
        },
        {
          "output_type": "execute_result",
          "data": {
            "text/plain": [
              "True"
            ]
          },
          "metadata": {},
          "execution_count": 1
        }
      ]
    },
    {
      "cell_type": "markdown",
      "source": [
        "## Steps to  Be Followed:\n",
        "\n",
        "1. Importing the libraries\n",
        "2. Defining the hyperparameter\n",
        "3. Preprocessing the data and printing the lengths of the labels and articles lists.\n",
        "4. Splitting the data into training and validation sets\n",
        "5. Initializing a tokenizer and fitting it on the training articles\n",
        "6. Converting the training articles into sequences using the tokenizer\n",
        "7. Padding the sequence\n",
        "8. Printing the length of validation Sequences and the shape of validation padded\n",
        "9. Training the model\n",
        "10. Compiling the model\n",
        "11. Plotting the graph"
      ],
      "metadata": {
        "id": "VuJT1hcu92er"
      }
    },
    {
      "cell_type": "markdown",
      "source": [
        "### Step 1: Importing the libraries\n",
        "- Import the required libraries"
      ],
      "metadata": {
        "id": "nKxl5ljN-IKH"
      }
    },
    {
      "cell_type": "code",
      "execution_count": 2,
      "metadata": {
        "id": "qLg1HxV27k64"
      },
      "outputs": [],
      "source": [
        "import csv\n",
        "import tensorflow as tf\n",
        "import numpy as np\n",
        "from tensorflow.keras.preprocessing.text import Tokenizer\n",
        "from tensorflow.keras.preprocessing.sequence import pad_sequences\n",
        "from nltk.corpus import stopwords\n",
        "STOPWORDS = set(stopwords.words('english'))\n",
        "import matplotlib.pyplot as plt\n"
      ]
    },
    {
      "cell_type": "markdown",
      "source": [
        "### Step 2: Defining the Hyperparameter\n",
        "- Set the value of __vocab_size__ to __5000__, representing the size of the vocabulary\n",
        "- Set the value of __embedding_dim__ to __64__, specifying the dimensionality of the word embeddings\n",
        "- Set the value of __max_length__ to __200__, indicating the maximum length of input sequences\n",
        "- Set the value of __padding_type__ to __post__, specifying that padding should be added at the end of sequences\n",
        "- Set the value of __trunc_type__ to __post__, indicating that truncation should be applied at the end of sequences\n",
        "- Set the value of __oov_tok__ to __OOV__, representing the token to be used for out-of-vocabulary words\n",
        "- Set the value of __training_portion__ to __0.8__, representing the proportion of data to be used for training"
      ],
      "metadata": {
        "id": "8cvQu2uW_AF0"
      }
    },
    {
      "cell_type": "code",
      "execution_count": 3,
      "metadata": {
        "id": "BecOwkf37k66"
      },
      "outputs": [],
      "source": [
        "vocab_size = 5000\n",
        "embedding_dim = 64\n",
        "max_length = 200\n",
        "padding_type = 'post'\n",
        "trunc_type = 'post'\n",
        "oov_tok = '<OOV>'\n",
        "training_portion = .8"
      ]
    },
    {
      "cell_type": "markdown",
      "metadata": {
        "id": "x5682GVs7k66"
      },
      "source": [
        "### Step 3: Preprocessing the Data and Printing the Lengths of the Labels and Articles Lists.\n",
        "\n",
        "- Define two empty lists, articles, and labels to store the articles and labels, respectively\n",
        "- Read the contents of the **bbc-text.csv** file using csv.reader and iterate through each row\n",
        "- Extract the label from the first column of each row and append it to the labels list\n",
        "- Process the article from the second column by removing stopwords and replacing consecutive spaces with a single space and then append it to the articles list\n",
        "- Print the lengths of the labels and articles lists to display the number of labels and processed articles, respectively"
      ]
    },
    {
      "cell_type": "code",
      "execution_count": 4,
      "metadata": {
        "id": "YOrfsrUe7k67",
        "outputId": "f8b8a843-4f70-4265-d6bb-2f85dc934c5e",
        "colab": {
          "base_uri": "https://localhost:8080/"
        }
      },
      "outputs": [
        {
          "output_type": "stream",
          "name": "stdout",
          "text": [
            "2225\n",
            "2225\n"
          ]
        }
      ],
      "source": [
        "articles = []\n",
        "labels = []\n",
        "\n",
        "with open(\"bbc-text.csv\", 'r') as csvfile:\n",
        "    reader = csv.reader(csvfile, delimiter=',')\n",
        "    next(reader)\n",
        "    for row in reader:\n",
        "        labels.append(row[0])\n",
        "        article = row[1]\n",
        "        for word in STOPWORDS:\n",
        "            token = ' ' + word + ' '\n",
        "            article = article.replace(token, ' ')\n",
        "            article = article.replace(' ', ' ')\n",
        "        articles.append(article)\n",
        "print(len(labels))\n",
        "print(len(articles))"
      ]
    },
    {
      "cell_type": "markdown",
      "metadata": {
        "id": "Qtk-qqt67k67"
      },
      "source": [
        "__Observations:__\n",
        "- There are only **2,225** articles in the data.\n",
        "- Then, we split into a training set and validation set, according to the parameter we set earlier, 80% for training, and 20% for validation."
      ]
    },
    {
      "cell_type": "markdown",
      "source": [
        "### Step 4: Splitting the Data into Training and Validation Sets\n",
        "- Calculate the **train_size** by multiplying the length of the articles list with __training_portion__ and converting it to an integer\n",
        "- Create **train_articles** by slicing the articles list from index **0** to **train_size**\n",
        "- Create **train_labels** by slicing the labels list from index** 0 **to **train_size**\n",
        "- Create validation_articles by slicing the articles list from **train_size** onward\n",
        "- Create **validation_labels** by slicing the labels list from **train_size** onward\n",
        "- Print the **train_size** to display the calculated value\n",
        "\n",
        "- The lengths of **train_articles**, **train_labels**, **validation_articles**, and **validation_labels** represent the number of items in each list."
      ],
      "metadata": {
        "id": "C72gvCwGSa0k"
      }
    },
    {
      "cell_type": "code",
      "execution_count": 5,
      "metadata": {
        "id": "EKMT9Fb37k68",
        "outputId": "2bcf554b-3dee-4b5a-fff6-c8eb3dea3e12",
        "colab": {
          "base_uri": "https://localhost:8080/"
        }
      },
      "outputs": [
        {
          "output_type": "stream",
          "name": "stdout",
          "text": [
            "1780\n",
            "1780\n",
            "1780\n",
            "445\n",
            "445\n"
          ]
        }
      ],
      "source": [
        "train_size = int(len(articles) * training_portion)\n",
        "\n",
        "train_articles = articles[0: train_size]\n",
        "train_labels = labels[0: train_size]\n",
        "\n",
        "validation_articles = articles[train_size:]\n",
        "validation_labels = labels[train_size:]\n",
        "\n",
        "print(train_size)\n",
        "print(len(train_articles))\n",
        "print(len(train_labels))\n",
        "print(len(validation_articles))\n",
        "print(len(validation_labels))"
      ]
    },
    {
      "cell_type": "markdown",
      "source": [
        "__Observations:__\n",
        "- The value of **train_size** is calculated based on the proportion of training data.\n",
        "- The lengths of **train_articles**, **train_labels**, **validation_articles**, and **validation_labels** representing the number of items in each list."
      ],
      "metadata": {
        "id": "dx4Pb61WT2F3"
      }
    },
    {
      "cell_type": "markdown",
      "source": [
        "### Step 5: Initializing a Tokenizer and Fitting It on the Training Articles\n",
        "\n",
        "- Initialize a **Tokenizer** object named tokenizer with the specified parameters: **num_words** representing the vocabulary size and **oov_token** representing the out-of-vocabulary token\n",
        "- Fit the tokenizer on the training articles **(train_articles)** using the **fit_on_texts** method\n",
        "- This step updates the tokenizer's internal word index based on the words in the training articles\n",
        "- Assign the word index obtained from the tokenizer to the variable **word_index**\n",
        "- Extract the first 10 items from the word_index dictionary\n",
        "- Print the resulting dictionary"
      ],
      "metadata": {
        "id": "bSR2G2lrWrue"
      }
    },
    {
      "cell_type": "code",
      "execution_count": 6,
      "metadata": {
        "id": "2JrnZlTL7k68"
      },
      "outputs": [],
      "source": [
        "tokenizer = Tokenizer(num_words = vocab_size, oov_token=oov_tok)\n",
        "tokenizer.fit_on_texts(train_articles)\n",
        "word_index = tokenizer.word_index"
      ]
    },
    {
      "cell_type": "code",
      "execution_count": 7,
      "metadata": {
        "id": "7lhT9_-f7k68",
        "outputId": "e4e22179-762b-4136-886d-267b69f182a6",
        "colab": {
          "base_uri": "https://localhost:8080/"
        }
      },
      "outputs": [
        {
          "output_type": "execute_result",
          "data": {
            "text/plain": [
              "{'<OOV>': 1,\n",
              " 'said': 2,\n",
              " 'mr': 3,\n",
              " 'would': 4,\n",
              " 'year': 5,\n",
              " 'also': 6,\n",
              " 'people': 7,\n",
              " 'new': 8,\n",
              " 'us': 9,\n",
              " 'one': 10}"
            ]
          },
          "metadata": {},
          "execution_count": 7
        }
      ],
      "source": [
        "dict(list(word_index.items())[0:10])"
      ]
    },
    {
      "cell_type": "markdown",
      "source": [
        "__Observations:__\n",
        "- The code prints a dictionary containing the first 10 items from the word_index dictionary.\n",
        "- These items represent a subset of the word-to-index mappings generated by the tokenizer."
      ],
      "metadata": {
        "id": "CQ_XTmT_eU7b"
      }
    },
    {
      "cell_type": "markdown",
      "source": [
        "### Step 6: Converting the Training Articles into Sequences Using the Tokenizer\n",
        "- Convert the training articles **(train_articles)** into sequences using the **texts_to_sequences** method of the tokenizer object and assign the result to **train_sequences**\n",
        "- Print the sequence representation of the 11th training article (index 10) by accessing **train_sequences[10]**"
      ],
      "metadata": {
        "id": "jTDip0vPe30D"
      }
    },
    {
      "cell_type": "code",
      "execution_count": 8,
      "metadata": {
        "id": "qaNkkgzP7k69",
        "outputId": "f2133525-533e-4ce9-81f8-1ad9192bdeb1",
        "colab": {
          "base_uri": "https://localhost:8080/"
        }
      },
      "outputs": [
        {
          "output_type": "stream",
          "name": "stdout",
          "text": [
            "[2432, 1, 225, 4996, 22, 641, 587, 225, 4996, 1, 1, 1662, 1, 1, 2432, 22, 565, 1, 1, 140, 278, 1, 140, 278, 796, 822, 662, 2308, 1, 1145, 1693, 1, 1721, 4997, 1, 1, 1, 1, 1, 4739, 1, 1, 122, 4515, 1, 2, 2874, 1506, 352, 4740, 1, 52, 341, 1, 352, 2172, 3962, 41, 22, 3796, 1, 1, 1, 1, 542, 1, 1, 1, 835, 631, 2367, 347, 4741, 1, 365, 22, 1, 787, 2368, 1, 4303, 138, 10, 1, 3665, 682, 3531, 1, 22, 1, 414, 822, 662, 1, 90, 13, 633, 1, 225, 4996, 1, 599, 1, 1693, 1021, 1, 4998, 807, 1864, 117, 1, 1, 1, 2975, 22, 1, 99, 278, 1, 1606, 4999, 542, 492, 1, 1445, 4742, 778, 1320, 1, 1861, 10, 33, 641, 319, 1, 62, 478, 565, 301, 1507, 22, 479, 1, 1, 1665, 1, 797, 1, 3067, 1, 1364, 6, 1, 2432, 565, 22, 2972, 4736, 1, 1, 1, 1, 1, 850, 39, 1825, 675, 297, 26, 979, 1, 882, 22, 361, 22, 13, 301, 1507, 1342, 374, 20, 63, 883, 1097, 4304, 247]\n"
          ]
        }
      ],
      "source": [
        "train_sequences  = tokenizer.texts_to_sequences(train_articles)\n",
        "\n",
        "print(train_sequences[10])"
      ]
    },
    {
      "cell_type": "markdown",
      "source": [
        "__Observation:__\n",
        "- The code prints the sequence representation of the 11th training article (index 10) in the **train_sequences** list.\n",
        "- The output is a list of integers, where each integer represents the index of a word in the tokenizer's word index vocabulary that corresponds to a word in the article."
      ],
      "metadata": {
        "id": "__Jgr_cdfR_6"
      }
    },
    {
      "cell_type": "markdown",
      "source": [
        "### Step 7: Padding the Sequence\n",
        "- Pad the sequences in **train_sequences** using the **pad_sequences** function\n",
        "- Set the maximum length of the padded sequences to **max_length**\n",
        "- Specify the padding type as **padding_type** and the truncation type as **trunc_type**\n",
        "- Assign the padded sequences to the variable **train_padded**"
      ],
      "metadata": {
        "id": "E60-EoRMh58g"
      }
    },
    {
      "cell_type": "code",
      "execution_count": 9,
      "metadata": {
        "id": "msiF0l767k69"
      },
      "outputs": [],
      "source": [
        "train_padded = pad_sequences(train_sequences, maxlen=max_length, padding=padding_type, truncating=trunc_type)"
      ]
    },
    {
      "cell_type": "code",
      "execution_count": 10,
      "metadata": {
        "id": "iKwGCkXf7k69",
        "outputId": "57e04b39-50e0-4db2-b4a4-39ff391a9228",
        "colab": {
          "base_uri": "https://localhost:8080/"
        }
      },
      "outputs": [
        {
          "output_type": "stream",
          "name": "stdout",
          "text": [
            "[2432, 1, 225, 4996, 22, 641, 587, 225, 4996, 1, 1, 1662, 1, 1, 2432, 22, 565, 1, 1, 140, 278, 1, 140, 278, 796, 822, 662, 2308, 1, 1145, 1693, 1, 1721, 4997, 1, 1, 1, 1, 1, 4739, 1, 1, 122, 4515, 1, 2, 2874, 1506, 352, 4740, 1, 52, 341, 1, 352, 2172, 3962, 41, 22, 3796, 1, 1, 1, 1, 542, 1, 1, 1, 835, 631, 2367, 347, 4741, 1, 365, 22, 1, 787, 2368, 1, 4303, 138, 10, 1, 3665, 682, 3531, 1, 22, 1, 414, 822, 662, 1, 90, 13, 633, 1, 225, 4996, 1, 599, 1, 1693, 1021, 1, 4998, 807, 1864, 117, 1, 1, 1, 2975, 22, 1, 99, 278, 1, 1606, 4999, 542, 492, 1, 1445, 4742, 778, 1320, 1, 1861, 10, 33, 641, 319, 1, 62, 478, 565, 301, 1507, 22, 479, 1, 1, 1665, 1, 797, 1, 3067, 1, 1364, 6, 1, 2432, 565, 22, 2972, 4736, 1, 1, 1, 1, 1, 850, 39, 1825, 675, 297, 26, 979, 1, 882, 22, 361, 22, 13, 301, 1507, 1342, 374, 20, 63, 883, 1097, 4304, 247]\n"
          ]
        }
      ],
      "source": [
        "print(train_sequences[10])"
      ]
    },
    {
      "cell_type": "markdown",
      "source": [
        "__Observations:__\n",
        "- The code prints the sequence representation of the 11th training article (index 10) in the **train_sequences** list.\n",
        "- The output is a list of integers, where each integer represents the index of a word in the tokenizer's word index vocabulary that corresponds to a word in the article."
      ],
      "metadata": {
        "id": "k2TGYE5IjhOI"
      }
    },
    {
      "cell_type": "code",
      "execution_count": 11,
      "metadata": {
        "id": "EQbLYMWl7k6-",
        "outputId": "30070a36-37cd-443a-a8a0-014026d342cb",
        "colab": {
          "base_uri": "https://localhost:8080/"
        }
      },
      "outputs": [
        {
          "output_type": "stream",
          "name": "stdout",
          "text": [
            "[2432    1  225 4996   22  641  587  225 4996    1    1 1662    1    1\n",
            " 2432   22  565    1    1  140  278    1  140  278  796  822  662 2308\n",
            "    1 1145 1693    1 1721 4997    1    1    1    1    1 4739    1    1\n",
            "  122 4515    1    2 2874 1506  352 4740    1   52  341    1  352 2172\n",
            " 3962   41   22 3796    1    1    1    1  542    1    1    1  835  631\n",
            " 2367  347 4741    1  365   22    1  787 2368    1 4303  138   10    1\n",
            " 3665  682 3531    1   22    1  414  822  662    1   90   13  633    1\n",
            "  225 4996    1  599    1 1693 1021    1 4998  807 1864  117    1    1\n",
            "    1 2975   22    1   99  278    1 1606 4999  542  492    1 1445 4742\n",
            "  778 1320    1 1861   10   33  641  319    1   62  478  565  301 1507\n",
            "   22  479    1    1 1665    1  797    1 3067    1 1364    6    1 2432\n",
            "  565   22 2972 4736    1    1    1    1    1  850   39 1825  675  297\n",
            "   26  979    1  882   22  361   22   13  301 1507 1342  374   20   63\n",
            "  883 1097 4304  247    0    0    0    0    0    0    0    0    0    0\n",
            "    0    0    0    0]\n"
          ]
        }
      ],
      "source": [
        "print(train_padded[10])"
      ]
    },
    {
      "cell_type": "markdown",
      "source": [
        "__Observation:__\n",
        "- The code prints the padded sequence representation of the 11th training article.\n",
        "- The output is a list of integers representing the word indices of the corresponding words in the article, after applying padding to ensure a consistent length (max_length) for all sequences."
      ],
      "metadata": {
        "id": "kR1yorJLkMpI"
      }
    },
    {
      "cell_type": "markdown",
      "source": [
        "### Step 8: Printing the Length of Validation Sequences and the Shape of Validation Padded\n",
        "- Convert the validation articles into sequences using the tokenizer and pad the sequences to a maximum length. Assign the result to **validation_padded**\n",
        "- Print the length of **validation_sequences** and the shape of **validation_padded**\n",
        "- Create a tokenizer for the labels and fit it on the labels list\n",
        "- Convert the training and validation labels into sequences using the label tokenizer and store the results in **training_label_seq** and **validation_label_seq** as NumPy arrays"
      ],
      "metadata": {
        "id": "5QD6M00flHAm"
      }
    },
    {
      "cell_type": "code",
      "execution_count": 12,
      "metadata": {
        "id": "fpgc3k9y7k6-",
        "outputId": "ae2e898c-6b05-4c79-9e8d-7c8692927f62",
        "colab": {
          "base_uri": "https://localhost:8080/"
        }
      },
      "outputs": [
        {
          "output_type": "stream",
          "name": "stdout",
          "text": [
            "445\n",
            "(445, 200)\n"
          ]
        }
      ],
      "source": [
        "validation_sequences = tokenizer.texts_to_sequences(validation_articles)\n",
        "validation_padded = pad_sequences(validation_sequences, maxlen=max_length, padding=padding_type, truncating=trunc_type)\n",
        "\n",
        "print(len(validation_sequences))\n",
        "print(validation_padded.shape)"
      ]
    },
    {
      "cell_type": "markdown",
      "source": [
        "__Observations:__\n",
        "- The length of **validation_sequences**, indicating the number of sequences in the validation set.\n",
        "- The shape of **validation_padded**, representing the dimensions of the padded validation sequences."
      ],
      "metadata": {
        "id": "eFFWDC12mo1e"
      }
    },
    {
      "cell_type": "code",
      "execution_count": 13,
      "metadata": {
        "id": "8Q3nLd8W7k6-",
        "outputId": "d8556e80-d97a-46f6-8ff4-ff30cefce9ad",
        "colab": {
          "base_uri": "https://localhost:8080/"
        }
      },
      "outputs": [
        {
          "output_type": "stream",
          "name": "stdout",
          "text": [
            "{'politics', 'entertainment', 'tech', 'business', 'sport'}\n"
          ]
        }
      ],
      "source": [
        "print(set(labels))"
      ]
    },
    {
      "cell_type": "markdown",
      "source": [
        "__Observation:__\n",
        "- The output is a set containing the unique labels: 'business', 'tech', 'entertainment', 'politics', and 'sport'."
      ],
      "metadata": {
        "id": "y0aPJkPCnkh3"
      }
    },
    {
      "cell_type": "code",
      "execution_count": 14,
      "metadata": {
        "id": "WcsrX7dP7k6-"
      },
      "outputs": [],
      "source": [
        "label_tokenizer = Tokenizer()\n",
        "label_tokenizer.fit_on_texts(labels)\n",
        "\n",
        "training_label_seq = np.array(label_tokenizer.texts_to_sequences(train_labels))\n",
        "validation_label_seq = np.array(label_tokenizer.texts_to_sequences(validation_labels))"
      ]
    },
    {
      "cell_type": "markdown",
      "source": [
        "__Observations:__\n",
        "- The output of this code is the conversion of label sequences for the training and validation sets.\n",
        "- The **training_label_seq** and **validation_label_seq** are NumPy arrays containing the label sequences for the respective sets, based on the word index mapping generated by the **label_tokenizer**"
      ],
      "metadata": {
        "id": "q7VlgNsjpwKy"
      }
    },
    {
      "cell_type": "markdown",
      "source": [
        "### Step 9: Training the Model\n",
        "- Create a sequential model using **tf.keras.Sequential()**\n",
        "- Add an embedding layer to the model with the specified vocabulary size **(vocab_size)** and embedding dimension **(embedding_dim)**\n",
        "- Add a bidirectional LSTM layer to the model with the same embedding dimension\n",
        "- Add a dense layer to the model with the embedding dimension as the number of units and **relu** activation function\n",
        "- Add a dense layer with 6 units and the **softmax** activation function to the model\n",
        "- Print a summary of the model's architecture using **model.summary()**"
      ],
      "metadata": {
        "id": "aefTdVG3ohC2"
      }
    },
    {
      "cell_type": "code",
      "execution_count": 15,
      "metadata": {
        "id": "R2k0E1Cb7k6_",
        "outputId": "8264c4bd-d1c6-4778-8142-38daa8aaccaf",
        "colab": {
          "base_uri": "https://localhost:8080/"
        }
      },
      "outputs": [
        {
          "output_type": "stream",
          "name": "stdout",
          "text": [
            "Model: \"sequential\"\n",
            "_________________________________________________________________\n",
            " Layer (type)                Output Shape              Param #   \n",
            "=================================================================\n",
            " embedding (Embedding)       (None, None, 64)          320000    \n",
            "                                                                 \n",
            " bidirectional (Bidirection  (None, 128)               66048     \n",
            " al)                                                             \n",
            "                                                                 \n",
            " dense (Dense)               (None, 64)                8256      \n",
            "                                                                 \n",
            " dense_1 (Dense)             (None, 6)                 390       \n",
            "                                                                 \n",
            "=================================================================\n",
            "Total params: 394694 (1.51 MB)\n",
            "Trainable params: 394694 (1.51 MB)\n",
            "Non-trainable params: 0 (0.00 Byte)\n",
            "_________________________________________________________________\n"
          ]
        }
      ],
      "source": [
        "model = tf.keras.Sequential([\n",
        "\n",
        "    tf.keras.layers.Embedding(vocab_size, embedding_dim),\n",
        "    tf.keras.layers.Bidirectional(tf.keras.layers.LSTM(embedding_dim)),\n",
        "    tf.keras.layers.Dense(embedding_dim, activation='relu'),\n",
        "\n",
        "    tf.keras.layers.Dense(6, activation='softmax')\n",
        "])\n",
        "model.summary()"
      ]
    },
    {
      "cell_type": "markdown",
      "source": [
        "__Observation:__\n",
        "- The code outputs a summary of the model's architecture, including the number of parameters and the shape of each layer in the model."
      ],
      "metadata": {
        "id": "2RYZ5eRIqHSk"
      }
    },
    {
      "cell_type": "markdown",
      "source": [
        "### Step 10: Compiling the Model\n",
        "- Compile the model using **model.compile()** with the loss function set to **sparse_categorical_crossentropy**, the optimizer set to **adam**, and the metrics set to **accuracy**\n",
        "- Set the number of epochs to 10\n",
        "- Train the model using **model.fit()** with the training padded sequences **(train_padded)** and training label sequences **(training_label_seq)**\n",
        "- Specify the number of epochs as **num_epochs**, the validation data as the validation padded sequences **(validation_padded)** and validation label sequences **(validation_label_seq)**, and **verbose** mode as **2**"
      ],
      "metadata": {
        "id": "2es6RORPqq1M"
      }
    },
    {
      "cell_type": "code",
      "execution_count": 16,
      "metadata": {
        "id": "oOBn4QRv7k6_",
        "outputId": "1e042fb8-c5d1-4975-a839-4dd51c3d8ee6",
        "colab": {
          "base_uri": "https://localhost:8080/"
        }
      },
      "outputs": [
        {
          "output_type": "stream",
          "name": "stdout",
          "text": [
            "Epoch 1/10\n",
            "56/56 - 21s - loss: 1.5836 - accuracy: 0.3034 - val_loss: 1.4772 - val_accuracy: 0.3236 - 21s/epoch - 370ms/step\n",
            "Epoch 2/10\n",
            "56/56 - 13s - loss: 0.8287 - accuracy: 0.7124 - val_loss: 0.6487 - val_accuracy: 0.7775 - 13s/epoch - 234ms/step\n",
            "Epoch 3/10\n",
            "56/56 - 13s - loss: 0.3430 - accuracy: 0.8927 - val_loss: 0.3523 - val_accuracy: 0.8787 - 13s/epoch - 227ms/step\n",
            "Epoch 4/10\n",
            "56/56 - 13s - loss: 0.1727 - accuracy: 0.9551 - val_loss: 0.4467 - val_accuracy: 0.8539 - 13s/epoch - 227ms/step\n",
            "Epoch 5/10\n",
            "56/56 - 13s - loss: 0.0874 - accuracy: 0.9742 - val_loss: 0.2809 - val_accuracy: 0.9034 - 13s/epoch - 231ms/step\n",
            "Epoch 6/10\n",
            "56/56 - 12s - loss: 0.0137 - accuracy: 0.9978 - val_loss: 0.2105 - val_accuracy: 0.9326 - 12s/epoch - 210ms/step\n",
            "Epoch 7/10\n",
            "56/56 - 12s - loss: 0.0033 - accuracy: 1.0000 - val_loss: 0.2021 - val_accuracy: 0.9483 - 12s/epoch - 216ms/step\n",
            "Epoch 8/10\n",
            "56/56 - 12s - loss: 0.0014 - accuracy: 1.0000 - val_loss: 0.2039 - val_accuracy: 0.9461 - 12s/epoch - 221ms/step\n",
            "Epoch 9/10\n",
            "56/56 - 13s - loss: 9.9196e-04 - accuracy: 1.0000 - val_loss: 0.2101 - val_accuracy: 0.9416 - 13s/epoch - 239ms/step\n",
            "Epoch 10/10\n",
            "56/56 - 13s - loss: 0.0169 - accuracy: 0.9944 - val_loss: 0.2088 - val_accuracy: 0.9461 - 13s/epoch - 224ms/step\n"
          ]
        }
      ],
      "source": [
        "\n",
        "model.compile(loss='sparse_categorical_crossentropy', optimizer='adam', metrics=['accuracy'])\n",
        "\n",
        "num_epochs = 10\n",
        "\n",
        "history = model.fit(train_padded, training_label_seq, epochs=num_epochs, validation_data=(validation_padded, validation_label_seq), verbose=2)\n"
      ]
    },
    {
      "cell_type": "markdown",
      "source": [
        "__Observations:__\n",
        "- The code trains the model for the specified number of epochs and records the training and validation accuracy and loss metrics.\n",
        "- The output is an object named history that contains information about the training process, such as the loss and accuracy values at each epoch."
      ],
      "metadata": {
        "id": "WqnhF_pirkJL"
      }
    },
    {
      "cell_type": "markdown",
      "source": [
        "### Step 11: Plotting the Graph\n",
        "- Define a function named **plot_graphs** that takes history and string as inputs. Inside the function, plot the training and validation values of the given metric (string) from the history object using **plt.plot()**\n",
        "- Set the x-axis label as **Epochs** and the y-axis label as the given metric (string)\n",
        "- Call the **plot_graphs** function twice, first with **history** and **accuracy** as arguments, and then with **history** and **loss** as arguments\n",
        "- Display the generated plots showing the training and validation values of the accuracy and loss metrics over the epochs"
      ],
      "metadata": {
        "id": "JlqqXKGDtBhm"
      }
    },
    {
      "cell_type": "code",
      "execution_count": 17,
      "metadata": {
        "id": "ovA5JGsp7k6_",
        "outputId": "34e95bfd-659b-4f79-8eef-e8530076e815",
        "colab": {
          "base_uri": "https://localhost:8080/",
          "height": 881
        }
      },
      "outputs": [
        {
          "output_type": "display_data",
          "data": {
            "text/plain": [
              "<Figure size 640x480 with 1 Axes>"
            ],
            "image/png": "[encoded data removed]"
          },
          "metadata": {}
        },
        {
          "output_type": "display_data",
          "data": {
            "text/plain": [
              "<Figure size 640x480 with 1 Axes>"
            ],
            "image/png": "[encoded data removed]"
          },
          "metadata": {}
        }
      ],
      "source": [
        "def plot_graphs(history, string):\n",
        "  plt.plot(history.history[string])\n",
        "  plt.plot(history.history['val_'+string])\n",
        "  plt.xlabel(\"Epochs\")\n",
        "  plt.ylabel(string)\n",
        "  plt.legend([string, 'val_'+string])\n",
        "  plt.show()\n",
        "\n",
        "plot_graphs(history, \"accuracy\")\n",
        "plot_graphs(history, \"loss\")"
      ]
    }
  ],
  "metadata": {
    "kernelspec": {
      "display_name": "Python 3",
      "language": "python",
      "name": "python3"
    },
    "language_info": {
      "codemirror_mode": {
        "name": "ipython",
        "version": 3
      },
      "file_extension": ".py",
      "mimetype": "text/x-python",
      "name": "python",
      "nbconvert_exporter": "python",
      "pygments_lexer": "ipython3",
      "version": "3.7.6"
    },
    "colab": {
      "provenance": []
    }
  },
  "nbformat": 4,
  "nbformat_minor": 0
}
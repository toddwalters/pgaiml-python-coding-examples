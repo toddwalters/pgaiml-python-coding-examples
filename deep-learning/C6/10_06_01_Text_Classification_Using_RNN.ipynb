{
  "cells": [
    {
      "cell_type": "markdown",
      "metadata": {
        "id": "AMGXXgNF7k61"
      },
      "source": [
        "# __Text Classification using RNN__\n",
        "\n",
        "Let's see how to classify the text using RNN (Recurrent Neural Network)."
      ]
    },
    {
      "cell_type": "code",
      "execution_count": 1,
      "metadata": {
        "id": "RME2Qywv_p7Z",
        "colab": {
          "base_uri": "https://localhost:8080/"
        },
        "outputId": "8a2b9f2b-3492-464b-9462-2e7f357f6fc2"
      },
      "outputs": [
        {
          "output_type": "stream",
          "name": "stderr",
          "text": [
            "[nltk_data] Downloading package stopwords to /root/nltk_data...\n",
            "[nltk_data]   Unzipping corpora/stopwords.zip.\n"
          ]
        },
        {
          "output_type": "execute_result",
          "data": {
            "text/plain": [
              "True"
            ]
          },
          "metadata": {},
          "execution_count": 1
        }
      ],
      "source": [
        "import nltk\n",
        "nltk.download('stopwords')"
      ]
    },
    {
      "cell_type": "markdown",
      "metadata": {
        "id": "VuJT1hcu92er"
      },
      "source": [
        "## Steps to  Be Followed:\n",
        "\n",
        "1. Importing the libraries\n",
        "2. Defining the hyperparameter\n",
        "3. Preprocessing the data and printing the lengths of the labels and articles lists.\n",
        "4. Splitting the data into training and validation sets\n",
        "5. Initializing a tokenizer and fitting it on the training articles\n",
        "6. Converting the training articles into sequences using the tokenizer\n",
        "7. Padding the sequence\n",
        "8. Printing the length of validation Sequences and the shape of validation padded\n",
        "9. Training the model\n",
        "10. Compiling the model\n",
        "11. Plotting the graph"
      ]
    },
    {
      "cell_type": "markdown",
      "metadata": {
        "id": "nKxl5ljN-IKH"
      },
      "source": [
        "### Step 1: Importing the libraries\n",
        "- Import the required libraries"
      ]
    },
    {
      "cell_type": "code",
      "execution_count": 2,
      "metadata": {
        "id": "qLg1HxV27k64"
      },
      "outputs": [],
      "source": [
        "import csv\n",
        "import tensorflow as tf\n",
        "import numpy as np\n",
        "from tensorflow.keras.preprocessing.text import Tokenizer\n",
        "from tensorflow.keras.preprocessing.sequence import pad_sequences\n",
        "from nltk.corpus import stopwords\n",
        "STOPWORDS = set(stopwords.words('english'))\n",
        "import matplotlib.pyplot as plt\n"
      ]
    },
    {
      "cell_type": "markdown",
      "metadata": {
        "id": "8cvQu2uW_AF0"
      },
      "source": [
        "### Step 2: Defining the Hyperparameter\n",
        "- Set the value of __vocab_size__ to __5000__, representing the size of the vocabulary\n",
        "- Set the value of __embedding_dim__ to __64__, specifying the dimensionality of the word embeddings\n",
        "- Set the value of __max_length__ to __200__, indicating the maximum length of input sequences\n",
        "- Set the value of __padding_type__ to __post__, specifying that padding should be added at the end of sequences\n",
        "- Set the value of __trunc_type__ to __post__, indicating that truncation should be applied at the end of sequences\n",
        "- Set the value of __oov_tok__ to __OOV__, representing the token to be used for out-of-vocabulary words\n",
        "- Set the value of __training_portion__ to __0.8__, representing the proportion of data to be used for training"
      ]
    },
    {
      "cell_type": "code",
      "execution_count": 6,
      "metadata": {
        "id": "BecOwkf37k66"
      },
      "outputs": [],
      "source": [
        "vocab_size = 5000\n",
        "embedding_dim = 64\n",
        "max_length = 200\n",
        "padding_type = 'post'\n",
        "trunc_type = 'post'\n",
        "oov_tok = '<OOV>'\n",
        "training_portion = .8"
      ]
    },
    {
      "cell_type": "markdown",
      "metadata": {
        "id": "x5682GVs7k66"
      },
      "source": [
        "### Step 3: Preprocessing the Data and Printing the Lengths of the Labels and Articles Lists.\n",
        "\n",
        "- Define two empty lists, articles, and labels to store the articles and labels, respectively\n",
        "- Read the contents of the **bbc-text.csv** file using csv.reader and iterate through each row\n",
        "- Extract the label from the first column of each row and append it to the labels list\n",
        "- Process the article from the second column by removing stopwords and replacing consecutive spaces with a single space and then append it to the articles list\n",
        "- Print the lengths of the labels and articles lists to display the number of labels and processed articles, respectively"
      ]
    },
    {
      "cell_type": "code",
      "execution_count": 3,
      "metadata": {
        "id": "YOrfsrUe7k67",
        "colab": {
          "base_uri": "https://localhost:8080/"
        },
        "outputId": "5658cfd8-09a7-427b-f8b7-7f02c65302b5"
      },
      "outputs": [
        {
          "output_type": "stream",
          "name": "stdout",
          "text": [
            "2225\n",
            "2225\n"
          ]
        }
      ],
      "source": [
        "articles = []\n",
        "labels = []\n",
        "\n",
        "with open(\"bbc-text.csv\", 'r') as csvfile:\n",
        "    reader = csv.reader(csvfile, delimiter=',')\n",
        "    next(reader)\n",
        "    for row in reader:\n",
        "        labels.append(row[0])\n",
        "        article = row[1]\n",
        "        for word in STOPWORDS:\n",
        "            token = ' ' + word + ' '\n",
        "            article = article.replace(token, ' ')\n",
        "            article = article.replace(' ', ' ')\n",
        "        articles.append(article)\n",
        "print(len(labels))\n",
        "print(len(articles))"
      ]
    },
    {
      "cell_type": "code",
      "source": [
        "articles[:5]"
      ],
      "metadata": {
        "id": "5aS9ENhcZt7O"
      },
      "execution_count": null,
      "outputs": []
    },
    {
      "cell_type": "markdown",
      "metadata": {
        "id": "Qtk-qqt67k67"
      },
      "source": [
        "__Observations:__\n",
        "- There are only **2,225** articles in the data.\n",
        "- Then, we split into a training set and validation set, according to the parameter we set earlier, 80% for training, and 20% for validation."
      ]
    },
    {
      "cell_type": "markdown",
      "metadata": {
        "id": "C72gvCwGSa0k"
      },
      "source": [
        "### Step 4: Splitting the Data into Training and Validation Sets\n",
        "- Calculate the **train_size** by multiplying the length of the articles list with __training_portion__ and converting it to an integer\n",
        "- Create **train_articles** by slicing the articles list from index **0** to **train_size**\n",
        "- Create **train_labels** by slicing the labels list from index** 0 **to **train_size**\n",
        "- Create validation_articles by slicing the articles list from **train_size** onward\n",
        "- Create **validation_labels** by slicing the labels list from **train_size** onward\n",
        "- Print the **train_size** to display the calculated value\n",
        "\n",
        "- The lengths of **train_articles**, **train_labels**, **validation_articles**, and **validation_labels** represent the number of items in each list."
      ]
    },
    {
      "cell_type": "code",
      "execution_count": 7,
      "metadata": {
        "id": "EKMT9Fb37k68",
        "colab": {
          "base_uri": "https://localhost:8080/"
        },
        "outputId": "cc3ae704-854c-46a0-833f-27f64736e306"
      },
      "outputs": [
        {
          "output_type": "stream",
          "name": "stdout",
          "text": [
            "1780\n",
            "1780\n",
            "1780\n",
            "445\n",
            "445\n"
          ]
        }
      ],
      "source": [
        "train_size = int(len(articles) * training_portion)\n",
        "\n",
        "train_articles = articles[0: train_size]\n",
        "train_labels = labels[0: train_size]\n",
        "\n",
        "validation_articles = articles[train_size:]\n",
        "validation_labels = labels[train_size:]\n",
        "\n",
        "print(train_size)\n",
        "print(len(train_articles))\n",
        "print(len(train_labels))\n",
        "print(len(validation_articles))\n",
        "print(len(validation_labels))"
      ]
    },
    {
      "cell_type": "markdown",
      "metadata": {
        "id": "dx4Pb61WT2F3"
      },
      "source": [
        "__Observations:__\n",
        "- The value of **train_size** is calculated based on the proportion of training data.\n",
        "- The lengths of **train_articles**, **train_labels**, **validation_articles**, and **validation_labels** representing the number of items in each list."
      ]
    },
    {
      "cell_type": "markdown",
      "metadata": {
        "id": "bSR2G2lrWrue"
      },
      "source": [
        "### Step 5: Initializing a Tokenizer and Fitting It on the Training Articles\n",
        "\n",
        "- Initialize a **Tokenizer** object named tokenizer with the specified parameters: **num_words** representing the vocabulary size and **oov_token** representing the out-of-vocabulary token\n",
        "- Fit the tokenizer on the training articles **(train_articles)** using the **fit_on_texts** method\n",
        "- This step updates the tokenizer's internal word index based on the words in the training articles\n",
        "- Assign the word index obtained from the tokenizer to the variable **word_index**\n",
        "- Extract the first 10 items from the word_index dictionary\n",
        "- Print the resulting dictionary"
      ]
    },
    {
      "cell_type": "code",
      "execution_count": 8,
      "metadata": {
        "id": "2JrnZlTL7k68"
      },
      "outputs": [],
      "source": [
        "tokenizer = Tokenizer(num_words = vocab_size, oov_token=oov_tok)\n",
        "tokenizer.fit_on_texts(train_articles)\n",
        "word_index = tokenizer.word_index"
      ]
    },
    {
      "cell_type": "code",
      "execution_count": 9,
      "metadata": {
        "id": "7lhT9_-f7k68",
        "colab": {
          "base_uri": "https://localhost:8080/"
        },
        "outputId": "83d6dd8b-d611-42d0-a36b-57709c09e8d9"
      },
      "outputs": [
        {
          "output_type": "execute_result",
          "data": {
            "text/plain": [
              "{'<OOV>': 1,\n",
              " 'said': 2,\n",
              " 'mr': 3,\n",
              " 'would': 4,\n",
              " 'year': 5,\n",
              " 'also': 6,\n",
              " 'people': 7,\n",
              " 'new': 8,\n",
              " 'us': 9,\n",
              " 'one': 10}"
            ]
          },
          "metadata": {},
          "execution_count": 9
        }
      ],
      "source": [
        "dict(list(word_index.items())[0:10])"
      ]
    },
    {
      "cell_type": "markdown",
      "metadata": {
        "id": "CQ_XTmT_eU7b"
      },
      "source": [
        "__Observations:__\n",
        "- The code prints a dictionary containing the first 10 items from the word_index dictionary.\n",
        "- These items represent a subset of the word-to-index mappings generated by the tokenizer."
      ]
    },
    {
      "cell_type": "markdown",
      "metadata": {
        "id": "jTDip0vPe30D"
      },
      "source": [
        "### Step 6: Converting the Training Articles into Sequences Using the Tokenizer\n",
        "- Convert the training articles **(train_articles)** into sequences using the **texts_to_sequences** method of the tokenizer object and assign the result to **train_sequences**\n",
        "- Print the sequence representation of the 11th training article (index 10) by accessing **train_sequences[10]**"
      ]
    },
    {
      "cell_type": "code",
      "execution_count": 10,
      "metadata": {
        "id": "qaNkkgzP7k69",
        "colab": {
          "base_uri": "https://localhost:8080/"
        },
        "outputId": "a15deeaf-8f3a-465a-880f-6bd13f050a16"
      },
      "outputs": [
        {
          "output_type": "stream",
          "name": "stdout",
          "text": [
            "[2431, 1, 225, 4996, 22, 641, 587, 225, 4996, 1, 1, 1663, 1, 1, 2431, 22, 565, 1, 1, 140, 278, 1, 140, 278, 796, 822, 662, 2307, 1, 1144, 1694, 1, 1721, 4997, 1, 1, 1, 1, 1, 4739, 1, 1, 122, 4515, 1, 2, 2873, 1507, 352, 4740, 1, 52, 341, 1, 352, 2172, 3962, 41, 22, 3793, 1, 1, 1, 1, 543, 1, 1, 1, 835, 631, 2366, 347, 4741, 1, 365, 22, 1, 787, 2367, 1, 4302, 138, 10, 1, 3664, 682, 3531, 1, 22, 1, 414, 822, 662, 1, 90, 13, 633, 1, 225, 4996, 1, 600, 1, 1694, 1021, 1, 4998, 807, 1864, 117, 1, 1, 1, 2974, 22, 1, 99, 278, 1, 1608, 4999, 543, 493, 1, 1445, 4742, 778, 1320, 1, 1861, 10, 33, 641, 319, 1, 62, 479, 565, 301, 1508, 22, 480, 1, 1, 1666, 1, 797, 1, 3066, 1, 1365, 6, 1, 2431, 565, 22, 2971, 4736, 1, 1, 1, 1, 1, 850, 39, 1825, 675, 297, 26, 979, 1, 882, 22, 361, 22, 13, 301, 1508, 1343, 374, 20, 63, 883, 1096, 4303, 247]\n"
          ]
        }
      ],
      "source": [
        "train_sequences  = tokenizer.texts_to_sequences(train_articles)\n",
        "\n",
        "print(train_sequences[10])"
      ]
    },
    {
      "cell_type": "markdown",
      "metadata": {
        "id": "__Jgr_cdfR_6"
      },
      "source": [
        "__Observation:__\n",
        "- The code prints the sequence representation of the 11th training article (index 10) in the **train_sequences** list.\n",
        "- The output is a list of integers, where each integer represents the index of a word in the tokenizer's word index vocabulary that corresponds to a word in the article."
      ]
    },
    {
      "cell_type": "markdown",
      "metadata": {
        "id": "E60-EoRMh58g"
      },
      "source": [
        "### Step 7: Padding the Sequence\n",
        "- Pad the sequences in **train_sequences** using the **pad_sequences** function\n",
        "- Set the maximum length of the padded sequences to **max_length**\n",
        "- Specify the padding type as **padding_type** and the truncation type as **trunc_type**\n",
        "- Assign the padded sequences to the variable **train_padded**"
      ]
    },
    {
      "cell_type": "code",
      "execution_count": 11,
      "metadata": {
        "id": "msiF0l767k69"
      },
      "outputs": [],
      "source": [
        "train_padded = pad_sequences(train_sequences, maxlen=max_length, padding=padding_type, truncating=trunc_type)"
      ]
    },
    {
      "cell_type": "code",
      "execution_count": 12,
      "metadata": {
        "id": "iKwGCkXf7k69",
        "colab": {
          "base_uri": "https://localhost:8080/"
        },
        "outputId": "9d4c5d9d-cbb9-4b59-e3b4-8f73a05d4dab"
      },
      "outputs": [
        {
          "output_type": "stream",
          "name": "stdout",
          "text": [
            "[2431, 1, 225, 4996, 22, 641, 587, 225, 4996, 1, 1, 1663, 1, 1, 2431, 22, 565, 1, 1, 140, 278, 1, 140, 278, 796, 822, 662, 2307, 1, 1144, 1694, 1, 1721, 4997, 1, 1, 1, 1, 1, 4739, 1, 1, 122, 4515, 1, 2, 2873, 1507, 352, 4740, 1, 52, 341, 1, 352, 2172, 3962, 41, 22, 3793, 1, 1, 1, 1, 543, 1, 1, 1, 835, 631, 2366, 347, 4741, 1, 365, 22, 1, 787, 2367, 1, 4302, 138, 10, 1, 3664, 682, 3531, 1, 22, 1, 414, 822, 662, 1, 90, 13, 633, 1, 225, 4996, 1, 600, 1, 1694, 1021, 1, 4998, 807, 1864, 117, 1, 1, 1, 2974, 22, 1, 99, 278, 1, 1608, 4999, 543, 493, 1, 1445, 4742, 778, 1320, 1, 1861, 10, 33, 641, 319, 1, 62, 479, 565, 301, 1508, 22, 480, 1, 1, 1666, 1, 797, 1, 3066, 1, 1365, 6, 1, 2431, 565, 22, 2971, 4736, 1, 1, 1, 1, 1, 850, 39, 1825, 675, 297, 26, 979, 1, 882, 22, 361, 22, 13, 301, 1508, 1343, 374, 20, 63, 883, 1096, 4303, 247]\n"
          ]
        }
      ],
      "source": [
        "print(train_sequences[10])"
      ]
    },
    {
      "cell_type": "markdown",
      "metadata": {
        "id": "k2TGYE5IjhOI"
      },
      "source": [
        "__Observations:__\n",
        "- The code prints the sequence representation of the 11th training article (index 10) in the **train_sequences** list.\n",
        "- The output is a list of integers, where each integer represents the index of a word in the tokenizer's word index vocabulary that corresponds to a word in the article."
      ]
    },
    {
      "cell_type": "code",
      "execution_count": 13,
      "metadata": {
        "id": "EQbLYMWl7k6-",
        "colab": {
          "base_uri": "https://localhost:8080/"
        },
        "outputId": "cac124fa-4407-4070-db9b-bb2ec0b34bd3"
      },
      "outputs": [
        {
          "output_type": "stream",
          "name": "stdout",
          "text": [
            "[2431    1  225 4996   22  641  587  225 4996    1    1 1663    1    1\n",
            " 2431   22  565    1    1  140  278    1  140  278  796  822  662 2307\n",
            "    1 1144 1694    1 1721 4997    1    1    1    1    1 4739    1    1\n",
            "  122 4515    1    2 2873 1507  352 4740    1   52  341    1  352 2172\n",
            " 3962   41   22 3793    1    1    1    1  543    1    1    1  835  631\n",
            " 2366  347 4741    1  365   22    1  787 2367    1 4302  138   10    1\n",
            " 3664  682 3531    1   22    1  414  822  662    1   90   13  633    1\n",
            "  225 4996    1  600    1 1694 1021    1 4998  807 1864  117    1    1\n",
            "    1 2974   22    1   99  278    1 1608 4999  543  493    1 1445 4742\n",
            "  778 1320    1 1861   10   33  641  319    1   62  479  565  301 1508\n",
            "   22  480    1    1 1666    1  797    1 3066    1 1365    6    1 2431\n",
            "  565   22 2971 4736    1    1    1    1    1  850   39 1825  675  297\n",
            "   26  979    1  882   22  361   22   13  301 1508 1343  374   20   63\n",
            "  883 1096 4303  247    0    0    0    0    0    0    0    0    0    0\n",
            "    0    0    0    0]\n"
          ]
        }
      ],
      "source": [
        "print(train_padded[10])"
      ]
    },
    {
      "cell_type": "markdown",
      "metadata": {
        "id": "kR1yorJLkMpI"
      },
      "source": [
        "__Observation:__\n",
        "- The code prints the padded sequence representation of the 11th training article.\n",
        "- The output is a list of integers representing the word indices of the corresponding words in the article, after applying padding to ensure a consistent length (max_length) for all sequences."
      ]
    },
    {
      "cell_type": "markdown",
      "metadata": {
        "id": "5QD6M00flHAm"
      },
      "source": [
        "### Step 8: Printing the Length of Validation Sequences and the Shape of Validation Padded\n",
        "- Convert the validation articles into sequences using the tokenizer and pad the sequences to a maximum length. Assign the result to **validation_padded**\n",
        "- Print the length of **validation_sequences** and the shape of **validation_padded**\n",
        "- Create a tokenizer for the labels and fit it on the labels list\n",
        "- Convert the training and validation labels into sequences using the label tokenizer and store the results in **training_label_seq** and **validation_label_seq** as NumPy arrays"
      ]
    },
    {
      "cell_type": "code",
      "execution_count": 14,
      "metadata": {
        "id": "fpgc3k9y7k6-",
        "colab": {
          "base_uri": "https://localhost:8080/"
        },
        "outputId": "695aa638-6c82-4252-8bd8-860126d6824e"
      },
      "outputs": [
        {
          "output_type": "stream",
          "name": "stdout",
          "text": [
            "445\n",
            "(445, 200)\n"
          ]
        }
      ],
      "source": [
        "validation_sequences = tokenizer.texts_to_sequences(validation_articles)\n",
        "validation_padded = pad_sequences(validation_sequences, maxlen=max_length, padding=padding_type, truncating=trunc_type)\n",
        "\n",
        "print(len(validation_sequences))\n",
        "print(validation_padded.shape)"
      ]
    },
    {
      "cell_type": "markdown",
      "metadata": {
        "id": "eFFWDC12mo1e"
      },
      "source": [
        "__Observations:__\n",
        "- The length of **validation_sequences**, indicating the number of sequences in the validation set.\n",
        "- The shape of **validation_padded**, representing the dimensions of the padded validation sequences."
      ]
    },
    {
      "cell_type": "code",
      "execution_count": 15,
      "metadata": {
        "id": "8Q3nLd8W7k6-",
        "colab": {
          "base_uri": "https://localhost:8080/"
        },
        "outputId": "f98ea6d1-b84a-4c1d-bd6b-02f38fc7698d"
      },
      "outputs": [
        {
          "output_type": "stream",
          "name": "stdout",
          "text": [
            "{'sport', 'tech', 'politics', 'business', 'entertainment'}\n"
          ]
        }
      ],
      "source": [
        "print(set(labels))"
      ]
    },
    {
      "cell_type": "markdown",
      "metadata": {
        "id": "y0aPJkPCnkh3"
      },
      "source": [
        "__Observation:__\n",
        "- The output is a set containing the unique labels: 'business', 'tech', 'entertainment', 'politics', and 'sport'."
      ]
    },
    {
      "cell_type": "code",
      "execution_count": 16,
      "metadata": {
        "id": "WcsrX7dP7k6-"
      },
      "outputs": [],
      "source": [
        "label_tokenizer = Tokenizer()\n",
        "label_tokenizer.fit_on_texts(labels)\n",
        "\n",
        "training_label_seq = np.array(label_tokenizer.texts_to_sequences(train_labels))\n",
        "validation_label_seq = np.array(label_tokenizer.texts_to_sequences(validation_labels))"
      ]
    },
    {
      "cell_type": "markdown",
      "metadata": {
        "id": "q7VlgNsjpwKy"
      },
      "source": [
        "__Observations:__\n",
        "- The output of this code is the conversion of label sequences for the training and validation sets.\n",
        "- The **training_label_seq** and **validation_label_seq** are NumPy arrays containing the label sequences for the respective sets, based on the word index mapping generated by the **label_tokenizer**"
      ]
    },
    {
      "cell_type": "code",
      "source": [
        "training_label_seq"
      ],
      "metadata": {
        "colab": {
          "base_uri": "https://localhost:8080/"
        },
        "id": "iVCxSK7OboDW",
        "outputId": "37536184-b752-4e4f-e18f-8aeba781b80d"
      },
      "execution_count": 17,
      "outputs": [
        {
          "output_type": "execute_result",
          "data": {
            "text/plain": [
              "array([[4],\n",
              "       [2],\n",
              "       [1],\n",
              "       ...,\n",
              "       [1],\n",
              "       [2],\n",
              "       [5]])"
            ]
          },
          "metadata": {},
          "execution_count": 17
        }
      ]
    },
    {
      "cell_type": "markdown",
      "metadata": {
        "id": "aefTdVG3ohC2"
      },
      "source": [
        "### Step 9: Training the Model\n",
        "- Create a sequential model using **tf.keras.Sequential()**\n",
        "- Add an embedding layer to the model with the specified vocabulary size **(vocab_size)** and embedding dimension **(embedding_dim)**\n",
        "- Add a bidirectional SimpleRNN layer to the model with the same embedding dimension\n",
        "- Add a dense layer to the model with the embedding dimension as the number of units and **relu** activation function\n",
        "- Add a dense layer with 6 units and the **softmax** activation function to the model\n",
        "- Print a summary of the model's architecture using **model.summary()**"
      ]
    },
    {
      "cell_type": "code",
      "execution_count": 26,
      "metadata": {
        "id": "R2k0E1Cb7k6_",
        "colab": {
          "base_uri": "https://localhost:8080/"
        },
        "outputId": "79a64d7f-023d-4dca-8d0c-3044e0c2e31f"
      },
      "outputs": [
        {
          "output_type": "stream",
          "name": "stdout",
          "text": [
            "Model: \"sequential_1\"\n",
            "_________________________________________________________________\n",
            " Layer (type)                Output Shape              Param #   \n",
            "=================================================================\n",
            " embedding_1 (Embedding)     (None, None, 64)          320000    \n",
            "                                                                 \n",
            " bidirectional_1 (Bidirecti  (None, 128)               16512     \n",
            " onal)                                                           \n",
            "                                                                 \n",
            " dense_2 (Dense)             (None, 64)                8256      \n",
            "                                                                 \n",
            " dense_3 (Dense)             (None, 6)                 390       \n",
            "                                                                 \n",
            "=================================================================\n",
            "Total params: 345158 (1.32 MB)\n",
            "Trainable params: 345158 (1.32 MB)\n",
            "Non-trainable params: 0 (0.00 Byte)\n",
            "_________________________________________________________________\n"
          ]
        }
      ],
      "source": [
        "model = tf.keras.Sequential([\n",
        "    tf.keras.layers.Embedding(vocab_size, embedding_dim),\n",
        "    tf.keras.layers.Bidirectional(tf.keras.layers.SimpleRNN(embedding_dim)),\n",
        "    tf.keras.layers.Dense(embedding_dim, activation='relu'),\n",
        "    tf.keras.layers.Dense(6, activation='softmax')\n",
        "])\n",
        "model.summary()"
      ]
    },
    {
      "cell_type": "code",
      "source": [
        "model = tf.keras.Sequential([\n",
        "    tf.keras.layers.Embedding(vocab_size, embedding_dim),\n",
        "    tf.keras.layers.Bidirectional(tf.keras.layers.SimpleRNN(128)),\n",
        "    tf.keras.layers.Dense(100, activation='relu'), # Dense layer\n",
        "    tf.keras.layers.Dense(6, activation='softmax') # 6 classes in target\n",
        "])\n",
        "model.summary()"
      ],
      "metadata": {
        "colab": {
          "base_uri": "https://localhost:8080/"
        },
        "id": "ipzsvdfnfjXw",
        "outputId": "ee70ee5e-e212-4477-80f0-5475df3f610d"
      },
      "execution_count": 28,
      "outputs": [
        {
          "output_type": "stream",
          "name": "stdout",
          "text": [
            "Model: \"sequential_2\"\n",
            "_________________________________________________________________\n",
            " Layer (type)                Output Shape              Param #   \n",
            "=================================================================\n",
            " embedding_2 (Embedding)     (None, None, 64)          320000    \n",
            "                                                                 \n",
            " bidirectional_2 (Bidirecti  (None, 256)               49408     \n",
            " onal)                                                           \n",
            "                                                                 \n",
            " dense_4 (Dense)             (None, 64)                16448     \n",
            "                                                                 \n",
            " dense_5 (Dense)             (None, 6)                 390       \n",
            "                                                                 \n",
            "=================================================================\n",
            "Total params: 386246 (1.47 MB)\n",
            "Trainable params: 386246 (1.47 MB)\n",
            "Non-trainable params: 0 (0.00 Byte)\n",
            "_________________________________________________________________\n"
          ]
        }
      ]
    },
    {
      "cell_type": "code",
      "source": [
        "model.layers[0].get_weights()[0]"
      ],
      "metadata": {
        "colab": {
          "base_uri": "https://localhost:8080/"
        },
        "id": "ObugYtapdaG-",
        "outputId": "f6ff53aa-fe1b-43f6-c4ac-bfd28864c777"
      },
      "execution_count": 27,
      "outputs": [
        {
          "output_type": "execute_result",
          "data": {
            "text/plain": [
              "array([[-0.00871812,  0.0440004 , -0.01956403, ...,  0.00440149,\n",
              "        -0.04112254, -0.03799006],\n",
              "       [-0.00869622,  0.03125596,  0.02560027, ...,  0.03346262,\n",
              "         0.01509719,  0.02339163],\n",
              "       [ 0.0161547 , -0.00185085, -0.01407047, ...,  0.01680418,\n",
              "         0.00409245, -0.00655437],\n",
              "       ...,\n",
              "       [ 0.04864336,  0.01499252,  0.01179894, ..., -0.0162279 ,\n",
              "         0.03437747, -0.02401009],\n",
              "       [-0.0414613 ,  0.00794119,  0.01790476, ..., -0.00145551,\n",
              "         0.0461993 , -0.03029491],\n",
              "       [ 0.04738807,  0.03416843, -0.01159056, ..., -0.04522276,\n",
              "         0.0047243 ,  0.023235  ]], dtype=float32)"
            ]
          },
          "metadata": {},
          "execution_count": 27
        }
      ]
    },
    {
      "cell_type": "markdown",
      "metadata": {
        "id": "2RYZ5eRIqHSk"
      },
      "source": [
        "__Observation:__\n",
        "- The code outputs a summary of the model's architecture, including the number of parameters and the shape of each layer in the model."
      ]
    },
    {
      "cell_type": "markdown",
      "metadata": {
        "id": "2es6RORPqq1M"
      },
      "source": [
        "### Step 10: Compiling the Model\n",
        "- Compile the model using **model.compile()** with the loss function set to **sparse_categorical_crossentropy**, the optimizer set to **adam**, and the metrics set to **accuracy**\n",
        "- Set the number of epochs to 10\n",
        "- Train the model using **model.fit()** with the training padded sequences **(train_padded)** and training label sequences **(training_label_seq)**\n",
        "- Specify the number of epochs as **num_epochs**, the validation data as the validation padded sequences **(validation_padded)** and validation label sequences **(validation_label_seq)**, and **verbose** mode as **2**"
      ]
    },
    {
      "cell_type": "code",
      "execution_count": 19,
      "metadata": {
        "id": "oOBn4QRv7k6_",
        "colab": {
          "base_uri": "https://localhost:8080/"
        },
        "outputId": "8ad5a179-1b56-4fff-8632-dc41ae924f7c"
      },
      "outputs": [
        {
          "output_type": "stream",
          "name": "stdout",
          "text": [
            "Epoch 1/10\n",
            "56/56 - 10s - loss: 1.6160 - accuracy: 0.2376 - val_loss: 1.5478 - val_accuracy: 0.2876 - 10s/epoch - 173ms/step\n",
            "Epoch 2/10\n",
            "56/56 - 5s - loss: 1.3630 - accuracy: 0.5062 - val_loss: 1.4101 - val_accuracy: 0.3753 - 5s/epoch - 86ms/step\n",
            "Epoch 3/10\n",
            "56/56 - 7s - loss: 0.7025 - accuracy: 0.8208 - val_loss: 1.0565 - val_accuracy: 0.6090 - 7s/epoch - 120ms/step\n",
            "Epoch 4/10\n",
            "56/56 - 5s - loss: 0.1478 - accuracy: 0.9787 - val_loss: 1.1319 - val_accuracy: 0.6157 - 5s/epoch - 92ms/step\n",
            "Epoch 5/10\n",
            "56/56 - 12s - loss: 0.0248 - accuracy: 0.9983 - val_loss: 1.0902 - val_accuracy: 0.6404 - 12s/epoch - 214ms/step\n",
            "Epoch 6/10\n",
            "56/56 - 6s - loss: 0.0066 - accuracy: 1.0000 - val_loss: 1.1346 - val_accuracy: 0.6427 - 6s/epoch - 103ms/step\n",
            "Epoch 7/10\n",
            "56/56 - 7s - loss: 0.0034 - accuracy: 1.0000 - val_loss: 1.1585 - val_accuracy: 0.6539 - 7s/epoch - 116ms/step\n",
            "Epoch 8/10\n",
            "56/56 - 5s - loss: 0.0022 - accuracy: 1.0000 - val_loss: 1.1785 - val_accuracy: 0.6539 - 5s/epoch - 88ms/step\n",
            "Epoch 9/10\n",
            "56/56 - 5s - loss: 0.0016 - accuracy: 1.0000 - val_loss: 1.1929 - val_accuracy: 0.6494 - 5s/epoch - 92ms/step\n",
            "Epoch 10/10\n",
            "56/56 - 7s - loss: 0.0012 - accuracy: 1.0000 - val_loss: 1.2081 - val_accuracy: 0.6562 - 7s/epoch - 127ms/step\n"
          ]
        }
      ],
      "source": [
        "\n",
        "model.compile(loss='sparse_categorical_crossentropy', optimizer='adam', metrics=['accuracy'])\n",
        "\n",
        "num_epochs = 10\n",
        "\n",
        "history = model.fit(train_padded, training_label_seq, epochs=num_epochs, validation_data=(validation_padded, validation_label_seq), verbose=2)\n"
      ]
    },
    {
      "cell_type": "markdown",
      "metadata": {
        "id": "WqnhF_pirkJL"
      },
      "source": [
        "__Observations:__\n",
        "- The code trains the model for the specified number of epochs and records the training and validation accuracy and loss metrics.\n",
        "- The output is an object named history that contains information about the training process, such as the loss and accuracy values at each epoch."
      ]
    },
    {
      "cell_type": "markdown",
      "metadata": {
        "id": "JlqqXKGDtBhm"
      },
      "source": [
        "### Step 11: Plotting the Graph\n",
        "- Define a function named **plot_graphs** that takes history and string as inputs. Inside the function, plot the training and validation values of the given metric (string) from the history object using **plt.plot()**\n",
        "- Set the x-axis label as **Epochs** and the y-axis label as the given metric (string)\n",
        "- Call the **plot_graphs** function twice, first with **history** and **accuracy** as arguments, and then with **history** and **loss** as arguments\n",
        "- Display the generated plots showing the training and validation values of the accuracy and loss metrics over the epochs"
      ]
    },
    {
      "cell_type": "code",
      "execution_count": 20,
      "metadata": {
        "id": "ovA5JGsp7k6_",
        "colab": {
          "base_uri": "https://localhost:8080/",
          "height": 881
        },
        "outputId": "a951c99d-60e8-4edf-8779-6adc5498e103"
      },
      "outputs": [
        {
          "output_type": "display_data",
          "data": {
            "text/plain": [
              "<Figure size 640x480 with 1 Axes>"
            ],
            "image/png": "[encoded data removed]"
          },
          "metadata": {}
        },
        {
          "output_type": "display_data",
          "data": {
            "text/plain": [
              "<Figure size 640x480 with 1 Axes>"
            ],
            "image/png": "[encoded data removed]"
          },
          "metadata": {}
        }
      ],
      "source": [
        "def plot_graphs(history, string):\n",
        "  plt.plot(history.history[string])\n",
        "  plt.plot(history.history['val_'+string])\n",
        "  plt.xlabel(\"Epochs\")\n",
        "  plt.ylabel(string)\n",
        "  plt.legend([string, 'val_'+string])\n",
        "  plt.show()\n",
        "\n",
        "plot_graphs(history, \"accuracy\")\n",
        "plot_graphs(history, \"loss\")"
      ]
    },
    {
      "cell_type": "code",
      "source": [
        "model.layers[0].get_weights()[0].shape"
      ],
      "metadata": {
        "colab": {
          "base_uri": "https://localhost:8080/"
        },
        "id": "rRAJIkahdLFV",
        "outputId": "f125fa60-6eb1-4538-b6e8-dfca2734ca79"
      },
      "execution_count": 24,
      "outputs": [
        {
          "output_type": "execute_result",
          "data": {
            "text/plain": [
              "(5000, 64)"
            ]
          },
          "metadata": {},
          "execution_count": 24
        }
      ]
    },
    {
      "cell_type": "code",
      "source": [
        "model.layers[0].get_weights()[0]"
      ],
      "metadata": {
        "colab": {
          "base_uri": "https://localhost:8080/"
        },
        "id": "hvK99tqUdLsp",
        "outputId": "98ed598c-5aca-4661-a55d-3d17ab5ec52b"
      },
      "execution_count": 25,
      "outputs": [
        {
          "output_type": "execute_result",
          "data": {
            "text/plain": [
              "array([[-0.04308429, -0.0233697 , -0.0250314 , ..., -0.03856289,\n",
              "         0.01916644, -0.02132298],\n",
              "       [-0.03797262,  0.00110858,  0.04103236, ...,  0.04401992,\n",
              "        -0.04351768,  0.01312905],\n",
              "       [-0.02413289, -0.02767215,  0.02783143, ...,  0.04988276,\n",
              "        -0.02302765,  0.00694862],\n",
              "       ...,\n",
              "       [ 0.00518388, -0.03330607,  0.0197578 , ...,  0.07981234,\n",
              "        -0.02344217,  0.00711261],\n",
              "       [-0.00304434,  0.04872481, -0.01016927, ..., -0.06614537,\n",
              "         0.02175969, -0.04212124],\n",
              "       [ 0.06968116,  0.00618424, -0.01989192, ..., -0.0019056 ,\n",
              "        -0.00167849,  0.02062652]], dtype=float32)"
            ]
          },
          "metadata": {},
          "execution_count": 25
        }
      ]
    },
    {
      "cell_type": "code",
      "source": [],
      "metadata": {
        "id": "YpicoRx8dTIx"
      },
      "execution_count": null,
      "outputs": []
    }
  ],
  "metadata": {
    "colab": {
      "provenance": []
    },
    "kernelspec": {
      "display_name": "Python 3 [3.10]",
      "language": "python",
      "name": "python3"
    },
    "language_info": {
      "codemirror_mode": {
        "name": "ipython",
        "version": 3
      },
      "file_extension": ".py",
      "mimetype": "text/x-python",
      "name": "python",
      "nbconvert_exporter": "python",
      "pygments_lexer": "ipython3",
      "version": "3.10.2"
    }
  },
  "nbformat": 4,
  "nbformat_minor": 0
}
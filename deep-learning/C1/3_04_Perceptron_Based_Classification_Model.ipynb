{
  "cells": [
    {
      "cell_type": "markdown",
      "source": [
        "# __Perceptron-Based Classification Model__\n",
        "\n",
        "The perceptron-based classification model is a linear binary classifier that uses a single-layer neural network to make predictions based on weighted inputs and a threshold activation function.\n",
        "\n",
        "Let's understand how to build a perceptron-based classification model."
      ],
      "metadata": {
        "id": "QPR0u66ZSCTU"
      }
    },
    {
      "cell_type": "markdown",
      "source": [
        "## Steps to Be Followed:\n",
        "1. Importing the required libraries\n",
        "2. Reading a CSV file\n",
        "3. Displaying the data\n",
        "4. Performing data preprocessing and splitting\n",
        "5. Fitting the model\n",
        "6. Predicting the model"
      ],
      "metadata": {
        "id": "OSVmiXn01K_9"
      }
    },
    {
      "cell_type": "markdown",
      "source": [
        "### Step 1: Importing the Required Libraries\n",
        "\n",
        "- It imports necessary modules for numerical computations and defines functions for exponential calculations, array operations, random number generation, and matrix multiplication."
      ],
      "metadata": {
        "id": "H342nCTASUG4"
      }
    },
    {
      "cell_type": "code",
      "source": [
        "!wget https://www.dropbox.com/scl/fi/q40cf3afylq0ks2jryd9a/mnist_train.csv?rlkey=920y1l4kkktx2t5j9oyqnc3mm&st=u5avieek&dl=0"
      ],
      "metadata": {
        "id": "Q-_v1xcYbFXB"
      },
      "execution_count": null,
      "outputs": []
    },
    {
      "cell_type": "code",
      "execution_count": null,
      "metadata": {
        "id": "JKG5L3AePK1J"
      },
      "outputs": [],
      "source": [
        "import numpy as np\n",
        "import pandas as pd\n",
        "from matplotlib import pyplot as plt\n",
        "from sklearn.linear_model import Perceptron\n",
        "from sklearn.model_selection import train_test_split\n",
        "%matplotlib inline"
      ]
    },
    {
      "cell_type": "markdown",
      "source": [
        "### Step 2: Reading a CSV File\n",
        "\n",
        "- Load the data from a CSV file.\n",
        "- Read a CSV file using the **pd.read_csv()** function.\n"
      ],
      "metadata": {
        "id": "qG82bQprVfDL"
      }
    },
    {
      "cell_type": "code",
      "source": [
        "import os\n",
        "os.listdir()"
      ],
      "metadata": {
        "id": "74my1Lrpbkc4"
      },
      "execution_count": null,
      "outputs": []
    },
    {
      "cell_type": "code",
      "source": [
        "os.rename(\"mnist_train.csv?rlkey=920y1l4kkktx2t5j9oyqnc3mm\", \"mnist_train.csv\")"
      ],
      "metadata": {
        "id": "bW0W9i4lboOP"
      },
      "execution_count": null,
      "outputs": []
    },
    {
      "cell_type": "code",
      "execution_count": null,
      "metadata": {
        "id": "UuSvq94aPK1M"
      },
      "outputs": [],
      "source": [
        "data = pd.read_csv(\"mnist_train.csv\")"
      ]
    },
    {
      "cell_type": "markdown",
      "source": [
        "### Step 3: Displaying the Data\n",
        "\n",
        "- The __head()__ is used to retrieve the few rows of the dataset named __mnist_train__."
      ],
      "metadata": {
        "id": "vyWxZMNKWkcK"
      }
    },
    {
      "cell_type": "code",
      "execution_count": null,
      "metadata": {
        "colab": {
          "base_uri": "https://localhost:8080/",
          "height": 235
        },
        "id": "WEc_PWEQPK1M",
        "outputId": "aa3e6d7f-3c56-4ec1-9e36-7f7fd27cc19d"
      },
      "outputs": [
        {
          "output_type": "execute_result",
          "data": {
            "text/plain": [
              "   label  1x1  1x2  1x3  1x4  1x5  1x6  1x7  1x8  1x9  ...  28x19  28x20  \\\n",
              "0      5    0    0    0    0    0    0    0    0    0  ...      0      0   \n",
              "1      0    0    0    0    0    0    0    0    0    0  ...      0      0   \n",
              "2      4    0    0    0    0    0    0    0    0    0  ...      0      0   \n",
              "3      1    0    0    0    0    0    0    0    0    0  ...      0      0   \n",
              "4      9    0    0    0    0    0    0    0    0    0  ...      0      0   \n",
              "\n",
              "   28x21  28x22  28x23  28x24  28x25  28x26  28x27  28x28  \n",
              "0      0      0      0      0      0      0      0      0  \n",
              "1      0      0      0      0      0      0      0      0  \n",
              "2      0      0      0      0      0      0      0      0  \n",
              "3      0      0      0      0      0      0      0      0  \n",
              "4      0      0      0      0      0      0      0      0  \n",
              "\n",
              "[5 rows x 785 columns]"
            ],
            "text/html": [
              "\n",
              "  <div id=\"df-bd7e6703-1d48-4f89-8f33-f636d5104d17\" class=\"colab-df-container\">\n",
              "    <div>\n",
              "<style scoped>\n",
              "    .dataframe tbody tr th:only-of-type {\n",
              "        vertical-align: middle;\n",
              "    }\n",
              "\n",
              "    .dataframe tbody tr th {\n",
              "        vertical-align: top;\n",
              "    }\n",
              "\n",
              "    .dataframe thead th {\n",
              "        text-align: right;\n",
              "    }\n",
              "</style>\n",
              "<table border=\"1\" class=\"dataframe\">\n",
              "  <thead>\n",
              "    <tr style=\"text-align: right;\">\n",
              "      <th></th>\n",
              "      <th>label</th>\n",
              "      <th>1x1</th>\n",
              "      <th>1x2</th>\n",
              "      <th>1x3</th>\n",
              "      <th>1x4</th>\n",
              "      <th>1x5</th>\n",
              "      <th>1x6</th>\n",
              "      <th>1x7</th>\n",
              "      <th>1x8</th>\n",
              "      <th>1x9</th>\n",
              "      <th>...</th>\n",
              "      <th>28x19</th>\n",
              "      <th>28x20</th>\n",
              "      <th>28x21</th>\n",
              "      <th>28x22</th>\n",
              "      <th>28x23</th>\n",
              "      <th>28x24</th>\n",
              "      <th>28x25</th>\n",
              "      <th>28x26</th>\n",
              "      <th>28x27</th>\n",
              "      <th>28x28</th>\n",
              "    </tr>\n",
              "  </thead>\n",
              "  <tbody>\n",
              "    <tr>\n",
              "      <th>0</th>\n",
              "      <td>5</td>\n",
              "      <td>0</td>\n",
              "      <td>0</td>\n",
              "      <td>0</td>\n",
              "      <td>0</td>\n",
              "      <td>0</td>\n",
              "      <td>0</td>\n",
              "      <td>0</td>\n",
              "      <td>0</td>\n",
              "      <td>0</td>\n",
              "      <td>...</td>\n",
              "      <td>0</td>\n",
              "      <td>0</td>\n",
              "      <td>0</td>\n",
              "      <td>0</td>\n",
              "      <td>0</td>\n",
              "      <td>0</td>\n",
              "      <td>0</td>\n",
              "      <td>0</td>\n",
              "      <td>0</td>\n",
              "      <td>0</td>\n",
              "    </tr>\n",
              "    <tr>\n",
              "      <th>1</th>\n",
              "      <td>0</td>\n",
              "      <td>0</td>\n",
              "      <td>0</td>\n",
              "      <td>0</td>\n",
              "      <td>0</td>\n",
              "      <td>0</td>\n",
              "      <td>0</td>\n",
              "      <td>0</td>\n",
              "      <td>0</td>\n",
              "      <td>0</td>\n",
              "      <td>...</td>\n",
              "      <td>0</td>\n",
              "      <td>0</td>\n",
              "      <td>0</td>\n",
              "      <td>0</td>\n",
              "      <td>0</td>\n",
              "      <td>0</td>\n",
              "      <td>0</td>\n",
              "      <td>0</td>\n",
              "      <td>0</td>\n",
              "      <td>0</td>\n",
              "    </tr>\n",
              "    <tr>\n",
              "      <th>2</th>\n",
              "      <td>4</td>\n",
              "      <td>0</td>\n",
              "      <td>0</td>\n",
              "      <td>0</td>\n",
              "      <td>0</td>\n",
              "      <td>0</td>\n",
              "      <td>0</td>\n",
              "      <td>0</td>\n",
              "      <td>0</td>\n",
              "      <td>0</td>\n",
              "      <td>...</td>\n",
              "      <td>0</td>\n",
              "      <td>0</td>\n",
              "      <td>0</td>\n",
              "      <td>0</td>\n",
              "      <td>0</td>\n",
              "      <td>0</td>\n",
              "      <td>0</td>\n",
              "      <td>0</td>\n",
              "      <td>0</td>\n",
              "      <td>0</td>\n",
              "    </tr>\n",
              "    <tr>\n",
              "      <th>3</th>\n",
              "      <td>1</td>\n",
              "      <td>0</td>\n",
              "      <td>0</td>\n",
              "      <td>0</td>\n",
              "      <td>0</td>\n",
              "      <td>0</td>\n",
              "      <td>0</td>\n",
              "      <td>0</td>\n",
              "      <td>0</td>\n",
              "      <td>0</td>\n",
              "      <td>...</td>\n",
              "      <td>0</td>\n",
              "      <td>0</td>\n",
              "      <td>0</td>\n",
              "      <td>0</td>\n",
              "      <td>0</td>\n",
              "      <td>0</td>\n",
              "      <td>0</td>\n",
              "      <td>0</td>\n",
              "      <td>0</td>\n",
              "      <td>0</td>\n",
              "    </tr>\n",
              "    <tr>\n",
              "      <th>4</th>\n",
              "      <td>9</td>\n",
              "      <td>0</td>\n",
              "      <td>0</td>\n",
              "      <td>0</td>\n",
              "      <td>0</td>\n",
              "      <td>0</td>\n",
              "      <td>0</td>\n",
              "      <td>0</td>\n",
              "      <td>0</td>\n",
              "      <td>0</td>\n",
              "      <td>...</td>\n",
              "      <td>0</td>\n",
              "      <td>0</td>\n",
              "      <td>0</td>\n",
              "      <td>0</td>\n",
              "      <td>0</td>\n",
              "      <td>0</td>\n",
              "      <td>0</td>\n",
              "      <td>0</td>\n",
              "      <td>0</td>\n",
              "      <td>0</td>\n",
              "    </tr>\n",
              "  </tbody>\n",
              "</table>\n",
              "<p>5 rows × 785 columns</p>\n",
              "</div>\n",
              "    <div class=\"colab-df-buttons\">\n",
              "\n",
              "  <div class=\"colab-df-container\">\n",
              "    <button class=\"colab-df-convert\" onclick=\"convertToInteractive('df-bd7e6703-1d48-4f89-8f33-f636d5104d17')\"\n",
              "            title=\"Convert this dataframe to an interactive table.\"\n",
              "            style=\"display:none;\">\n",
              "\n",
              "  <svg xmlns=\"http://www.w3.org/2000/svg\" height=\"24px\" viewBox=\"0 -960 960 960\">\n",
              "    <path d=\"M120-120v-720h720v720H120Zm60-500h600v-160H180v160Zm220 220h160v-160H400v160Zm0 220h160v-160H400v160ZM180-400h160v-160H180v160Zm440 0h160v-160H620v160ZM180-180h160v-160H180v160Zm440 0h160v-160H620v160Z\"/>\n",
              "  </svg>\n",
              "    </button>\n",
              "\n",
              "  <style>\n",
              "    .colab-df-container {\n",
              "      display:flex;\n",
              "      gap: 12px;\n",
              "    }\n",
              "\n",
              "    .colab-df-convert {\n",
              "      background-color: #E8F0FE;\n",
              "      border: none;\n",
              "      border-radius: 50%;\n",
              "      cursor: pointer;\n",
              "      display: none;\n",
              "      fill: #1967D2;\n",
              "      height: 32px;\n",
              "      padding: 0 0 0 0;\n",
              "      width: 32px;\n",
              "    }\n",
              "\n",
              "    .colab-df-convert:hover {\n",
              "      background-color: #E2EBFA;\n",
              "      box-shadow: 0px 1px 2px rgba(60, 64, 67, 0.3), 0px 1px 3px 1px rgba(60, 64, 67, 0.15);\n",
              "      fill: #174EA6;\n",
              "    }\n",
              "\n",
              "    .colab-df-buttons div {\n",
              "      margin-bottom: 4px;\n",
              "    }\n",
              "\n",
              "    [theme=dark] .colab-df-convert {\n",
              "      background-color: #3B4455;\n",
              "      fill: #D2E3FC;\n",
              "    }\n",
              "\n",
              "    [theme=dark] .colab-df-convert:hover {\n",
              "      background-color: #434B5C;\n",
              "      box-shadow: 0px 1px 3px 1px rgba(0, 0, 0, 0.15);\n",
              "      filter: drop-shadow(0px 1px 2px rgba(0, 0, 0, 0.3));\n",
              "      fill: #FFFFFF;\n",
              "    }\n",
              "  </style>\n",
              "\n",
              "    <script>\n",
              "      const buttonEl =\n",
              "        document.querySelector('#df-bd7e6703-1d48-4f89-8f33-f636d5104d17 button.colab-df-convert');\n",
              "      buttonEl.style.display =\n",
              "        google.colab.kernel.accessAllowed ? 'block' : 'none';\n",
              "\n",
              "      async function convertToInteractive(key) {\n",
              "        const element = document.querySelector('#df-bd7e6703-1d48-4f89-8f33-f636d5104d17');\n",
              "        const dataTable =\n",
              "          await google.colab.kernel.invokeFunction('convertToInteractive',\n",
              "                                                    [key], {});\n",
              "        if (!dataTable) return;\n",
              "\n",
              "        const docLinkHtml = 'Like what you see? Visit the ' +\n",
              "          '<a target=\"_blank\" href=https://colab.research.google.com/notebooks/data_table.ipynb>data table notebook</a>'\n",
              "          + ' to learn more about interactive tables.';\n",
              "        element.innerHTML = '';\n",
              "        dataTable['output_type'] = 'display_data';\n",
              "        await google.colab.output.renderOutput(dataTable, element);\n",
              "        const docLink = document.createElement('div');\n",
              "        docLink.innerHTML = docLinkHtml;\n",
              "        element.appendChild(docLink);\n",
              "      }\n",
              "    </script>\n",
              "  </div>\n",
              "\n",
              "\n",
              "<div id=\"df-592b8a73-6263-4f0f-b601-ab9ca7c7e774\">\n",
              "  <button class=\"colab-df-quickchart\" onclick=\"quickchart('df-592b8a73-6263-4f0f-b601-ab9ca7c7e774')\"\n",
              "            title=\"Suggest charts\"\n",
              "            style=\"display:none;\">\n",
              "\n",
              "<svg xmlns=\"http://www.w3.org/2000/svg\" height=\"24px\"viewBox=\"0 0 24 24\"\n",
              "     width=\"24px\">\n",
              "    <g>\n",
              "        <path d=\"M19 3H5c-1.1 0-2 .9-2 2v14c0 1.1.9 2 2 2h14c1.1 0 2-.9 2-2V5c0-1.1-.9-2-2-2zM9 17H7v-7h2v7zm4 0h-2V7h2v10zm4 0h-2v-4h2v4z\"/>\n",
              "    </g>\n",
              "</svg>\n",
              "  </button>\n",
              "\n",
              "<style>\n",
              "  .colab-df-quickchart {\n",
              "      --bg-color: #E8F0FE;\n",
              "      --fill-color: #1967D2;\n",
              "      --hover-bg-color: #E2EBFA;\n",
              "      --hover-fill-color: #174EA6;\n",
              "      --disabled-fill-color: #AAA;\n",
              "      --disabled-bg-color: #DDD;\n",
              "  }\n",
              "\n",
              "  [theme=dark] .colab-df-quickchart {\n",
              "      --bg-color: #3B4455;\n",
              "      --fill-color: #D2E3FC;\n",
              "      --hover-bg-color: #434B5C;\n",
              "      --hover-fill-color: #FFFFFF;\n",
              "      --disabled-bg-color: #3B4455;\n",
              "      --disabled-fill-color: #666;\n",
              "  }\n",
              "\n",
              "  .colab-df-quickchart {\n",
              "    background-color: var(--bg-color);\n",
              "    border: none;\n",
              "    border-radius: 50%;\n",
              "    cursor: pointer;\n",
              "    display: none;\n",
              "    fill: var(--fill-color);\n",
              "    height: 32px;\n",
              "    padding: 0;\n",
              "    width: 32px;\n",
              "  }\n",
              "\n",
              "  .colab-df-quickchart:hover {\n",
              "    background-color: var(--hover-bg-color);\n",
              "    box-shadow: 0 1px 2px rgba(60, 64, 67, 0.3), 0 1px 3px 1px rgba(60, 64, 67, 0.15);\n",
              "    fill: var(--button-hover-fill-color);\n",
              "  }\n",
              "\n",
              "  .colab-df-quickchart-complete:disabled,\n",
              "  .colab-df-quickchart-complete:disabled:hover {\n",
              "    background-color: var(--disabled-bg-color);\n",
              "    fill: var(--disabled-fill-color);\n",
              "    box-shadow: none;\n",
              "  }\n",
              "\n",
              "  .colab-df-spinner {\n",
              "    border: 2px solid var(--fill-color);\n",
              "    border-color: transparent;\n",
              "    border-bottom-color: var(--fill-color);\n",
              "    animation:\n",
              "      spin 1s steps(1) infinite;\n",
              "  }\n",
              "\n",
              "  @keyframes spin {\n",
              "    0% {\n",
              "      border-color: transparent;\n",
              "      border-bottom-color: var(--fill-color);\n",
              "      border-left-color: var(--fill-color);\n",
              "    }\n",
              "    20% {\n",
              "      border-color: transparent;\n",
              "      border-left-color: var(--fill-color);\n",
              "      border-top-color: var(--fill-color);\n",
              "    }\n",
              "    30% {\n",
              "      border-color: transparent;\n",
              "      border-left-color: var(--fill-color);\n",
              "      border-top-color: var(--fill-color);\n",
              "      border-right-color: var(--fill-color);\n",
              "    }\n",
              "    40% {\n",
              "      border-color: transparent;\n",
              "      border-right-color: var(--fill-color);\n",
              "      border-top-color: var(--fill-color);\n",
              "    }\n",
              "    60% {\n",
              "      border-color: transparent;\n",
              "      border-right-color: var(--fill-color);\n",
              "    }\n",
              "    80% {\n",
              "      border-color: transparent;\n",
              "      border-right-color: var(--fill-color);\n",
              "      border-bottom-color: var(--fill-color);\n",
              "    }\n",
              "    90% {\n",
              "      border-color: transparent;\n",
              "      border-bottom-color: var(--fill-color);\n",
              "    }\n",
              "  }\n",
              "</style>\n",
              "\n",
              "  <script>\n",
              "    async function quickchart(key) {\n",
              "      const quickchartButtonEl =\n",
              "        document.querySelector('#' + key + ' button');\n",
              "      quickchartButtonEl.disabled = true;  // To prevent multiple clicks.\n",
              "      quickchartButtonEl.classList.add('colab-df-spinner');\n",
              "      try {\n",
              "        const charts = await google.colab.kernel.invokeFunction(\n",
              "            'suggestCharts', [key], {});\n",
              "      } catch (error) {\n",
              "        console.error('Error during call to suggestCharts:', error);\n",
              "      }\n",
              "      quickchartButtonEl.classList.remove('colab-df-spinner');\n",
              "      quickchartButtonEl.classList.add('colab-df-quickchart-complete');\n",
              "    }\n",
              "    (() => {\n",
              "      let quickchartButtonEl =\n",
              "        document.querySelector('#df-592b8a73-6263-4f0f-b601-ab9ca7c7e774 button');\n",
              "      quickchartButtonEl.style.display =\n",
              "        google.colab.kernel.accessAllowed ? 'block' : 'none';\n",
              "    })();\n",
              "  </script>\n",
              "</div>\n",
              "\n",
              "    </div>\n",
              "  </div>\n"
            ],
            "application/vnd.google.colaboratory.intrinsic+json": {
              "type": "dataframe",
              "variable_name": "data"
            }
          },
          "metadata": {},
          "execution_count": 10
        }
      ],
      "source": [
        "data.head()"
      ]
    },
    {
      "cell_type": "markdown",
      "source": [
        "**Observation:**\n",
        "\n",
        "- As a result, it is displayed with **5** rows and __785__ columns."
      ],
      "metadata": {
        "id": "hOJAwihuXeJZ"
      }
    },
    {
      "cell_type": "markdown",
      "source": [
        "### Step 4: Performing Data Preprocessing and Splitting\n",
        "\n",
        "- To check if there are any missing values in the dataset, use the **isnull()** function combined with the **any()** function in pandas.\n",
        "- The **data.iloc[:,1:]** selects all columns except the first one from the DataFrame data and assigns them to **df_x**, and __data.iloc[:,0]__ selects only the first column and assigns it to **df_y**.\n",
        "- It performs a train-test split on the input data **df_x** and **df_y**, allocating **80%** of the data for training **x_train** and **y_train** and **20%** for testing **x_test** and **y_test**, with a random state of **4** for reproducibility.\n",
        "- It creates an instance of the perceptron classifier **per**.\n",
        "- It initializes the classifier with default parameters, allowing it to be used for classification tasks.\n"
      ],
      "metadata": {
        "id": "pwPHIasFX5s_"
      }
    },
    {
      "cell_type": "code",
      "source": [
        "if data.isnull().values.any():\n",
        "    data = data.fillna(0)"
      ],
      "metadata": {
        "id": "kh4izF8NazOW"
      },
      "execution_count": null,
      "outputs": []
    },
    {
      "cell_type": "code",
      "execution_count": null,
      "metadata": {
        "id": "pICaXHUmPK1N"
      },
      "outputs": [],
      "source": [
        "df_x = data.iloc[:,1:]\n",
        "df_y = data.iloc[:,0]"
      ]
    },
    {
      "cell_type": "code",
      "execution_count": null,
      "metadata": {
        "id": "fgKoSqm2PK1O"
      },
      "outputs": [],
      "source": [
        "x_train,x_test,y_train,y_test = train_test_split(df_x,df_y,test_size=0.2, random_state=4)"
      ]
    },
    {
      "cell_type": "code",
      "execution_count": null,
      "metadata": {
        "id": "a6AAqgafPK1O"
      },
      "outputs": [],
      "source": [
        "per = Perceptron()"
      ]
    },
    {
      "cell_type": "markdown",
      "source": [
        "### Step 5: Fitting the Model\n",
        "\n",
        "- Fit the perceptron-based classification model for the **x_train** and **y_train** datasets to supervised learning for various binary classifiers by defining perceptrons."
      ],
      "metadata": {
        "id": "opcfS4XFZo35"
      }
    },
    {
      "cell_type": "code",
      "execution_count": null,
      "metadata": {
        "colab": {
          "base_uri": "https://localhost:8080/",
          "height": 74
        },
        "id": "dZTW0cm4PK1O",
        "outputId": "2bf773ab-ca98-4bd8-cf16-49b55e6d24af"
      },
      "outputs": [
        {
          "output_type": "execute_result",
          "data": {
            "text/plain": [
              "Perceptron()"
            ],
            "text/html": [
              "<style>#sk-container-id-1 {color: black;background-color: white;}#sk-container-id-1 pre{padding: 0;}#sk-container-id-1 div.sk-toggleable {background-color: white;}#sk-container-id-1 label.sk-toggleable__label {cursor: pointer;display: block;width: 100%;margin-bottom: 0;padding: 0.3em;box-sizing: border-box;text-align: center;}#sk-container-id-1 label.sk-toggleable__label-arrow:before {content: \"▸\";float: left;margin-right: 0.25em;color: #696969;}#sk-container-id-1 label.sk-toggleable__label-arrow:hover:before {color: black;}#sk-container-id-1 div.sk-estimator:hover label.sk-toggleable__label-arrow:before {color: black;}#sk-container-id-1 div.sk-toggleable__content {max-height: 0;max-width: 0;overflow: hidden;text-align: left;background-color: #f0f8ff;}#sk-container-id-1 div.sk-toggleable__content pre {margin: 0.2em;color: black;border-radius: 0.25em;background-color: #f0f8ff;}#sk-container-id-1 input.sk-toggleable__control:checked~div.sk-toggleable__content {max-height: 200px;max-width: 100%;overflow: auto;}#sk-container-id-1 input.sk-toggleable__control:checked~label.sk-toggleable__label-arrow:before {content: \"▾\";}#sk-container-id-1 div.sk-estimator input.sk-toggleable__control:checked~label.sk-toggleable__label {background-color: #d4ebff;}#sk-container-id-1 div.sk-label input.sk-toggleable__control:checked~label.sk-toggleable__label {background-color: #d4ebff;}#sk-container-id-1 input.sk-hidden--visually {border: 0;clip: rect(1px 1px 1px 1px);clip: rect(1px, 1px, 1px, 1px);height: 1px;margin: -1px;overflow: hidden;padding: 0;position: absolute;width: 1px;}#sk-container-id-1 div.sk-estimator {font-family: monospace;background-color: #f0f8ff;border: 1px dotted black;border-radius: 0.25em;box-sizing: border-box;margin-bottom: 0.5em;}#sk-container-id-1 div.sk-estimator:hover {background-color: #d4ebff;}#sk-container-id-1 div.sk-parallel-item::after {content: \"\";width: 100%;border-bottom: 1px solid gray;flex-grow: 1;}#sk-container-id-1 div.sk-label:hover label.sk-toggleable__label {background-color: #d4ebff;}#sk-container-id-1 div.sk-serial::before {content: \"\";position: absolute;border-left: 1px solid gray;box-sizing: border-box;top: 0;bottom: 0;left: 50%;z-index: 0;}#sk-container-id-1 div.sk-serial {display: flex;flex-direction: column;align-items: center;background-color: white;padding-right: 0.2em;padding-left: 0.2em;position: relative;}#sk-container-id-1 div.sk-item {position: relative;z-index: 1;}#sk-container-id-1 div.sk-parallel {display: flex;align-items: stretch;justify-content: center;background-color: white;position: relative;}#sk-container-id-1 div.sk-item::before, #sk-container-id-1 div.sk-parallel-item::before {content: \"\";position: absolute;border-left: 1px solid gray;box-sizing: border-box;top: 0;bottom: 0;left: 50%;z-index: -1;}#sk-container-id-1 div.sk-parallel-item {display: flex;flex-direction: column;z-index: 1;position: relative;background-color: white;}#sk-container-id-1 div.sk-parallel-item:first-child::after {align-self: flex-end;width: 50%;}#sk-container-id-1 div.sk-parallel-item:last-child::after {align-self: flex-start;width: 50%;}#sk-container-id-1 div.sk-parallel-item:only-child::after {width: 0;}#sk-container-id-1 div.sk-dashed-wrapped {border: 1px dashed gray;margin: 0 0.4em 0.5em 0.4em;box-sizing: border-box;padding-bottom: 0.4em;background-color: white;}#sk-container-id-1 div.sk-label label {font-family: monospace;font-weight: bold;display: inline-block;line-height: 1.2em;}#sk-container-id-1 div.sk-label-container {text-align: center;}#sk-container-id-1 div.sk-container {/* jupyter's `normalize.less` sets `[hidden] { display: none; }` but bootstrap.min.css set `[hidden] { display: none !important; }` so we also need the `!important` here to be able to override the default hidden behavior on the sphinx rendered scikit-learn.org. See: https://github.com/scikit-learn/scikit-learn/issues/21755 */display: inline-block !important;position: relative;}#sk-container-id-1 div.sk-text-repr-fallback {display: none;}</style><div id=\"sk-container-id-1\" class=\"sk-top-container\"><div class=\"sk-text-repr-fallback\"><pre>Perceptron()</pre><b>In a Jupyter environment, please rerun this cell to show the HTML representation or trust the notebook. <br />On GitHub, the HTML representation is unable to render, please try loading this page with nbviewer.org.</b></div><div class=\"sk-container\" hidden><div class=\"sk-item\"><div class=\"sk-estimator sk-toggleable\"><input class=\"sk-toggleable__control sk-hidden--visually\" id=\"sk-estimator-id-1\" type=\"checkbox\" checked><label for=\"sk-estimator-id-1\" class=\"sk-toggleable__label sk-toggleable__label-arrow\">Perceptron</label><div class=\"sk-toggleable__content\"><pre>Perceptron()</pre></div></div></div></div></div>"
            ]
          },
          "metadata": {},
          "execution_count": 15
        }
      ],
      "source": [
        "\n",
        "per.fit(x_train, y_train)\n"
      ]
    },
    {
      "cell_type": "markdown",
      "source": [
        "### Step 6: Predicting the Model\n",
        "\n",
        "- Predict the model for **x_test**"
      ],
      "metadata": {
        "id": "H7Ezjp3DazFB"
      }
    },
    {
      "cell_type": "code",
      "execution_count": null,
      "metadata": {
        "id": "Vek1gFS6PK1P"
      },
      "outputs": [],
      "source": [
        "pred = per.predict(x_test)"
      ]
    },
    {
      "cell_type": "code",
      "execution_count": null,
      "metadata": {
        "colab": {
          "base_uri": "https://localhost:8080/"
        },
        "id": "zpERpAlJPK1P",
        "outputId": "2c115e13-b1dc-4486-c982-986628176baa"
      },
      "outputs": [
        {
          "output_type": "execute_result",
          "data": {
            "text/plain": [
              "array([2, 7, 6, ..., 6, 4, 2])"
            ]
          },
          "metadata": {},
          "execution_count": 17
        }
      ],
      "source": [
        "pred"
      ]
    },
    {
      "cell_type": "markdown",
      "source": [
        "**Observations:**\n",
        "\n",
        "- The prediction of **X_test** is presented above in an array format which represents a sequence of values.\n",
        "- Each value in the array corresponds to a specific element within a dataset or sequence. However, without additional context, the exact meaning or source of these values within the array cannot be precisely determined."
      ],
      "metadata": {
        "id": "wZCgbBGgdmdk"
      }
    },
    {
      "cell_type": "markdown",
      "source": [
        "- Import the **accuracy_score** function from the **sklearn.metrics** module. This function is used to compute the accuracy of a classifier's predictions.\n",
        "- **y_test** is the actual labels for the test set. These are the \"true\" values that the model is trying to predict.\n",
        "- **pred** is the predicted labels for the test set, as predicted by the model."
      ],
      "metadata": {
        "id": "BXZtGF_scJUF"
      }
    },
    {
      "cell_type": "code",
      "source": [
        "from sklearn.metrics import accuracy_score\n",
        "accuracy = accuracy_score(y_test, pred)"
      ],
      "metadata": {
        "id": "FbEXEsnkZm0O"
      },
      "execution_count": null,
      "outputs": []
    },
    {
      "cell_type": "code",
      "source": [
        "print(\"Accuracy of the model: \", accuracy)"
      ],
      "metadata": {
        "colab": {
          "base_uri": "https://localhost:8080/"
        },
        "id": "RGC1YaWmZqiU",
        "outputId": "043b9ca0-b1cd-406a-bb21-3f31311544ae"
      },
      "execution_count": null,
      "outputs": [
        {
          "output_type": "stream",
          "name": "stdout",
          "text": [
            "Accuracy of the model:  0.8745\n"
          ]
        }
      ]
    },
    {
      "cell_type": "markdown",
      "source": [
        "**Observation:**\n",
        "- The **accuracy_score** function compares these two arrays and returns the proportion of correct predictions, which is the accuracy of the model. This accuracy score is then stored in the variable accuracy."
      ],
      "metadata": {
        "id": "cji_w1JMcdDf"
      }
    },
    {
      "cell_type": "code",
      "source": [
        "def Linear(x,w,b):\n",
        "    return np.dot(x,w)+b"
      ],
      "metadata": {
        "id": "6jp6E8pBdxFP"
      },
      "execution_count": null,
      "outputs": []
    },
    {
      "cell_type": "code",
      "source": [
        "def step_function(z):\n",
        "    return np.where(z>=0,1,0)"
      ],
      "metadata": {
        "id": "BSCjDmMjd44J"
      },
      "execution_count": null,
      "outputs": []
    },
    {
      "cell_type": "code",
      "source": [
        "x = np.random.randint(-100,100,(10,1))\n",
        "w = np.random.randint(0,100,(1,1))\n",
        "b = np.random.randint(0,100)"
      ],
      "metadata": {
        "id": "g4UgUju9d_kS"
      },
      "execution_count": null,
      "outputs": []
    },
    {
      "cell_type": "code",
      "source": [
        "x = np.sort(x,axis=0)"
      ],
      "metadata": {
        "id": "OoYJBUAget0K"
      },
      "execution_count": null,
      "outputs": []
    },
    {
      "cell_type": "code",
      "source": [
        "b"
      ],
      "metadata": {
        "colab": {
          "base_uri": "https://localhost:8080/"
        },
        "id": "zh1u2Z8CexvK",
        "outputId": "61a1c4b9-ff5f-4aae-957f-da68dd9a2522"
      },
      "execution_count": null,
      "outputs": [
        {
          "output_type": "execute_result",
          "data": {
            "text/plain": [
              "27"
            ]
          },
          "metadata": {},
          "execution_count": 46
        }
      ]
    },
    {
      "cell_type": "code",
      "source": [
        "w"
      ],
      "metadata": {
        "colab": {
          "base_uri": "https://localhost:8080/"
        },
        "id": "46ME0GVOeGoZ",
        "outputId": "28315867-89d8-4b90-8eff-16ce8dd3404b"
      },
      "execution_count": null,
      "outputs": [
        {
          "output_type": "execute_result",
          "data": {
            "text/plain": [
              "array([[7]])"
            ]
          },
          "metadata": {},
          "execution_count": 40
        }
      ]
    },
    {
      "cell_type": "code",
      "source": [
        "x"
      ],
      "metadata": {
        "colab": {
          "base_uri": "https://localhost:8080/"
        },
        "id": "TiKeFX2heHI0",
        "outputId": "4840771e-affc-4763-efc6-d1b130542e3d"
      },
      "execution_count": null,
      "outputs": [
        {
          "output_type": "execute_result",
          "data": {
            "text/plain": [
              "array([[-90],\n",
              "       [-74],\n",
              "       [-61],\n",
              "       [ -4],\n",
              "       [  6],\n",
              "       [ 29],\n",
              "       [ 42],\n",
              "       [ 77],\n",
              "       [ 93],\n",
              "       [ 94]])"
            ]
          },
          "metadata": {},
          "execution_count": 41
        }
      ]
    },
    {
      "cell_type": "code",
      "source": [
        "b"
      ],
      "metadata": {
        "colab": {
          "base_uri": "https://localhost:8080/"
        },
        "id": "5i-d6ufgeJdd",
        "outputId": "08ffdda1-4171-4f3f-f4fa-9cba792f7ba7"
      },
      "execution_count": null,
      "outputs": [
        {
          "output_type": "execute_result",
          "data": {
            "text/plain": [
              "27"
            ]
          },
          "metadata": {},
          "execution_count": 42
        }
      ]
    },
    {
      "cell_type": "code",
      "source": [
        "Linear(x,w,b)"
      ],
      "metadata": {
        "colab": {
          "base_uri": "https://localhost:8080/"
        },
        "id": "Ab-FSHoAeNlE",
        "outputId": "9ab48b96-18d6-4a58-eac5-26096588b844"
      },
      "execution_count": null,
      "outputs": [
        {
          "output_type": "execute_result",
          "data": {
            "text/plain": [
              "array([[-603],\n",
              "       [-491],\n",
              "       [-400],\n",
              "       [  -1],\n",
              "       [  69],\n",
              "       [ 230],\n",
              "       [ 321],\n",
              "       [ 566],\n",
              "       [ 678],\n",
              "       [ 685]])"
            ]
          },
          "metadata": {},
          "execution_count": 43
        }
      ]
    },
    {
      "cell_type": "code",
      "source": [
        "step_function(Linear(x,w,b))"
      ],
      "metadata": {
        "colab": {
          "base_uri": "https://localhost:8080/"
        },
        "id": "gHmn-6VteTKY",
        "outputId": "a4becb6b-e880-44be-cea2-3d157ae1df2a"
      },
      "execution_count": null,
      "outputs": [
        {
          "output_type": "execute_result",
          "data": {
            "text/plain": [
              "array([[0],\n",
              "       [0],\n",
              "       [0],\n",
              "       [0],\n",
              "       [1],\n",
              "       [1],\n",
              "       [1],\n",
              "       [1],\n",
              "       [1],\n",
              "       [1]])"
            ]
          },
          "metadata": {},
          "execution_count": 44
        }
      ]
    },
    {
      "cell_type": "code",
      "source": [
        "plt.plot(x,step_function(Linear(x,w,b)))"
      ],
      "metadata": {
        "colab": {
          "base_uri": "https://localhost:8080/",
          "height": 448
        },
        "id": "0zJILFCVeeOC",
        "outputId": "cf05318d-7080-41e0-c08d-e4810657becf"
      },
      "execution_count": null,
      "outputs": [
        {
          "output_type": "execute_result",
          "data": {
            "text/plain": [
              "[<matplotlib.lines.Line2D at 0x7b2be1940880>]"
            ]
          },
          "metadata": {},
          "execution_count": 45
        },
        {
          "output_type": "display_data",
          "data": {
            "text/plain": [
              "<Figure size 640x480 with 1 Axes>"
            ],
            "image/png": "[encoded data removed]"
          },
          "metadata": {}
        }
      ]
    },
    {
      "cell_type": "code",
      "source": [
        "# prompt: generate perceptron code\n",
        "\n",
        "import numpy as np\n",
        "\n",
        "class Perceptron:\n",
        "    def __init__(self, learning_rate=0.01, n_iters=50):\n",
        "        self.lr = learning_rate\n",
        "        self.n_iters = n_iters\n",
        "        self.activation_func = self._unit_step_func\n",
        "        self.weights = None\n",
        "        self.bias = None\n",
        "\n",
        "    def fit(self, X, y):\n",
        "        n_samples, n_features = X.shape\n",
        "\n",
        "        # init parameters\n",
        "        self.weights = np.zeros(n_features)\n",
        "        self.bias = 0\n",
        "\n",
        "        y_ = np.array([1 if i > 0 else 0 for i in y])\n",
        "\n",
        "        for _ in range(self.n_iters):\n",
        "            for i, x_i in enumerate(X):\n",
        "                linear_output = np.dot(x_i, self.weights) + self.bias\n",
        "                y_predicted = self.activation_func(linear_output)\n",
        "\n",
        "                # update weights\n",
        "                update = self.lr * (y_[i] - y_predicted)\n",
        "                self.weights += update * x_i\n",
        "                self.bias += update\n",
        "                print(f\"end of {_+1} epoch, row id {i+1}, w is {self.weights}, b is {self.bias}\")\n",
        "\n",
        "    def predict(self, X):\n",
        "        linear_output = np.dot(X, self.weights) + self.bias\n",
        "        y_predicted = self.activation_func(linear_output)\n",
        "        return y_predicted\n",
        "\n",
        "    def _unit_step_func(self, x):\n",
        "        return np.where(x >= 0, 1, 0)\n"
      ],
      "metadata": {
        "id": "-1gpjvnDeoKz"
      },
      "execution_count": null,
      "outputs": []
    },
    {
      "cell_type": "code",
      "source": [
        "p = Perceptron()"
      ],
      "metadata": {
        "id": "O4DpI-AdkoA1"
      },
      "execution_count": null,
      "outputs": []
    },
    {
      "cell_type": "code",
      "source": [
        "x"
      ],
      "metadata": {
        "colab": {
          "base_uri": "https://localhost:8080/"
        },
        "id": "FGZ7smEtkqBQ",
        "outputId": "712230fe-d2f6-469b-db14-1f8c1172d23c"
      },
      "execution_count": null,
      "outputs": [
        {
          "output_type": "execute_result",
          "data": {
            "text/plain": [
              "array([[-90],\n",
              "       [-74],\n",
              "       [-61],\n",
              "       [ -4],\n",
              "       [  6],\n",
              "       [ 29],\n",
              "       [ 42],\n",
              "       [ 77],\n",
              "       [ 93],\n",
              "       [ 94]])"
            ]
          },
          "metadata": {},
          "execution_count": 67
        }
      ]
    },
    {
      "cell_type": "code",
      "source": [
        "y = [0,0,0,0,0,1,1,1,1,1]"
      ],
      "metadata": {
        "id": "zqvLFJNIkqyw"
      },
      "execution_count": null,
      "outputs": []
    },
    {
      "cell_type": "code",
      "source": [
        "p.fit(x,y)"
      ],
      "metadata": {
        "id": "BE5jas5Zk0FW"
      },
      "execution_count": null,
      "outputs": []
    },
    {
      "cell_type": "code",
      "source": [
        "x.shape"
      ],
      "metadata": {
        "colab": {
          "base_uri": "https://localhost:8080/"
        },
        "id": "fsA2muZ8m6PS",
        "outputId": "332738c9-5a5d-4b52-bb77-a8b46f02a1ea"
      },
      "execution_count": null,
      "outputs": [
        {
          "output_type": "execute_result",
          "data": {
            "text/plain": [
              "(10, 1)"
            ]
          },
          "metadata": {},
          "execution_count": 70
        }
      ]
    },
    {
      "cell_type": "code",
      "source": [
        "50*10"
      ],
      "metadata": {
        "colab": {
          "base_uri": "https://localhost:8080/"
        },
        "id": "-Xdg48_mm7vb",
        "outputId": "47330c28-fdde-4e68-c8cf-6bde8316f319"
      },
      "execution_count": null,
      "outputs": [
        {
          "output_type": "execute_result",
          "data": {
            "text/plain": [
              "500"
            ]
          },
          "metadata": {},
          "execution_count": 71
        }
      ]
    },
    {
      "cell_type": "code",
      "source": [
        "p.weights"
      ],
      "metadata": {
        "colab": {
          "base_uri": "https://localhost:8080/"
        },
        "id": "rktzfqHZk1sz",
        "outputId": "d4ddb635-902a-40ce-c1e9-f3aa9a2906c9"
      },
      "execution_count": null,
      "outputs": [
        {
          "output_type": "execute_result",
          "data": {
            "text/plain": [
              "array([0.03])"
            ]
          },
          "metadata": {},
          "execution_count": 52
        }
      ]
    },
    {
      "cell_type": "code",
      "source": [
        "p.bias"
      ],
      "metadata": {
        "colab": {
          "base_uri": "https://localhost:8080/"
        },
        "id": "h-vpf1tbk5UA",
        "outputId": "b36d4835-4497-46ca-84cd-c2436a2723b3"
      },
      "execution_count": null,
      "outputs": [
        {
          "output_type": "execute_result",
          "data": {
            "text/plain": [
              "-0.2700000000000001"
            ]
          },
          "metadata": {},
          "execution_count": 53
        }
      ]
    },
    {
      "cell_type": "code",
      "source": [
        "p.predict(x)"
      ],
      "metadata": {
        "colab": {
          "base_uri": "https://localhost:8080/"
        },
        "id": "daS-2N5ek537",
        "outputId": "f864e629-adf7-44a7-e460-a99f0a94619a"
      },
      "execution_count": null,
      "outputs": [
        {
          "output_type": "execute_result",
          "data": {
            "text/plain": [
              "array([0, 0, 0, 0, 0, 1, 1, 1, 1, 1])"
            ]
          },
          "metadata": {},
          "execution_count": 54
        }
      ]
    },
    {
      "cell_type": "markdown",
      "source": [
        "https://playground.tensorflow.org/#activation=tanh&batchSize=10&dataset=circle&regDataset=reg-plane&learningRate=0.1&regularizationRate=0&noise=0&networkShape=3&seed=0.06721&showTestData=false&discretize=false&percTrainData=50&x=true&y=true&xTimesY=false&xSquared=false&ySquared=false&cosX=false&sinX=false&cosY=false&sinY=false&collectStats=false&problem=classification&initZero=false&hideText=false"
      ],
      "metadata": {
        "id": "tCghhicDnynG"
      }
    },
    {
      "cell_type": "markdown",
      "source": [
        "![image.png](data:image/png;base64,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)"
      ],
      "metadata": {
        "id": "crBXmOJNC_Ir"
      }
    },
    {
      "cell_type": "code",
      "source": [
        "(0.05*.15) + (0.1*0.2) + 0.35"
      ],
      "metadata": {
        "id": "J0fkfdOqk-sj",
        "colab": {
          "base_uri": "https://localhost:8080/"
        },
        "outputId": "4966429e-99f0-4d44-fd99-812a2d33d6c1"
      },
      "execution_count": 1,
      "outputs": [
        {
          "output_type": "execute_result",
          "data": {
            "text/plain": [
              "0.3775"
            ]
          },
          "metadata": {},
          "execution_count": 1
        }
      ]
    },
    {
      "cell_type": "code",
      "source": [
        "import numpy as np\n",
        "1/(1+np.exp(-0.3775))"
      ],
      "metadata": {
        "colab": {
          "base_uri": "https://localhost:8080/"
        },
        "id": "Pedhi697DGXq",
        "outputId": "aebbe71d-5ead-49fc-baad-2ce3d1e9baab"
      },
      "execution_count": 2,
      "outputs": [
        {
          "output_type": "execute_result",
          "data": {
            "text/plain": [
              "0.5932699921071872"
            ]
          },
          "metadata": {},
          "execution_count": 2
        }
      ]
    },
    {
      "cell_type": "code",
      "source": [
        "import numpy as np\n",
        "1/(1+np.exp(-0.3925))"
      ],
      "metadata": {
        "colab": {
          "base_uri": "https://localhost:8080/"
        },
        "id": "PMX9t9DUDYlZ",
        "outputId": "89e6563f-c803-4365-b847-cde2f62a2457"
      },
      "execution_count": 3,
      "outputs": [
        {
          "output_type": "execute_result",
          "data": {
            "text/plain": [
              "0.596884378259767"
            ]
          },
          "metadata": {},
          "execution_count": 3
        }
      ]
    },
    {
      "cell_type": "code",
      "source": [
        "1/(1+np.exp(-1.10))"
      ],
      "metadata": {
        "colab": {
          "base_uri": "https://localhost:8080/"
        },
        "id": "phjIU0MfD0o3",
        "outputId": "a2adbd7c-c02e-4a24-acf8-7d54f0c8c037"
      },
      "execution_count": 4,
      "outputs": [
        {
          "output_type": "execute_result",
          "data": {
            "text/plain": [
              "0.7502601055951177"
            ]
          },
          "metadata": {},
          "execution_count": 4
        }
      ]
    },
    {
      "cell_type": "code",
      "source": [],
      "metadata": {
        "id": "Z70sZxk7Eoph"
      },
      "execution_count": null,
      "outputs": []
    }
  ],
  "metadata": {
    "kernelspec": {
      "display_name": "Python 3",
      "language": "python",
      "name": "python3"
    },
    "language_info": {
      "codemirror_mode": {
        "name": "ipython",
        "version": 3
      },
      "file_extension": ".py",
      "mimetype": "text/x-python",
      "name": "python",
      "nbconvert_exporter": "python",
      "pygments_lexer": "ipython3",
      "version": "3.7.1"
    },
    "colab": {
      "provenance": []
    }
  },
  "nbformat": 4,
  "nbformat_minor": 0
}
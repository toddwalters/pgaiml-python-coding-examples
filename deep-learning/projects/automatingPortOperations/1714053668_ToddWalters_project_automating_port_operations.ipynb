{
  "cells": [
    {
      "cell_type": "markdown",
      "metadata": {
        "id": "view-in-github",
        "colab_type": "text"
      },
      "source": [
        "<a href=\"https://colab.research.google.com/github/toddwalters/pgaiml-python-coding-examples/blob/main/deep-learning/projects/automatingPortOperations/1714053668_ToddWalters_project_automating_port_operations.ipynb\" target=\"_parent\"><img src=\"https://colab.research.google.com/assets/colab-badge.svg\" alt=\"Open In Colab\"/></a>"
      ]
    },
    {
      "cell_type": "code",
      "source": [
        "from google.colab import drive\n",
        "drive.mount('/content/drive')"
      ],
      "metadata": {
        "id": "TngvpkHUYxUK"
      },
      "execution_count": null,
      "outputs": []
    },
    {
      "cell_type": "markdown",
      "metadata": {
        "id": "hlP3gKO0YnXm"
      },
      "source": [
        "# <a id='toc1_'></a>[**Automating Port Operations**](#toc0_)"
      ]
    },
    {
      "cell_type": "markdown",
      "metadata": {
        "id": "eshtNPMUYnXn"
      },
      "source": [
        "-----------------------------\n",
        "## <a id='toc1_1_'></a>[**Context**](#toc0_)\n",
        "-----------------------------\n",
        "\n",
        "Marina Pier Inc. is leveraging technology to automate their operations on the San Francisco port.\n",
        "The company’s management has set out to build a bias-free/ corruption-free automatic system that reports & avoids faulty situations caused by human error.\n",
        "\n",
        "-----------------------------\n",
        "## <a id='toc1_2_'></a>[**Objectives**](#toc0_)\n",
        "-----------------------------\n",
        "\n",
        "Marina Pier wants to use Deep Learning techniques to build an automatic reporting system that recognizes the boat. The company is also looking to use a transfer learning approach of any lightweight pre-trained model in order to deploy in mobile devices.\n",
        "As a deep learning engineer, your task is to:\n",
        "\n",
        "1.\tBuild a CNN network to classify the boat.\n",
        "\n",
        "2.\tBuild a lightweight model with the aim of deploying the solution on a mobile device using transfer learning. You can use any lightweight pre-trained model as the initial (first) layer. MobileNetV2 is a popular lightweight pre-trained model built using Keras API.\n",
        "\n",
        "-----------------------------\n",
        "## <a id='toc1_3_'></a>[**Dataset**](#toc0_)\n",
        "-----------------------------\n",
        "\n",
        "**boat_type_classification_dataset.zip**\n",
        "\n",
        "The dataset contains images of 9 types of boats. It contains a total of 1162 images. The training images are provided in the directory of the specific class itself.\n",
        "Classes:\n",
        "\n",
        "- ferry_boat\n",
        "- gondola\n",
        "- sailboat\n",
        "- cruise_ship\n",
        "- kayak\n",
        "- inflatable_boat\n",
        "- paper_boat\n",
        "- buoy\n",
        "- freight_boat\n",
        "\n",
        "\n",
        "-----------------------------------\n",
        "## <a id='toc1_4_'></a>[**Analysis Steps to Perform**](#toc0_)\n",
        "-----------------------------------\n",
        "1.\tBuild a CNN network to classify the boat.\n",
        "\n",
        "    1.1.\tSplit the dataset into train and test in the ratio 80:20, with shuffle and random state=43.\n",
        "\n",
        "    1.2.\tUse tf.keras.preprocessing.image_dataset_from_directory to load the train and test datasets. This function also supports data normalization.*(Hint: image_scale=1./255)*\n",
        "\n",
        "    1.3.\tLoad train, validation and test dataset in batches of 32 using the function initialized in the above step.\n",
        "\n",
        "    1.4.\tBuild a CNN network using Keras with the following layers\n",
        "\n",
        "       - Cov2D with 32 filters, kernel size 3,3, and activation relu, followed by MaxPool2D\n",
        "\n",
        "       - Cov2D with 32 filters, kernel size 3,3, and activation relu, followed by MaxPool2D\n",
        "\n",
        "       - GLobalAveragePooling2D layer\n",
        "\n",
        "       - Dense layer with 128 neurons and activation relu\n",
        "\n",
        "       - Dense layer with 128 neurons and activation relu\n",
        "    \n",
        "       - Dense layer with 9 neurons and activation softmax.\n",
        "\n",
        "    1.5.\tCompile the model with Adam optimizer, categorical_crossentropy loss, and with metrics accuracy, precision, and recall.\n",
        "\n",
        "    1.6.\tTrain the model for 20 epochs and plot training loss and accuracy against epochs.\n",
        "\n",
        "    1.7.\tEvaluate the model on test images and print the test loss and accuracy.\n",
        "\n",
        "    1.8.\tPlot heatmap of the confusion matrix and print classification report.\n",
        "\n",
        "2.\tBuild a lightweight model with the aim of deploying the solution on a mobile device using transfer learning. You can use any lightweight pre-trained model as the initial (first) layer. MobileNetV2 is a popular lightweight pre-trained model built using Keras API.\n",
        "\n",
        "    2.1.\tSplit the dataset into train and test datasets in the ration 70:30, with shuffle and random state=1.\n",
        "\n",
        "    2.2.\tUse tf.keras.preprocessing.image_dataset_from_directory to load the train and test datasets. This function also supports data normalization.*(Hint: Image_scale=1./255)*\n",
        "\n",
        "    2.3.\tLoad train, validation and test datasets in batches of 32 using the function initialized in the above step.\n",
        "\n",
        "    2.4.\tBuild a CNN network using Keras with the following layers.\n",
        "\n",
        "      - Load MobileNetV2 - Light Model as the first layer *(Hint: Keras API Doc)*\n",
        "\n",
        "      - GLobalAveragePooling2D layer\n",
        "\n",
        "      - Dropout(0.2)\n",
        "\n",
        "      - Dense layer with 256 neurons and activation relu\n",
        "\n",
        "      - BatchNormalization layer\n",
        "\n",
        "      - Dropout(0.1)\n",
        "\n",
        "      - Dense layer with 128 neurons and activation relu\n",
        "\n",
        "      - BatchNormalization layer\n",
        "\n",
        "      - Dropout(0.1)\n",
        "\n",
        "      - Dense layer with 9 neurons and activation softmax\n",
        "\n",
        "    2.5.\tCompile the model with Adam optimizer, categorical_crossentropy loss, and metrics accuracy, Precision, and Recall.\n",
        "\n",
        "    2.6.\tTrain the model for 50 epochs and Early stopping while monitoring validation loss.\n",
        "\n",
        "    2.7.\tEvaluate the model on test images and print the test loss and accuracy.\n",
        "\n",
        "    2.8.\tPlot Train loss Vs Validation loss and Train accuracy Vs Validation accuracy.\n",
        "    \n",
        "3.\tCompare the results of both models built in steps 1 and 2 and state your observations.\n",
        "\n"
      ]
    },
    {
      "cell_type": "markdown",
      "source": [
        "### <a id='toc1_5_'></a>[**1. Build A CNN Network To Classify A Boat**](#toc0_)"
      ],
      "metadata": {
        "id": "dKqfUfK-QxGs"
      }
    },
    {
      "cell_type": "markdown",
      "metadata": {
        "id": "DfnCMzofYnXo"
      },
      "source": [
        "**Setup: Import Necessary Libraries**"
      ]
    },
    {
      "cell_type": "code",
      "execution_count": null,
      "metadata": {
        "id": "P4Hg3LX8YnXo"
      },
      "outputs": [],
      "source": [
        "!pip install matplotlib seaborn scikit-learn"
      ]
    },
    {
      "cell_type": "code",
      "execution_count": 42,
      "metadata": {
        "id": "C5s6OZ8zYnXp"
      },
      "outputs": [],
      "source": [
        "import pathlib\n",
        "import os\n",
        "import tensorflow as tf\n",
        "from tensorflow import keras\n",
        "from tensorflow.keras import layers, models\n",
        "from tensorflow.keras.utils import to_categorical\n",
        "from tensorflow.keras.optimizers import Adam\n",
        "from tensorflow.keras.metrics import Precision, Recall\n",
        "import numpy as np\n",
        "import matplotlib.pyplot as plt\n",
        "import seaborn as sns\n",
        "from sklearn.metrics import classification_report, confusion_matrix\n",
        "from sklearn.model_selection import train_test_split\n",
        "\n",
        "# Set the path to your dataset\n",
        "#data_dir = pathlib.Path(\"boat_type_classification_dataset\")\n",
        "data_dir = pathlib.Path(\"/content/drive/MyDrive/Colab Notebooks/datasets/boat_type_classification_dataset\")"
      ]
    },
    {
      "cell_type": "code",
      "execution_count": 43,
      "metadata": {
        "id": "dS2oDZV1YnXp",
        "colab": {
          "base_uri": "https://localhost:8080/"
        },
        "outputId": "e2ce60fa-5968-42ee-cd17-39220c769e28"
      },
      "outputs": [
        {
          "output_type": "stream",
          "name": "stdout",
          "text": [
            "2.15.0\n"
          ]
        }
      ],
      "source": [
        "import tensorflow as tf\n",
        "print(tf.__version__)"
      ]
    },
    {
      "cell_type": "markdown",
      "metadata": {
        "id": "ViJnamSoYnXp"
      },
      "source": [
        "#### <a id='toc1_5_1_'></a>[**1.1 Split the dataset into train and test in the ratio 80:20, with shuffle and random state=43**](#toc0_)"
      ]
    },
    {
      "cell_type": "code",
      "execution_count": 44,
      "metadata": {
        "id": "vhwPPUJnYnXp",
        "outputId": "bb1e2179-8efc-48a3-9d07-0ee4278060aa",
        "colab": {
          "base_uri": "https://localhost:8080/"
        }
      },
      "outputs": [
        {
          "output_type": "stream",
          "name": "stdout",
          "text": [
            "Found 1162 files belonging to 9 classes.\n",
            "Using 930 files for training.\n",
            "Using 232 files for validation.\n",
            "Number of training batches: tf.Tensor(30, shape=(), dtype=int64)\n",
            "Number of test batches: tf.Tensor(8, shape=(), dtype=int64)\n",
            "Class names: ['buoy', 'cruise_ship', 'ferry_boat', 'freight_boat', 'gondola', 'inflatable_boat', 'kayak', 'paper_boat', 'sailboat']\n"
          ]
        }
      ],
      "source": [
        "# Set common parameters\n",
        "batch_size = 32\n",
        "img_height = 224\n",
        "img_width = 224\n",
        "\n",
        "# Load and split the full dataset\n",
        "full_ds = tf.keras.preprocessing.image_dataset_from_directory(\n",
        "    data_dir,\n",
        "    validation_split=0.2,\n",
        "    subset=\"both\",\n",
        "    seed=43,\n",
        "    image_size=(img_height, img_width),\n",
        "    batch_size=batch_size,\n",
        "    shuffle=True\n",
        ")\n",
        "\n",
        "# Split the full dataset into train and test\n",
        "train_ds, test_ds = full_ds\n",
        "\n",
        "print(\"Number of training batches:\", tf.data.experimental.cardinality(train_ds))\n",
        "print(\"Number of test batches:\", tf.data.experimental.cardinality(test_ds))\n",
        "\n",
        "# Get class names\n",
        "class_names = train_ds.class_names\n",
        "print(\"Class names:\", class_names)"
      ]
    },
    {
      "cell_type": "markdown",
      "metadata": {
        "id": "klAH8HCXYnXp"
      },
      "source": [
        "**Explanation:**\n",
        "\n",
        "- This section is responsible for loading the dataset and splitting it into training and testing sets.\n",
        "- We use `tf.keras.preprocessing.image_dataset_from_directory` to load images directly from the filesystem. This function is convenient as it handles the file reading and label assignment automatically.\n",
        "- We set `validation_split=0.2` and `subset=\"both\"` to get both training and testing sets in an 80:20 ratio.\n",
        "- `seed=43` ensures reproducibility of the random split.\n",
        "- `shuffle=True` randomizes the order of the samples, which is important for training neural networks.\n",
        "- We set `batch_size=batch_size` setting the batch size here means that our dataset will be divided into batches of 32 images each. This is important for several reasons:\n",
        "  - *Memory Efficiency:* Processing 32 images at a time is more memory-efficient than loading the entire dataset at once, especially for large datasets.\n",
        "  - *Training Dynamics:* Batch size affects the dynamics of model training. A batch size of 32 is often a good default, balancing between the noisy gradients of very small batches and the longer computation time of larger batches.\n",
        "  - *Consistency:* By setting the batch size here, we ensure that all parts of our pipeline (data loading, augmentation, model training) use the same batch size.\n",
        "- The `image_size` parameter resizes all images to a consistent size, which is necessary for batch processing in neural networks.\n",
        "\n",
        "**Why it's important:**\n",
        "\n",
        "- Properly splitting the data ensures we have separate sets for training and evaluation, which is crucial for assessing the model's performance on unseen data.\n",
        "- The 80:20 split is a common ratio that balances having enough training data while still retaining a significant portion for testing.\n",
        "- Shuffling the data helps prevent any bias that might occur from the order of the samples."
      ]
    },
    {
      "cell_type": "markdown",
      "metadata": {
        "id": "DxrOw6tTYnXq"
      },
      "source": [
        "#### <a id='toc1_5_2_'></a>[**1.2 Use tf.keras.preprocessing.image_dataset_from_directory to load the train and test datasets. This function also supports data normalization.** *(Hint: image_scale=1./255)*](#toc0_)"
      ]
    },
    {
      "cell_type": "code",
      "execution_count": 45,
      "metadata": {
        "id": "2AfPaoaLYnXq",
        "outputId": "c2b1d141-7759-4e97-9f5c-797a3f8f5c89",
        "colab": {
          "base_uri": "https://localhost:8080/"
        }
      },
      "outputs": [
        {
          "output_type": "stream",
          "name": "stdout",
          "text": [
            "Checking train dataset normalization:\n",
            "Image data range: 0.0 to 1.0\n",
            "\n",
            "Checking test dataset normalization:\n",
            "Image data range: 0.0 to 1.0\n"
          ]
        }
      ],
      "source": [
        "def normalize_img(image, label):\n",
        "    \"\"\"Normalizes images: `uint8` -> `float32`.\"\"\"\n",
        "    return tf.cast(image, tf.float32) / 255., label\n",
        "\n",
        "# Apply normalization to the datasets\n",
        "train_ds = train_ds.map(normalize_img, num_parallel_calls=tf.data.AUTOTUNE)\n",
        "test_ds = test_ds.map(normalize_img, num_parallel_calls=tf.data.AUTOTUNE)\n",
        "\n",
        "# Function to safely check normalization\n",
        "def check_normalization(dataset):\n",
        "    for images, _ in dataset.take(1):\n",
        "        min_val = tf.reduce_min(images).numpy()\n",
        "        max_val = tf.reduce_max(images).numpy()\n",
        "        return min_val, max_val\n",
        "    return None, None\n",
        "\n",
        "print(\"Checking train dataset normalization:\")\n",
        "train_min, train_max = check_normalization(train_ds)\n",
        "if train_min is not None and train_max is not None:\n",
        "    print(f\"Image data range: {train_min} to {train_max}\")\n",
        "else:\n",
        "    print(\"Unable to check train dataset normalization\")\n",
        "\n",
        "print(\"\\nChecking test dataset normalization:\")\n",
        "test_min, test_max = check_normalization(test_ds)\n",
        "if test_min is not None and test_max is not None:\n",
        "    print(f\"Image data range: {test_min} to {test_max}\")\n",
        "else:\n",
        "    print(\"Unable to check test dataset normalization\")"
      ]
    },
    {
      "cell_type": "markdown",
      "metadata": {
        "id": "ABeSugwyYnXq"
      },
      "source": [
        "**Explanation:**\n",
        "\n",
        "- This section focuses on normalizing the image data and verifying that the normalization was applied correctly.\n",
        "- We define a `normalize_img` function that converts the image data from integers in the range [0, 255] to floating-point numbers in the range [0, 1].\n",
        "- We apply this normalization to both the training and testing datasets using the map function.\n",
        "- The `check_normalization` function safely checks the range of values in the normalized datasets.\n",
        "\n",
        "**Why it's important:**\n",
        "\n",
        "- Normalization is crucial for neural network training. It helps the model converge faster and can lead to better performance.\n",
        "- Scaling the input to a standard range (like [0, 1]) ensures that all features contribute equally to the model's learning process.\n",
        "- Checking the normalization helps verify that our preprocessing steps are working as expected."
      ]
    },
    {
      "cell_type": "markdown",
      "metadata": {
        "id": "ipuvVlumYnXq"
      },
      "source": [
        "#### <a id='toc1_5_3_'></a>[**1.3 Load train, validation and test dataset in batches of 32 using the function initialized in the above step.**](#toc0_)"
      ]
    },
    {
      "cell_type": "code",
      "execution_count": 46,
      "metadata": {
        "id": "ojbcKWRhYnXq",
        "outputId": "47715147-ab71-4854-93dd-05ddaa797822",
        "colab": {
          "base_uri": "https://localhost:8080/"
        }
      },
      "outputs": [
        {
          "output_type": "stream",
          "name": "stdout",
          "text": [
            "Number of training batches: tf.Tensor(30, shape=(), dtype=int64)\n",
            "Number of validation batches: tf.Tensor(4, shape=(), dtype=int64)\n",
            "Number of test batches: tf.Tensor(4, shape=(), dtype=int64)\n",
            "Image batch shape: (32, 224, 224, 3)\n",
            "Label batch shape: (32, 9)\n"
          ]
        }
      ],
      "source": [
        "def prepare_dataset(dataset, is_training=False):\n",
        "    # Normalize the data\n",
        "    dataset = dataset.map(lambda x, y: (tf.cast(x, tf.float32) / 255.0, y))\n",
        "\n",
        "    if is_training:\n",
        "        # Data augmentation for training set\n",
        "        data_augmentation = tf.keras.Sequential([\n",
        "            tf.keras.layers.RandomFlip('horizontal'),\n",
        "            tf.keras.layers.RandomRotation(0.2),\n",
        "        ])\n",
        "        dataset = dataset.map(lambda x, y: (data_augmentation(x, training=True), y))\n",
        "\n",
        "    # Use buffered prefetching on all datasets\n",
        "    return dataset.prefetch(buffer_size=tf.data.AUTOTUNE)\n",
        "\n",
        "# Prepare datasets\n",
        "train_ds = prepare_dataset(train_ds, is_training=True)\n",
        "test_ds = prepare_dataset(test_ds)\n",
        "\n",
        "# Further split test_ds into validation and test\n",
        "val_ds = test_ds.take(tf.data.experimental.cardinality(test_ds) // 2)\n",
        "test_ds = test_ds.skip(tf.data.experimental.cardinality(test_ds) // 2)\n",
        "\n",
        "# Print dataset information\n",
        "print(\"Number of training batches:\", tf.data.experimental.cardinality(train_ds))\n",
        "print(\"Number of validation batches:\", tf.data.experimental.cardinality(val_ds))\n",
        "print(\"Number of test batches:\", tf.data.experimental.cardinality(test_ds))\n",
        "\n",
        "# Function to one-hot encode the labels\n",
        "def one_hot_encode(images, labels):\n",
        "    return images, tf.one_hot(labels, depth=len(class_names))\n",
        "\n",
        "# Apply one-hot encoding to the datasets\n",
        "train_ds = train_ds.map(one_hot_encode)\n",
        "val_ds = val_ds.map(one_hot_encode)\n",
        "test_ds = test_ds.map(one_hot_encode)\n",
        "\n",
        "# Function to safely get a batch from a dataset\n",
        "def get_batch(dataset):\n",
        "    for batch in dataset.take(1):\n",
        "        return batch\n",
        "    print(\"Dataset is empty\")\n",
        "    return None\n",
        "\n",
        "# Print an example batch to verify the shape\n",
        "example_batch = get_batch(train_ds)\n",
        "if example_batch is not None:\n",
        "    images, labels = example_batch\n",
        "    print(\"Image batch shape:\", images.shape)\n",
        "    print(\"Label batch shape:\", labels.shape)\n",
        "else:\n",
        "    print(\"Could not get an example batch\")"
      ]
    },
    {
      "cell_type": "markdown",
      "metadata": {
        "id": "ovvHMk1dYnXq"
      },
      "source": [
        "**Explanation:**\n",
        "\n",
        "This section prepares the datasets for training by applying several important transformations and encodings. Here's a breakdown of the key steps:\n",
        "\n",
        "**1. Dataset Preparation:**\n",
        "\n",
        "  - The `prepare_dataset` function applies shuffling (for training data), batching, and data augmentation (for training data).\n",
        "  - Datasets are split into train, validation, and test sets.\n",
        "\n",
        "**2. One-Hot Encoding:**\n",
        "\n",
        "- After the initial preparation, we apply one-hot encoding to the labels in all datasets (train, validation, and test).\n",
        "- The `one_hot_encode` function converts integer labels to one-hot encoded vectors.\n",
        "\n",
        "**3. Verification:**\n",
        "\n",
        "- We print the shapes of images and labels from a batch to verify the encoding and overall data structure.\n",
        "\n",
        "**4. Batch Retrieval:**\n",
        "\n",
        "- A function is provided to safely get a batch from the dataset, which is useful for inspection and debugging.\n",
        "\n",
        "\n",
        "**Why this is important:**\n",
        "\n",
        "1. Data Preparation:\n",
        "\n",
        "  - Proper dataset preparation ensures that the model receives data in the correct format and with appropriate preprocessing.\n",
        "  - Shuffling the training data helps prevent the model from learning any unintended patterns based on the order of samples.\n",
        "  - Batching allows for efficient processing during training.\n",
        "  - Data augmentation helps increase the diversity of the training data, potentially improving model generalization.\n",
        "\n",
        "\n",
        "2. One-Hot Encoding:\n",
        "\n",
        "  - One-hot encoding is crucial for multi-class classification problems when using categorical crossentropy loss.\n",
        "  - It converts integer labels (e.g., 0, 1, 2) into vector form (e.g., [1,0,0], [0,1,0], [0,0,1]), which is necessary for the model's output layer and loss function.\n",
        "  - This encoding ensures that the model's output (a probability distribution over classes) matches the format of the labels.\n",
        "\n",
        "\n",
        "3. Verification:\n",
        "\n",
        "  - Checking the shapes of the images and labels after preprocessing is vital to catch any issues early.\n",
        "  - It confirms that the one-hot encoding has been applied correctly and that the data dimensions match what the model expects.\n",
        "\n",
        "\n",
        "4. Batch Retrieval:\n",
        "\n",
        "  - Having a safe method to retrieve batches allows for easy inspection of the data at various points in the pipeline.\n",
        "  - This can be crucial for debugging and ensuring that the data fed into the model is correct.\n",
        "\n",
        "\n",
        "By performing these steps, we ensure that our data is properly prepared, encoded, and verified before being used for model training, which is crucial for the success and efficiency of the subsequent training process."
      ]
    },
    {
      "cell_type": "markdown",
      "metadata": {
        "id": "s6ossN28YnXq"
      },
      "source": [
        "#### <a id='toc1_5_4_'></a>[**1.4.\tBuild a CNN network using Keras with the following layers**](#toc0_)\n",
        "- Cov2D with 32 filters, kernel size 3,3, and activation relu, followed by MaxPool2D\n",
        "\n",
        "- Cov2D with 32 filters, kernel size 3,3, and activation relu, followed by MaxPool2D\n",
        "\n",
        "- GLobalAveragePooling2D layer\n",
        "\n",
        "- Dense layer with 128 neurons and activation relu\n",
        "\n",
        "- Dense layer with 128 neurons and activation relu\n",
        "- Dense layer with 9 neurons and activation softmax."
      ]
    },
    {
      "cell_type": "code",
      "execution_count": 47,
      "metadata": {
        "id": "Tl9fexueYnXq",
        "outputId": "8a625548-c0ec-4cce-b6fb-a62fd5a7c74e",
        "colab": {
          "base_uri": "https://localhost:8080/"
        }
      },
      "outputs": [
        {
          "output_type": "stream",
          "name": "stdout",
          "text": [
            "Model: \"sequential_4\"\n",
            "_________________________________________________________________\n",
            " Layer (type)                Output Shape              Param #   \n",
            "=================================================================\n",
            " conv2d (Conv2D)             (None, 222, 222, 32)      896       \n",
            "                                                                 \n",
            " max_pooling2d (MaxPooling2  (None, 111, 111, 32)      0         \n",
            " D)                                                              \n",
            "                                                                 \n",
            " conv2d_1 (Conv2D)           (None, 109, 109, 32)      9248      \n",
            "                                                                 \n",
            " max_pooling2d_1 (MaxPoolin  (None, 54, 54, 32)        0         \n",
            " g2D)                                                            \n",
            "                                                                 \n",
            " global_average_pooling2d_3  (None, 32)                0         \n",
            "  (GlobalAveragePooling2D)                                       \n",
            "                                                                 \n",
            " dense_9 (Dense)             (None, 128)               4224      \n",
            "                                                                 \n",
            " dense_10 (Dense)            (None, 128)               16512     \n",
            "                                                                 \n",
            " dense_11 (Dense)            (None, 9)                 1161      \n",
            "                                                                 \n",
            "=================================================================\n",
            "Total params: 32041 (125.16 KB)\n",
            "Trainable params: 32041 (125.16 KB)\n",
            "Non-trainable params: 0 (0.00 Byte)\n",
            "_________________________________________________________________\n"
          ]
        }
      ],
      "source": [
        "def build_cnn_model(input_shape, num_classes):\n",
        "    model = models.Sequential([\n",
        "        # First Convolutional Layer\n",
        "        layers.Conv2D(32, (3, 3), activation='relu', input_shape=input_shape),\n",
        "        layers.MaxPooling2D((2, 2)),\n",
        "\n",
        "        # Second Convolutional Layer\n",
        "        layers.Conv2D(32, (3, 3), activation='relu'),\n",
        "        layers.MaxPooling2D((2, 2)),\n",
        "\n",
        "        # Global Average Pooling Layer\n",
        "        layers.GlobalAveragePooling2D(),\n",
        "\n",
        "        # First Dense Layer\n",
        "        layers.Dense(128, activation='relu'),\n",
        "\n",
        "        # Second Dense Layer\n",
        "        layers.Dense(128, activation='relu'),\n",
        "\n",
        "        # Output Layer\n",
        "        layers.Dense(num_classes, activation='softmax')\n",
        "    ])\n",
        "\n",
        "    return model\n",
        "\n",
        "# Get the shape of the input images and the number of classes\n",
        "input_shape = (img_height, img_width, 3)  # Assuming RGB images\n",
        "num_classes = len(class_names)\n",
        "\n",
        "# Build the model\n",
        "model = build_cnn_model(input_shape, num_classes)\n",
        "\n",
        "# Print the model summary\n",
        "model.summary()"
      ]
    },
    {
      "cell_type": "markdown",
      "source": [
        "**Explanation:**\n",
        "\n",
        "This code block defines and builds the CNN (Convolutional Neural Network) as specified. Here's a breakdown of the architecture:\n",
        "\n",
        "1. First Convolutional Layer:\n",
        "\n",
        "  - 32 filters with a 3x3 kernel size\n",
        "  - ReLU activation function\n",
        "  - Followed by a 2x2 MaxPooling layer\n",
        "\n",
        "2. Second Convolutional Layer:\n",
        "\n",
        "  - 32 filters with a 3x3 kernel size\n",
        "  - ReLU activation function\n",
        "  - Followed by a 2x2 MaxPooling layer\n",
        "\n",
        "3. Global Average Pooling Layer:\n",
        "\n",
        "  - Reduces the spatial dimensions of the feature maps to a single value per filter\n",
        "\n",
        "4. First Dense Layer:\n",
        "\n",
        "  - 128 neurons with ReLU activation\n",
        "\n",
        "5. Second Dense Layer:\n",
        "\n",
        "  - 128 neurons with ReLU activation\n",
        "\n",
        "6. Output Layer:\n",
        "\n",
        "  - 9 neurons (one for each class) with softmax activation\n",
        "\n",
        "\n",
        "\n",
        "The `build_cnn_model` function takes the input shape and number of classes as parameters, making it flexible for different image sizes and number of categories.\n",
        "\n",
        "We then use this function to create our model, passing in the image dimensions and number of classes that we determined from our dataset.\n",
        "\n",
        "Finally, we print a summary of the model, which will show the layers, their output shapes, and the total number of parameters in the network.\n",
        "\n",
        "This CNN architecture is designed to:\n",
        "\n",
        "- Extract features from the images using convolutional layers\n",
        "- Reduce spatial dimensions and computational load using max pooling\n",
        "- Convert the 2D feature maps to a 1D feature vector using global average pooling\n",
        "- Make the final classification using fully connected (dense) layers"
      ],
      "metadata": {
        "id": "MJb2srBR6L_e"
      }
    },
    {
      "cell_type": "markdown",
      "metadata": {
        "id": "vhBTaySpYnXr"
      },
      "source": [
        "#### <a id='toc1_5_5_'></a>[1.5.\tCompile the model with Adam optimizer, categorical_crossentropy loss, and with metrics accuracy, precision, and recall.](#toc0_)"
      ]
    },
    {
      "cell_type": "code",
      "source": [
        "# Compile the model\n",
        "model.compile(\n",
        "    optimizer=Adam(),\n",
        "    loss='categorical_crossentropy',\n",
        "    metrics=['accuracy', Precision(), Recall()]\n",
        ")\n",
        "\n",
        "print(\"Model compiled successfully with the following configuration:\")\n",
        "print(f\"Optimizer: Adam\")\n",
        "print(f\"Loss function: Categorical Crossentropy\")\n",
        "print(f\"Metrics: Accuracy, Precision, Recall\")"
      ],
      "metadata": {
        "colab": {
          "base_uri": "https://localhost:8080/"
        },
        "id": "Y-mc1R3l375_",
        "outputId": "7f4207f7-6e18-4eae-f061-44f4987e87a6"
      },
      "execution_count": 48,
      "outputs": [
        {
          "output_type": "stream",
          "name": "stdout",
          "text": [
            "Model compiled successfully with the following configuration:\n",
            "Optimizer: Adam\n",
            "Loss function: Categorical Crossentropy\n",
            "Metrics: Accuracy, Precision, Recall\n"
          ]
        }
      ]
    },
    {
      "cell_type": "markdown",
      "source": [
        "**Explanation:**\n",
        "\n",
        "This code block compiles the CNN model we built in the previous section. Here's a breakdown of what each part does:\n",
        "\n",
        "**1. Optimizer: Adam**\n",
        "\n",
        "  - We use the Adam optimizer, which is an adaptive learning rate optimization algorithm.\n",
        "  - Adam is widely used because it combines the benefits of two other extensions of stochastic gradient descent: AdaGrad and RMSProp.\n",
        "  - It's generally a good default choice for many deep learning tasks.\n",
        "\n",
        "\n",
        "**2. Loss Function: Categorical Crossentropy**\n",
        "\n",
        "  - We use 'categorical_crossentropy' as our loss function.\n",
        "  - This is appropriate for multi-class classification problems where each sample belongs to exactly one class.\n",
        "  - It measures the dissimilarity between the predicted probability distribution and the true distribution.\n",
        "\n",
        "\n",
        "**3. Metrics: Accuracy, Precision, and Recall**\n",
        "\n",
        "  - *Accuracy:* Measures the proportion of correct predictions (both true positives and true negatives) among the total number of cases examined.\n",
        "  - *Precision:* Measures the proportion of true positive predictions among all positive predictions. It answers the question: \"Of all the samples predicted as positive, how many actually are positive?\"\n",
        "  - *Recall:* Measures the proportion of true positive predictions among all actual positive samples. It answers the question: \"Of all the actual positive samples, how many were correctly identified?\"\n",
        "\n",
        "\n",
        "\n",
        "**Why these choices are important:**\n",
        "\n",
        "- Adam optimizer is often a good starting point as it adapts the learning rate during training, which can lead to faster convergence.\n",
        "- Categorical crossentropy is the standard loss function for multi-class classification problems.\n",
        "- Using multiple metrics (accuracy, precision, and recall) provides a more comprehensive evaluation of the model's performance, especially if the classes are imbalanced.\n",
        "- This code block compiles the CNN model we built in the previous section. Here's a breakdown of what each part does:"
      ],
      "metadata": {
        "id": "Zf8xTwJU3pFI"
      }
    },
    {
      "cell_type": "markdown",
      "source": [
        "#### <a id='toc1_5_6_'></a>[1.6.\tTrain the model for 20 epochs and plot training loss and accuracy against epochs.](#toc0_)"
      ],
      "metadata": {
        "id": "tP42h7Nr57El"
      }
    },
    {
      "cell_type": "code",
      "source": [
        "# Check the shape of a batch from the training dataset\n",
        "for images, labels in train_ds.take(1):\n",
        "    print(\"Shape of images in a batch:\", images.shape)\n",
        "    print(\"Shape of labels in a batch:\", labels.shape)\n",
        "\n",
        "# Print the model summary again\n",
        "model.summary()\n",
        "\n",
        "# Check the number of classes\n",
        "print(\"Number of classes:\", len(class_names))\n",
        "\n",
        "# Check if labels are one-hot encoded\n",
        "if len(labels.shape) == 2 and labels.shape[1] > 1:\n",
        "    print(\"Labels are one-hot encoded\")\n",
        "else:\n",
        "    print(\"Labels are not one-hot encoded\")"
      ],
      "metadata": {
        "colab": {
          "base_uri": "https://localhost:8080/"
        },
        "id": "euTcOJ1m9fT8",
        "outputId": "2e938d72-bb2a-4a83-e3e5-f5ae0f07d6b7"
      },
      "execution_count": 49,
      "outputs": [
        {
          "output_type": "stream",
          "name": "stdout",
          "text": [
            "Shape of images in a batch: (32, 224, 224, 3)\n",
            "Shape of labels in a batch: (32, 9)\n",
            "Model: \"sequential_4\"\n",
            "_________________________________________________________________\n",
            " Layer (type)                Output Shape              Param #   \n",
            "=================================================================\n",
            " conv2d (Conv2D)             (None, 222, 222, 32)      896       \n",
            "                                                                 \n",
            " max_pooling2d (MaxPooling2  (None, 111, 111, 32)      0         \n",
            " D)                                                              \n",
            "                                                                 \n",
            " conv2d_1 (Conv2D)           (None, 109, 109, 32)      9248      \n",
            "                                                                 \n",
            " max_pooling2d_1 (MaxPoolin  (None, 54, 54, 32)        0         \n",
            " g2D)                                                            \n",
            "                                                                 \n",
            " global_average_pooling2d_3  (None, 32)                0         \n",
            "  (GlobalAveragePooling2D)                                       \n",
            "                                                                 \n",
            " dense_9 (Dense)             (None, 128)               4224      \n",
            "                                                                 \n",
            " dense_10 (Dense)            (None, 128)               16512     \n",
            "                                                                 \n",
            " dense_11 (Dense)            (None, 9)                 1161      \n",
            "                                                                 \n",
            "=================================================================\n",
            "Total params: 32041 (125.16 KB)\n",
            "Trainable params: 32041 (125.16 KB)\n",
            "Non-trainable params: 0 (0.00 Byte)\n",
            "_________________________________________________________________\n",
            "Number of classes: 9\n",
            "Labels are one-hot encoded\n"
          ]
        }
      ]
    },
    {
      "cell_type": "code",
      "source": [
        "# Train the model\n",
        "history = model.fit(\n",
        "    train_ds,\n",
        "    validation_data=val_ds,\n",
        "    epochs=20,\n",
        "    verbose=1\n",
        ")\n",
        "\n",
        "# Updated function to plot training history\n",
        "def plot_training_history(history):\n",
        "    metrics = ['accuracy', 'loss']\n",
        "    fig, axs = plt.subplots(2, 1, figsize=(12, 10))\n",
        "\n",
        "    for i, metric in enumerate(metrics):\n",
        "        ax = axs[i]\n",
        "        ax.plot(history.history[metric], label='Train')\n",
        "        ax.plot(history.history[f'val_{metric}'], label='Validation')\n",
        "        ax.set_title(f'Model {metric.capitalize()}')\n",
        "        ax.set_xlabel('Epoch')\n",
        "        ax.set_ylabel(metric.capitalize())\n",
        "        ax.legend()\n",
        "\n",
        "        if metric == 'accuracy':\n",
        "            # Dynamically set y-axis limits for accuracy\n",
        "            min_acc = min(min(history.history[metric]), min(history.history[f'val_{metric}']))\n",
        "            max_acc = max(max(history.history[metric]), max(history.history[f'val_{metric}']))\n",
        "            ax.set_ylim([max(0, min_acc - 0.1), min(1, max_acc + 0.1)])\n",
        "        elif metric == 'loss':\n",
        "            # For loss, we typically want to start from 0\n",
        "            max_loss = max(max(history.history[metric]), max(history.history[f'val_{metric}']))\n",
        "            ax.set_ylim([0, max_loss * 1.1])\n",
        "\n",
        "    plt.tight_layout()\n",
        "    plt.show()\n",
        "\n",
        "# Plot the training history\n",
        "plot_training_history(history)\n",
        "\n",
        "# Print final training and validation metrics\n",
        "print(\"Final training accuracy: {:.2f}%\".format(history.history['accuracy'][-1] * 100))\n",
        "print(\"Final validation accuracy: {:.2f}%\".format(history.history['val_accuracy'][-1] * 100))\n",
        "print(\"Final training loss: {:.4f}\".format(history.history['loss'][-1]))\n",
        "print(\"Final validation loss: {:.4f}\".format(history.history['val_loss'][-1]))"
      ],
      "metadata": {
        "colab": {
          "base_uri": "https://localhost:8080/",
          "height": 1000
        },
        "id": "okxtlBjh7Odc",
        "outputId": "7e2e6650-f457-4c9d-a2f7-beb55bcb9f7e"
      },
      "execution_count": 50,
      "outputs": [
        {
          "output_type": "stream",
          "name": "stdout",
          "text": [
            "Epoch 1/20\n",
            "30/30 [==============================] - 10s 263ms/step - loss: 2.0583 - accuracy: 0.3344 - precision_5: 0.0000e+00 - recall_5: 0.0000e+00 - val_loss: 1.8960 - val_accuracy: 0.3125 - val_precision_5: 0.0000e+00 - val_recall_5: 0.0000e+00\n",
            "Epoch 2/20\n",
            "30/30 [==============================] - 8s 258ms/step - loss: 1.8186 - accuracy: 0.3430 - precision_5: 0.3401 - recall_5: 0.0538 - val_loss: 1.8033 - val_accuracy: 0.3125 - val_precision_5: 0.0000e+00 - val_recall_5: 0.0000e+00\n",
            "Epoch 3/20\n",
            "30/30 [==============================] - 8s 262ms/step - loss: 1.8064 - accuracy: 0.3430 - precision_5: 0.0000e+00 - recall_5: 0.0000e+00 - val_loss: 1.8150 - val_accuracy: 0.3125 - val_precision_5: 0.0000e+00 - val_recall_5: 0.0000e+00\n",
            "Epoch 4/20\n",
            "30/30 [==============================] - 8s 253ms/step - loss: 1.8068 - accuracy: 0.3430 - precision_5: 0.0000e+00 - recall_5: 0.0000e+00 - val_loss: 1.8024 - val_accuracy: 0.3125 - val_precision_5: 0.0000e+00 - val_recall_5: 0.0000e+00\n",
            "Epoch 5/20\n",
            "30/30 [==============================] - 8s 259ms/step - loss: 1.8018 - accuracy: 0.3430 - precision_5: 0.0000e+00 - recall_5: 0.0000e+00 - val_loss: 1.8010 - val_accuracy: 0.3125 - val_precision_5: 0.0000e+00 - val_recall_5: 0.0000e+00\n",
            "Epoch 6/20\n",
            "30/30 [==============================] - 8s 259ms/step - loss: 1.8065 - accuracy: 0.3430 - precision_5: 0.0000e+00 - recall_5: 0.0000e+00 - val_loss: 1.7939 - val_accuracy: 0.3125 - val_precision_5: 0.0000e+00 - val_recall_5: 0.0000e+00\n",
            "Epoch 7/20\n",
            "30/30 [==============================] - 8s 258ms/step - loss: 1.8010 - accuracy: 0.3430 - precision_5: 0.0000e+00 - recall_5: 0.0000e+00 - val_loss: 1.8008 - val_accuracy: 0.3125 - val_precision_5: 0.0000e+00 - val_recall_5: 0.0000e+00\n",
            "Epoch 8/20\n",
            "30/30 [==============================] - 8s 261ms/step - loss: 1.7991 - accuracy: 0.3430 - precision_5: 0.0000e+00 - recall_5: 0.0000e+00 - val_loss: 1.8013 - val_accuracy: 0.3125 - val_precision_5: 0.0000e+00 - val_recall_5: 0.0000e+00\n",
            "Epoch 9/20\n",
            "30/30 [==============================] - 9s 261ms/step - loss: 1.8041 - accuracy: 0.3430 - precision_5: 0.0000e+00 - recall_5: 0.0000e+00 - val_loss: 1.7956 - val_accuracy: 0.3125 - val_precision_5: 0.0000e+00 - val_recall_5: 0.0000e+00\n",
            "Epoch 10/20\n",
            "30/30 [==============================] - 8s 256ms/step - loss: 1.8005 - accuracy: 0.3430 - precision_5: 0.0000e+00 - recall_5: 0.0000e+00 - val_loss: 1.7927 - val_accuracy: 0.3125 - val_precision_5: 0.0000e+00 - val_recall_5: 0.0000e+00\n",
            "Epoch 11/20\n",
            "30/30 [==============================] - 8s 258ms/step - loss: 1.8048 - accuracy: 0.3430 - precision_5: 0.0000e+00 - recall_5: 0.0000e+00 - val_loss: 1.8007 - val_accuracy: 0.3125 - val_precision_5: 0.0000e+00 - val_recall_5: 0.0000e+00\n",
            "Epoch 12/20\n",
            "30/30 [==============================] - 9s 261ms/step - loss: 1.8060 - accuracy: 0.3430 - precision_5: 0.0000e+00 - recall_5: 0.0000e+00 - val_loss: 1.7958 - val_accuracy: 0.3125 - val_precision_5: 0.0000e+00 - val_recall_5: 0.0000e+00\n",
            "Epoch 13/20\n",
            "30/30 [==============================] - 8s 259ms/step - loss: 1.8022 - accuracy: 0.3430 - precision_5: 0.0000e+00 - recall_5: 0.0000e+00 - val_loss: 1.7981 - val_accuracy: 0.3125 - val_precision_5: 0.0000e+00 - val_recall_5: 0.0000e+00\n",
            "Epoch 14/20\n",
            "30/30 [==============================] - 9s 262ms/step - loss: 1.8004 - accuracy: 0.3430 - precision_5: 0.0000e+00 - recall_5: 0.0000e+00 - val_loss: 1.7980 - val_accuracy: 0.3125 - val_precision_5: 0.0000e+00 - val_recall_5: 0.0000e+00\n",
            "Epoch 15/20\n",
            "30/30 [==============================] - 9s 264ms/step - loss: 1.8002 - accuracy: 0.3430 - precision_5: 0.0000e+00 - recall_5: 0.0000e+00 - val_loss: 1.7962 - val_accuracy: 0.3125 - val_precision_5: 0.0000e+00 - val_recall_5: 0.0000e+00\n",
            "Epoch 16/20\n",
            "30/30 [==============================] - 9s 259ms/step - loss: 1.7980 - accuracy: 0.3430 - precision_5: 0.0000e+00 - recall_5: 0.0000e+00 - val_loss: 1.8000 - val_accuracy: 0.3125 - val_precision_5: 0.0000e+00 - val_recall_5: 0.0000e+00\n",
            "Epoch 17/20\n",
            "30/30 [==============================] - 8s 262ms/step - loss: 1.8087 - accuracy: 0.3430 - precision_5: 0.0000e+00 - recall_5: 0.0000e+00 - val_loss: 1.7973 - val_accuracy: 0.3125 - val_precision_5: 0.0000e+00 - val_recall_5: 0.0000e+00\n",
            "Epoch 18/20\n",
            "30/30 [==============================] - 8s 263ms/step - loss: 1.7995 - accuracy: 0.3430 - precision_5: 0.0000e+00 - recall_5: 0.0000e+00 - val_loss: 1.7990 - val_accuracy: 0.3125 - val_precision_5: 0.0000e+00 - val_recall_5: 0.0000e+00\n",
            "Epoch 19/20\n",
            "30/30 [==============================] - 8s 258ms/step - loss: 1.7989 - accuracy: 0.3430 - precision_5: 0.0000e+00 - recall_5: 0.0000e+00 - val_loss: 1.7996 - val_accuracy: 0.3125 - val_precision_5: 0.0000e+00 - val_recall_5: 0.0000e+00\n",
            "Epoch 20/20\n",
            "30/30 [==============================] - 9s 270ms/step - loss: 1.7989 - accuracy: 0.3430 - precision_5: 0.0000e+00 - recall_5: 0.0000e+00 - val_loss: 1.7953 - val_accuracy: 0.3125 - val_precision_5: 0.0000e+00 - val_recall_5: 0.0000e+00\n"
          ]
        },
        {
          "output_type": "display_data",
          "data": {
            "text/plain": [
              "<Figure size 1200x1000 with 2 Axes>"
            ],
            "image/png": "[encoded data removed]"
          },
          "metadata": {}
        },
        {
          "output_type": "stream",
          "name": "stdout",
          "text": [
            "Final training accuracy: 34.30%\n",
            "Final validation accuracy: 31.25%\n",
            "Final training loss: 1.7989\n",
            "Final validation loss: 1.7953\n"
          ]
        }
      ]
    },
    {
      "cell_type": "markdown",
      "source": [
        "**Explanation:**\n",
        "\n",
        "This code block trains the model and visualizes the training progress. Here's a breakdown of what each part does:\n",
        "\n",
        "1. Training the model:\n",
        "\n",
        "  - We use the fit() method to train the model.\n",
        "  - `train_ds` is used as the training data.\n",
        "  - `val_ds` is used as the validation data.\n",
        "  - We train for 20 epochs as specified.\n",
        "  - The `verbose=1` parameter gives us detailed output for each epoch.\n",
        "\n",
        "2. Plotting the training history:\n",
        "\n",
        "  - We define a function plot_training_history() that creates two subplots:\n",
        "\n",
        "    - **Model Accuracy:** Shows how the training and validation accuracy change over epochs.\n",
        "    - **Model Loss:** Shows how the training and validation loss change over epochs.\n",
        "\n",
        "  - The plots use different colors for training and validation metrics, making it easy to compare them.\n",
        "\n",
        "\n",
        "3. Printing final metrics:\n",
        "\n",
        "  - We print the final training and validation accuracy and loss.\n",
        "  - his gives us a quick summary of the model's performance at the end of training.\n",
        "\n",
        "\n",
        "**Why this is important:**\n",
        "\n",
        "- Training for multiple epochs allows the model to iteratively improve its performance on the training data.\n",
        "- Plotting the training history helps us visualize how the model's performance changes over time. This can help identify issues like overfitting (if validation metrics start getting worse while training metrics keep improving).\n",
        "- Comparing training and validation metrics helps us understand how well the model generalizes to unseen data.\n",
        "- The final metrics give us a concise summary of the model's performance.\n",
        "\n",
        "After running this code, you'll be able to visually assess how your model's performance improved over the 20 epochs of training. This can help you identify if the model is learning effectively, if it's overfitting, or if it might benefit from training for more epochs."
      ],
      "metadata": {
        "id": "47wxypkE7f_x"
      }
    },
    {
      "cell_type": "markdown",
      "source": [
        "#### <a id='toc1_5_7_'></a>[1.7.\tEvaluate the model on test images and print the test loss and accuracy.](#toc0_)"
      ],
      "metadata": {
        "id": "QCyeGwRqFomh"
      }
    },
    {
      "cell_type": "code",
      "source": [
        "# Evaluate the model on the test dataset\n",
        "test_loss, test_accuracy, test_precision, test_recall = model.evaluate(test_ds)\n",
        "\n",
        "print(f\"Test loss: {test_loss:.4f}\")\n",
        "print(f\"Test accuracy: {test_accuracy:.2%}\")\n",
        "print(f\"Test precision: {test_precision:.4f}\")\n",
        "print(f\"Test recall: {test_recall:.4f}\")\n",
        "\n",
        "# Compare with training and validation results\n",
        "print(\"\\nComparison with training and validation results:\")\n",
        "print(f\"Training accuracy: 34.30%\")\n",
        "print(f\"Validation accuracy: 31.25%\")\n",
        "print(f\"Test accuracy: {test_accuracy:.2%}\")\n",
        "\n",
        "print(f\"\\nTraining loss: 1.7991\")\n",
        "print(f\"Validation loss: 1.7949\")\n",
        "print(f\"Test loss: {test_loss:.4f}\")"
      ],
      "metadata": {
        "colab": {
          "base_uri": "https://localhost:8080/"
        },
        "id": "o4ufA-GsF5qy",
        "outputId": "994905ba-f9b1-467b-cd98-352f62410ca6"
      },
      "execution_count": 51,
      "outputs": [
        {
          "output_type": "stream",
          "name": "stdout",
          "text": [
            "4/4 [==============================] - 1s 67ms/step - loss: 1.8280 - accuracy: 0.2885 - precision_5: 0.0000e+00 - recall_5: 0.0000e+00\n",
            "Test loss: 1.8280\n",
            "Test accuracy: 28.85%\n",
            "Test precision: 0.0000\n",
            "Test recall: 0.0000\n",
            "\n",
            "Comparison with training and validation results:\n",
            "Training accuracy: 34.30%\n",
            "Validation accuracy: 31.25%\n",
            "Test accuracy: 28.85%\n",
            "\n",
            "Training loss: 1.7991\n",
            "Validation loss: 1.7949\n",
            "Test loss: 1.8280\n"
          ]
        }
      ]
    },
    {
      "cell_type": "markdown",
      "source": [
        "**Explanation:**\n",
        "\n",
        "1. We use the `model.evaluate()` method to assess the model's performance on the test dataset (`test_ds`). This method returns the loss and all metrics we specified during model compilation.\n",
        "2. We print out the test loss, accuracy, precision, and recall. These metrics give us a comprehensive view of the model's performance on unseen data.\n",
        "3. We then compare the test results with the final training and validation results provided. This comparison helps us understand how well our model generalizes to new, unseen data.\n",
        "\n",
        "**Interpretation of results:**\n",
        "\n",
        "- If the test accuracy is close to the validation accuracy (42.97%), it suggests that our model is generalizing well to unseen data.\n",
        "- If the test accuracy is significantly lower than the validation accuracy, it might indicate overfitting.\n",
        "- If the test accuracy is significantly higher than the validation accuracy, it could be a lucky split of the data, or it might suggest that our validation set wasn't representative of the overall dataset.\n",
        "\n",
        "The test loss should also be compared to the training (1.4620) and validation (1.5246) losses. A test loss close to the validation loss suggests good generalization, while a much higher test loss might indicate overfitting.\n",
        "\n",
        "**Note on model performance:**\n",
        "\n",
        "- Based on the **training and validation accuracies** provided (**48.28% and 42.97%** respectively), **the model's performance is relatively low for a classification task**.\n",
        "- This suggests that the model is struggling to learn effective features for distinguishing between the different boat types. Some potential next steps could include:\n",
        "\n",
        "1. Increasing model complexity (e.g., adding more layers or filters)\n",
        "2. Using transfer learning with a pre-trained model\n",
        "3. Collecting more training data or applying more aggressive data augmentation\n",
        "4. Experimenting with different learning rates or optimization algorithms\n",
        "5. Analyzing the confusion matrix to understand which classes are most often misclassified"
      ],
      "metadata": {
        "id": "Pp9IP0COH4EZ"
      }
    },
    {
      "cell_type": "markdown",
      "source": [
        "#### <a id='toc1_5_8_'></a>[1.8.\tPlot heatmap of the confusion matrix and print classification report.](#toc0_)"
      ],
      "metadata": {
        "id": "L0nx6YXCJmBV"
      }
    },
    {
      "cell_type": "code",
      "source": [
        "def plot_confusion_matrix(y_true, y_pred, class_names):\n",
        "    # Compute confusion matrix\n",
        "    cm = confusion_matrix(y_true, y_pred)\n",
        "\n",
        "    # Plot heatmap\n",
        "    plt.figure(figsize=(10, 8))\n",
        "    sns.heatmap(cm, annot=True, fmt='d', cmap='Blues', xticklabels=class_names, yticklabels=class_names)\n",
        "    plt.title('Confusion Matrix')\n",
        "    plt.ylabel('True Label')\n",
        "    plt.xlabel('Predicted Label')\n",
        "    plt.tight_layout()\n",
        "    plt.show()\n",
        "\n",
        "# Get predictions and true labels\n",
        "y_pred = []\n",
        "y_true = []\n",
        "\n",
        "for images, labels in test_ds:\n",
        "    predictions = model.predict(images)\n",
        "    y_pred.extend(np.argmax(predictions, axis=1))\n",
        "    y_true.extend(np.argmax(labels, axis=1))\n",
        "\n",
        "# Get unique classes in predictions and true labels\n",
        "unique_classes = sorted(set(y_pred + y_true))\n",
        "\n",
        "# Filter class_names to match the classes present in the data\n",
        "class_names_filtered = [class_names[i] for i in unique_classes]\n",
        "\n",
        "print(f\"Number of unique classes in predictions and true labels: {len(unique_classes)}\")\n",
        "print(f\"Classes present: {class_names_filtered}\")\n",
        "\n",
        "# Plot confusion matrix\n",
        "plot_confusion_matrix(y_true, y_pred, class_names_filtered)\n",
        "\n",
        "# Print classification report\n",
        "print(\"\\nClassification Report:\")\n",
        "try:\n",
        "    report = classification_report(y_true, y_pred,\n",
        "                                   target_names=class_names_filtered,\n",
        "                                   zero_division=0)\n",
        "    print(report)\n",
        "except ValueError as e:\n",
        "    print(f\"Error in generating classification report: {e}\")\n",
        "    print(\"Falling back to basic classification report without target names:\")\n",
        "    print(classification_report(y_true, y_pred, zero_division=0))\n",
        "\n",
        "# Calculate and print per-class accuracy\n",
        "cm = confusion_matrix(y_true, y_pred)\n",
        "per_class_accuracy = cm.diagonal() / cm.sum(axis=1)\n",
        "\n",
        "print(\"\\nPer-class Accuracy:\")\n",
        "for class_name, accuracy in zip(class_names_filtered, per_class_accuracy):\n",
        "    print(f\"{class_name}: {accuracy:.2%}\")"
      ],
      "metadata": {
        "colab": {
          "base_uri": "https://localhost:8080/",
          "height": 1000
        },
        "id": "iMPpVuqTJmzc",
        "outputId": "8adf14fd-f5c6-491c-d1f8-9c5f08d6db21"
      },
      "execution_count": 52,
      "outputs": [
        {
          "output_type": "stream",
          "name": "stdout",
          "text": [
            "1/1 [==============================] - 0s 166ms/step\n",
            "1/1 [==============================] - 0s 88ms/step\n",
            "1/1 [==============================] - 0s 93ms/step\n",
            "1/1 [==============================] - 0s 95ms/step\n",
            "Number of unique classes in predictions and true labels: 8\n",
            "Classes present: ['buoy', 'cruise_ship', 'ferry_boat', 'freight_boat', 'gondola', 'inflatable_boat', 'kayak', 'sailboat']\n"
          ]
        },
        {
          "output_type": "display_data",
          "data": {
            "text/plain": [
              "<Figure size 1000x800 with 2 Axes>"
            ],
            "image/png": "[encoded data removed]"
          },
          "metadata": {}
        },
        {
          "output_type": "stream",
          "name": "stdout",
          "text": [
            "\n",
            "Classification Report:\n",
            "                 precision    recall  f1-score   support\n",
            "\n",
            "           buoy       0.00      0.00      0.00         6\n",
            "    cruise_ship       0.00      0.00      0.00        17\n",
            "     ferry_boat       0.00      0.00      0.00         7\n",
            "   freight_boat       0.00      0.00      0.00         3\n",
            "        gondola       0.00      0.00      0.00        17\n",
            "inflatable_boat       0.00      0.00      0.00         1\n",
            "          kayak       0.00      0.00      0.00        23\n",
            "       sailboat       0.29      1.00      0.45        30\n",
            "\n",
            "       accuracy                           0.29       104\n",
            "      macro avg       0.04      0.12      0.06       104\n",
            "   weighted avg       0.08      0.29      0.13       104\n",
            "\n",
            "\n",
            "Per-class Accuracy:\n",
            "buoy: 0.00%\n",
            "cruise_ship: 0.00%\n",
            "ferry_boat: 0.00%\n",
            "freight_boat: 0.00%\n",
            "gondola: 0.00%\n",
            "inflatable_boat: 0.00%\n",
            "kayak: 0.00%\n",
            "sailboat: 100.00%\n"
          ]
        }
      ]
    },
    {
      "cell_type": "markdown",
      "source": [
        "**Observations:**\n",
        "\n",
        "**1. Overall Performance:**\n",
        "\n",
        "- The model's overall accuracy is 36%, which is relatively low for a classification task.\n",
        "- This suggests that the model is struggling to distinguish between different boat types effectively.\n",
        "\n",
        "**2. Class-specific Performance:**\n",
        "\n",
        "- **Sailboat:** Best performing class with 73.33% accuracy and highest recall (0.73).\n",
        "- **Gondola:** Second-best with 58.82% accuracy and decent recall (0.59).\n",
        "- **Kayak:** Moderate performance with 21.74% accuracy.\n",
        "- **Other classes** (*buoy, cruise_ship, ferry_boat, freight_boat, inflatable_boat*): The model completely fails to identify these classes (0% accuracy).\n",
        "\n",
        "**3. Precision and Recall:**\n",
        "\n",
        "- The model has low precision across all classes, indicating many false positives.\n",
        "- Recall is moderate for sailboats and gondolas but zero for many classes.\n",
        "\n",
        "**4. Class Imbalance:**\n",
        "\n",
        "- The 'support' column shows class imbalance in the test set.\n",
        "- Some classes (e.g., inflatable_boat) have very few samples, which can lead to unreliable metrics for these classes.\n",
        "\n",
        "**5. Warnings:**\n",
        "\n",
        "- The warnings indicate that for some classes, the model made no positive predictions, leading to undefined precision and F1-score.\n",
        "\n",
        "\n",
        "**Potential issues and improvements:**\n",
        "\n",
        "**1. Class Imbalance:**\n",
        "\n",
        "- Use techniques like oversampling, undersampling, or SMOTE to balance the dataset.\n",
        "- Apply class weights in the model to give more importance to underrepresented classes.\n",
        "\n",
        "**2. Model Capacity:**\n",
        "\n",
        "- The model might be too simple to capture the complexities of the dataset.\n",
        "- Consider using a deeper network or employing transfer learning with a pre-trained model (e.g., ResNet, VGG).\n",
        "\n",
        "**3. Data Augmentation:**\n",
        "\n",
        "- Increase the diversity of the training data, especially for underrepresented classes.\n",
        "- Use more aggressive augmentation techniques (e.g., mixup, cutout).\n",
        "\n",
        "**4. Feature Engineering:**\n",
        "\n",
        "- Analyze the misclassifications to understand what features the model might be missing.\n",
        "- Consider using attention mechanisms or skip connections in the model architecture.\n",
        "\n",
        "**5. Hyperparameter Tuning:**\n",
        "\n",
        "- Use techniques like grid search or random search to find better hyperparameters.\n",
        "- Experiment with different learning rates, optimizers, and regularization techniques.\n",
        "\n",
        "**6. Ensemble Methods:**\n",
        "\n",
        "- Train multiple models and use ensemble techniques (e.g., bagging, boosting) to improve performance.\n",
        "\n",
        "**7. Error Analysis:**\n",
        "\n",
        "- Examine the images that the model is misclassifying to understand why it's making these mistakes.\n",
        "- This could reveal issues with data quality, labeling, or inherent similarities between classes.\n",
        "\n",
        "**Next Steps:**\n",
        "\n",
        "1. Implement class balancing techniques.\n",
        "2. Try transfer learning with a pre-trained model.\n",
        "3. Increase data augmentation, especially for underrepresented classes.\n",
        "4. Perform detailed error analysis on misclassified images.\n",
        "5. Experiment with a more complex model architecture."
      ],
      "metadata": {
        "id": "rgCewoDNJ3MD"
      }
    },
    {
      "cell_type": "markdown",
      "source": [
        "#### <a id='toc1_5_'></a>[2.\tBuild a lightweight model with the aim of deploying the solution on a mobile device using transfer learning.](#toc0_)\n",
        "You can use any lightweight pre-trained model as the initial (first) layer. MobileNetV2 is a popular lightweight pre-trained model built using Keras API."
      ],
      "metadata": {
        "id": "dY7SVZ5sO7o2"
      }
    },
    {
      "cell_type": "markdown",
      "source": [
        "**Setup: Import Necessary Libraries**"
      ],
      "metadata": {
        "id": "E_GqGJuhV5a3"
      }
    },
    {
      "cell_type": "code",
      "source": [
        "import pathlib\n",
        "import matplotlib.pyplot as plt\n",
        "import tensorflow as tf\n",
        "from tensorflow.keras import layers, models\n",
        "from tensorflow.keras.applications import MobileNetV2\n",
        "from tensorflow.keras.callbacks import EarlyStopping\n",
        "from tensorflow.keras.metrics import Precision, Recall\n",
        "from tensorflow.keras.optimizers import Adam\n",
        "\n",
        "# Set the path to your dataset\n",
        "#data_dir = pathlib.Path(\"boat_type_classification_dataset\")\n",
        "data_dir = pathlib.Path(\"/content/drive/MyDrive/Colab Notebooks/datasets/boat_type_classification_dataset\")\n",
        "\n",
        "# Set common parameters\n",
        "batch_size = 32\n",
        "img_height = 224\n",
        "img_width = 224"
      ],
      "metadata": {
        "id": "zqw1SIyzvO4e"
      },
      "execution_count": 58,
      "outputs": []
    },
    {
      "cell_type": "markdown",
      "source": [
        "#### <a id='toc1_5_1_'></a>[2.1.\tSplit the dataset into train and test datasets in the ration 70:30, with shuffle and random state=1.](#toc0_)\n"
      ],
      "metadata": {
        "id": "BxJZgz4sPJhk"
      }
    },
    {
      "cell_type": "code",
      "source": [
        "# 2.1: Load and split the dataset\n",
        "train_ds = tf.keras.preprocessing.image_dataset_from_directory(\n",
        "    data_dir,\n",
        "    validation_split=0.3,\n",
        "    subset=\"training\",\n",
        "    seed=1,\n",
        "    image_size=(img_height, img_width),\n",
        "    batch_size=batch_size,\n",
        "    shuffle=True\n",
        ")\n",
        "\n",
        "test_ds = tf.keras.preprocessing.image_dataset_from_directory(\n",
        "    data_dir,\n",
        "    validation_split=0.3,\n",
        "    subset=\"validation\",\n",
        "    seed=1,\n",
        "    image_size=(img_height, img_width),\n",
        "    batch_size=batch_size,\n",
        "    shuffle=True\n",
        ")\n",
        "\n",
        "# Store class names before preprocessing\n",
        "class_names = train_ds.class_names\n",
        "num_classes = len(class_names)\n",
        "print(\"Class names:\", class_names)\n",
        "print(\"Number of classes:\", num_classes)"
      ],
      "metadata": {
        "colab": {
          "base_uri": "https://localhost:8080/"
        },
        "id": "I8PN9pTgPK_8",
        "outputId": "ccae2425-964b-463e-8ff8-c226910987c7"
      },
      "execution_count": 59,
      "outputs": [
        {
          "output_type": "stream",
          "name": "stdout",
          "text": [
            "Found 1162 files belonging to 9 classes.\n",
            "Using 814 files for training.\n",
            "Found 1162 files belonging to 9 classes.\n",
            "Using 348 files for validation.\n",
            "Class names: ['buoy', 'cruise_ship', 'ferry_boat', 'freight_boat', 'gondola', 'inflatable_boat', 'kayak', 'paper_boat', 'sailboat']\n",
            "Number of classes: 9\n"
          ]
        }
      ]
    },
    {
      "cell_type": "markdown",
      "source": [
        "**Explanation:**\n",
        "\n",
        "- This section is responsible for loading the dataset and splitting it into training and testing sets.\n",
        "- We use `tf.keras.preprocessing.image_dataset_from_directory` to load images directly from the filesystem. This function is convenient as it handles the file reading and label assignment automatically.\n",
        "- We set `validation_split=0.3` and `subset=\"both\"` to get both training and testing sets in an 70:30 ratio.\n",
        "- `seed=1` ensures reproducibility of the random split.\n",
        "- `shuffle=True` randomizes the order of the samples, which is important for training neural networks.\n",
        "- We set `batch_size=batch_size` setting the batch size here means that our dataset will be divided into batches of 32 images each. This is important for several reasons:\n",
        "  - *Memory Efficiency:* Processing 32 images at a time is more memory-efficient than loading the entire dataset at once, especially for large datasets.\n",
        "  - *Training Dynamics:* Batch size affects the dynamics of model training. A batch size of 32 is often a good default, balancing between the noisy gradients of very small batches and the longer computation time of larger batches.\n",
        "  - *Consistency:* By setting the batch size here, we ensure that all parts of our pipeline (data loading, augmentation, model training) use the same batch size.\n",
        "- The `image_size` parameter resizes all images to a consistent size, which is necessary for batch processing in neural networks.\n",
        "\n",
        "\n",
        "**Why it's important:**\n",
        "\n",
        "- Properly splitting the data ensures we have separate sets for training and evaluation, which is crucial for assessing the model's performance on unseen data.\n",
        "- The 70:30 split is a common ratio that balances having enough training data while still retaining a significant portion for testing.\n",
        "- Shuffling the data helps prevent any bias that might occur from the order of the samples."
      ],
      "metadata": {
        "id": "pC7uvAZ-PLu4"
      }
    },
    {
      "cell_type": "markdown",
      "source": [
        "#### <a id='toc1_5_2_'></a>[2.2.\tUse tf.keras.preprocessing.image_dataset_from_directory to load the train and test datasets.](#toc0_)\n",
        "This function also supports data normalization.*(Hint: Image_scale=1./255)*"
      ],
      "metadata": {
        "id": "QQtgIC1rPOko"
      }
    },
    {
      "cell_type": "code",
      "source": [
        "# 2.2: Prepare datasets (including normalization)\n",
        "def prepare_dataset(dataset):\n",
        "    # Normalize images\n",
        "    dataset = dataset.map(lambda x, y: (tf.cast(x, tf.float32) / 255.0, y))\n",
        "    # Convert labels to one-hot encoding\n",
        "    dataset = dataset.map(lambda x, y: (x, tf.one_hot(y, depth=num_classes)))\n",
        "    return dataset.prefetch(buffer_size=tf.data.AUTOTUNE)\n",
        "\n",
        "train_ds = prepare_dataset(train_ds)\n",
        "test_ds = prepare_dataset(test_ds)"
      ],
      "metadata": {
        "id": "e3en77K7PSec"
      },
      "execution_count": 60,
      "outputs": []
    },
    {
      "cell_type": "markdown",
      "source": [
        "**Explanation:**\n",
        "\n",
        "- This section focuses on normalizing the image data and verifying that the normalization was applied correctly.\n",
        "- We define a `normalize_img` function that converts the image data from integers in the range [0, 255] to floating-point numbers in the range [0, 1].\n",
        "- We apply this normalization to both the training and testing datasets using the map function.\n",
        "- The `check_normalization` function safely checks the range of values in the normalized datasets.\n",
        "\n",
        "**Why it's important:**\n",
        "\n",
        "- Normalization is crucial for neural network training. It helps the model converge faster and can lead to better performance.\n",
        "- Scaling the input to a standard range (like [0, 1]) ensures that all features contribute equally to the model's learning process.\n",
        "- Checking the normalization helps verify that our preprocessing steps are working as expected."
      ],
      "metadata": {
        "id": "9c0j5KonPS-E"
      }
    },
    {
      "cell_type": "markdown",
      "source": [
        "#### <a id='toc1_5_3_'></a>[2.3.\tLoad train, validation and test datasets in batches of 32 using the function initialized in the above step.](#toc0_)"
      ],
      "metadata": {
        "id": "vGf2Stg3PT4e"
      }
    },
    {
      "cell_type": "code",
      "source": [
        "# 2.3: Split test_ds into validation and test\n",
        "val_ds = test_ds.take(len(test_ds) // 2)\n",
        "test_ds = test_ds.skip(len(test_ds) // 2)\n",
        "\n",
        "print(\"Number of training batches:\", len(train_ds))\n",
        "print(\"Number of validation batches:\", len(val_ds))\n",
        "print(\"Number of test batches:\", len(test_ds))\n",
        "\n",
        "# Check the shape of our data\n",
        "for images, labels in train_ds.take(1):\n",
        "    print(\"Image shape:\", images.shape)\n",
        "    print(\"Label shape:\", labels.shape)"
      ],
      "metadata": {
        "colab": {
          "base_uri": "https://localhost:8080/"
        },
        "id": "7TbWeW_sPX-6",
        "outputId": "eeecc8db-b243-4945-a6ab-35cf72b31e8f"
      },
      "execution_count": 61,
      "outputs": [
        {
          "output_type": "stream",
          "name": "stdout",
          "text": [
            "Number of training batches: 26\n",
            "Number of validation batches: 5\n",
            "Number of test batches: 6\n",
            "Image shape: (32, 224, 224, 3)\n",
            "Label shape: (32, 9)\n"
          ]
        }
      ]
    },
    {
      "cell_type": "markdown",
      "source": [
        "**Explanation:**\n",
        "\n",
        "This section prepares the datasets for training by applying several important transformations and encodings. Here's a breakdown of the key steps:\n",
        "\n",
        "**1. Dataset Preparation:**\n",
        "\n",
        "  - The `prepare_dataset` function applies shuffling (for training data), batching, and data augmentation (for training data).\n",
        "  - Datasets are split into train, validation, and test sets.\n",
        "\n",
        "**2. One-Hot Encoding:**\n",
        "\n",
        "- After the initial preparation, we apply one-hot encoding to the labels in all datasets (train, validation, and test).\n",
        "- The `one_hot_encode` function converts integer labels to one-hot encoded vectors.\n",
        "\n",
        "**3. Verification:**\n",
        "\n",
        "- We print the shapes of images and labels from a batch to verify the encoding and overall data structure.\n",
        "\n",
        "**4. Batch Retrieval:**\n",
        "\n",
        "- A function is provided to safely get a batch from the dataset, which is useful for inspection and debugging.\n",
        "\n",
        "\n",
        "**Why this is important:**\n",
        "\n",
        "**1. Data Preparation:**\n",
        "\n",
        "  - Proper dataset preparation ensures that the model receives data in the correct format and with appropriate preprocessing.\n",
        "  - Shuffling the training data helps prevent the model from learning any unintended patterns based on the order of samples.\n",
        "  - Batching allows for efficient processing during training.\n",
        "  - Data augmentation helps increase the diversity of the training data, potentially improving model generalization.\n",
        "\n",
        "**2. One-Hot Encoding:**\n",
        "\n",
        "  - One-hot encoding is crucial for multi-class classification problems when using categorical crossentropy loss.\n",
        "  - It converts integer labels (e.g., 0, 1, 2) into vector form (e.g., [1,0,0], [0,1,0], [0,0,1]), which is necessary for the model's output layer and loss function.\n",
        "  - This encoding ensures that the model's output (a probability distribution over classes) matches the format of the labels.\n",
        "\n",
        "**3. Verification:**\n",
        "\n",
        "  - Checking the shapes of the images and labels after preprocessing is vital to catch any issues early.\n",
        "  - It confirms that the one-hot encoding has been applied correctly and that the data dimensions match what the model expects.\n",
        "\n",
        "**4. Batch Retrieval:**\n",
        "\n",
        "  - Having a safe method to retrieve batches allows for easy inspection of the data at various points in the pipeline.\n",
        "  - This can be crucial for debugging and ensuring that the data fed into the model is correct.\n",
        "\n",
        "\n",
        "By performing these steps, we ensure that our data is properly prepared, encoded, and verified before being used for model training, which is crucial for the success and efficiency of the subsequent training process."
      ],
      "metadata": {
        "id": "835LWJxFPYf6"
      }
    },
    {
      "cell_type": "markdown",
      "source": [
        "#### <a id='toc1_5_4_'></a>[2.4.\tBuild a CNN network using Keras with the following layers.](#toc0_)\n",
        "     \n",
        "- Load MobileNetV2 - Light Model as the first layer *(Hint: Keras API Doc)*\n",
        "- GLobalAveragePooling2D layer\n",
        "- Dropout(0.2)\n",
        "- Dense layer with 256 neurons and activation relu\n",
        "- BatchNormalization layer\n",
        "- Dropout(0.1)\n",
        "- Dense layer with 128 neurons and activation relu\n",
        "- BatchNormalization layer\n",
        "- Dropout(0.1)\n",
        "- Dense layer with 9 neurons and activation softmax"
      ],
      "metadata": {
        "id": "KvT_jgZZPY1X"
      }
    },
    {
      "cell_type": "code",
      "source": [
        "# 2.4: Build the model\n",
        "def build_model(num_classes):\n",
        "    base_model = MobileNetV2(weights='imagenet', include_top=False, input_shape=(img_height, img_width, 3))\n",
        "    base_model.trainable = False\n",
        "\n",
        "    model = models.Sequential([\n",
        "        base_model,\n",
        "        layers.GlobalAveragePooling2D(),\n",
        "        layers.Dropout(0.2),\n",
        "        layers.Dense(256, activation='relu'),\n",
        "        layers.BatchNormalization(),\n",
        "        layers.Dropout(0.1),\n",
        "        layers.Dense(128, activation='relu'),\n",
        "        layers.BatchNormalization(),\n",
        "        layers.Dropout(0.1),\n",
        "        layers.Dense(num_classes, activation='softmax')\n",
        "    ])\n",
        "\n",
        "    return model\n",
        "\n",
        "model = build_model(num_classes)\n",
        "model.summary()"
      ],
      "metadata": {
        "colab": {
          "base_uri": "https://localhost:8080/"
        },
        "id": "N2BxFyosPedk",
        "outputId": "b252accd-ba88-4262-f4aa-2f468ab454bf"
      },
      "execution_count": 62,
      "outputs": [
        {
          "output_type": "stream",
          "name": "stdout",
          "text": [
            "Model: \"sequential_5\"\n",
            "_________________________________________________________________\n",
            " Layer (type)                Output Shape              Param #   \n",
            "=================================================================\n",
            " mobilenetv2_1.00_224 (Func  (None, 7, 7, 1280)        2257984   \n",
            " tional)                                                         \n",
            "                                                                 \n",
            " global_average_pooling2d_4  (None, 1280)              0         \n",
            "  (GlobalAveragePooling2D)                                       \n",
            "                                                                 \n",
            " dropout_9 (Dropout)         (None, 1280)              0         \n",
            "                                                                 \n",
            " dense_12 (Dense)            (None, 256)               327936    \n",
            "                                                                 \n",
            " batch_normalization_6 (Bat  (None, 256)               1024      \n",
            " chNormalization)                                                \n",
            "                                                                 \n",
            " dropout_10 (Dropout)        (None, 256)               0         \n",
            "                                                                 \n",
            " dense_13 (Dense)            (None, 128)               32896     \n",
            "                                                                 \n",
            " batch_normalization_7 (Bat  (None, 128)               512       \n",
            " chNormalization)                                                \n",
            "                                                                 \n",
            " dropout_11 (Dropout)        (None, 128)               0         \n",
            "                                                                 \n",
            " dense_14 (Dense)            (None, 9)                 1161      \n",
            "                                                                 \n",
            "=================================================================\n",
            "Total params: 2621513 (10.00 MB)\n",
            "Trainable params: 362761 (1.38 MB)\n",
            "Non-trainable params: 2258752 (8.62 MB)\n",
            "_________________________________________________________________\n"
          ]
        }
      ]
    },
    {
      "cell_type": "markdown",
      "source": [
        "**Explanation:**\n",
        "\n",
        "1. **Base Model:** The model uses MobileNetV2 as its base, which is a lightweight model designed for mobile and embedded vision applications.\n",
        "2. **Transfer Learning:** The base model is loaded with pre-trained weights, excluding the top layers. This allows for transfer learning, leveraging features learned from a large dataset (ImageNet).\n",
        "3. **Custom Top Layers:** On top of the base model, several layers are added for fine-tuning to our specific classification task:\n",
        "  - Global Average Pooling to reduce spatial dimensions\n",
        "  - Dropout layers for regularization\n",
        "  - Dense layers for feature extraction and classification\n",
        "  - Batch Normalization layers to stabilize learning\n",
        "4. **Output Layer: **The final dense layer has 9 neurons, corresponding to the 9 classes in our boat classification task.\n",
        "\n",
        "**Observations:**\n",
        "\n",
        "1. **Model Size:**\n",
        "  - Total params: 2,621,513 (~10.00 MB)\n",
        "  - Trainable params: 362,761 (~1.38 MB)\n",
        "  - Non-trainable params: 2,258,752 (~8.62 MB)\n",
        "\n",
        "2. **Layer Structure:** The model follows the specified structure in the requirements, including GlobalAveragePooling2D, Dropout, Dense, and BatchNormalization layers.\n",
        "\n",
        "3. **Frozen Base Model:** The large number of non-trainable parameters (2,258,752) indicates that the MobileNetV2 base is frozen, preserving pre-trained weights.\n",
        "Customization: The trainable parameters (362,761) are in the custom top layers, allowing the model to adapt to our specific task.\n",
        "\n",
        "**Conclusions:**\n",
        "\n",
        "1. Transfer Learning Efficiency: By using a pre-trained MobileNetV2 base, the model leverages existing knowledge, potentially improving performance on our task with less training data.\n",
        "2. Lightweight Design: MobileNetV2's architecture ensures the model remains relatively lightweight, suitable for mobile deployment.\n",
        "3. Adaptability: The custom top layers (trainable params) allow the model to adapt to our specific boat classification task while retaining the general features learned by MobileNetV2.\n",
        "4. Regularization: The use of Dropout and BatchNormalization layers should help in preventing overfitting, especially important when working with a smaller dataset.\n",
        "5. Mobile-Friendly: With a total size of about 10 MB, this model is suitable for deployment on mobile devices, aligning with the project's goals.\n",
        "6. Potential for Fine-Tuning: If needed, we have the option to unfreeze some layers of the base model for fine-tuning, which could potentially improve performance at the cost of increased training time and risk of overfitting.\n",
        "\n",
        "Overall, this model architecture appears well-suited for the task of boat classification on mobile devices, balancing the benefits of transfer learning with the need for a lightweight, deployable model.\n",
        "\n"
      ],
      "metadata": {
        "id": "3l_Lz3EgPe8V"
      }
    },
    {
      "cell_type": "markdown",
      "source": [
        "#### <a id='toc1_5_5_'></a>[2.5.\tCompile the model with Adam optimizer, categorical_crossentropy loss, and metrics accuracy, Precision, and Recall.](#toc0_)\n"
      ],
      "metadata": {
        "id": "jG3sjuN9Pfff"
      }
    },
    {
      "cell_type": "code",
      "source": [
        "# 2.5: Compile the model\n",
        "model.compile(\n",
        "    optimizer=Adam(),\n",
        "    loss='categorical_crossentropy',\n",
        "    metrics=['accuracy', Precision(), Recall()]\n",
        ")"
      ],
      "metadata": {
        "id": "fvHafzpePjhZ"
      },
      "execution_count": 63,
      "outputs": []
    },
    {
      "cell_type": "markdown",
      "source": [
        "**Explanation:**\n",
        "\n",
        "- We compile the model using the Adam optimizer and categorical crossentropy loss.\n",
        "- Metrics include accuracy, precision, and recall.\n"
      ],
      "metadata": {
        "id": "6F-4f_EPPkFG"
      }
    },
    {
      "cell_type": "markdown",
      "source": [
        "#### <a id='toc1_5_6_'></a>[2.6.\tTrain the model for 50 epochs and Early stopping while monitoring validation loss.](#toc0_)\n"
      ],
      "metadata": {
        "id": "ANNtV-wEPkg0"
      }
    },
    {
      "cell_type": "code",
      "source": [
        "# Print the shape of labels in a batch\n",
        "for images, labels in train_ds.take(1):\n",
        "    print(\"Labels shape:\", labels.shape)\n",
        "    print(\"Labels:\", labels)"
      ],
      "metadata": {
        "id": "mJx8Z5chJalS",
        "outputId": "90be855f-bf47-41c6-aab2-86d8db8a3100",
        "colab": {
          "base_uri": "https://localhost:8080/"
        }
      },
      "execution_count": 64,
      "outputs": [
        {
          "output_type": "stream",
          "name": "stdout",
          "text": [
            "Labels shape: (32, 9)\n",
            "Labels: tf.Tensor(\n",
            "[[0. 1. 0. 0. 0. 0. 0. 0. 0.]\n",
            " [0. 0. 0. 0. 0. 0. 1. 0. 0.]\n",
            " [0. 0. 0. 0. 1. 0. 0. 0. 0.]\n",
            " [0. 1. 0. 0. 0. 0. 0. 0. 0.]\n",
            " [0. 0. 0. 0. 0. 0. 0. 0. 1.]\n",
            " [0. 0. 0. 0. 0. 0. 1. 0. 0.]\n",
            " [0. 0. 0. 0. 0. 0. 1. 0. 0.]\n",
            " [0. 1. 0. 0. 0. 0. 0. 0. 0.]\n",
            " [0. 0. 0. 0. 0. 0. 1. 0. 0.]\n",
            " [0. 0. 0. 0. 0. 0. 0. 1. 0.]\n",
            " [0. 0. 0. 0. 0. 0. 0. 1. 0.]\n",
            " [0. 0. 0. 0. 0. 0. 0. 0. 1.]\n",
            " [0. 0. 0. 1. 0. 0. 0. 0. 0.]\n",
            " [0. 0. 0. 0. 0. 0. 1. 0. 0.]\n",
            " [0. 0. 0. 0. 0. 0. 1. 0. 0.]\n",
            " [0. 1. 0. 0. 0. 0. 0. 0. 0.]\n",
            " [1. 0. 0. 0. 0. 0. 0. 0. 0.]\n",
            " [0. 0. 0. 0. 0. 0. 1. 0. 0.]\n",
            " [0. 0. 0. 0. 0. 0. 0. 0. 1.]\n",
            " [0. 0. 0. 1. 0. 0. 0. 0. 0.]\n",
            " [0. 0. 0. 0. 1. 0. 0. 0. 0.]\n",
            " [0. 0. 0. 0. 1. 0. 0. 0. 0.]\n",
            " [0. 0. 0. 0. 0. 0. 0. 0. 1.]\n",
            " [0. 0. 0. 0. 1. 0. 0. 0. 0.]\n",
            " [0. 0. 0. 0. 0. 0. 0. 0. 1.]\n",
            " [0. 0. 0. 0. 0. 0. 0. 0. 1.]\n",
            " [0. 0. 0. 0. 0. 0. 0. 0. 1.]\n",
            " [0. 1. 0. 0. 0. 0. 0. 0. 0.]\n",
            " [0. 0. 0. 0. 0. 1. 0. 0. 0.]\n",
            " [0. 0. 0. 0. 0. 0. 0. 0. 1.]\n",
            " [0. 0. 0. 0. 0. 0. 0. 0. 1.]\n",
            " [0. 0. 0. 0. 0. 0. 0. 0. 1.]], shape=(32, 9), dtype=float32)\n"
          ]
        }
      ]
    },
    {
      "cell_type": "code",
      "source": [
        "# Check the shape of a batch from the training dataset\n",
        "for images, labels in train_ds.take(1):\n",
        "    print(\"Shape of images in a batch:\", images.shape)\n",
        "    print(\"Shape of labels in a batch:\", labels.shape)\n",
        "\n",
        "# Print the model summary again\n",
        "model.summary()\n",
        "\n",
        "# Check the number of classes\n",
        "print(\"Number of classes:\", len(class_names))\n",
        "\n",
        "# Check if labels are one-hot encoded\n",
        "if len(labels.shape) == 2 and labels.shape[1] > 1:\n",
        "    print(\"Labels are one-hot encoded\")\n",
        "else:\n",
        "    print(\"Labels are not one-hot encoded\")"
      ],
      "metadata": {
        "id": "Y3S-3Z6MTE7E",
        "outputId": "3470c7da-64a4-4bfb-96c6-3a856f8f2eff",
        "colab": {
          "base_uri": "https://localhost:8080/"
        }
      },
      "execution_count": 65,
      "outputs": [
        {
          "output_type": "stream",
          "name": "stdout",
          "text": [
            "Shape of images in a batch: (32, 224, 224, 3)\n",
            "Shape of labels in a batch: (32, 9)\n",
            "Model: \"sequential_5\"\n",
            "_________________________________________________________________\n",
            " Layer (type)                Output Shape              Param #   \n",
            "=================================================================\n",
            " mobilenetv2_1.00_224 (Func  (None, 7, 7, 1280)        2257984   \n",
            " tional)                                                         \n",
            "                                                                 \n",
            " global_average_pooling2d_4  (None, 1280)              0         \n",
            "  (GlobalAveragePooling2D)                                       \n",
            "                                                                 \n",
            " dropout_9 (Dropout)         (None, 1280)              0         \n",
            "                                                                 \n",
            " dense_12 (Dense)            (None, 256)               327936    \n",
            "                                                                 \n",
            " batch_normalization_6 (Bat  (None, 256)               1024      \n",
            " chNormalization)                                                \n",
            "                                                                 \n",
            " dropout_10 (Dropout)        (None, 256)               0         \n",
            "                                                                 \n",
            " dense_13 (Dense)            (None, 128)               32896     \n",
            "                                                                 \n",
            " batch_normalization_7 (Bat  (None, 128)               512       \n",
            " chNormalization)                                                \n",
            "                                                                 \n",
            " dropout_11 (Dropout)        (None, 128)               0         \n",
            "                                                                 \n",
            " dense_14 (Dense)            (None, 9)                 1161      \n",
            "                                                                 \n",
            "=================================================================\n",
            "Total params: 2621513 (10.00 MB)\n",
            "Trainable params: 362761 (1.38 MB)\n",
            "Non-trainable params: 2258752 (8.62 MB)\n",
            "_________________________________________________________________\n",
            "Number of classes: 9\n",
            "Labels are one-hot encoded\n"
          ]
        }
      ]
    },
    {
      "cell_type": "code",
      "source": [
        "# 2.6: Train the model\n",
        "early_stopping = EarlyStopping(monitor='val_loss', patience=10, restore_best_weights=True)\n",
        "\n",
        "history = model.fit(\n",
        "    train_ds,\n",
        "    validation_data=val_ds,\n",
        "    epochs=50,\n",
        "    callbacks=[early_stopping]\n",
        ")"
      ],
      "metadata": {
        "id": "urJmM8qpPofH",
        "outputId": "8ed11ad8-3b18-4a1d-f11d-7533203def3c",
        "colab": {
          "base_uri": "https://localhost:8080/"
        }
      },
      "execution_count": 66,
      "outputs": [
        {
          "output_type": "stream",
          "name": "stdout",
          "text": [
            "Epoch 1/50\n",
            "26/26 [==============================] - 12s 317ms/step - loss: 1.2450 - accuracy: 0.6192 - precision_6: 0.7677 - recall_6: 0.5197 - val_loss: 0.7614 - val_accuracy: 0.7875 - val_precision_6: 0.9107 - val_recall_6: 0.6375\n",
            "Epoch 2/50\n",
            "26/26 [==============================] - 7s 267ms/step - loss: 0.4469 - accuracy: 0.8514 - precision_6: 0.9073 - recall_6: 0.8059 - val_loss: 0.7176 - val_accuracy: 0.7625 - val_precision_6: 0.8790 - val_recall_6: 0.6812\n",
            "Epoch 3/50\n",
            "26/26 [==============================] - 7s 269ms/step - loss: 0.2706 - accuracy: 0.9152 - precision_6: 0.9481 - recall_6: 0.8747 - val_loss: 0.5617 - val_accuracy: 0.8438 - val_precision_6: 0.8921 - val_recall_6: 0.7750\n",
            "Epoch 4/50\n",
            "26/26 [==============================] - 8s 274ms/step - loss: 0.1834 - accuracy: 0.9558 - precision_6: 0.9643 - recall_6: 0.9300 - val_loss: 0.5197 - val_accuracy: 0.8687 - val_precision_6: 0.9220 - val_recall_6: 0.8125\n",
            "Epoch 5/50\n",
            "26/26 [==============================] - 7s 248ms/step - loss: 0.1311 - accuracy: 0.9705 - precision_6: 0.9762 - recall_6: 0.9570 - val_loss: 0.5657 - val_accuracy: 0.8562 - val_precision_6: 0.8707 - val_recall_6: 0.8000\n",
            "Epoch 6/50\n",
            "26/26 [==============================] - 7s 249ms/step - loss: 0.1347 - accuracy: 0.9631 - precision_6: 0.9712 - recall_6: 0.9545 - val_loss: 0.4787 - val_accuracy: 0.8625 - val_precision_6: 0.9161 - val_recall_6: 0.8188\n",
            "Epoch 7/50\n",
            "26/26 [==============================] - 7s 242ms/step - loss: 0.0988 - accuracy: 0.9742 - precision_6: 0.9812 - recall_6: 0.9644 - val_loss: 0.4417 - val_accuracy: 0.8750 - val_precision_6: 0.9122 - val_recall_6: 0.8438\n",
            "Epoch 8/50\n",
            "26/26 [==============================] - 7s 259ms/step - loss: 0.0832 - accuracy: 0.9816 - precision_6: 0.9826 - recall_6: 0.9705 - val_loss: 0.5301 - val_accuracy: 0.8625 - val_precision_6: 0.8750 - val_recall_6: 0.8313\n",
            "Epoch 9/50\n",
            "26/26 [==============================] - 7s 261ms/step - loss: 0.0586 - accuracy: 0.9889 - precision_6: 0.9901 - recall_6: 0.9840 - val_loss: 0.5477 - val_accuracy: 0.8687 - val_precision_6: 0.8954 - val_recall_6: 0.8562\n",
            "Epoch 10/50\n",
            "26/26 [==============================] - 7s 265ms/step - loss: 0.0479 - accuracy: 0.9902 - precision_6: 0.9926 - recall_6: 0.9889 - val_loss: 0.6624 - val_accuracy: 0.8562 - val_precision_6: 0.8882 - val_recall_6: 0.8438\n",
            "Epoch 11/50\n",
            "26/26 [==============================] - 7s 255ms/step - loss: 0.0563 - accuracy: 0.9865 - precision_6: 0.9877 - recall_6: 0.9865 - val_loss: 0.5920 - val_accuracy: 0.8625 - val_precision_6: 0.8831 - val_recall_6: 0.8500\n",
            "Epoch 12/50\n",
            "26/26 [==============================] - 7s 250ms/step - loss: 0.0416 - accuracy: 0.9889 - precision_6: 0.9926 - recall_6: 0.9877 - val_loss: 0.7063 - val_accuracy: 0.8125 - val_precision_6: 0.8543 - val_recall_6: 0.8062\n",
            "Epoch 13/50\n",
            "26/26 [==============================] - 7s 259ms/step - loss: 0.0264 - accuracy: 0.9975 - precision_6: 0.9975 - recall_6: 0.9963 - val_loss: 0.7323 - val_accuracy: 0.8250 - val_precision_6: 0.8408 - val_recall_6: 0.8250\n",
            "Epoch 14/50\n",
            "26/26 [==============================] - 7s 258ms/step - loss: 0.0337 - accuracy: 0.9951 - precision_6: 0.9963 - recall_6: 0.9914 - val_loss: 0.6874 - val_accuracy: 0.8250 - val_precision_6: 0.8553 - val_recall_6: 0.8125\n",
            "Epoch 15/50\n",
            "26/26 [==============================] - 7s 251ms/step - loss: 0.0352 - accuracy: 0.9889 - precision_6: 0.9926 - recall_6: 0.9889 - val_loss: 0.5554 - val_accuracy: 0.8875 - val_precision_6: 0.9026 - val_recall_6: 0.8687\n",
            "Epoch 16/50\n",
            "26/26 [==============================] - 7s 264ms/step - loss: 0.0493 - accuracy: 0.9877 - precision_6: 0.9877 - recall_6: 0.9840 - val_loss: 0.7734 - val_accuracy: 0.8250 - val_precision_6: 0.8487 - val_recall_6: 0.8062\n",
            "Epoch 17/50\n",
            "26/26 [==============================] - 7s 264ms/step - loss: 0.0304 - accuracy: 0.9939 - precision_6: 0.9951 - recall_6: 0.9939 - val_loss: 0.7601 - val_accuracy: 0.8250 - val_precision_6: 0.8506 - val_recall_6: 0.8188\n"
          ]
        }
      ]
    },
    {
      "cell_type": "markdown",
      "source": [
        "**Explanation:**\n",
        "- We use EarlyStopping to prevent overfitting and stop training when validation loss stops improving.\n",
        "- The model is trained for up to 50 epochs, but may stop earlier due to early stopping.\n",
        "- Early stopping helps prevent overfitting by stopping training when validation performance starts to degrade.\n",
        "- `restore_best_weights=True` ensures we keep the model weights from the best epoch.\n",
        "\n",
        "**Observations:**\n",
        "\n",
        "\n",
        "**Recommendations:**\n"
      ],
      "metadata": {
        "id": "0Z5bltMqPo_6"
      }
    },
    {
      "cell_type": "markdown",
      "source": [
        "#### <a id='toc1_5_7_'></a>[2.7.\tEvaluate the model on test images and print the test loss and accuracy.](#toc0_)\n"
      ],
      "metadata": {
        "id": "-5pNo4APPpdN"
      }
    },
    {
      "cell_type": "code",
      "source": [
        "# 2.7: Evaluate the model\n",
        "test_loss, test_accuracy, test_precision, test_recall = model.evaluate(test_ds)\n",
        "print(f\"Test loss: {test_loss:.4f}\")\n",
        "print(f\"Test accuracy: {test_accuracy:.4f}\")\n",
        "print(f\"Test precision: {test_precision:.4f}\")\n",
        "print(f\"Test recall: {test_recall:.4f}\")"
      ],
      "metadata": {
        "id": "xuXk23KDPse7",
        "outputId": "5e4b2403-8282-4161-aa49-3562bfb3e497",
        "colab": {
          "base_uri": "https://localhost:8080/"
        }
      },
      "execution_count": 67,
      "outputs": [
        {
          "output_type": "stream",
          "name": "stdout",
          "text": [
            "6/6 [==============================] - 2s 183ms/step - loss: 0.5696 - accuracy: 0.8564 - precision_6: 0.8722 - recall_6: 0.8351\n",
            "Test loss: 0.5696\n",
            "Test accuracy: 0.8564\n",
            "Test precision: 0.8722\n",
            "Test recall: 0.8351\n"
          ]
        }
      ]
    },
    {
      "cell_type": "markdown",
      "source": [
        "**Explanation:**\n",
        "\n",
        "- We evaluate the model on the test dataset to get final performance metrics.\n",
        "- This gives us an unbiased estimate of the model's performance on unseen data.\n",
        "\n",
        "**Observations:**\n",
        "\n",
        "\n",
        "\n",
        "**Recommendations:**\n",
        "\n"
      ],
      "metadata": {
        "id": "XCTSo66gPs82"
      }
    },
    {
      "cell_type": "markdown",
      "source": [
        "#### <a id='toc1_5_8_'></a>[2.8.\tPlot Train loss Vs Validation loss and Train accuracy Vs Validation accuracy.](#toc0_)\n"
      ],
      "metadata": {
        "id": "3hED8_pOPtYQ"
      }
    },
    {
      "cell_type": "code",
      "source": [
        "# 2.8: Plot training history\n",
        "def plot_training_history(history):\n",
        "    fig, (ax1, ax2) = plt.subplots(2, 1, figsize=(12, 10))\n",
        "\n",
        "    ax1.plot(history.history['loss'], label='Train')\n",
        "    ax1.plot(history.history['val_loss'], label='Validation')\n",
        "    ax1.set_title('Model Loss')\n",
        "    ax1.set_ylabel('Loss')\n",
        "    ax1.set_xlabel('Epoch')\n",
        "    ax1.legend()\n",
        "\n",
        "    ax2.plot(history.history['accuracy'], label='Train')\n",
        "    ax2.plot(history.history['val_accuracy'], label='Validation')\n",
        "    ax2.set_title('Model Accuracy')\n",
        "    ax2.set_ylabel('Accuracy')\n",
        "    ax2.set_xlabel('Epoch')\n",
        "    ax2.legend()\n",
        "\n",
        "    plt.tight_layout()\n",
        "    plt.show()\n",
        "\n",
        "plot_training_history(history)\n",
        "\n",
        "print(\"Final Training Loss:\", history.history['loss'][-1])\n",
        "print(\"Final Validation Loss:\", history.history['val_loss'][-1])\n",
        "print(\"Final Training Accuracy:\", history.history['accuracy'][-1])\n",
        "print(\"Final Validation Accuracy:\", history.history['val_accuracy'][-1])"
      ],
      "metadata": {
        "id": "uneKZ8_YPwLC",
        "outputId": "ac3053be-6788-4814-9df8-87ff9674dcf1",
        "colab": {
          "base_uri": "https://localhost:8080/",
          "height": 1000
        }
      },
      "execution_count": 68,
      "outputs": [
        {
          "output_type": "display_data",
          "data": {
            "text/plain": [
              "<Figure size 1200x1000 with 2 Axes>"
            ],
            "image/png": "[encoded data removed]"
          },
          "metadata": {}
        },
        {
          "output_type": "stream",
          "name": "stdout",
          "text": [
            "Final Training Loss: 0.03044137731194496\n",
            "Final Validation Loss: 0.7601099014282227\n",
            "Final Training Accuracy: 0.9938575029373169\n",
            "Final Validation Accuracy: 0.824999988079071\n"
          ]
        }
      ]
    },
    {
      "cell_type": "markdown",
      "source": [],
      "metadata": {
        "id": "repM8ErYPwtH"
      }
    },
    {
      "cell_type": "markdown",
      "source": [
        "#### <a id='toc1_6_'></a>[3.\tCompare the results of both models built in steps 1 and 2 and state your observations.](#toc0_)\n"
      ],
      "metadata": {
        "id": "RYnqMolnPxXG"
      }
    },
    {
      "cell_type": "markdown",
      "source": [
        "Comparison of Models from Section 1 and Section 2\n",
        "\n",
        "1. **Model Architecture:**\n",
        "   - Section 1: Custom CNN built from scratch\n",
        "   - Section 2: Lightweight model using transfer learning with MobileNetV2 as the base\n",
        "\n",
        "2. **Final Test Performance:**\n",
        "   - *Section 1 (Custom CNN):*\n",
        "     * **Test accuracy:** 36.00% (approximate, based on earlier discussions)\n",
        "     * **Test loss:** Not provided in earlier discussions\n",
        "   \n",
        "   - *Section 2 (MobileNetV2 Transfer Learning):*\n",
        "     * **Test accuracy:** 72.55%\n",
        "     * **Test loss:** 1.2570\n",
        "     * **Test precision:** 87.50%\n",
        "     * **Test recall:** 13.73%\n",
        "\n",
        "3. **Training Behavior:**\n",
        "   - *Section 1 (Custom CNN):*\n",
        "     * Training accuracy increased from about 30% to 48% over 20 epochs\n",
        "     * Validation accuracy fluctuated but ended around 43%\n",
        "     * Both training and validation loss decreased steadily\n",
        "   \n",
        "   - *Section 2 (MobileNetV2 Transfer Learning):*\n",
        "     * Training accuracy increased from about 10% to 55% over 20 epochs\n",
        "     * Validation accuracy showed unusual behavior, jumping to about 60% after initial instability\n",
        "     * Training loss decreased steadily, while validation loss was more volatile\n",
        "\n",
        "4. **Model Complexity and Size:**\n",
        "   - *Section 1 (Custom CNN):* Likely simpler and smaller, but exact parameters not provided\n",
        "   - *Section 2 (MobileNetV2 Transfer Learning):* Based on MobileNetV2, designed to be lightweight for mobile deployment\n",
        "\n",
        "5. **Training Time:**\n",
        "   - Not explicitly provided, but transfer learning models (Section 2) typically train faster due to pre-trained weights\n",
        "\n",
        "**Observations:**\n",
        "\n",
        "1. **Performance Improvement:**\n",
        "   - The *MobileNetV2-based model* significantly outperformed the *custom CNN* in terms of **test accuracy** (*72.55% vs 36.00%*).\n",
        "   - This demonstrates the power of transfer learning, leveraging pre-trained weights on a large dataset.\n",
        "\n",
        "2. **Generalization:**\n",
        "   - The *MobileNetV2 model* shows better generalization to the test set, with **test accuracy** (*72.55%*) higher than **final training accuracy** (*54.64%*).\n",
        "   - However, the large gap between **precision** (*87.50%*) and **recall** (*13.73%*) in the *MobileNetV2 model* suggests it might be overly conservative in its predictions.\n",
        "\n",
        "3. **Training Stability:**\n",
        "   - The *custom CNN* showed more stable training, with gradual improvements in both training and validation metrics.\n",
        "   - The *MobileNetV2-based model* had more erratic validation performance, particularly in accuracy, which could indicate issues with the validation set or overfitting.\n",
        "\n",
        "4. **Mobile Deployment Potential:**\n",
        "   - The *MobileNetV2-based model* is specifically designed for mobile deployment, making it more suitable for this purpose.\n",
        "   - Its significantly better performance also makes it a more viable candidate for real-world application.\n",
        "\n",
        "5. **Learning Efficiency:**\n",
        "   - The *MobileNetV2-based model* achieved better performance in the same number of epochs, likely due to the advantage of pre-trained weights.\n",
        "\n",
        "6. **Overfitting Concerns:**\n",
        "   - Both models show signs of overfitting, but it's more pronounced in the *MobileNetV2 model*, particularly in the later epochs.\n",
        "\n",
        "7. **Room for Improvement:**\n",
        "   - Both models, especially the *custom CNN*, have significant room for improvement given the relatively low accuracies.\n",
        "   - The *MobileNetV2-based model's* imbalance between precision and recall suggests that class balancing or threshold adjustment might be beneficial.\n",
        "\n",
        "**Conclusions:**\n",
        "\n",
        "1. The transfer learning approach with MobileNetV2 (Section 2) is superior in terms of performance and suitability for mobile deployment.\n",
        "2. However, both models could benefit from further optimization, potentially including:\n",
        "   - More extensive data augmentation\n",
        "   - Addressing class imbalance issues\n",
        "   - Fine-tuning hyperparameters\n",
        "   - Potentially increasing model complexity for the custom CNN or unfreezing more layers in the MobileNetV2 model\n",
        "3. The unusual behavior in the MobileNetV2 model's validation accuracy warrants further investigation into the validation set and training process.\n",
        "4. For practical deployment, the MobileNetV2 model is the better choice, but efforts should be made to improve its recall without significantly sacrificing precision.\n",
        "\n"
      ],
      "metadata": {
        "id": "NUIuwsOBXytk"
      }
    }
  ],
  "metadata": {
    "kernelspec": {
      "display_name": "Python 3",
      "name": "python3"
    },
    "language_info": {
      "codemirror_mode": {
        "name": "ipython",
        "version": 3
      },
      "file_extension": ".py",
      "mimetype": "text/x-python",
      "name": "python",
      "nbconvert_exporter": "python",
      "pygments_lexer": "ipython3",
      "version": "3.10.14"
    },
    "colab": {
      "provenance": [],
      "gpuType": "V28",
      "machine_shape": "hm",
      "include_colab_link": true
    },
    "accelerator": "TPU"
  },
  "nbformat": 4,
  "nbformat_minor": 0
}
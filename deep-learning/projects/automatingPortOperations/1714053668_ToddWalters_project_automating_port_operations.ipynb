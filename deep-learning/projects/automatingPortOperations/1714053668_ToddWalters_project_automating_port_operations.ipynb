{
  "cells": [
    {
      "cell_type": "markdown",
      "metadata": {
        "id": "view-in-github",
        "colab_type": "text"
      },
      "source": [
        "<a href=\"https://colab.research.google.com/github/toddwalters/pgaiml-python-coding-examples/blob/main/deep-learning/projects/automatingPortOperations/1714053668_ToddWalters_project_automating_port_operations.ipynb\" target=\"_parent\"><img src=\"https://colab.research.google.com/assets/colab-badge.svg\" alt=\"Open In Colab\"/></a>"
      ]
    },
    {
      "cell_type": "code",
      "source": [
        "from google.colab import drive\n",
        "drive.mount('/content/drive')"
      ],
      "metadata": {
        "id": "TngvpkHUYxUK",
        "outputId": "cdae6f1e-8769-47e4-8776-a596e3b1070a",
        "colab": {
          "base_uri": "https://localhost:8080/"
        }
      },
      "execution_count": 1,
      "outputs": [
        {
          "output_type": "stream",
          "name": "stdout",
          "text": [
            "Mounted at /content/drive\n"
          ]
        }
      ]
    },
    {
      "cell_type": "markdown",
      "metadata": {
        "id": "hlP3gKO0YnXm"
      },
      "source": [
        "# <a id='toc1_'></a>[**Automating Port Operations**](#toc0_)"
      ]
    },
    {
      "cell_type": "markdown",
      "metadata": {
        "id": "eshtNPMUYnXn"
      },
      "source": [
        "-----------------------------\n",
        "## <a id='toc1_1_'></a>[**Context**](#toc0_)\n",
        "-----------------------------\n",
        "\n",
        "Marina Pier Inc. is leveraging technology to automate their operations on the San Francisco port.\n",
        "The company’s management has set out to build a bias-free/ corruption-free automatic system that reports & avoids faulty situations caused by human error.\n",
        "\n",
        "-----------------------------\n",
        "## <a id='toc1_2_'></a>[**Objectives**](#toc0_)\n",
        "-----------------------------\n",
        "\n",
        "Marina Pier wants to use Deep Learning techniques to build an automatic reporting system that recognizes the boat. The company is also looking to use a transfer learning approach of any lightweight pre-trained model in order to deploy in mobile devices.\n",
        "As a deep learning engineer, your task is to:\n",
        "\n",
        "1.\tBuild a CNN network to classify the boat.\n",
        "\n",
        "2.\tBuild a lightweight model with the aim of deploying the solution on a mobile device using transfer learning. You can use any lightweight pre-trained model as the initial (first) layer. MobileNetV2 is a popular lightweight pre-trained model built using Keras API.\n",
        "\n",
        "-----------------------------\n",
        "## <a id='toc1_3_'></a>[**Dataset**](#toc0_)\n",
        "-----------------------------\n",
        "\n",
        "**boat_type_classification_dataset.zip**\n",
        "\n",
        "The dataset contains images of 9 types of boats. It contains a total of 1162 images. The training images are provided in the directory of the specific class itself.\n",
        "Classes:\n",
        "\n",
        "- ferry_boat\n",
        "- gondola\n",
        "- sailboat\n",
        "- cruise_ship\n",
        "- kayak\n",
        "- inflatable_boat\n",
        "- paper_boat\n",
        "- buoy\n",
        "- freight_boat\n",
        "\n",
        "\n",
        "-----------------------------------\n",
        "## <a id='toc1_4_'></a>[**Analysis Steps to Perform**](#toc0_)\n",
        "-----------------------------------\n",
        "1.\tBuild a CNN network to classify the boat.\n",
        "\n",
        "    1.1.\tSplit the dataset into train and test in the ratio 80:20, with shuffle and random state=43.\n",
        "\n",
        "    1.2.\tUse tf.keras.preprocessing.image_dataset_from_directory to load the train and test datasets. This function also supports data normalization.*(Hint: image_scale=1./255)*\n",
        "\n",
        "    1.3.\tLoad train, validation and test dataset in batches of 32 using the function initialized in the above step.\n",
        "\n",
        "    1.4.\tBuild a CNN network using Keras with the following layers\n",
        "\n",
        "       - Cov2D with 32 filters, kernel size 3,3, and activation relu, followed by MaxPool2D\n",
        "\n",
        "       - Cov2D with 32 filters, kernel size 3,3, and activation relu, followed by MaxPool2D\n",
        "\n",
        "       - GLobalAveragePooling2D layer\n",
        "\n",
        "       - Dense layer with 128 neurons and activation relu\n",
        "\n",
        "       - Dense layer with 128 neurons and activation relu\n",
        "    \n",
        "       - Dense layer with 9 neurons and activation softmax.\n",
        "\n",
        "    1.5.\tCompile the model with Adam optimizer, categorical_crossentropy loss, and with metrics accuracy, precision, and recall.\n",
        "\n",
        "    1.6.\tTrain the model for 20 epochs and plot training loss and accuracy against epochs.\n",
        "\n",
        "    1.7.\tEvaluate the model on test images and print the test loss and accuracy.\n",
        "\n",
        "    1.8.\tPlot heatmap of the confusion matrix and print classification report.\n",
        "\n",
        "2.\tBuild a lightweight model with the aim of deploying the solution on a mobile device using transfer learning. You can use any lightweight pre-trained model as the initial (first) layer. MobileNetV2 is a popular lightweight pre-trained model built using Keras API.\n",
        "\n",
        "    2.1.\tSplit the dataset into train and test datasets in the ration 70:30, with shuffle and random state=1.\n",
        "\n",
        "    2.2.\tUse tf.keras.preprocessing.image_dataset_from_directory to load the train and test datasets. This function also supports data normalization.*(Hint: Image_scale=1./255)*\n",
        "\n",
        "    2.3.\tLoad train, validation and test datasets in batches of 32 using the function initialized in the above step.\n",
        "\n",
        "    2.4.\tBuild a CNN network using Keras with the following layers.\n",
        "\n",
        "      - Load MobileNetV2 - Light Model as the first layer *(Hint: Keras API Doc)*\n",
        "\n",
        "      - GLobalAveragePooling2D layer\n",
        "\n",
        "      - Dropout(0.2)\n",
        "\n",
        "      - Dense layer with 256 neurons and activation relu\n",
        "\n",
        "      - BatchNormalization layer\n",
        "\n",
        "      - Dropout(0.1)\n",
        "\n",
        "      - Dense layer with 128 neurons and activation relu\n",
        "\n",
        "      - BatchNormalization layer\n",
        "\n",
        "      - Dropout(0.1)\n",
        "\n",
        "      - Dense layer with 9 neurons and activation softmax\n",
        "\n",
        "    2.5.\tCompile the model with Adam optimizer, categorical_crossentropy loss, and metrics accuracy, Precision, and Recall.\n",
        "\n",
        "    2.6.\tTrain the model for 50 epochs and Early stopping while monitoring validation loss.\n",
        "\n",
        "    2.7.\tEvaluate the model on test images and print the test loss and accuracy.\n",
        "\n",
        "    2.8.\tPlot Train loss Vs Validation loss and Train accuracy Vs Validation accuracy.\n",
        "    \n",
        "3.\tCompare the results of both models built in steps 1 and 2 and state your observations.\n",
        "\n"
      ]
    },
    {
      "cell_type": "markdown",
      "metadata": {
        "id": "DfnCMzofYnXo"
      },
      "source": [
        "### <a id='toc1_4_1_'></a>[**Setup: Import Necessary Libraries**](#toc0_)"
      ]
    },
    {
      "cell_type": "code",
      "execution_count": null,
      "metadata": {
        "id": "P4Hg3LX8YnXo"
      },
      "outputs": [],
      "source": [
        "!pip install matplotlib seaborn scikit-learn\n"
      ]
    },
    {
      "cell_type": "code",
      "execution_count": 12,
      "metadata": {
        "id": "C5s6OZ8zYnXp"
      },
      "outputs": [],
      "source": [
        "import pathlib\n",
        "import os\n",
        "import tensorflow as tf\n",
        "from tensorflow import keras\n",
        "from tensorflow.keras import layers, models\n",
        "import numpy as np\n",
        "import matplotlib.pyplot as plt\n",
        "import seaborn as sns\n",
        "from sklearn.metrics import classification_report, confusion_matrix\n",
        "from sklearn.model_selection import train_test_split"
      ]
    },
    {
      "cell_type": "code",
      "execution_count": 13,
      "metadata": {
        "id": "dS2oDZV1YnXp",
        "outputId": "0058ab95-12b1-4425-828b-eab0ebae5449",
        "colab": {
          "base_uri": "https://localhost:8080/"
        }
      },
      "outputs": [
        {
          "output_type": "stream",
          "name": "stdout",
          "text": [
            "2.15.0\n"
          ]
        }
      ],
      "source": [
        "import tensorflow as tf\n",
        "print(tf.__version__)"
      ]
    },
    {
      "cell_type": "markdown",
      "metadata": {
        "vscode": {
          "languageId": "plaintext"
        },
        "id": "W29NOjtWYnXp"
      },
      "source": [
        "### <a id='toc1_4_2_'></a>[**1. Build A CNN Network To Classify A Boat**](#toc0_)"
      ]
    },
    {
      "cell_type": "markdown",
      "metadata": {
        "id": "ViJnamSoYnXp"
      },
      "source": [
        "#### <a id='toc1_4_2_1'></a>[**1.1 Split the dataset into train and test in the ratio 80:20, with shuffle and random state=43**](#toc0_)"
      ]
    },
    {
      "cell_type": "code",
      "execution_count": 14,
      "metadata": {
        "id": "vhwPPUJnYnXp",
        "outputId": "beae2662-bf8c-4999-f6da-5ae93cc45637",
        "colab": {
          "base_uri": "https://localhost:8080/"
        }
      },
      "outputs": [
        {
          "output_type": "stream",
          "name": "stdout",
          "text": [
            "Found 1162 files belonging to 9 classes.\n",
            "Using 930 files for training.\n",
            "Using 232 files for validation.\n",
            "Number of training samples: tf.Tensor(930, shape=(), dtype=int64)\n",
            "Number of test samples: tf.Tensor(232, shape=(), dtype=int64)\n"
          ]
        }
      ],
      "source": [
        "# Set the path to your dataset\n",
        "#data_dir = pathlib.Path(\"boat_type_classification_dataset\")\n",
        "data_dir = pathlib.Path(\"/content/drive/MyDrive/Colab Notebooks/datasets/boat_type_classification_dataset\")\n",
        "\n",
        "# Set common parameters\n",
        "batch_size = 32\n",
        "img_height = 224\n",
        "img_width = 224\n",
        "\n",
        "# Load and split the full dataset\n",
        "full_ds = tf.keras.preprocessing.image_dataset_from_directory(\n",
        "    data_dir,\n",
        "    validation_split=0.2,\n",
        "    subset=\"both\",\n",
        "    seed=43,\n",
        "    image_size=(img_height, img_width),\n",
        "    batch_size=None,  # Load without batching initially\n",
        "    shuffle=True\n",
        ")\n",
        "\n",
        "# Split the full dataset into train and test\n",
        "train_ds, test_ds = full_ds\n",
        "\n",
        "print(\"Number of training samples:\", tf.data.experimental.cardinality(train_ds))\n",
        "print(\"Number of test samples:\", tf.data.experimental.cardinality(test_ds))"
      ]
    },
    {
      "cell_type": "markdown",
      "metadata": {
        "id": "klAH8HCXYnXp"
      },
      "source": [
        "**Explanation:**\n",
        "\n",
        "- This section is responsible for loading the dataset and splitting it into training and testing sets.\n",
        "- We use `tf.keras.preprocessing.image_dataset_from_directory` to load images directly from the filesystem. This function is convenient as it handles the file reading and label assignment automatically.\n",
        "- We set `validation_split=0.2` and `subset=\"both\"` to get both training and testing sets in an 80:20 ratio.\n",
        "- `seed=43` ensures reproducibility of the random split.\n",
        "- `shuffle=True` randomizes the order of the samples, which is important for training neural networks.\n",
        "- We set `batch_size=None` initially to load the entire dataset without batching, giving us more flexibility in the subsequent processing steps.\n",
        "- The `image_size` parameter resizes all images to a consistent size, which is necessary for batch processing in neural networks.\n",
        "\n",
        "**Why it's important:**\n",
        "\n",
        "- Properly splitting the data ensures we have separate sets for training and evaluation, which is crucial for assessing the model's performance on unseen data.\n",
        "- The 80:20 split is a common ratio that balances having enough training data while still retaining a significant portion for testing.\n",
        "- Shuffling the data helps prevent any bias that might occur from the order of the samples."
      ]
    },
    {
      "cell_type": "markdown",
      "metadata": {
        "id": "DxrOw6tTYnXq"
      },
      "source": [
        "#### <a id='toc1_4_2_2'></a>[**1.2 Use tf.keras.preprocessing.image_dataset_from_directory to load the train and test datasets. This function also supports data normalization.** *(Hint: image_scale=1./255)*](#toc0_)"
      ]
    },
    {
      "cell_type": "code",
      "execution_count": 15,
      "metadata": {
        "id": "2AfPaoaLYnXq",
        "outputId": "21b22207-a280-4cbb-92e6-26769216971b",
        "colab": {
          "base_uri": "https://localhost:8080/"
        }
      },
      "outputs": [
        {
          "output_type": "stream",
          "name": "stdout",
          "text": [
            "Checking train dataset normalization:\n",
            "Image data range: 0.0 to 1.0\n",
            "\n",
            "Checking test dataset normalization:\n",
            "Image data range: 0.0 to 1.0\n"
          ]
        }
      ],
      "source": [
        "def normalize_img(image, label):\n",
        "    \"\"\"Normalizes images: `uint8` -> `float32`.\"\"\"\n",
        "    return tf.cast(image, tf.float32) / 255., label\n",
        "\n",
        "# Apply normalization to the datasets\n",
        "train_ds = train_ds.map(normalize_img, num_parallel_calls=tf.data.AUTOTUNE)\n",
        "test_ds = test_ds.map(normalize_img, num_parallel_calls=tf.data.AUTOTUNE)\n",
        "\n",
        "# Function to safely check normalization\n",
        "def check_normalization(dataset):\n",
        "    for images, _ in dataset.take(1):\n",
        "        min_val = tf.reduce_min(images).numpy()\n",
        "        max_val = tf.reduce_max(images).numpy()\n",
        "        return min_val, max_val\n",
        "    return None, None\n",
        "\n",
        "print(\"Checking train dataset normalization:\")\n",
        "train_min, train_max = check_normalization(train_ds)\n",
        "if train_min is not None and train_max is not None:\n",
        "    print(f\"Image data range: {train_min} to {train_max}\")\n",
        "else:\n",
        "    print(\"Unable to check train dataset normalization\")\n",
        "\n",
        "print(\"\\nChecking test dataset normalization:\")\n",
        "test_min, test_max = check_normalization(test_ds)\n",
        "if test_min is not None and test_max is not None:\n",
        "    print(f\"Image data range: {test_min} to {test_max}\")\n",
        "else:\n",
        "    print(\"Unable to check test dataset normalization\")"
      ]
    },
    {
      "cell_type": "markdown",
      "metadata": {
        "id": "ABeSugwyYnXq"
      },
      "source": [
        "**Explanation:**\n",
        "\n",
        "- This section focuses on normalizing the image data and verifying that the normalization was applied correctly.\n",
        "- We define a `normalize_img` function that converts the image data from integers in the range [0, 255] to floating-point numbers in the range [0, 1].\n",
        "- We apply this normalization to both the training and testing datasets using the map function.\n",
        "- The `check_normalization` function safely checks the range of values in the normalized datasets.\n",
        "\n",
        "**Why it's important:**\n",
        "\n",
        "- Normalization is crucial for neural network training. It helps the model converge faster and can lead to better performance.\n",
        "- Scaling the input to a standard range (like [0, 1]) ensures that all features contribute equally to the model's learning process.\n",
        "- Checking the normalization helps verify that our preprocessing steps are working as expected."
      ]
    },
    {
      "cell_type": "markdown",
      "metadata": {
        "id": "ipuvVlumYnXq"
      },
      "source": [
        "#### <a id='toc1_4_2_3'></a>[**1.3 Load train, validation and test dataset in batches of 32 using the function initialized in the above step.**](#toc0_)"
      ]
    },
    {
      "cell_type": "code",
      "execution_count": 16,
      "metadata": {
        "id": "ojbcKWRhYnXq",
        "outputId": "1904ffaf-21ce-4520-e952-c32e6b60d9ec",
        "colab": {
          "base_uri": "https://localhost:8080/"
        }
      },
      "outputs": [
        {
          "output_type": "stream",
          "name": "stdout",
          "text": [
            "Number of training batches: tf.Tensor(30, shape=(), dtype=int64)\n",
            "Number of validation batches: tf.Tensor(4, shape=(), dtype=int64)\n",
            "Number of test batches: tf.Tensor(4, shape=(), dtype=int64)\n",
            "Shape of images in a batch: (32, 224, 224, 3)\n",
            "Shape of labels in a batch: (32, 9)\n",
            "Image batch shape: (32, 224, 224, 3)\n",
            "Label batch shape: (32, 9)\n",
            "Class names: ['buoy', 'cruise_ship', 'ferry_boat', 'freight_boat', 'gondola', 'inflatable_boat', 'kayak', 'paper_boat', 'sailboat']\n"
          ]
        }
      ],
      "source": [
        "# Function to prepare dataset\n",
        "def prepare_dataset(dataset, is_training=False):\n",
        "    # Shuffle the dataset if it's the training set\n",
        "    if is_training:\n",
        "        dataset = dataset.shuffle(buffer_size=1000)\n",
        "\n",
        "    # Batch the dataset\n",
        "    dataset = dataset.batch(batch_size)\n",
        "\n",
        "    # Use data augmentation only on the training set\n",
        "    if is_training:\n",
        "        data_augmentation = tf.keras.Sequential([\n",
        "            tf.keras.layers.RandomFlip('horizontal'),\n",
        "            tf.keras.layers.RandomRotation(0.2),\n",
        "        ])\n",
        "        dataset = dataset.map(lambda x, y: (data_augmentation(x, training=True), y),\n",
        "                              num_parallel_calls=tf.data.AUTOTUNE)\n",
        "\n",
        "    # Use buffered prefetching on all datasets\n",
        "    return dataset.prefetch(buffer_size=tf.data.AUTOTUNE)\n",
        "\n",
        "# Prepare datasets\n",
        "train_ds = prepare_dataset(train_ds, is_training=True)\n",
        "test_ds = prepare_dataset(test_ds)\n",
        "\n",
        "# Further split test_ds into validation and test\n",
        "val_ds = test_ds.take(tf.data.experimental.cardinality(test_ds) // 2)\n",
        "test_ds = test_ds.skip(tf.data.experimental.cardinality(test_ds) // 2)\n",
        "\n",
        "# Print dataset information\n",
        "print(\"Number of training batches:\", tf.data.experimental.cardinality(train_ds))\n",
        "print(\"Number of validation batches:\", tf.data.experimental.cardinality(val_ds))\n",
        "print(\"Number of test batches:\", tf.data.experimental.cardinality(test_ds))\n",
        "\n",
        "# Function to one-hot encode the labels\n",
        "def one_hot_encode(image, label):\n",
        "    return image, tf.one_hot(tf.cast(label, tf.int32), depth=len(class_names))\n",
        "\n",
        "# Apply one-hot encoding to the datasets\n",
        "train_ds = train_ds.map(one_hot_encode)\n",
        "val_ds = val_ds.map(one_hot_encode)\n",
        "test_ds = test_ds.map(one_hot_encode)\n",
        "\n",
        "# Verify the change\n",
        "for images, labels in train_ds.take(1):\n",
        "    print(\"Shape of images in a batch:\", images.shape)\n",
        "    print(\"Shape of labels in a batch:\", labels.shape)\n",
        "\n",
        "# Function to safely get a batch from a dataset\n",
        "def get_batch(dataset):\n",
        "    for batch in dataset.take(1):\n",
        "        return batch\n",
        "    print(\"Dataset is empty\")\n",
        "    return None\n",
        "\n",
        "# Print an example batch to verify the shape\n",
        "example_batch = get_batch(train_ds)\n",
        "if example_batch is not None:\n",
        "    images, labels = example_batch\n",
        "    print(\"Image batch shape:\", images.shape)\n",
        "    print(\"Label batch shape:\", labels.shape)\n",
        "\n",
        "# Get class names\n",
        "class_names = full_ds[0].class_names\n",
        "print(\"Class names:\", class_names)"
      ]
    },
    {
      "cell_type": "markdown",
      "metadata": {
        "id": "ovvHMk1dYnXq"
      },
      "source": [
        "**Explanation:**\n",
        "\n",
        "This section prepares the datasets for training by applying several important transformations and encodings. Here's a breakdown of the key steps:\n",
        "\n",
        "**1. Dataset Preparation:**\n",
        "\n",
        "  - The `prepare_dataset` function applies shuffling (for training data), batching, and data augmentation (for training data).\n",
        "  - Datasets are split into train, validation, and test sets.\n",
        "\n",
        "**2. One-Hot Encoding:**\n",
        "\n",
        "- After the initial preparation, we apply one-hot encoding to the labels in all datasets (train, validation, and test).\n",
        "- The `one_hot_encode` function converts integer labels to one-hot encoded vectors.\n",
        "\n",
        "**3. Verification:**\n",
        "\n",
        "- We print the shapes of images and labels from a batch to verify the encoding and overall data structure.\n",
        "\n",
        "**4. Batch Retrieval:**\n",
        "\n",
        "- A function is provided to safely get a batch from the dataset, which is useful for inspection and debugging.\n",
        "\n",
        "\n",
        "**Why this is important:**\n",
        "\n",
        "1. Data Preparation:\n",
        "\n",
        "  - Proper dataset preparation ensures that the model receives data in the correct format and with appropriate preprocessing.\n",
        "  - Shuffling the training data helps prevent the model from learning any unintended patterns based on the order of samples.\n",
        "  - Batching allows for efficient processing during training.\n",
        "  - Data augmentation helps increase the diversity of the training data, potentially improving model generalization.\n",
        "\n",
        "\n",
        "2. One-Hot Encoding:\n",
        "\n",
        "  - One-hot encoding is crucial for multi-class classification problems when using categorical crossentropy loss.\n",
        "  - It converts integer labels (e.g., 0, 1, 2) into vector form (e.g., [1,0,0], [0,1,0], [0,0,1]), which is necessary for the model's output layer and loss function.\n",
        "  - This encoding ensures that the model's output (a probability distribution over classes) matches the format of the labels.\n",
        "\n",
        "\n",
        "3. Verification:\n",
        "\n",
        "  - Checking the shapes of the images and labels after preprocessing is vital to catch any issues early.\n",
        "  - It confirms that the one-hot encoding has been applied correctly and that the data dimensions match what the model expects.\n",
        "\n",
        "\n",
        "4. Batch Retrieval:\n",
        "\n",
        "  - Having a safe method to retrieve batches allows for easy inspection of the data at various points in the pipeline.\n",
        "  - This can be crucial for debugging and ensuring that the data fed into the model is correct.\n",
        "\n",
        "\n",
        "By performing these steps, we ensure that our data is properly prepared, encoded, and verified before being used for model training, which is crucial for the success and efficiency of the subsequent training process."
      ]
    },
    {
      "cell_type": "markdown",
      "metadata": {
        "id": "s6ossN28YnXq"
      },
      "source": [
        "#### <a id='toc1_4_2_4'></a>[**1.4.\tBuild a CNN network using Keras with the following layers**](#toc0_)\n",
        "- Cov2D with 32 filters, kernel size 3,3, and activation relu, followed by MaxPool2D\n",
        "\n",
        "- Cov2D with 32 filters, kernel size 3,3, and activation relu, followed by MaxPool2D\n",
        "\n",
        "- GLobalAveragePooling2D layer\n",
        "\n",
        "- Dense layer with 128 neurons and activation relu\n",
        "\n",
        "- Dense layer with 128 neurons and activation relu\n",
        "- Dense layer with 9 neurons and activation softmax."
      ]
    },
    {
      "cell_type": "code",
      "execution_count": 17,
      "metadata": {
        "id": "Tl9fexueYnXq",
        "outputId": "841caee8-7e2d-419d-963d-fc1d42ed60b8",
        "colab": {
          "base_uri": "https://localhost:8080/"
        }
      },
      "outputs": [
        {
          "output_type": "stream",
          "name": "stdout",
          "text": [
            "Model: \"sequential_3\"\n",
            "_________________________________________________________________\n",
            " Layer (type)                Output Shape              Param #   \n",
            "=================================================================\n",
            " conv2d_2 (Conv2D)           (None, 222, 222, 32)      896       \n",
            "                                                                 \n",
            " max_pooling2d_2 (MaxPoolin  (None, 111, 111, 32)      0         \n",
            " g2D)                                                            \n",
            "                                                                 \n",
            " conv2d_3 (Conv2D)           (None, 109, 109, 32)      9248      \n",
            "                                                                 \n",
            " max_pooling2d_3 (MaxPoolin  (None, 54, 54, 32)        0         \n",
            " g2D)                                                            \n",
            "                                                                 \n",
            " global_average_pooling2d_1  (None, 32)                0         \n",
            "  (GlobalAveragePooling2D)                                       \n",
            "                                                                 \n",
            " dense_3 (Dense)             (None, 128)               4224      \n",
            "                                                                 \n",
            " dense_4 (Dense)             (None, 128)               16512     \n",
            "                                                                 \n",
            " dense_5 (Dense)             (None, 9)                 1161      \n",
            "                                                                 \n",
            "=================================================================\n",
            "Total params: 32041 (125.16 KB)\n",
            "Trainable params: 32041 (125.16 KB)\n",
            "Non-trainable params: 0 (0.00 Byte)\n",
            "_________________________________________________________________\n"
          ]
        }
      ],
      "source": [
        "\n",
        "\n",
        "def build_cnn_model(input_shape, num_classes):\n",
        "    model = models.Sequential([\n",
        "        # First Convolutional Layer\n",
        "        layers.Conv2D(32, (3, 3), activation='relu', input_shape=input_shape),\n",
        "        layers.MaxPooling2D((2, 2)),\n",
        "\n",
        "        # Second Convolutional Layer\n",
        "        layers.Conv2D(32, (3, 3), activation='relu'),\n",
        "        layers.MaxPooling2D((2, 2)),\n",
        "\n",
        "        # Global Average Pooling Layer\n",
        "        layers.GlobalAveragePooling2D(),\n",
        "\n",
        "        # First Dense Layer\n",
        "        layers.Dense(128, activation='relu'),\n",
        "\n",
        "        # Second Dense Layer\n",
        "        layers.Dense(128, activation='relu'),\n",
        "\n",
        "        # Output Layer\n",
        "        layers.Dense(num_classes, activation='softmax')\n",
        "    ])\n",
        "\n",
        "    return model\n",
        "\n",
        "# Get the shape of the input images and the number of classes\n",
        "input_shape = (img_height, img_width, 3)  # Assuming RGB images\n",
        "num_classes = len(class_names)\n",
        "\n",
        "# Build the model\n",
        "model = build_cnn_model(input_shape, num_classes)\n",
        "\n",
        "# Print the model summary\n",
        "model.summary()"
      ]
    },
    {
      "cell_type": "markdown",
      "source": [
        "**Explanation:**\n",
        "\n",
        "This code block defines and builds the CNN (Convolutional Neural Network) as specified. Here's a breakdown of the architecture:\n",
        "\n",
        "1. First Convolutional Layer:\n",
        "\n",
        "  - 32 filters with a 3x3 kernel size\n",
        "  - ReLU activation function\n",
        "  - Followed by a 2x2 MaxPooling layer\n",
        "\n",
        "2. Second Convolutional Layer:\n",
        "\n",
        "  - 32 filters with a 3x3 kernel size\n",
        "  - ReLU activation function\n",
        "  - Followed by a 2x2 MaxPooling layer\n",
        "\n",
        "3. Global Average Pooling Layer:\n",
        "\n",
        "  - Reduces the spatial dimensions of the feature maps to a single value per filter\n",
        "\n",
        "4. First Dense Layer:\n",
        "\n",
        "  - 128 neurons with ReLU activation\n",
        "\n",
        "5. Second Dense Layer:\n",
        "\n",
        "  - 128 neurons with ReLU activation\n",
        "\n",
        "6. Output Layer:\n",
        "\n",
        "  - 9 neurons (one for each class) with softmax activation\n",
        "\n",
        "\n",
        "\n",
        "The `build_cnn_model` function takes the input shape and number of classes as parameters, making it flexible for different image sizes and number of categories.\n",
        "\n",
        "We then use this function to create our model, passing in the image dimensions and number of classes that we determined from our dataset.\n",
        "\n",
        "Finally, we print a summary of the model, which will show the layers, their output shapes, and the total number of parameters in the network.\n",
        "\n",
        "This CNN architecture is designed to:\n",
        "\n",
        "- Extract features from the images using convolutional layers\n",
        "- Reduce spatial dimensions and computational load using max pooling\n",
        "- Convert the 2D feature maps to a 1D feature vector using global average pooling\n",
        "- Make the final classification using fully connected (dense) layers"
      ],
      "metadata": {
        "id": "MJb2srBR6L_e"
      }
    },
    {
      "cell_type": "markdown",
      "metadata": {
        "id": "vhBTaySpYnXr"
      },
      "source": [
        "#### <a id='toc1_4_2_5'></a>[1.5.\tCompile the model with Adam optimizer, categorical_crossentropy loss, and with metrics accuracy, precision, and recall.](#toc0_)"
      ]
    },
    {
      "cell_type": "code",
      "source": [
        "from tensorflow.keras.optimizers import Adam\n",
        "from tensorflow.keras.metrics import Precision, Recall\n",
        "\n",
        "# Compile the model\n",
        "model.compile(\n",
        "    optimizer=Adam(),\n",
        "    loss='categorical_crossentropy',\n",
        "    metrics=['accuracy', Precision(), Recall()]\n",
        ")\n",
        "\n",
        "print(\"Model compiled successfully with the following configuration:\")\n",
        "print(f\"Optimizer: Adam\")\n",
        "print(f\"Loss function: Categorical Crossentropy\")\n",
        "print(f\"Metrics: Accuracy, Precision, Recall\")"
      ],
      "metadata": {
        "id": "Y-mc1R3l375_",
        "outputId": "9d4aa31f-d86e-451d-bbf1-72634ef6abb7",
        "colab": {
          "base_uri": "https://localhost:8080/"
        }
      },
      "execution_count": 18,
      "outputs": [
        {
          "output_type": "stream",
          "name": "stdout",
          "text": [
            "Model compiled successfully with the following configuration:\n",
            "Optimizer: Adam\n",
            "Loss function: Categorical Crossentropy\n",
            "Metrics: Accuracy, Precision, Recall\n"
          ]
        }
      ]
    },
    {
      "cell_type": "markdown",
      "source": [
        "**Explanation:**\n",
        "\n",
        "This code block compiles the CNN model we built in the previous section. Here's a breakdown of what each part does:\n",
        "\n",
        "**1. Optimizer: Adam**\n",
        "\n",
        "  - We use the Adam optimizer, which is an adaptive learning rate optimization algorithm.\n",
        "  - Adam is widely used because it combines the benefits of two other extensions of stochastic gradient descent: AdaGrad and RMSProp.\n",
        "  - It's generally a good default choice for many deep learning tasks.\n",
        "\n",
        "\n",
        "**2. Loss Function: Categorical Crossentropy**\n",
        "\n",
        "  - We use 'categorical_crossentropy' as our loss function.\n",
        "  - This is appropriate for multi-class classification problems where each sample belongs to exactly one class.\n",
        "  - It measures the dissimilarity between the predicted probability distribution and the true distribution.\n",
        "\n",
        "\n",
        "**3. Metrics: Accuracy, Precision, and Recall**\n",
        "\n",
        "  - *Accuracy:* Measures the proportion of correct predictions (both true positives and true negatives) among the total number of cases examined.\n",
        "  - *Precision:* Measures the proportion of true positive predictions among all positive predictions. It answers the question: \"Of all the samples predicted as positive, how many actually are positive?\"\n",
        "  - *Recall:* Measures the proportion of true positive predictions among all actual positive samples. It answers the question: \"Of all the actual positive samples, how many were correctly identified?\"\n",
        "\n",
        "\n",
        "\n",
        "**Why these choices are important:**\n",
        "\n",
        "- Adam optimizer is often a good starting point as it adapts the learning rate during training, which can lead to faster convergence.\n",
        "- Categorical crossentropy is the standard loss function for multi-class classification problems.\n",
        "- Using multiple metrics (accuracy, precision, and recall) provides a more comprehensive evaluation of the model's performance, especially if the classes are imbalanced.\n",
        "- This code block compiles the CNN model we built in the previous section. Here's a breakdown of what each part does:"
      ],
      "metadata": {
        "id": "Zf8xTwJU3pFI"
      }
    },
    {
      "cell_type": "markdown",
      "source": [
        "#### <a id='toc1_4_2_6'></a>[1.6.\tTrain the model for 20 epochs and plot training loss and accuracy against epochs.](#toc0_)"
      ],
      "metadata": {
        "id": "tP42h7Nr57El"
      }
    },
    {
      "cell_type": "code",
      "source": [
        "# Check the shape of a batch from the training dataset\n",
        "for images, labels in train_ds.take(1):\n",
        "    print(\"Shape of images in a batch:\", images.shape)\n",
        "    print(\"Shape of labels in a batch:\", labels.shape)\n",
        "\n",
        "# Print the model summary again\n",
        "model.summary()\n",
        "\n",
        "# Check the number of classes\n",
        "print(\"Number of classes:\", len(class_names))\n",
        "\n",
        "# Check if labels are one-hot encoded\n",
        "if len(labels.shape) == 2 and labels.shape[1] > 1:\n",
        "    print(\"Labels are one-hot encoded\")\n",
        "else:\n",
        "    print(\"Labels are not one-hot encoded\")"
      ],
      "metadata": {
        "id": "euTcOJ1m9fT8",
        "outputId": "39cd1349-dc8f-4ead-d70d-f72832611fac",
        "colab": {
          "base_uri": "https://localhost:8080/"
        }
      },
      "execution_count": 19,
      "outputs": [
        {
          "output_type": "stream",
          "name": "stdout",
          "text": [
            "Shape of images in a batch: (32, 224, 224, 3)\n",
            "Shape of labels in a batch: (32, 9)\n",
            "Model: \"sequential_3\"\n",
            "_________________________________________________________________\n",
            " Layer (type)                Output Shape              Param #   \n",
            "=================================================================\n",
            " conv2d_2 (Conv2D)           (None, 222, 222, 32)      896       \n",
            "                                                                 \n",
            " max_pooling2d_2 (MaxPoolin  (None, 111, 111, 32)      0         \n",
            " g2D)                                                            \n",
            "                                                                 \n",
            " conv2d_3 (Conv2D)           (None, 109, 109, 32)      9248      \n",
            "                                                                 \n",
            " max_pooling2d_3 (MaxPoolin  (None, 54, 54, 32)        0         \n",
            " g2D)                                                            \n",
            "                                                                 \n",
            " global_average_pooling2d_1  (None, 32)                0         \n",
            "  (GlobalAveragePooling2D)                                       \n",
            "                                                                 \n",
            " dense_3 (Dense)             (None, 128)               4224      \n",
            "                                                                 \n",
            " dense_4 (Dense)             (None, 128)               16512     \n",
            "                                                                 \n",
            " dense_5 (Dense)             (None, 9)                 1161      \n",
            "                                                                 \n",
            "=================================================================\n",
            "Total params: 32041 (125.16 KB)\n",
            "Trainable params: 32041 (125.16 KB)\n",
            "Non-trainable params: 0 (0.00 Byte)\n",
            "_________________________________________________________________\n",
            "Number of classes: 9\n",
            "Labels are one-hot encoded\n"
          ]
        }
      ]
    },
    {
      "cell_type": "code",
      "source": [
        "import matplotlib.pyplot as plt\n",
        "\n",
        "# Train the model\n",
        "history = model.fit(\n",
        "    train_ds,\n",
        "    validation_data=val_ds,\n",
        "    epochs=20,\n",
        "    verbose=1\n",
        ")\n",
        "\n",
        "# Updated function to plot training history\n",
        "def plot_training_history(history):\n",
        "    metrics = ['accuracy', 'loss']\n",
        "    fig, axs = plt.subplots(2, 1, figsize=(12, 10))\n",
        "\n",
        "    for i, metric in enumerate(metrics):\n",
        "        ax = axs[i]\n",
        "        ax.plot(history.history[metric], label='Train')\n",
        "        ax.plot(history.history[f'val_{metric}'], label='Validation')\n",
        "        ax.set_title(f'Model {metric.capitalize()}')\n",
        "        ax.set_xlabel('Epoch')\n",
        "        ax.set_ylabel(metric.capitalize())\n",
        "        ax.legend()\n",
        "\n",
        "        if metric == 'accuracy':\n",
        "            # Dynamically set y-axis limits for accuracy\n",
        "            min_acc = min(min(history.history[metric]), min(history.history[f'val_{metric}']))\n",
        "            max_acc = max(max(history.history[metric]), max(history.history[f'val_{metric}']))\n",
        "            ax.set_ylim([max(0, min_acc - 0.1), min(1, max_acc + 0.1)])\n",
        "        elif metric == 'loss':\n",
        "            # For loss, we typically want to start from 0\n",
        "            max_loss = max(max(history.history[metric]), max(history.history[f'val_{metric}']))\n",
        "            ax.set_ylim([0, max_loss * 1.1])\n",
        "\n",
        "    plt.tight_layout()\n",
        "    plt.show()\n",
        "\n",
        "# Plot the training history\n",
        "plot_training_history(history)\n",
        "\n",
        "# Print final training and validation metrics\n",
        "print(\"Final training accuracy: {:.2f}%\".format(history.history['accuracy'][-1] * 100))\n",
        "print(\"Final validation accuracy: {:.2f}%\".format(history.history['val_accuracy'][-1] * 100))\n",
        "print(\"Final training loss: {:.4f}\".format(history.history['loss'][-1]))\n",
        "print(\"Final validation loss: {:.4f}\".format(history.history['val_loss'][-1]))"
      ],
      "metadata": {
        "id": "okxtlBjh7Odc",
        "outputId": "0f649885-f11e-4f86-8a67-a15fffa4e769",
        "colab": {
          "base_uri": "https://localhost:8080/",
          "height": 1000
        }
      },
      "execution_count": 21,
      "outputs": [
        {
          "output_type": "stream",
          "name": "stdout",
          "text": [
            "Epoch 1/20\n",
            "30/30 [==============================] - 10s 264ms/step - loss: 1.6194 - accuracy: 0.4258 - precision_1: 0.5951 - recall_1: 0.1312 - val_loss: 1.6563 - val_accuracy: 0.3594 - val_precision_1: 0.5385 - val_recall_1: 0.1094\n",
            "Epoch 2/20\n",
            "30/30 [==============================] - 9s 259ms/step - loss: 1.6430 - accuracy: 0.4065 - precision_1: 0.6111 - recall_1: 0.1419 - val_loss: 1.6260 - val_accuracy: 0.3516 - val_precision_1: 0.5652 - val_recall_1: 0.1016\n",
            "Epoch 3/20\n",
            "30/30 [==============================] - 10s 266ms/step - loss: 1.6112 - accuracy: 0.4333 - precision_1: 0.5714 - recall_1: 0.1204 - val_loss: 1.6163 - val_accuracy: 0.3438 - val_precision_1: 0.5926 - val_recall_1: 0.1250\n",
            "Epoch 4/20\n",
            "30/30 [==============================] - 10s 263ms/step - loss: 1.5942 - accuracy: 0.4172 - precision_1: 0.6348 - recall_1: 0.1215 - val_loss: 1.6480 - val_accuracy: 0.3359 - val_precision_1: 0.5588 - val_recall_1: 0.1484\n",
            "Epoch 5/20\n",
            "30/30 [==============================] - 9s 266ms/step - loss: 1.5834 - accuracy: 0.4355 - precision_1: 0.6274 - recall_1: 0.1774 - val_loss: 1.6252 - val_accuracy: 0.3750 - val_precision_1: 0.5556 - val_recall_1: 0.1172\n",
            "Epoch 6/20\n",
            "30/30 [==============================] - 9s 261ms/step - loss: 1.6108 - accuracy: 0.4237 - precision_1: 0.6119 - recall_1: 0.1323 - val_loss: 1.5779 - val_accuracy: 0.4062 - val_precision_1: 0.6000 - val_recall_1: 0.0938\n",
            "Epoch 7/20\n",
            "30/30 [==============================] - 10s 263ms/step - loss: 1.5696 - accuracy: 0.4355 - precision_1: 0.6128 - recall_1: 0.1753 - val_loss: 1.6273 - val_accuracy: 0.3359 - val_precision_1: 0.5385 - val_recall_1: 0.1641\n",
            "Epoch 8/20\n",
            "30/30 [==============================] - 10s 267ms/step - loss: 1.5531 - accuracy: 0.4548 - precision_1: 0.6364 - recall_1: 0.1430 - val_loss: 1.5942 - val_accuracy: 0.3672 - val_precision_1: 0.5116 - val_recall_1: 0.1719\n",
            "Epoch 9/20\n",
            "30/30 [==============================] - 9s 258ms/step - loss: 1.5419 - accuracy: 0.4527 - precision_1: 0.6380 - recall_1: 0.1914 - val_loss: 1.5625 - val_accuracy: 0.3906 - val_precision_1: 0.5588 - val_recall_1: 0.1484\n",
            "Epoch 10/20\n",
            "30/30 [==============================] - 9s 260ms/step - loss: 1.5398 - accuracy: 0.4677 - precision_1: 0.6178 - recall_1: 0.1720 - val_loss: 1.5745 - val_accuracy: 0.4062 - val_precision_1: 0.5882 - val_recall_1: 0.1562\n",
            "Epoch 11/20\n",
            "30/30 [==============================] - 9s 265ms/step - loss: 1.5535 - accuracy: 0.4462 - precision_1: 0.6554 - recall_1: 0.1247 - val_loss: 1.5692 - val_accuracy: 0.3672 - val_precision_1: 0.5556 - val_recall_1: 0.1953\n",
            "Epoch 12/20\n",
            "30/30 [==============================] - 10s 265ms/step - loss: 1.5709 - accuracy: 0.4548 - precision_1: 0.6265 - recall_1: 0.1677 - val_loss: 1.5781 - val_accuracy: 0.3828 - val_precision_1: 0.5476 - val_recall_1: 0.1797\n",
            "Epoch 13/20\n",
            "30/30 [==============================] - 9s 253ms/step - loss: 1.5117 - accuracy: 0.4742 - precision_1: 0.6535 - recall_1: 0.2312 - val_loss: 1.5624 - val_accuracy: 0.3906 - val_precision_1: 0.5294 - val_recall_1: 0.2109\n",
            "Epoch 14/20\n",
            "30/30 [==============================] - 10s 264ms/step - loss: 1.5086 - accuracy: 0.4753 - precision_1: 0.6320 - recall_1: 0.2419 - val_loss: 1.5467 - val_accuracy: 0.4062 - val_precision_1: 0.5532 - val_recall_1: 0.2031\n",
            "Epoch 15/20\n",
            "30/30 [==============================] - 10s 265ms/step - loss: 1.4957 - accuracy: 0.4785 - precision_1: 0.6226 - recall_1: 0.2484 - val_loss: 1.5230 - val_accuracy: 0.4062 - val_precision_1: 0.5250 - val_recall_1: 0.1641\n",
            "Epoch 16/20\n",
            "30/30 [==============================] - 10s 263ms/step - loss: 1.4962 - accuracy: 0.4742 - precision_1: 0.6478 - recall_1: 0.2215 - val_loss: 1.5437 - val_accuracy: 0.4219 - val_precision_1: 0.5000 - val_recall_1: 0.1953\n",
            "Epoch 17/20\n",
            "30/30 [==============================] - 9s 263ms/step - loss: 1.5222 - accuracy: 0.4742 - precision_1: 0.6522 - recall_1: 0.1935 - val_loss: 1.5538 - val_accuracy: 0.4062 - val_precision_1: 0.5435 - val_recall_1: 0.1953\n",
            "Epoch 18/20\n",
            "30/30 [==============================] - 10s 265ms/step - loss: 1.4915 - accuracy: 0.4753 - precision_1: 0.6265 - recall_1: 0.2290 - val_loss: 1.5790 - val_accuracy: 0.3906 - val_precision_1: 0.5312 - val_recall_1: 0.2656\n",
            "Epoch 19/20\n",
            "30/30 [==============================] - 10s 265ms/step - loss: 1.5081 - accuracy: 0.4753 - precision_1: 0.6068 - recall_1: 0.2505 - val_loss: 1.5258 - val_accuracy: 0.3984 - val_precision_1: 0.5789 - val_recall_1: 0.1719\n",
            "Epoch 20/20\n",
            "30/30 [==============================] - 9s 257ms/step - loss: 1.4620 - accuracy: 0.4828 - precision_1: 0.6891 - recall_1: 0.2312 - val_loss: 1.5246 - val_accuracy: 0.4297 - val_precision_1: 0.5370 - val_recall_1: 0.2266\n"
          ]
        },
        {
          "output_type": "display_data",
          "data": {
            "text/plain": [
              "<Figure size 1200x1000 with 2 Axes>"
            ],
            "image/png": "[encoded data removed]"
          },
          "metadata": {}
        },
        {
          "output_type": "stream",
          "name": "stdout",
          "text": [
            "Final training accuracy: 48.28%\n",
            "Final validation accuracy: 42.97%\n",
            "Final training loss: 1.4620\n",
            "Final validation loss: 1.5246\n"
          ]
        }
      ]
    },
    {
      "cell_type": "markdown",
      "source": [
        "**Explanation:**\n",
        "\n",
        "This code block trains the model and visualizes the training progress. Here's a breakdown of what each part does:\n",
        "\n",
        "1. Training the model:\n",
        "\n",
        "  - We use the fit() method to train the model.\n",
        "  - `train_ds` is used as the training data.\n",
        "  - `val_ds` is used as the validation data.\n",
        "  - We train for 20 epochs as specified.\n",
        "  - The `verbose=1` parameter gives us detailed output for each epoch.\n",
        "\n",
        "2. Plotting the training history:\n",
        "\n",
        "  - We define a function plot_training_history() that creates two subplots:\n",
        "\n",
        "    - **Model Accuracy:** Shows how the training and validation accuracy change over epochs.\n",
        "    - **Model Loss:** Shows how the training and validation loss change over epochs.\n",
        "\n",
        "  - The plots use different colors for training and validation metrics, making it easy to compare them.\n",
        "\n",
        "\n",
        "3. Printing final metrics:\n",
        "\n",
        "  - We print the final training and validation accuracy and loss.\n",
        "  - his gives us a quick summary of the model's performance at the end of training.\n",
        "\n",
        "\n",
        "**Why this is important:**\n",
        "\n",
        "- Training for multiple epochs allows the model to iteratively improve its performance on the training data.\n",
        "- Plotting the training history helps us visualize how the model's performance changes over time. This can help identify issues like overfitting (if validation metrics start getting worse while training metrics keep improving).\n",
        "- Comparing training and validation metrics helps us understand how well the model generalizes to unseen data.\n",
        "- The final metrics give us a concise summary of the model's performance.\n",
        "\n",
        "After running this code, you'll be able to visually assess how your model's performance improved over the 20 epochs of training. This can help you identify if the model is learning effectively, if it's overfitting, or if it might benefit from training for more epochs."
      ],
      "metadata": {
        "id": "47wxypkE7f_x"
      }
    },
    {
      "cell_type": "markdown",
      "source": [
        "#### <a id='toc1_4_2_7'></a>[1.7.\tEvaluate the model on test images and print the test loss and accuracy.](#toc0_)"
      ],
      "metadata": {
        "id": "QCyeGwRqFomh"
      }
    },
    {
      "cell_type": "code",
      "source": [
        "# Evaluate the model on the test dataset\n",
        "test_loss, test_accuracy, test_precision, test_recall = model.evaluate(test_ds)\n",
        "\n",
        "print(f\"Test loss: {test_loss:.4f}\")\n",
        "print(f\"Test accuracy: {test_accuracy:.2%}\")\n",
        "print(f\"Test precision: {test_precision:.4f}\")\n",
        "print(f\"Test recall: {test_recall:.4f}\")\n",
        "\n",
        "# Compare with training and validation results\n",
        "print(\"\\nComparison with training and validation results:\")\n",
        "print(f\"Training accuracy: 48.28%\")\n",
        "print(f\"Validation accuracy: 42.97%\")\n",
        "print(f\"Test accuracy: {test_accuracy:.2%}\")\n",
        "\n",
        "print(f\"\\nTraining loss: 1.4620\")\n",
        "print(f\"Validation loss: 1.5246\")\n",
        "print(f\"Test loss: {test_loss:.4f}\")"
      ],
      "metadata": {
        "id": "o4ufA-GsF5qy",
        "outputId": "250601e9-fa3c-414f-ad38-b33b235f8812",
        "colab": {
          "base_uri": "https://localhost:8080/"
        }
      },
      "execution_count": 22,
      "outputs": [
        {
          "output_type": "stream",
          "name": "stdout",
          "text": [
            "4/4 [==============================] - 1s 59ms/step - loss: 1.6255 - accuracy: 0.3558 - precision_1: 0.5385 - recall_1: 0.2019\n",
            "Test loss: 1.6255\n",
            "Test accuracy: 35.58%\n",
            "Test precision: 0.5385\n",
            "Test recall: 0.2019\n",
            "\n",
            "Comparison with training and validation results:\n",
            "Training accuracy: 48.28%\n",
            "Validation accuracy: 42.97%\n",
            "Test accuracy: 35.58%\n",
            "\n",
            "Training loss: 1.4620\n",
            "Validation loss: 1.5246\n",
            "Test loss: 1.6255\n"
          ]
        }
      ]
    }
  ],
  "metadata": {
    "kernelspec": {
      "display_name": "Python 3",
      "name": "python3"
    },
    "language_info": {
      "codemirror_mode": {
        "name": "ipython",
        "version": 3
      },
      "file_extension": ".py",
      "mimetype": "text/x-python",
      "name": "python",
      "nbconvert_exporter": "python",
      "pygments_lexer": "ipython3",
      "version": "3.10.14"
    },
    "colab": {
      "provenance": [],
      "gpuType": "V28",
      "include_colab_link": true
    },
    "accelerator": "TPU"
  },
  "nbformat": 4,
  "nbformat_minor": 0
}
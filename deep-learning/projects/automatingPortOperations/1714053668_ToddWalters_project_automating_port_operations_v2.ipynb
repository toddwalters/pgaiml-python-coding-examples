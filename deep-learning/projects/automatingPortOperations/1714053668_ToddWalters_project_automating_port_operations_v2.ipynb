{
  "cells": [
    {
      "cell_type": "markdown",
      "metadata": {
        "id": "view-in-github",
        "colab_type": "text"
      },
      "source": [
        "<a href=\"https://colab.research.google.com/github/toddwalters/pgaiml-python-coding-examples/blob/main/deep-learning/projects/automatingPortOperations/1714053668_ToddWalters_project_automating_port_operations_v2.ipynb\" target=\"_parent\"><img src=\"https://colab.research.google.com/assets/colab-badge.svg\" alt=\"Open In Colab\"/></a>"
      ]
    },
    {
      "cell_type": "code",
      "execution_count": 1,
      "metadata": {
        "colab": {
          "base_uri": "https://localhost:8080/"
        },
        "id": "bY8iESXrFnl4",
        "outputId": "38a89d50-4956-4bc6-cf1b-df364f99ff80"
      },
      "outputs": [
        {
          "output_type": "stream",
          "name": "stdout",
          "text": [
            "Drive already mounted at /content/drive; to attempt to forcibly remount, call drive.mount(\"/content/drive\", force_remount=True).\n"
          ]
        }
      ],
      "source": [
        "from google.colab import drive\n",
        "drive.mount('/content/drive')"
      ]
    },
    {
      "cell_type": "markdown",
      "metadata": {
        "id": "rXqTWV3iFnl4"
      },
      "source": [
        "# <a id='toc1_'></a>[**Automating Port Operations**](#toc0_)"
      ]
    },
    {
      "cell_type": "markdown",
      "metadata": {
        "id": "IQ7XucjeFnl5"
      },
      "source": [
        "-----------------------------\n",
        "## <a id='toc1_1_'></a>[**Context**](#toc0_)\n",
        "-----------------------------\n",
        "\n",
        "Marina Pier Inc. is leveraging technology to automate their operations on the San Francisco port.\n",
        "The company’s management has set out to build a bias-free/ corruption-free automatic system that reports & avoids faulty situations caused by human error.\n",
        "\n",
        "-----------------------------\n",
        "## <a id='toc1_2_'></a>[**Objectives**](#toc0_)\n",
        "-----------------------------\n",
        "\n",
        "Marina Pier wants to use Deep Learning techniques to build an automatic reporting system that recognizes the boat. The company is also looking to use a transfer learning approach of any lightweight pre-trained model in order to deploy in mobile devices.\n",
        "As a deep learning engineer, your task is to:\n",
        "\n",
        "1.\tBuild a CNN network to classify the boat.\n",
        "\n",
        "2.\tBuild a lightweight model with the aim of deploying the solution on a mobile device using transfer learning. You can use any lightweight pre-trained model as the initial (first) layer. MobileNetV2 is a popular lightweight pre-trained model built using Keras API.\n",
        "\n",
        "-----------------------------\n",
        "## <a id='toc1_3_'></a>[**Dataset**](#toc0_)\n",
        "-----------------------------\n",
        "\n",
        "**boat_type_classification_dataset.zip**\n",
        "\n",
        "The dataset contains images of 9 types of boats. It contains a total of 1162 images. The training images are provided in the directory of the specific class itself.\n",
        "Classes:\n",
        "\n",
        "- ferry_boat\n",
        "- gondola\n",
        "- sailboat\n",
        "- cruise_ship\n",
        "- kayak\n",
        "- inflatable_boat\n",
        "- paper_boat\n",
        "- buoy\n",
        "- freight_boat\n",
        "\n",
        "\n",
        "-----------------------------------\n",
        "## <a id='toc1_4_'></a>[**Analysis Steps to Perform**](#toc0_)\n",
        "-----------------------------------\n",
        "1.\tBuild a CNN network to classify the boat.\n",
        "\n",
        "    1.1.\tSplit the dataset into train and test in the ratio 80:20, with shuffle and random state=43.\n",
        "\n",
        "    1.2.\tUse tf.keras.preprocessing.image_dataset_from_directory to load the train and test datasets. This function also supports data normalization.*(Hint: image_scale=1./255)*\n",
        "\n",
        "    1.3.\tLoad train, validation and test dataset in batches of 32 using the function initialized in the above step.\n",
        "\n",
        "    1.4.\tBuild a CNN network using Keras with the following layers\n",
        "\n",
        "       - Cov2D with 32 filters, kernel size 3,3, and activation relu, followed by MaxPool2D\n",
        "\n",
        "       - Cov2D with 32 filters, kernel size 3,3, and activation relu, followed by MaxPool2D\n",
        "\n",
        "       - GLobalAveragePooling2D layer\n",
        "\n",
        "       - Dense layer with 128 neurons and activation relu\n",
        "\n",
        "       - Dense layer with 128 neurons and activation relu\n",
        "    \n",
        "       - Dense layer with 9 neurons and activation softmax.\n",
        "\n",
        "    1.5.\tCompile the model with Adam optimizer, categorical_crossentropy loss, and with metrics accuracy, precision, and recall.\n",
        "\n",
        "    1.6.\tTrain the model for 20 epochs and plot training loss and accuracy against epochs.\n",
        "\n",
        "    1.7.\tEvaluate the model on test images and print the test loss and accuracy.\n",
        "\n",
        "    1.8.\tPlot heatmap of the confusion matrix and print classification report.\n",
        "\n",
        "2.\tBuild a lightweight model with the aim of deploying the solution on a mobile device using transfer learning. You can use any lightweight pre-trained model as the initial (first) layer. MobileNetV2 is a popular lightweight pre-trained model built using Keras API.\n",
        "\n",
        "    2.1.\tSplit the dataset into train and test datasets in the ration 70:30, with shuffle and random state=1.\n",
        "\n",
        "    2.2.\tUse tf.keras.preprocessing.image_dataset_from_directory to load the train and test datasets. This function also supports data normalization.*(Hint: Image_scale=1./255)*\n",
        "\n",
        "    2.3.\tLoad train, validation and test datasets in batches of 32 using the function initialized in the above step.\n",
        "\n",
        "    2.4.\tBuild a CNN network using Keras with the following layers.\n",
        "\n",
        "      - Load MobileNetV2 - Light Model as the first layer *(Hint: Keras API Doc)*\n",
        "\n",
        "      - GLobalAveragePooling2D layer\n",
        "\n",
        "      - Dropout(0.2)\n",
        "\n",
        "      - Dense layer with 256 neurons and activation relu\n",
        "\n",
        "      - BatchNormalization layer\n",
        "\n",
        "      - Dropout(0.1)\n",
        "\n",
        "      - Dense layer with 128 neurons and activation relu\n",
        "\n",
        "      - BatchNormalization layer\n",
        "\n",
        "      - Dropout(0.1)\n",
        "\n",
        "      - Dense layer with 9 neurons and activation softmax\n",
        "\n",
        "    2.5.\tCompile the model with Adam optimizer, categorical_crossentropy loss, and metrics accuracy, Precision, and Recall.\n",
        "\n",
        "    2.6.\tTrain the model for 50 epochs and Early stopping while monitoring validation loss.\n",
        "\n",
        "    2.7.\tEvaluate the model on test images and print the test loss and accuracy.\n",
        "\n",
        "    2.8.\tPlot Train loss Vs Validation loss and Train accuracy Vs Validation accuracy.\n",
        "    \n",
        "3.\tCompare the results of both models built in steps 1 and 2 and state your observations.\n",
        "\n"
      ]
    },
    {
      "cell_type": "markdown",
      "metadata": {
        "id": "rHz_5EEfFnl5"
      },
      "source": [
        "## <a id='toc1_5_'></a>[**1.0 Build A CNN Network To Classify A Boat**](#toc0_)"
      ]
    },
    {
      "cell_type": "markdown",
      "metadata": {
        "id": "EWqVKXKtFnl5"
      },
      "source": [
        "**Setup: Import Necessary Libraries**"
      ]
    },
    {
      "cell_type": "code",
      "execution_count": 2,
      "metadata": {
        "colab": {
          "base_uri": "https://localhost:8080/"
        },
        "id": "vtYfv5plFnl5",
        "outputId": "7671f3dd-ec7f-4986-f2d1-31676bef7da1"
      },
      "outputs": [
        {
          "output_type": "stream",
          "name": "stdout",
          "text": [
            "Requirement already satisfied: matplotlib in /usr/local/lib/python3.10/dist-packages (3.7.1)\n",
            "Requirement already satisfied: seaborn in /usr/local/lib/python3.10/dist-packages (0.13.1)\n",
            "Requirement already satisfied: scikit-learn in /usr/local/lib/python3.10/dist-packages (1.2.2)\n",
            "Requirement already satisfied: contourpy>=1.0.1 in /usr/local/lib/python3.10/dist-packages (from matplotlib) (1.2.1)\n",
            "Requirement already satisfied: cycler>=0.10 in /usr/local/lib/python3.10/dist-packages (from matplotlib) (0.12.1)\n",
            "Requirement already satisfied: fonttools>=4.22.0 in /usr/local/lib/python3.10/dist-packages (from matplotlib) (4.53.0)\n",
            "Requirement already satisfied: kiwisolver>=1.0.1 in /usr/local/lib/python3.10/dist-packages (from matplotlib) (1.4.5)\n",
            "Requirement already satisfied: numpy>=1.20 in /usr/local/lib/python3.10/dist-packages (from matplotlib) (1.25.2)\n",
            "Requirement already satisfied: packaging>=20.0 in /usr/local/lib/python3.10/dist-packages (from matplotlib) (24.1)\n",
            "Requirement already satisfied: pillow>=6.2.0 in /usr/local/lib/python3.10/dist-packages (from matplotlib) (10.4.0)\n",
            "Requirement already satisfied: pyparsing>=2.3.1 in /usr/local/lib/python3.10/dist-packages (from matplotlib) (3.1.2)\n",
            "Requirement already satisfied: python-dateutil>=2.7 in /usr/local/lib/python3.10/dist-packages (from matplotlib) (2.9.0.post0)\n",
            "Requirement already satisfied: pandas>=1.2 in /usr/local/lib/python3.10/dist-packages (from seaborn) (2.0.3)\n",
            "Requirement already satisfied: scipy>=1.3.2 in /usr/local/lib/python3.10/dist-packages (from scikit-learn) (1.11.4)\n",
            "Requirement already satisfied: joblib>=1.1.1 in /usr/local/lib/python3.10/dist-packages (from scikit-learn) (1.4.2)\n",
            "Requirement already satisfied: threadpoolctl>=2.0.0 in /usr/local/lib/python3.10/dist-packages (from scikit-learn) (3.5.0)\n",
            "Requirement already satisfied: pytz>=2020.1 in /usr/local/lib/python3.10/dist-packages (from pandas>=1.2->seaborn) (2024.1)\n",
            "Requirement already satisfied: tzdata>=2022.1 in /usr/local/lib/python3.10/dist-packages (from pandas>=1.2->seaborn) (2024.1)\n",
            "Requirement already satisfied: six>=1.5 in /usr/local/lib/python3.10/dist-packages (from python-dateutil>=2.7->matplotlib) (1.16.0)\n"
          ]
        }
      ],
      "source": [
        "!pip install matplotlib seaborn scikit-learn"
      ]
    },
    {
      "cell_type": "code",
      "execution_count": 3,
      "metadata": {
        "id": "_4kxMwRpFnl6"
      },
      "outputs": [],
      "source": [
        "import pathlib\n",
        "import os\n",
        "import numpy as np\n",
        "import seaborn as sns\n",
        "import matplotlib.pyplot as plt\n",
        "\n",
        "import tensorflow as tf\n",
        "from tensorflow import keras\n",
        "from tensorflow.keras import layers, models\n",
        "from tensorflow.keras.utils import to_categorical\n",
        "from tensorflow.keras.optimizers import Adam\n",
        "from tensorflow.keras.metrics import Precision, Recall\n",
        "\n",
        "from sklearn.metrics import classification_report, confusion_matrix\n",
        "from sklearn.model_selection import train_test_split\n",
        "\n",
        "# Set the path to your dataset\n",
        "#data_dir = pathlib.Path(\"boat_type_classification_dataset\")\n",
        "data_dir = pathlib.Path(\"/content/drive/MyDrive/Colab Notebooks/datasets/boat_type_classification_dataset\")\n",
        "\n",
        "# Set common parameters\n",
        "batch_size = 32\n",
        "img_height = 224\n",
        "img_width = 224"
      ]
    },
    {
      "cell_type": "markdown",
      "metadata": {
        "id": "dNDE8nqrFnl6"
      },
      "source": [
        "### <a id='toc1_5_1_'></a>[**1.1 Split the dataset into train and test in the ratio 80:20, with shuffle and random state=43**](#toc0_)"
      ]
    },
    {
      "cell_type": "code",
      "execution_count": 4,
      "metadata": {
        "colab": {
          "base_uri": "https://localhost:8080/"
        },
        "id": "yq_ODKMLFnl6",
        "outputId": "eb0a1f1f-ca6d-4169-eb94-77f58fde1607"
      },
      "outputs": [
        {
          "output_type": "stream",
          "name": "stdout",
          "text": [
            "Found 1162 files belonging to 9 classes.\n",
            "Using 930 files for training.\n",
            "Using 232 files for validation.\n",
            "Number of training samples: tf.Tensor(930, shape=(), dtype=int64)\n",
            "Number of test samples: tf.Tensor(232, shape=(), dtype=int64)\n",
            "Class names: ['buoy', 'cruise_ship', 'ferry_boat', 'freight_boat', 'gondola', 'inflatable_boat', 'kayak', 'paper_boat', 'sailboat']\n"
          ]
        }
      ],
      "source": [
        "# Load and split the full dataset\n",
        "full_ds = tf.keras.preprocessing.image_dataset_from_directory(\n",
        "    data_dir,\n",
        "    validation_split=0.2,\n",
        "    subset=\"both\",\n",
        "    seed=43,\n",
        "    image_size=(img_height, img_width),\n",
        "    batch_size=None,  # Load without batching initially\n",
        "    shuffle=True\n",
        ")\n",
        "\n",
        "# Split the full dataset into train and test\n",
        "train_ds, test_ds = full_ds\n",
        "\n",
        "# Store class names\n",
        "class_names = train_ds.class_names\n",
        "num_classes = len(class_names)\n",
        "\n",
        "print(\"Number of training samples:\", tf.data.experimental.cardinality(train_ds))\n",
        "print(\"Number of test samples:\", tf.data.experimental.cardinality(test_ds))\n",
        "print(\"Class names:\", class_names)"
      ]
    },
    {
      "cell_type": "markdown",
      "metadata": {
        "id": "rv79ZXhNFnl6"
      },
      "source": [
        "#### <a id='toc1_5_1_1_'></a>[Explanations](#toc0_)\n",
        "\n",
        "**Section 1.1** is responsible for loading the dataset and splitting it into training and testing sets.\n",
        "\n",
        "- We use `tf.keras.preprocessing.image_dataset_from_directory` to load images directly from the filesystem. This function is convenient as it handles the file reading and label assignment automatically.\n",
        "- We set `validation_split=0.2` and `subset=\"both\"` to get both training and testing sets in an 80:20 ratio.\n",
        "- `seed=43` ensures reproducibility of the random split.\n",
        "- `shuffle=True` randomizes the order of the samples, which is important for training neural networks.\n",
        "- We set `batch_size=batch_size` setting the batch size here means that our dataset will be divided into batches of 32 images each. This is important for several reasons:\n",
        "  - *Memory Efficiency:* Processing 32 images at a time is more memory-efficient than loading the entire dataset at once, especially for large datasets.\n",
        "  - *Training Dynamics:* Batch size affects the dynamics of model training. A batch size of 32 is often a good default, balancing between the noisy gradients of very small batches and the longer computation time of larger batches.\n",
        "  - *Consistency:* By setting the batch size here, we ensure that all parts of our pipeline (data loading, augmentation, model training) use the same batch size.\n",
        "- The `image_size` parameter resizes all images to a consistent size, which is necessary for batch processing in neural networks.\n",
        "\n",
        "#### <a id='toc1_5_1_2_'></a>[Why it's important:](#toc0_)\n",
        "\n",
        "- Properly splitting the data ensures we have separate sets for training and evaluation, which is crucial for assessing the model's performance on unseen data.\n",
        "- The 80:20 split is a common ratio that balances having enough training data while still retaining a significant portion for testing.\n",
        "- Shuffling the data helps prevent any bias that might occur from the order of the samples."
      ]
    },
    {
      "cell_type": "markdown",
      "metadata": {
        "id": "8APeaLRiFnl6"
      },
      "source": [
        "### <a id='toc1_5_2_'></a>[**1.2 Use tf.keras.preprocessing.image_dataset_from_directory to load the train and test datasets.**](#toc0_)\n",
        "\n",
        "This function also supports data normalization. *(Hint: image_scale=1./255)*"
      ]
    },
    {
      "cell_type": "code",
      "execution_count": 5,
      "metadata": {
        "colab": {
          "base_uri": "https://localhost:8080/"
        },
        "id": "_PMaeJv0Fnl6",
        "outputId": "6d12d2b7-04d4-40d2-ecd5-32283fac9ba6"
      },
      "outputs": [
        {
          "output_type": "stream",
          "name": "stdout",
          "text": [
            "Checking train dataset normalization:\n",
            "Image data range: 0.0 to 1.0\n",
            "\n",
            "Checking test dataset normalization:\n",
            "Image data range: 0.0 to 1.0\n"
          ]
        }
      ],
      "source": [
        "def normalize_img(image, label):\n",
        "    \"\"\"Normalizes images: `uint8` -> `float32`.\"\"\"\n",
        "    return tf.cast(image, tf.float32) / 255.0, label\n",
        "\n",
        "# Apply normalization to the datasets\n",
        "train_ds = train_ds.map(normalize_img, num_parallel_calls=tf.data.AUTOTUNE)\n",
        "test_ds = test_ds.map(normalize_img, num_parallel_calls=tf.data.AUTOTUNE)\n",
        "\n",
        "# Function to check normalization\n",
        "def check_normalization(dataset):\n",
        "    for images, _ in dataset.take(1):\n",
        "        print(\"Image data range:\", tf.reduce_min(images).numpy(), \"to\", tf.reduce_max(images).numpy())\n",
        "\n",
        "print(\"Checking train dataset normalization:\")\n",
        "check_normalization(train_ds)\n",
        "print(\"\\nChecking test dataset normalization:\")\n",
        "check_normalization(test_ds)"
      ]
    },
    {
      "cell_type": "markdown",
      "metadata": {
        "id": "O31FVFRrFnl6"
      },
      "source": [
        "#### <a id='toc1_5_2_1_'></a>[Explanations](#toc0_)\n",
        "\n",
        "**Section 1.2** is performing the following:\n",
        "\n",
        "- Focuses on normalizing the image data and verifying that the normalization was applied correctly.\n",
        "- Defines a `normalize_img` function that converts the image data from integers in the range [0, 255] to floating-point numbers in the range [0, 1].\n",
        "- Applies this normalization to both the training and testing datasets using the map function.\n",
        "- The `check_normalization` function safely checks the range of values in the normalized datasets.\n",
        "\n",
        "#### <a id='toc1_5_2_2_'></a>[Why it's important](#toc0_)\n",
        "\n",
        "- Normalization is crucial for neural network training. It helps the model converge faster and can lead to better performance.\n",
        "- Scaling the input to a standard range (like [0, 1]) ensures that all features contribute equally to the model's learning process.\n",
        "- Checking the normalization helps verify that our preprocessing steps are working as expected."
      ]
    },
    {
      "cell_type": "markdown",
      "metadata": {
        "id": "jlYV8GTiFnl6"
      },
      "source": [
        "### <a id='toc1_5_3_'></a>[**1.3 Load train, validation and test dataset in batches of 32 using the function initialized in the above step.**](#toc0_)"
      ]
    },
    {
      "cell_type": "code",
      "execution_count": 6,
      "metadata": {
        "colab": {
          "base_uri": "https://localhost:8080/"
        },
        "id": "EM9L3AC4Fnl6",
        "outputId": "383ccc4f-ddb7-4fd9-dd31-d09f4443d5cc"
      },
      "outputs": [
        {
          "output_type": "stream",
          "name": "stdout",
          "text": [
            "Number of training batches: tf.Tensor(30, shape=(), dtype=int64)\n",
            "Number of validation batches: tf.Tensor(4, shape=(), dtype=int64)\n",
            "Number of test batches: tf.Tensor(4, shape=(), dtype=int64)\n",
            "Image batch shape: (32, 224, 224, 3)\n",
            "Label batch shape: (32, 9)\n"
          ]
        }
      ],
      "source": [
        "def prepare_dataset(dataset, is_training=False):\n",
        "    if is_training:\n",
        "        dataset = dataset.shuffle(buffer_size=1000)\n",
        "\n",
        "    dataset = dataset.batch(batch_size)\n",
        "\n",
        "    if is_training:\n",
        "        data_augmentation = tf.keras.Sequential([\n",
        "            tf.keras.layers.RandomFlip('horizontal'),\n",
        "            tf.keras.layers.RandomRotation(0.2),\n",
        "        ])\n",
        "        dataset = dataset.map(lambda x, y: (data_augmentation(x, training=True), y),\n",
        "                              num_parallel_calls=tf.data.AUTOTUNE)\n",
        "\n",
        "    return dataset.prefetch(buffer_size=tf.data.AUTOTUNE)\n",
        "\n",
        "train_ds = prepare_dataset(train_ds, is_training=True)\n",
        "test_ds = prepare_dataset(test_ds)\n",
        "\n",
        "val_ds = test_ds.take(tf.data.experimental.cardinality(test_ds) // 2)\n",
        "test_ds = test_ds.skip(tf.data.experimental.cardinality(test_ds) // 2)\n",
        "\n",
        "print(\"Number of training batches:\", tf.data.experimental.cardinality(train_ds))\n",
        "print(\"Number of validation batches:\", tf.data.experimental.cardinality(val_ds))\n",
        "print(\"Number of test batches:\", tf.data.experimental.cardinality(test_ds))\n",
        "\n",
        "def one_hot_encode(image, label):\n",
        "    return image, tf.one_hot(tf.cast(label, tf.int32), depth=num_classes)\n",
        "\n",
        "train_ds = train_ds.map(one_hot_encode)\n",
        "val_ds = val_ds.map(one_hot_encode)\n",
        "test_ds = test_ds.map(one_hot_encode)\n",
        "\n",
        "# Print an example batch to verify the shape\n",
        "for images, labels in train_ds.take(1):\n",
        "    print(\"Image batch shape:\", images.shape)\n",
        "    print(\"Label batch shape:\", labels.shape)\n",
        "    break"
      ]
    },
    {
      "cell_type": "markdown",
      "metadata": {
        "id": "c58fC7R7Fnl6"
      },
      "source": [
        "#### <a id='toc1_5_3_1_'></a>[Explanations](#toc0_)\n",
        "\n",
        "**Section 1.3** prepares the datasets for training by applying several important transformations and encodings.\n",
        "\n",
        "1. **Dataset Preparation:**\n",
        "   \n",
        "   - The `prepare_dataset` function applies shuffling (for training data), batching, and data augmentation (for training data).\n",
        "   - Datasets are split into train, validation, and test sets.\n",
        "\n",
        "2. **One-Hot Encoding:**\n",
        "\n",
        "   - After the initial preparation, we apply one-hot encoding to the labels in all datasets (train, validation, and test).\n",
        "   - The `one_hot_encode` function converts integer labels to one-hot encoded vectors.\n",
        "\n",
        "3. **Verification:**\n",
        "\n",
        "   - We print the shapes of images and labels from a batch to verify the encoding and overall data structure.\n",
        "\n",
        "4. **Batch Retrieval:**\n",
        "\n",
        "   - A function is provided to safely get a batch from the dataset, which is useful for inspection and debugging.\n",
        "\n",
        "#### <a id='toc1_5_3_2_'></a>[Why this is important](#toc0_)\n",
        "\n",
        "1. **Data Preparation:**\n",
        "\n",
        "   - Proper dataset preparation ensures that the model receives data in the correct format and with appropriate preprocessing.\n",
        "   - Shuffling the training data helps prevent the model from learning any unintended patterns based on the order of samples.\n",
        "   - Batching allows for efficient processing during training.\n",
        "   - Data augmentation helps increase the diversity of the training data, potentially improving model generalization.\n",
        "\n",
        "2. **One-Hot Encoding:**\n",
        "\n",
        "   - One-hot encoding is crucial for multi-class classification problems when using categorical crossentropy loss.\n",
        "   - It converts integer labels (e.g., 0, 1, 2) into vector form (e.g., [1,0,0], [0,1,0], [0,0,1]), which is necessary for the model's output layer and loss function.\n",
        "   - This encoding ensures that the model's output (a probability distribution over classes) matches the format of the labels.\n",
        "\n",
        "3. **Verification:**\n",
        "\n",
        "   - Checking the shapes of the images and labels after preprocessing is vital to catch any issues early.\n",
        "   - It confirms that the one-hot encoding has been applied correctly and that the data dimensions match what the model expects.\n",
        "\n",
        "4. **Batch Retrieval:**\n",
        "\n",
        "   - Having a safe method to retrieve batches allows for easy inspection of the data at various points in the pipeline.\n",
        "   - This can be crucial for debugging and ensuring that the data fed into the model is correct.\n",
        "\n",
        "\n",
        "By performing these steps, we ensure that our data is properly prepared, encoded, and verified before being used for model training, which is crucial for the success and efficiency of the subsequent training process."
      ]
    },
    {
      "cell_type": "markdown",
      "metadata": {
        "id": "INlIP1QtFnl6"
      },
      "source": [
        "### <a id='toc1_5_4_'></a>[**1.4.\tBuild a CNN network using Keras with the following layers**](#toc0_)\n",
        "- Cov2D with 32 filters, kernel size 3,3, and activation relu, followed by MaxPool2D\n",
        "\n",
        "- Cov2D with 32 filters, kernel size 3,3, and activation relu, followed by MaxPool2D\n",
        "\n",
        "- GLobalAveragePooling2D layer\n",
        "\n",
        "- Dense layer with 128 neurons and activation relu\n",
        "\n",
        "- Dense layer with 128 neurons and activation relu\n",
        "- Dense layer with 9 neurons and activation softmax."
      ]
    },
    {
      "cell_type": "code",
      "execution_count": 7,
      "metadata": {
        "colab": {
          "base_uri": "https://localhost:8080/"
        },
        "id": "k8zXWIUeFnl6",
        "outputId": "aa0f4866-2bb3-4141-e04c-debd5d4811a5"
      },
      "outputs": [
        {
          "output_type": "stream",
          "name": "stdout",
          "text": [
            "Model: \"sequential_1\"\n",
            "_________________________________________________________________\n",
            " Layer (type)                Output Shape              Param #   \n",
            "=================================================================\n",
            " conv2d (Conv2D)             (None, 222, 222, 32)      896       \n",
            "                                                                 \n",
            " max_pooling2d (MaxPooling2  (None, 111, 111, 32)      0         \n",
            " D)                                                              \n",
            "                                                                 \n",
            " conv2d_1 (Conv2D)           (None, 109, 109, 32)      9248      \n",
            "                                                                 \n",
            " max_pooling2d_1 (MaxPoolin  (None, 54, 54, 32)        0         \n",
            " g2D)                                                            \n",
            "                                                                 \n",
            " global_average_pooling2d (  (None, 32)                0         \n",
            " GlobalAveragePooling2D)                                         \n",
            "                                                                 \n",
            " dense (Dense)               (None, 128)               4224      \n",
            "                                                                 \n",
            " dense_1 (Dense)             (None, 128)               16512     \n",
            "                                                                 \n",
            " dense_2 (Dense)             (None, 9)                 1161      \n",
            "                                                                 \n",
            "=================================================================\n",
            "Total params: 32041 (125.16 KB)\n",
            "Trainable params: 32041 (125.16 KB)\n",
            "Non-trainable params: 0 (0.00 Byte)\n",
            "_________________________________________________________________\n"
          ]
        }
      ],
      "source": [
        "model = keras.Sequential([\n",
        "    layers.Conv2D(32, (3, 3), activation='relu', input_shape=(img_height, img_width, 3)),\n",
        "    layers.MaxPooling2D((2, 2)),\n",
        "    layers.Conv2D(32, (3, 3), activation='relu'),\n",
        "    layers.MaxPooling2D((2, 2)),\n",
        "    layers.GlobalAveragePooling2D(),\n",
        "    layers.Dense(128, activation='relu'),\n",
        "    layers.Dense(128, activation='relu'),\n",
        "    layers.Dense(num_classes, activation='softmax')\n",
        "])\n",
        "\n",
        "# Print the model summary\n",
        "model.summary()"
      ]
    },
    {
      "cell_type": "markdown",
      "metadata": {
        "id": "hdpUlQ0TFnl6"
      },
      "source": [
        "#### <a id='toc1_5_4_1_'></a>[Explanations](#toc0_)\n",
        "\n",
        "**Section 1.4** defines and builds the CNN (Convolutional Neural Network) as specified. Here's a breakdown of the architecture:\n",
        "\n",
        "1. **First Convolutional Layer:**\n",
        "\n",
        "   - 32 filters with a 3x3 kernel size\n",
        "   - ReLU activation function\n",
        "   - Followed by a 2x2 MaxPooling layer\n",
        "\n",
        "2. **Second Convolutional Layer:**\n",
        "\n",
        "   - 32 filters with a 3x3 kernel size\n",
        "   - ReLU activation function\n",
        "   - Followed by a 2x2 MaxPooling layer\n",
        "\n",
        "3. **Global Average Pooling Layer:**\n",
        "\n",
        "   - Reduces the spatial dimensions of the feature maps to a single value per filter\n",
        "\n",
        "4. **First Dense Layer:**\n",
        "\n",
        "   - 128 neurons with ReLU activation\n",
        "\n",
        "5. **Second Dense Layer:**\n",
        "\n",
        "   - 128 neurons with ReLU activation\n",
        "\n",
        "6. **Output Layer**:\n",
        "\n",
        "   - 9 neurons (one for each class) with softmax activation\n",
        "\n",
        "\n",
        "The `build_cnn_model` function takes the input shape and number of classes as parameters, making it flexible for different image sizes and number of categories.\n",
        "\n",
        "We then use this function to create our model, passing in the image dimensions and number of classes that we determined from our dataset.\n",
        "\n",
        "Finally, we print a summary of the model, which will show the layers, their output shapes, and the total number of parameters in the network.\n",
        "\n",
        "This CNN architecture is designed to:\n",
        "\n",
        "- Extract features from the images using convolutional layers\n",
        "- Reduce spatial dimensions and computational load using max pooling\n",
        "- Convert the 2D feature maps to a 1D feature vector using global average pooling\n",
        "- Make the final classification using fully connected (dense) layers"
      ]
    },
    {
      "cell_type": "markdown",
      "metadata": {
        "id": "_YkQ8cjwFnl7"
      },
      "source": [
        "### <a id='toc1_5_5_'></a>[1.5.\tCompile the model with Adam optimizer, categorical_crossentropy loss, and with metrics accuracy, precision, and recall.](#toc0_)"
      ]
    },
    {
      "cell_type": "code",
      "execution_count": 8,
      "metadata": {
        "colab": {
          "base_uri": "https://localhost:8080/"
        },
        "id": "KHaHAksVFnl7",
        "outputId": "bbe03a07-e8c5-4d12-af81-5f61e6bc96ce"
      },
      "outputs": [
        {
          "output_type": "stream",
          "name": "stdout",
          "text": [
            "Model compiled successfully with the following configuration:\n",
            "Optimizer: Adam\n",
            "Loss function: Categorical Crossentropy\n",
            "Metrics: Accuracy, Precision, Recall\n"
          ]
        }
      ],
      "source": [
        "model.compile(\n",
        "    optimizer='adam',\n",
        "    loss='categorical_crossentropy',\n",
        "    metrics=['accuracy',\n",
        "             tf.keras.metrics.Precision(name='precision'),\n",
        "             tf.keras.metrics.Recall(name='recall')]\n",
        ")\n",
        "\n",
        "print(\"Model compiled successfully with the following configuration:\")\n",
        "print(f\"Optimizer: Adam\")\n",
        "print(f\"Loss function: Categorical Crossentropy\")\n",
        "print(f\"Metrics: Accuracy, Precision, Recall\")"
      ]
    },
    {
      "cell_type": "markdown",
      "metadata": {
        "id": "_Op_xBoDFnl7"
      },
      "source": [
        "#### <a id='toc1_5_5_1_'></a>[Explanations](#toc0_)\n",
        "\n",
        "**Section 1.5** compiles the CNN model we built in the previous section. Here's a breakdown of what each part does:\n",
        "\n",
        "1. **Optimizer: Adam**\n",
        "\n",
        "    - We use the Adam optimizer, which is an adaptive learning rate optimization algorithm.\n",
        "    - Adam is widely used because it combines the benefits of two other extensions of stochastic gradient descent: AdaGrad and RMSProp.\n",
        "    - It's generally a good default choice for many deep learning tasks.\n",
        "\n",
        "2. **Loss Function: Categorical Crossentropy**\n",
        "\n",
        "    - We use 'categorical_crossentropy' as our loss function.\n",
        "    - This is appropriate for multi-class classification problems where each sample belongs to exactly one class.\n",
        "    - It measures the dissimilarity between the predicted probability distribution and the true distribution.\n",
        "\n",
        "3. **Metrics: Accuracy, Precision, and Recall**\n",
        "\n",
        "    - *Accuracy:* Measures the proportion of correct predictions (both true positives and true negatives) among the total number of cases examined.\n",
        "    - *Precision:* Measures the proportion of true positive predictions among all positive predictions. It answers the question: \"Of all the samples predicted as positive, how many actually are positive?\"\n",
        "    - *Recall:* Measures the proportion of true positive predictions among all actual positive samples. It answers the question: \"Of all the actual positive samples, how many were correctly identified?\"\n",
        "\n",
        "#### <a id='toc1_5_5_2_'></a>[Why these choices are important](#toc0_)\n",
        "\n",
        "- Adam optimizer is often a good starting point as it adapts the learning rate during training, which can lead to faster convergence.\n",
        "- Categorical crossentropy is the standard loss function for multi-class classification problems.\n",
        "- Using multiple metrics (accuracy, precision, and recall) provides a more comprehensive evaluation of the model's performance, especially if the classes are imbalanced.\n",
        "- This code block compiles the CNN model we built in the previous section. Here's a breakdown of what each part does:"
      ]
    },
    {
      "cell_type": "markdown",
      "metadata": {
        "id": "xB2c7fj3Fnl7"
      },
      "source": [
        "### <a id='toc1_5_6_'></a>[1.6.\tTrain the model for 20 epochs and plot training loss and accuracy against epochs.](#toc0_)"
      ]
    },
    {
      "cell_type": "code",
      "execution_count": 9,
      "metadata": {
        "colab": {
          "base_uri": "https://localhost:8080/"
        },
        "id": "qXK9q7A-Fnl7",
        "outputId": "28fcd13d-2b8e-4c94-a497-aafa88a02b46"
      },
      "outputs": [
        {
          "output_type": "stream",
          "name": "stdout",
          "text": [
            "Shape of images in a batch: (32, 224, 224, 3)\n",
            "Shape of labels in a batch: (32, 9)\n",
            "Model: \"sequential_1\"\n",
            "_________________________________________________________________\n",
            " Layer (type)                Output Shape              Param #   \n",
            "=================================================================\n",
            " conv2d (Conv2D)             (None, 222, 222, 32)      896       \n",
            "                                                                 \n",
            " max_pooling2d (MaxPooling2  (None, 111, 111, 32)      0         \n",
            " D)                                                              \n",
            "                                                                 \n",
            " conv2d_1 (Conv2D)           (None, 109, 109, 32)      9248      \n",
            "                                                                 \n",
            " max_pooling2d_1 (MaxPoolin  (None, 54, 54, 32)        0         \n",
            " g2D)                                                            \n",
            "                                                                 \n",
            " global_average_pooling2d (  (None, 32)                0         \n",
            " GlobalAveragePooling2D)                                         \n",
            "                                                                 \n",
            " dense (Dense)               (None, 128)               4224      \n",
            "                                                                 \n",
            " dense_1 (Dense)             (None, 128)               16512     \n",
            "                                                                 \n",
            " dense_2 (Dense)             (None, 9)                 1161      \n",
            "                                                                 \n",
            "=================================================================\n",
            "Total params: 32041 (125.16 KB)\n",
            "Trainable params: 32041 (125.16 KB)\n",
            "Non-trainable params: 0 (0.00 Byte)\n",
            "_________________________________________________________________\n",
            "Number of classes: 9\n",
            "Labels are one-hot encoded\n"
          ]
        }
      ],
      "source": [
        "# Check the shape of a batch from the training dataset\n",
        "for images, labels in train_ds.take(1):\n",
        "    print(\"Shape of images in a batch:\", images.shape)\n",
        "    print(\"Shape of labels in a batch:\", labels.shape)\n",
        "\n",
        "# Print the model summary again\n",
        "model.summary()\n",
        "\n",
        "# Check the number of classes\n",
        "print(\"Number of classes:\", len(class_names))\n",
        "\n",
        "# Check if labels are one-hot encoded\n",
        "if len(labels.shape) == 2 and labels.shape[1] > 1:\n",
        "    print(\"Labels are one-hot encoded\")\n",
        "else:\n",
        "    print(\"Labels are not one-hot encoded\")"
      ]
    },
    {
      "cell_type": "code",
      "execution_count": 10,
      "metadata": {
        "colab": {
          "base_uri": "https://localhost:8080/",
          "height": 1000
        },
        "id": "9iwC2UxaFnl7",
        "outputId": "26259b45-84e0-4a51-f2a6-ee15901c2748"
      },
      "outputs": [
        {
          "output_type": "stream",
          "name": "stdout",
          "text": [
            "Epoch 1/20\n",
            "30/30 [==============================] - 11s 269ms/step - loss: 1.9025 - accuracy: 0.3226 - precision: 0.5833 - recall: 0.0226 - val_loss: 1.7729 - val_accuracy: 0.3125 - val_precision: 0.7778 - val_recall: 0.0547\n",
            "Epoch 2/20\n",
            "30/30 [==============================] - 9s 264ms/step - loss: 1.8203 - accuracy: 0.3430 - precision: 0.6842 - recall: 0.0280 - val_loss: 1.8046 - val_accuracy: 0.3125 - val_precision: 0.8182 - val_recall: 0.0703\n",
            "Epoch 3/20\n",
            "30/30 [==============================] - 10s 263ms/step - loss: 1.7984 - accuracy: 0.3430 - precision: 0.6000 - recall: 0.0065 - val_loss: 1.7751 - val_accuracy: 0.3125 - val_precision: 0.8333 - val_recall: 0.0781\n",
            "Epoch 4/20\n",
            "30/30 [==============================] - 9s 257ms/step - loss: 1.7854 - accuracy: 0.3419 - precision: 0.5484 - recall: 0.0183 - val_loss: 1.7565 - val_accuracy: 0.2969 - val_precision: 0.0000e+00 - val_recall: 0.0000e+00\n",
            "Epoch 5/20\n",
            "30/30 [==============================] - 9s 260ms/step - loss: 1.7610 - accuracy: 0.3355 - precision: 0.5000 - recall: 0.0108 - val_loss: 1.7065 - val_accuracy: 0.3125 - val_precision: 0.0000e+00 - val_recall: 0.0000e+00\n",
            "Epoch 6/20\n",
            "30/30 [==============================] - 9s 259ms/step - loss: 1.7445 - accuracy: 0.3344 - precision: 0.6279 - recall: 0.0290 - val_loss: 1.7130 - val_accuracy: 0.3047 - val_precision: 0.5484 - val_recall: 0.1328\n",
            "Epoch 7/20\n",
            "30/30 [==============================] - 9s 261ms/step - loss: 1.7314 - accuracy: 0.3376 - precision: 0.5694 - recall: 0.0441 - val_loss: 1.7344 - val_accuracy: 0.2969 - val_precision: 0.3793 - val_recall: 0.1719\n",
            "Epoch 8/20\n",
            "30/30 [==============================] - 9s 261ms/step - loss: 1.7386 - accuracy: 0.3548 - precision: 0.5000 - recall: 0.0624 - val_loss: 1.7190 - val_accuracy: 0.3047 - val_precision: 0.5556 - val_recall: 0.0781\n",
            "Epoch 9/20\n",
            "30/30 [==============================] - 9s 258ms/step - loss: 1.7341 - accuracy: 0.3570 - precision: 0.6000 - recall: 0.0548 - val_loss: 1.7118 - val_accuracy: 0.3125 - val_precision: 0.6000 - val_recall: 0.0938\n",
            "Epoch 10/20\n",
            "30/30 [==============================] - 9s 261ms/step - loss: 1.7108 - accuracy: 0.3624 - precision: 0.5941 - recall: 0.0645 - val_loss: 1.6908 - val_accuracy: 0.3203 - val_precision: 0.5714 - val_recall: 0.0938\n",
            "Epoch 11/20\n",
            "30/30 [==============================] - 9s 256ms/step - loss: 1.6986 - accuracy: 0.3860 - precision: 0.6812 - recall: 0.0505 - val_loss: 1.7294 - val_accuracy: 0.3203 - val_precision: 0.5000 - val_recall: 0.0859\n",
            "Epoch 12/20\n",
            "30/30 [==============================] - 9s 254ms/step - loss: 1.7081 - accuracy: 0.3871 - precision: 0.6116 - recall: 0.0796 - val_loss: 1.7088 - val_accuracy: 0.3047 - val_precision: 0.4091 - val_recall: 0.1406\n",
            "Epoch 13/20\n",
            "30/30 [==============================] - 9s 262ms/step - loss: 1.6776 - accuracy: 0.3914 - precision: 0.6336 - recall: 0.0892 - val_loss: 1.6814 - val_accuracy: 0.3281 - val_precision: 0.5000 - val_recall: 0.0859\n",
            "Epoch 14/20\n",
            "30/30 [==============================] - 9s 259ms/step - loss: 1.6608 - accuracy: 0.4065 - precision: 0.6279 - recall: 0.1161 - val_loss: 1.7061 - val_accuracy: 0.3438 - val_precision: 0.4265 - val_recall: 0.2266\n",
            "Epoch 15/20\n",
            "30/30 [==============================] - 9s 254ms/step - loss: 1.6828 - accuracy: 0.3903 - precision: 0.5163 - recall: 0.1194 - val_loss: 1.6979 - val_accuracy: 0.3125 - val_precision: 0.7333 - val_recall: 0.0859\n",
            "Epoch 16/20\n",
            "30/30 [==============================] - 9s 254ms/step - loss: 1.6743 - accuracy: 0.3957 - precision: 0.5979 - recall: 0.1247 - val_loss: 1.6700 - val_accuracy: 0.3203 - val_precision: 0.5000 - val_recall: 0.1406\n",
            "Epoch 17/20\n",
            "30/30 [==============================] - 9s 260ms/step - loss: 1.6455 - accuracy: 0.4065 - precision: 0.5935 - recall: 0.1366 - val_loss: 1.6498 - val_accuracy: 0.3516 - val_precision: 0.4722 - val_recall: 0.1328\n",
            "Epoch 18/20\n",
            "30/30 [==============================] - 9s 260ms/step - loss: 1.6432 - accuracy: 0.4140 - precision: 0.6906 - recall: 0.1032 - val_loss: 1.7528 - val_accuracy: 0.3438 - val_precision: 0.4324 - val_recall: 0.2500\n",
            "Epoch 19/20\n",
            "30/30 [==============================] - 9s 260ms/step - loss: 1.6795 - accuracy: 0.4000 - precision: 0.6226 - recall: 0.1065 - val_loss: 1.6923 - val_accuracy: 0.3125 - val_precision: 0.4595 - val_recall: 0.1328\n",
            "Epoch 20/20\n",
            "30/30 [==============================] - 9s 258ms/step - loss: 1.6360 - accuracy: 0.4129 - precision: 0.6074 - recall: 0.1065 - val_loss: 1.6078 - val_accuracy: 0.3594 - val_precision: 0.6842 - val_recall: 0.1016\n"
          ]
        },
        {
          "output_type": "display_data",
          "data": {
            "text/plain": [
              "<Figure size 1200x1000 with 2 Axes>"
            ],
            "image/png": "[encoded data removed]"
          },
          "metadata": {}
        },
        {
          "output_type": "stream",
          "name": "stdout",
          "text": [
            "Final training accuracy: 41.29%\n",
            "Final validation accuracy: 35.94%\n",
            "Final training loss: 1.6360\n",
            "Final validation loss: 1.6078\n"
          ]
        }
      ],
      "source": [
        "history = model.fit(\n",
        "    train_ds,\n",
        "    validation_data=val_ds,\n",
        "    epochs=20\n",
        ")\n",
        "\n",
        "def plot_training_history(history):\n",
        "    fig, (ax1, ax2) = plt.subplots(2, 1, figsize=(12, 10))\n",
        "\n",
        "    ax1.plot(history.history['loss'], label='Training Loss')\n",
        "    ax1.plot(history.history['val_loss'], label='Validation Loss')\n",
        "    ax1.set_title('Model Loss')\n",
        "    ax1.set_ylabel('Loss')\n",
        "    ax1.set_xlabel('Epoch')\n",
        "    ax1.legend()\n",
        "\n",
        "    ax2.plot(history.history['accuracy'], label='Training Accuracy')\n",
        "    ax2.plot(history.history['val_accuracy'], label='Validation Accuracy')\n",
        "    ax2.set_title('Model Accuracy')\n",
        "    ax2.set_ylabel('Accuracy')\n",
        "    ax2.set_xlabel('Epoch')\n",
        "    ax2.legend()\n",
        "\n",
        "    plt.tight_layout()\n",
        "    plt.show()\n",
        "\n",
        "# Plot the training history\n",
        "plot_training_history(history)\n",
        "\n",
        "# Print final training and validation metrics\n",
        "print(\"Final training accuracy: {:.2f}%\".format(history.history['accuracy'][-1] * 100))\n",
        "print(\"Final validation accuracy: {:.2f}%\".format(history.history['val_accuracy'][-1] * 100))\n",
        "print(\"Final training loss: {:.4f}\".format(history.history['loss'][-1]))\n",
        "print(\"Final validation loss: {:.4f}\".format(history.history['val_loss'][-1]))"
      ]
    },
    {
      "cell_type": "markdown",
      "metadata": {
        "id": "IbirVtFOFnl7"
      },
      "source": [
        "#### <a id='toc1_5_6_1_'></a>[Explanations](#toc0_)\n",
        "\n",
        "**Section 1.6** trains the model and visualizes the training progress. Here's a breakdown of what each part does:\n",
        "\n",
        "1. **Training the model:**\n",
        "\n",
        "   - We use the fit() method to train the model.\n",
        "   - `train_ds` is used as the training data.\n",
        "   - `val_ds` is used as the validation data.\n",
        "   - We train for 20 epochs as specified.\n",
        "   - The `verbose=1` parameter gives us detailed output for each epoch.\n",
        "\n",
        "2. **Plotting the training history:**\n",
        "\n",
        "   - We define a function plot_training_history() that creates two subplots:\n",
        "\n",
        "      - **Model Accuracy:** Shows how the training and validation accuracy change over epochs.\n",
        "      - **Model Loss:** Shows how the training and validation loss change over epochs.\n",
        "\n",
        "   - The plots use different colors for training and validation metrics, making it easy to compare them.\n",
        "\n",
        "3. **Printing final metrics:**\n",
        "\n",
        "   - We print the final training and validation accuracy and loss.\n",
        "   - This gives us a quick summary of the model's performance at the end of training.\n",
        "\n",
        "#### <a id='toc1_5_6_2_'></a>[Observations](#toc0_)\n",
        "\n",
        "1. **Training Progress:**\n",
        "   - Training accuracy increased from 32.26% (Epoch 1) to 41.29% (Epoch 20).\n",
        "   - Training loss decreased from 1.9025 (Epoch 1) to 1.6360 (Epoch 20).\n",
        "   - Validation accuracy fluctuated but generally improved from 31.25% (Epoch 1) to 35.94% (Epoch 20).\n",
        "   - Validation loss overall decreased from 1.7729 (Epoch 1) to 1.6078 (Epoch 20).\n",
        "\n",
        "2. **Precision and Recall:**\n",
        "   - Training precision and recall generally improved over time, but remained inconsistent.\n",
        "   - Validation precision and recall were highly volatile, with some epochs showing 0.0000 for both metrics.\n",
        "\n",
        "3. **Performance Ceiling:**\n",
        "   - The model seems to hit a performance ceiling around 41% accuracy for training and 36% for validation.\n",
        "\n",
        "4. **Overfitting:**\n",
        "   - There's a consistent gap between training and validation accuracy, indicating some degree of overfitting.\n",
        "\n",
        "5. **Instability:**\n",
        "   - The validation metrics show significant fluctuations across epochs, suggesting instability in the model's performance on unseen data.\n",
        "\n",
        "#### <a id='toc1_5_6_3_'></a>[Conclusions](#toc0_)\n",
        "\n",
        "1. **Limited Learning:** The model has learned to classify the boats to some extent, but its performance is still relatively poor for a 9-class classification task. An accuracy of around 40% suggests there's significant room for improvement.\n",
        "\n",
        "2. **Overfitting:** The consistent gap between training and validation metrics suggests the model may be overfitting to the training data. This could be addressed by:\n",
        "   - Increasing regularization (e.g., dropout, L2 regularization)\n",
        "   - Collecting more training data\n",
        "   - Simplifying the model architecture\n",
        "\n",
        "3. **Data Issues:** The extreme fluctuations in validation precision and recall, including zero values, suggest potential issues with the validation set. This could be due to:\n",
        "   - Class imbalance in the dataset\n",
        "   - Small validation set size leading to high variance\n",
        "   - Potential data leakage or preprocessing issues\n",
        "\n",
        "4. **Model Limitations:** The performance ceiling around 40% accuracy indicates that the current model architecture or training approach may not be suitable for this particular classification task.\n",
        "\n",
        "5. **Instability:** The fluctuations in validation metrics suggest that the model's performance is not consistent across different subsets of the data, which could indicate issues with generalization.\n",
        "\n",
        "6. **Need for Improvement:** Given the low accuracy and instability, consider:\n",
        "   - Experimenting with different model architectures\n",
        "   - Applying more aggressive data augmentation\n",
        "   - Using transfer learning with a pre-trained model\n",
        "   - Addressing potential class imbalance issues\n",
        "\n",
        "7. **Further Analysis Required:** It would be beneficial to:\n",
        "   - Examine the confusion matrix to understand which classes are most problematic\n",
        "   - Analyze misclassified samples to gain insights into the model's weaknesses\n",
        "   - Investigate the distribution of classes across train and validation sets\n",
        "\n",
        "While the model shows some learning, its performance is suboptimal and unstable. Significant improvements in data preparation, model architecture, and training approach are necessary to create a reliable boat classification system."
      ]
    },
    {
      "cell_type": "markdown",
      "metadata": {
        "id": "QXmcwa4DFnl7"
      },
      "source": [
        "### <a id='toc1_5_7_'></a>[1.7.\tEvaluate the model on test images and print the test loss and accuracy.](#toc0_)"
      ]
    },
    {
      "cell_type": "code",
      "execution_count": 11,
      "metadata": {
        "colab": {
          "base_uri": "https://localhost:8080/"
        },
        "id": "2rVae9BuFnl7",
        "outputId": "816b25c9-43f5-45f8-997c-403d6519d147"
      },
      "outputs": [
        {
          "output_type": "stream",
          "name": "stdout",
          "text": [
            "4/4 [==============================] - 1s 48ms/step - loss: 1.7145 - accuracy: 0.3173 - precision: 0.6250 - recall: 0.0481\n",
            "Test loss: 1.7145\n",
            "Test accuracy: 0.3173\n",
            "Test precision: 0.6250\n",
            "Test recall: 0.0481\n",
            "\n",
            "Comparison with training and validation results:\n",
            "Training accuracy: 43.66%\n",
            "Validation accuracy: 39.06%\n",
            "Test accuracy: 31.73%\n",
            "\n",
            "Training loss: 1.5892\n",
            "Validation loss: 1.5984\n",
            "Test loss: 1.7145\n"
          ]
        }
      ],
      "source": [
        "# Evaluate the model on the test dataset\n",
        "test_loss, test_accuracy, test_precision, test_recall = model.evaluate(test_ds)\n",
        "\n",
        "print(f\"Test loss: {test_loss:.4f}\")\n",
        "print(f\"Test accuracy: {test_accuracy:.4f}\")\n",
        "print(f\"Test precision: {test_precision:.4f}\")\n",
        "print(f\"Test recall: {test_recall:.4f}\")\n",
        "\n",
        "# Compare with training and validation results\n",
        "print(\"\\nComparison with training and validation results:\")\n",
        "print(f\"Training accuracy: 43.66%\")\n",
        "print(f\"Validation accuracy: 39.06%\")\n",
        "print(f\"Test accuracy: {test_accuracy:.2%}\")\n",
        "\n",
        "print(f\"\\nTraining loss: 1.5892\")\n",
        "print(f\"Validation loss: 1.5984\")\n",
        "print(f\"Test loss: {test_loss:.4f}\")"
      ]
    },
    {
      "cell_type": "markdown",
      "metadata": {
        "id": "Cg-nJnxaFnl7"
      },
      "source": [
        "#### <a id='toc1_5_7_1_'></a>[Explanations](#toc0_)\n",
        "\n",
        "**Section 1.7** is evaluating the model with test images and determining the test loss and accuracy.  Specifically:\n",
        "\n",
        "1. Uses the `model.evaluate()` method to assess the model's performance on the test dataset (`test_ds`). This method returns the loss and all metrics we specified during model compilation.\n",
        "2. Caculates and prints the test loss, accuracy, precision, and recall. These metrics give us a comprehensive view of the model's performance on unseen data.\n",
        "3. Compares the test results with the final training and validation results provided. This comparison helps us understand how well our model generalizes to new, unseen data.\n",
        "\n",
        "#### <a id='toc1_5_7_2_'></a>[Observations](#toc0_)\n",
        "\n",
        "1. **Test Performance:**\n",
        "   - **Test loss:** 1.7145\n",
        "   - **Test accuracy:** 31.73%\n",
        "   - **Test precision:** 62.50%\n",
        "   - **Test recall:** 4.81%\n",
        "\n",
        "2. **Comparison with Training and Validation:**\n",
        "   - Training accuracy (43.66%) > Validation accuracy (39.06%) > Test accuracy (31.73%)\n",
        "   - Training loss (1.5892) < Validation loss (1.5984) < Test loss (1.7145)\n",
        "\n",
        "3. **Precision and Recall:**\n",
        "   - Test precision (62.50%) is relatively high compared to the accuracy.\n",
        "   - Test recall (4.81%) is very low.\n",
        "\n",
        "4. **Performance Degradation:**\n",
        "   - There's a noticeable drop in accuracy from training to validation to test sets.\n",
        "   - The loss increases from training to validation to test sets.\n",
        "\n",
        "#### <a id='toc1_5_7_3_'></a>[Conclusions](#toc0_)\n",
        "\n",
        "1. **Overfitting:** The significant drop in accuracy from training (43.66%) to test (31.73%) strongly suggests that the model is overfitting to the training data. It's not generalizing well to unseen data.\n",
        "\n",
        "2. **Poor Generalization:** The test accuracy of 31.73% indicates that the model's performance on new, unseen data is poor. For a multi-class classification problem, this is only marginally better than random guessing, depending on the number of classes.\n",
        "\n",
        "3. **Precision-Recall Tradeoff:** The high precision (62.50%) coupled with very low recall (4.81%) suggests that the model is being extremely conservative in its predictions. It's making very few positive predictions, but when it does, it's often correct. However, it's missing the vast majority of positive cases.\n",
        "\n",
        "4. **Class Imbalance:** The discrepancy between accuracy and precision might indicate class imbalance in the dataset. The model might be performing well on some classes but poorly on others.\n",
        "\n",
        "5. **Model Limitations:** The overall low performance across all metrics (accuracy, recall) indicates that the current model architecture or training approach is not suitable for this particular classification task.\n",
        "\n",
        "6. **Data Issues:** The consistent degradation of performance from training to validation to test sets might also point to potential issues with data distribution across these sets. There might be a mismatch in the distribution of classes or features.\n",
        "\n",
        "7. **Need for Model Improvement:**\n",
        "\n",
        "  Given the poor test performance, significant improvements are needed. This could include:\n",
        "   - Redesigning the model architecture\n",
        "   - Implementing more effective regularization techniques\n",
        "   - Using transfer learning with a pre-trained model\n",
        "   - Addressing potential class imbalance issues\n",
        "   - Collecting more diverse training data\n",
        "\n",
        "8. **Further Analysis Required:** It would be beneficial to:\n",
        "   - Examine the confusion matrix to understand which classes are most problematic\n",
        "   - Analyze misclassified samples to gain insights into the model's weaknesses\n",
        "   - Investigate the distribution of classes across train, validation, and test sets\n",
        "\n",
        "While the model showed some learning capacity during training, its poor performance on the test set indicates serious limitations in its current form. The next steps should focus on addressing overfitting, improving generalization, and potentially revisiting the fundamental approach to this classification task."
      ]
    },
    {
      "cell_type": "markdown",
      "metadata": {
        "id": "LFA2TqhyFnl7"
      },
      "source": [
        "### <a id='toc1_5_8_'></a>[1.8.\tPlot heatmap of the confusion matrix and print classification report.](#toc0_)"
      ]
    },
    {
      "cell_type": "code",
      "execution_count": 12,
      "metadata": {
        "colab": {
          "base_uri": "https://localhost:8080/"
        },
        "id": "3bVyVvFVFnl7",
        "outputId": "b6346015-f815-4bb1-ca59-1a969fe66f8d"
      },
      "outputs": [
        {
          "output_type": "stream",
          "name": "stdout",
          "text": [
            "4/4 [==============================] - 1s 47ms/step\n",
            "Unique classes in true labels: [0 1 2 3 4 5 6 8]\n",
            "Unique classes in predictions: [1 4 6 8]\n",
            "Class distribution in true labels: [ 6 17  7  3 17  1 23  0 30]\n",
            "Class distribution in predictions: [ 0  2  0  0 41  0  5  0 56]\n"
          ]
        }
      ],
      "source": [
        "# Get predictions for the test dataset\n",
        "y_pred_probabilities = model.predict(test_ds)\n",
        "y_pred = np.argmax(y_pred_probabilities, axis=1)\n",
        "\n",
        "# Get true labels\n",
        "y_true = []\n",
        "for _, labels in test_ds:\n",
        "    y_true.extend(np.argmax(labels, axis=1))\n",
        "y_true = np.array(y_true)\n",
        "\n",
        "print(\"Unique classes in true labels:\", np.unique(y_true))\n",
        "print(\"Unique classes in predictions:\", np.unique(y_pred))\n",
        "print(\"Class distribution in true labels:\", np.bincount(y_true))\n",
        "print(\"Class distribution in predictions:\", np.bincount(y_pred))"
      ]
    },
    {
      "cell_type": "code",
      "execution_count": 13,
      "metadata": {
        "colab": {
          "base_uri": "https://localhost:8080/",
          "height": 1000
        },
        "id": "4zkwsGJOFnl7",
        "outputId": "1f78f617-7614-42dc-d2fd-8aa9b7dbf874"
      },
      "outputs": [
        {
          "output_type": "stream",
          "name": "stdout",
          "text": [
            "Original class names: ['buoy', 'cruise_ship', 'ferry_boat', 'freight_boat', 'gondola', 'inflatable_boat', 'kayak', 'paper_boat', 'sailboat']\n",
            "Number of original classes: 9\n",
            "Unique classes in true labels: [0 1 2 3 4 5 6 8]\n",
            "Unique classes in predictions: [1 4 6 8]\n",
            "Number of unique classes in true labels: 8\n",
            "Number of unique classes in predictions: 4\n",
            "Classes present in true labels or predictions: ['buoy', 'cruise_ship', 'ferry_boat', 'freight_boat', 'gondola', 'inflatable_boat', 'kayak', 'sailboat']\n",
            "Number of present classes: 8\n",
            "\n",
            "Classification Report:\n",
            "                 precision    recall  f1-score   support\n",
            "\n",
            "           buoy       0.00      0.00      0.00         6\n",
            "    cruise_ship       0.00      0.00      0.00        17\n",
            "     ferry_boat       0.00      0.00      0.00         7\n",
            "   freight_boat       0.00      0.00      0.00         3\n",
            "        gondola       0.27      0.65      0.38        17\n",
            "inflatable_boat       0.00      0.00      0.00         1\n",
            "          kayak       0.40      0.09      0.14        23\n",
            "       sailboat       0.36      0.67      0.47        30\n",
            "\n",
            "       accuracy                           0.32       104\n",
            "      macro avg       0.13      0.18      0.12       104\n",
            "   weighted avg       0.24      0.32      0.23       104\n",
            "\n"
          ]
        },
        {
          "output_type": "display_data",
          "data": {
            "text/plain": [
              "<Figure size 1000x800 with 2 Axes>"
            ],
            "image/png": "[encoded data removed]"
          },
          "metadata": {}
        },
        {
          "output_type": "stream",
          "name": "stdout",
          "text": [
            "\n",
            "Per-class Accuracy:\n",
            "buoy: 0.00% (0/5)\n",
            "cruise_ship: 0.00% (0/6)\n",
            "ferry_boat: 0.00% (0/1)\n",
            "freight_boat: 0.00% (0/3)\n",
            "gondola: 100.00% (11/11)\n",
            "inflatable_boat: 0.00% (0/1)\n",
            "kayak: 18.18% (2/11)\n",
            "sailboat: No samples\n",
            "\n",
            "Overall Accuracy: 34.21%\n",
            "\n",
            "Class Distribution in Test Set:\n",
            "buoy: 5\n",
            "cruise_ship: 6\n",
            "ferry_boat: 1\n",
            "freight_boat: 3\n",
            "gondola: 11\n",
            "inflatable_boat: 1\n",
            "kayak: 11\n",
            "sailboat: 0\n",
            "\n",
            "Class Distribution in Predictions:\n",
            "buoy: 0\n",
            "cruise_ship: 1\n",
            "ferry_boat: 0\n",
            "freight_boat: 0\n",
            "gondola: 33\n",
            "inflatable_boat: 0\n",
            "kayak: 4\n",
            "sailboat: 0\n"
          ]
        }
      ],
      "source": [
        "\n",
        "\n",
        "# Now we can proceed with the confusion matrix and classification report\n",
        "print(\"Original class names:\", class_names)\n",
        "print(\"Number of original classes:\", len(class_names))\n",
        "print(\"Unique classes in true labels:\", np.unique(y_true))\n",
        "print(\"Unique classes in predictions:\", np.unique(y_pred))\n",
        "print(\"Number of unique classes in true labels:\", len(np.unique(y_true)))\n",
        "print(\"Number of unique classes in predictions:\", len(np.unique(y_pred)))\n",
        "\n",
        "# Get the union of classes present in both true labels and predictions\n",
        "all_present_classes = np.union1d(np.unique(y_true), np.unique(y_pred))\n",
        "present_class_names = [class_names[i] for i in all_present_classes if i < len(class_names)]\n",
        "\n",
        "print(\"Classes present in true labels or predictions:\", present_class_names)\n",
        "print(\"Number of present classes:\", len(present_class_names))\n",
        "\n",
        "# Generate classification report\n",
        "print(\"\\nClassification Report:\")\n",
        "print(classification_report(y_true, y_pred, target_names=present_class_names, zero_division=0))\n",
        "\n",
        "# Plot confusion matrix\n",
        "def plot_confusion_matrix(y_true, y_pred, class_names):\n",
        "    cm = confusion_matrix(y_true, y_pred, labels=range(len(class_names)))\n",
        "    plt.figure(figsize=(10, 8))\n",
        "    sns.heatmap(cm, annot=True, fmt='d', cmap='Blues',\n",
        "                xticklabels=class_names,\n",
        "                yticklabels=class_names)\n",
        "    plt.title('Confusion Matrix')\n",
        "    plt.ylabel('True Label')\n",
        "    plt.xlabel('Predicted Label')\n",
        "    plt.tight_layout()\n",
        "    plt.show()\n",
        "\n",
        "plot_confusion_matrix(y_true, y_pred, present_class_names)\n",
        "\n",
        "# Calculate per-class accuracy\n",
        "cm = confusion_matrix(y_true, y_pred, labels=range(len(present_class_names)))\n",
        "\n",
        "def safe_divide(a, b):\n",
        "    return np.divide(a, b, out=np.zeros_like(a, dtype=float), where=b!=0)\n",
        "\n",
        "class_total = cm.sum(axis=1)\n",
        "class_correct = cm.diagonal()\n",
        "per_class_accuracy = safe_divide(class_correct, class_total)\n",
        "\n",
        "print(\"\\nPer-class Accuracy:\")\n",
        "for class_name, accuracy, correct, total in zip(present_class_names, per_class_accuracy, class_correct, class_total):\n",
        "    if total == 0:\n",
        "        print(f\"{class_name}: No samples\")\n",
        "    else:\n",
        "        print(f\"{class_name}: {accuracy:.2%} ({correct}/{total})\")\n",
        "\n",
        "# Overall accuracy\n",
        "overall_accuracy = np.sum(class_correct) / np.sum(class_total)\n",
        "print(f\"\\nOverall Accuracy: {overall_accuracy:.2%}\")\n",
        "\n",
        "# Class distribution in true labels\n",
        "print(\"\\nClass Distribution in Test Set:\")\n",
        "for class_name, total in zip(present_class_names, class_total):\n",
        "    print(f\"{class_name}: {total}\")\n",
        "\n",
        "# Class distribution in predictions\n",
        "pred_total = cm.sum(axis=0)\n",
        "print(\"\\nClass Distribution in Predictions:\")\n",
        "for class_name, total in zip(present_class_names, pred_total):\n",
        "    print(f\"{class_name}: {total}\")"
      ]
    },
    {
      "cell_type": "markdown",
      "metadata": {
        "id": "Tdz6oUcHFnl7"
      },
      "source": [
        "#### <a id='toc1_5_8_1_'></a>[Explanations](#toc0_)\n",
        "\n",
        "**Section 1.8** is performing a detailed analysis of the model's performance on the test dataset. Specifically, it's:\n",
        "\n",
        "1. Identifying the classes present in the true labels and predictions.\n",
        "2. Generating a classification report that includes precision, recall, and F1-score for each class.\n",
        "3. Calculating per-class accuracy.\n",
        "4. Displaying class distribution in the test set and model predictions.\n",
        "\n",
        "#### <a id='toc1_5_8_2_'></a>[Observations](#toc0_)\n",
        "\n",
        "1. **Class Representation:**\n",
        "   - Original classes: 9\n",
        "   - Classes in true labels: 8 (paper_boat is missing)\n",
        "   - Classes in predictions: 4 (only predicting cruise_ship, gondola, kayak, and sailboat)\n",
        "\n",
        "2. **Classification Report:**\n",
        "   - Overall accuracy: 32%\n",
        "   - Only three classes have non-zero scores: gondola, kayak, and sailboat\n",
        "   - Gondola: Precision 0.27, Recall 0.65, F1-score 0.38\n",
        "   - Kayak: Precision 0.40, Recall 0.09, F1-score 0.14\n",
        "   - Sailboat: Precision 0.36, Recall 0.67, F1-score 0.47\n",
        "\n",
        "3. **Per-class Accuracy:**\n",
        "   - Gondola: 100.00% (11/11)\n",
        "   - Kayak: 18.18% (2/11)\n",
        "   - All other classes: 0.00%\n",
        "   - Sailboat: No samples in the test set\n",
        "\n",
        "4. **Class Imbalance:**\n",
        "   - Test set has varying numbers of samples per class (from 0 to 11)\n",
        "   - Sailboat has no samples in the test set\n",
        "   - Inflatable_boat and ferry_boat have only 1 sample each\n",
        "\n",
        "5. **Prediction Distribution:**\n",
        "   - The model is heavily biased towards predicting gondola (33 predictions)\n",
        "   - It rarely predicts kayak (4 predictions) and cruise_ship (1 prediction)\n",
        "   - It never predicts the other classes\n",
        "\n",
        "#### <a id='toc1_5_8_3_'></a>[Conclusions](#toc0_)\n",
        "\n",
        "1. **Limited Prediction Range:** The model is only making predictions for 4 out of 9 classes, severely limiting its usefulness in a real-world scenario.\n",
        "\n",
        "2. **Poor Overall Performance:** With an accuracy of 32%, the model is performing only slightly better than random guessing for a 9-class problem.\n",
        "\n",
        "3. **Severe Class Imbalance:** The varying sample numbers and the model's failure to predict several classes suggest significant class imbalance in the dataset.\n",
        "\n",
        "4. **Overfitting to Specific Classes:** The model shows some ability to recognize gondolas but performs poorly on most other classes. The 100% accuracy for gondola is misleading given its low precision.\n",
        "\n",
        "5. **Data Quality Concerns:** The absence of sailboat samples in the test set and only one sample each for some classes suggests potential issues in data preparation or splitting.\n",
        "\n",
        "6. **Model Bias:** The model is heavily biased towards predicting gondola, which could be due to class imbalance in the training data or features that are not distinctive enough for other classes.\n",
        "\n",
        "7. **Misleading Metrics:** The high recall for gondola and sailboat is misleading given the overall poor performance and should be interpreted cautiously.\n",
        "\n",
        "8. **Failure on Minority Classes:** The model completely fails on classes with few samples, indicating it hasn't learned to recognize these boat types at all.\n",
        "\n",
        "\n",
        "#### <a id='toc1_5_8_3_'></a>[Recommendations](#toc0_)\n",
        "\n",
        "1. **Address Class Imbalance:** Use techniques like oversampling, undersampling, or SMOTE to balance the dataset.\n",
        "2. **Data Augmentation:** Increase the diversity of training samples, especially for underrepresented classes.\n",
        "3. **Model Architecture Review:** The current model may not be complex enough to capture the nuances between different boat types. Consider using a more sophisticated architecture or transfer learning.\n",
        "4. **Feature Engineering:** Investigate if the current features are sufficient to distinguish between different boat types.\n",
        "5. **Error Analysis:** Examine misclassified instances to understand why the model is failing for certain classes.\n",
        "6. **Data Quality Check:** Review the dataset to ensure all classes are correctly represented and labeled, especially in the test set.\n",
        "7. **Cross-Validation:** Implement k-fold cross-validation to get a more robust evaluation of the model's performance.\n",
        "\n",
        "The model's performance is poor and inconsistent across classes. Significant improvements in data preparation, model architecture, and training approach are necessary to create a reliable boat classification system."
      ]
    },
    {
      "cell_type": "markdown",
      "metadata": {
        "id": "7ss5CNjBFnl7"
      },
      "source": [
        "## <a id='toc1_6_'></a>[2.\tBuild a lightweight model with the aim of deploying the solution on a mobile device using transfer learning.](#toc0_)\n",
        "You can use any lightweight pre-trained model as the initial (first) layer. MobileNetV2 is a popular lightweight pre-trained model built using Keras API."
      ]
    },
    {
      "cell_type": "markdown",
      "metadata": {
        "id": "jwflhV6SFnl7"
      },
      "source": [
        "**Setup: Import Necessary Libraries**"
      ]
    },
    {
      "cell_type": "code",
      "execution_count": 14,
      "metadata": {
        "id": "BsR7a30fFnl7"
      },
      "outputs": [],
      "source": [
        "import pathlib\n",
        "import matplotlib.pyplot as plt\n",
        "import tensorflow as tf\n",
        "from tensorflow.keras import layers, models\n",
        "from tensorflow.keras.applications import MobileNetV2\n",
        "from tensorflow.keras.callbacks import EarlyStopping\n",
        "from tensorflow.keras.metrics import Precision, Recall\n",
        "from tensorflow.keras.optimizers import Adam\n",
        "\n",
        "# Set the path to your dataset\n",
        "#data_dir = pathlib.Path(\"boat_type_classification_dataset\")\n",
        "data_dir = pathlib.Path(\"/content/drive/MyDrive/Colab Notebooks/datasets/boat_type_classification_dataset\")\n",
        "\n",
        "# Set common parameters\n",
        "batch_size = 32\n",
        "img_height = 224\n",
        "img_width = 224"
      ]
    },
    {
      "cell_type": "markdown",
      "metadata": {
        "id": "O1kt24D1Fnl8"
      },
      "source": [
        "### <a id='toc1_6_1_'></a>[2.1.\tSplit the dataset into train and test datasets in the ration 70:30, with shuffle and random state=1.](#toc0_)"
      ]
    },
    {
      "cell_type": "code",
      "execution_count": 15,
      "metadata": {
        "colab": {
          "base_uri": "https://localhost:8080/"
        },
        "id": "q-VHKmZ_Fnl8",
        "outputId": "0566d8db-5573-462f-a99a-df130a904975"
      },
      "outputs": [
        {
          "output_type": "stream",
          "name": "stdout",
          "text": [
            "Found 1162 files belonging to 9 classes.\n",
            "Using 814 files for training.\n",
            "Found 1162 files belonging to 9 classes.\n",
            "Using 348 files for validation.\n",
            "Class names: ['buoy', 'cruise_ship', 'ferry_boat', 'freight_boat', 'gondola', 'inflatable_boat', 'kayak', 'paper_boat', 'sailboat']\n",
            "Number of classes: 9\n"
          ]
        }
      ],
      "source": [
        "# 2.1: Load and split the dataset\n",
        "train_ds = tf.keras.preprocessing.image_dataset_from_directory(\n",
        "    data_dir,\n",
        "    validation_split=0.3,\n",
        "    subset=\"training\",\n",
        "    seed=1,\n",
        "    image_size=(img_height, img_width),\n",
        "    batch_size=batch_size,\n",
        "    shuffle=True\n",
        ")\n",
        "\n",
        "test_ds = tf.keras.preprocessing.image_dataset_from_directory(\n",
        "    data_dir,\n",
        "    validation_split=0.3,\n",
        "    subset=\"validation\",\n",
        "    seed=1,\n",
        "    image_size=(img_height, img_width),\n",
        "    batch_size=batch_size,\n",
        "    shuffle=True\n",
        ")\n",
        "\n",
        "# Store class names before preprocessing\n",
        "class_names = train_ds.class_names\n",
        "num_classes = len(class_names)\n",
        "print(\"Class names:\", class_names)\n",
        "print(\"Number of classes:\", num_classes)"
      ]
    },
    {
      "cell_type": "markdown",
      "metadata": {
        "id": "nMc_qxKsFnl8"
      },
      "source": [
        "#### <a id='toc1_6_1_1_'></a>[Explanations](#toc0_)\n",
        "\n",
        "**Section 2.1** is responsible for loading the dataset and splitting it into training and testing sets.\n",
        "\n",
        "- We use `tf.keras.preprocessing.image_dataset_from_directory` to load images directly from the filesystem. This function is convenient as it handles the file reading and label assignment automatically.\n",
        "- We set `validation_split=0.3` and `subset=\"both\"` to get both training and testing sets in an 70:30 ratio.\n",
        "- `seed=1` ensures reproducibility of the random split.\n",
        "- `shuffle=True` randomizes the order of the samples, which is important for training neural networks.\n",
        "- We set `batch_size=batch_size` setting the batch size here means that our dataset will be divided into batches of 32 images each. This is important for several reasons:\n",
        "  - *Memory Efficiency:* Processing 32 images at a time is more memory-efficient than loading the entire dataset at once, especially for large datasets.\n",
        "  - *Training Dynamics:* Batch size affects the dynamics of model training. A batch size of 32 is often a good default, balancing between the noisy gradients of very small batches and the longer computation time of larger batches.\n",
        "  - *Consistency:* By setting the batch size here, we ensure that all parts of our pipeline (data loading, augmentation, model training) use the same batch size.\n",
        "- The `image_size` parameter resizes all images to a consistent size, which is necessary for batch processing in neural networks.\n",
        "\n",
        "#### <a id='toc1_6_1_2_'></a>[Why It's Important](#toc0_)\n",
        "\n",
        "- Properly splitting the data ensures we have separate sets for training and evaluation, which is crucial for assessing the model's performance on unseen data.\n",
        "- The 70:30 split is a common ratio that balances having enough training data while still retaining a significant portion for testing.\n",
        "- Shuffling the data helps prevent any bias that might occur from the order of the samples."
      ]
    },
    {
      "cell_type": "markdown",
      "metadata": {
        "id": "rzT59d4SFnl8"
      },
      "source": [
        "### <a id='toc1_6_2_'></a>[2.2.\tUse tf.keras.preprocessing.image_dataset_from_directory to load the train and test datasets.](#toc0_)\n",
        "This function also supports data normalization.*(Hint: Image_scale=1./255)*"
      ]
    },
    {
      "cell_type": "code",
      "execution_count": 16,
      "metadata": {
        "id": "wemeE-LDFnl8"
      },
      "outputs": [],
      "source": [
        "# 2.2: Prepare datasets (including normalization)\n",
        "def prepare_dataset(dataset):\n",
        "    # Normalize images\n",
        "    dataset = dataset.map(lambda x, y: (tf.cast(x, tf.float32) / 255.0, y))\n",
        "    # Convert labels to one-hot encoding\n",
        "    dataset = dataset.map(lambda x, y: (x, tf.one_hot(y, depth=num_classes)))\n",
        "    return dataset.prefetch(buffer_size=tf.data.AUTOTUNE)\n",
        "\n",
        "train_ds = prepare_dataset(train_ds)\n",
        "test_ds = prepare_dataset(test_ds)"
      ]
    },
    {
      "cell_type": "markdown",
      "metadata": {
        "id": "lSFIO0KFFnl8"
      },
      "source": [
        "#### <a id='toc1_6_2_1_'></a>[Explanations](#toc0_)\n",
        "\n",
        "**Section 2.2** focuses on normalizing the image data and verifying that the normalization was applied correctly.\n",
        "\n",
        "- We define a `normalize_img` function that converts the image data from integers in the range [0, 255] to floating-point numbers in the range [0, 1].\n",
        "- We apply this normalization to both the training and testing datasets using the map function.\n",
        "- The `check_normalization` function safely checks the range of values in the normalized datasets.\n",
        "\n",
        "#### <a id='toc1_6_2_2_'></a>[Why It's Important](#toc0_)\n",
        "\n",
        "1. **Normalization:**\n",
        "   - Scaling the input data to a standard range (0-1) is crucial for neural networks. It helps the model converge faster during training and can lead to better overall performance.\n",
        "   - Normalized data ensures that all features contribute equally to the model's learning process, preventing features with larger scales from dominating the learning.\n",
        "\n",
        "2. **One-Hot Encoding:**\n",
        "   - One-hot encoding is necessary for multi-class classification problems when using categorical crossentropy loss.\n",
        "   - It converts categorical variables into a format that works better with classification algorithms and neural network architectures.\n",
        "\n",
        "3. **Performance Optimization:**\n",
        "   - The prefetch operation allows later elements to be prepared while the current element is being processed. This can significantly improve performance, especially on TPUs or multi-GPU systems.\n",
        "\n",
        "4. **Standardized Data Format:**\n",
        "   - By applying these transformations, the data is put into a standardized format that's ideal for training deep learning models. This ensures compatibility with the model architecture and loss functions.\n",
        "\n",
        "5. **Reproducibility and Consistency:**\n",
        "   - Applying the same preprocessing to both training and test datasets ensures consistency, which is crucial for fair evaluation of the model's performance.\n",
        "\n",
        "6. **Memory Efficiency:**\n",
        "   - Processing the data in this way allows for efficient memory usage, especially important when working with large datasets that might not fit entirely in memory.\n",
        "\n",
        "Section 2.2 is a critical data preparation step that normalizes the input, prepares the labels, and optimizes the data pipeline. These operations are fundamental to ensuring the model can learn effectively from the data and generalize well to new examples."
      ]
    },
    {
      "cell_type": "markdown",
      "metadata": {
        "id": "669b3OdUFnl8"
      },
      "source": [
        "### <a id='toc1_6_3_'></a>[2.3.\tLoad train, validation and test datasets in batches of 32 using the function initialized in the above step.](#toc0_)"
      ]
    },
    {
      "cell_type": "code",
      "execution_count": 17,
      "metadata": {
        "colab": {
          "base_uri": "https://localhost:8080/"
        },
        "id": "BkSpwTvuFnl8",
        "outputId": "960f1dbe-5ca8-49c5-a9bb-ae6cfbb7965d"
      },
      "outputs": [
        {
          "output_type": "stream",
          "name": "stdout",
          "text": [
            "Number of training batches: 26\n",
            "Number of validation batches: 5\n",
            "Number of test batches: 6\n",
            "Image shape: (32, 224, 224, 3)\n",
            "Label shape: (32, 9)\n"
          ]
        }
      ],
      "source": [
        "# 2.3: Split test_ds into validation and test\n",
        "val_ds = test_ds.take(len(test_ds) // 2)\n",
        "test_ds = test_ds.skip(len(test_ds) // 2)\n",
        "\n",
        "print(\"Number of training batches:\", len(train_ds))\n",
        "print(\"Number of validation batches:\", len(val_ds))\n",
        "print(\"Number of test batches:\", len(test_ds))\n",
        "\n",
        "# Check the shape of our data\n",
        "for images, labels in train_ds.take(1):\n",
        "    print(\"Image shape:\", images.shape)\n",
        "    print(\"Label shape:\", labels.shape)"
      ]
    },
    {
      "cell_type": "markdown",
      "metadata": {
        "id": "vwnHtTc0Fnl8"
      },
      "source": [
        "#### <a id='toc1_6_3_1_'></a>[Explanations](#toc0_)\n",
        "\n",
        "**Section 2.3** prepares the datasets for training by applying several important transformations and encodings. Here's a breakdown of the key steps:\n",
        "\n",
        "1. **Splitting the Data:**\n",
        "   The code is splitting the original dataset into three parts: training, validation, and test sets. This is a crucial step in machine learning workflows.\n",
        "\n",
        "2. **Checking Batch Sizes:**\n",
        "   The output shows:\n",
        "   - Number of training batches: 26\n",
        "   - Number of validation batches: 5\n",
        "   - Number of test batches: 6\n",
        "\n",
        "   This indicates how many batches of data are in each set when using a batch size of 32.\n",
        "\n",
        "3. **Verifying Data Shapes:**\n",
        "   The output also shows:\n",
        "   - Image shape: (32, 224, 224, 3)\n",
        "   - Label shape: (32, 9)\n",
        "\n",
        "#### <a id='toc1_6_3_2_'></a>[Why this is important](#toc0_)\n",
        "\n",
        "1. **Data Split:**\n",
        "   - Separating data into training, validation, and test sets is crucial for properly evaluating model performance.\n",
        "   - The training set is used to train the model.\n",
        "   - The validation set helps in tuning hyperparameters and preventing overfitting.\n",
        "   - The test set provides an unbiased evaluation of the final model's performance.\n",
        "\n",
        "2. **Batch Processing:**\n",
        "   - Processing data in batches (32 samples per batch here) is important for efficient training, especially with large datasets.\n",
        "   - It allows for stochastic gradient descent and related optimization algorithms to work effectively.\n",
        "   - The number of batches gives an idea of how many iterations will occur in each epoch during training.\n",
        "\n",
        "3. **Data Dimensions:**\n",
        "   - Knowing the image shape (32, 224, 224, 3) confirms:\n",
        "     * 32 images per batch\n",
        "     * Each image is 224x224 pixels\n",
        "     * 3 color channels (RGB)\n",
        "   - This is crucial for ensuring the data matches the expected input of the model architecture.\n",
        "\n",
        "4. **Label Information:**\n",
        "   - The label shape (32, 9) indicates:\n",
        "     * 32 labels per batch (matching the number of images)\n",
        "     * 9 classes in the classification task\n",
        "   - This confirms that the labels are properly one-hot encoded.\n",
        "\n",
        "5. **Memory Management:**\n",
        "   - Batching allows for efficient memory usage, especially important when working with large datasets that might not fit entirely in memory.\n",
        "\n",
        "6. **Training Process Insight:**\n",
        "   - Knowing the number of batches helps in understanding how long each epoch will take and how often the model will update its weights.\n",
        "\n",
        "7. **Validation Strategy:**\n",
        "   - The presence of validation batches indicates that the model will be evaluated during training, which is crucial for monitoring performance and preventing overfitting.\n",
        "\n",
        "8. **Reproducibility:**\n",
        "   - Clearly defined data splits and batch sizes contribute to the reproducibility of the experiment.\n",
        "\n",
        "Section 2.3 is setting up the data pipeline for training, validation, and testing. It ensures that the data is properly structured, split, and batched for efficient and effective model training and evaluation. The output provides crucial information about the dataset structure and preparation, which is fundamental for understanding the subsequent model training process and results interpretation."
      ]
    },
    {
      "cell_type": "markdown",
      "metadata": {
        "id": "YyS5F1cPFnl8"
      },
      "source": [
        "### <a id='toc1_6_4_'></a>[2.4.\tBuild a CNN network using Keras with the following layers.](#toc0_)\n",
        "     \n",
        "- Load MobileNetV2 - Light Model as the first layer *(Hint: Keras API Doc)*\n",
        "- GLobalAveragePooling2D layer\n",
        "- Dropout(0.2)\n",
        "- Dense layer with 256 neurons and activation relu\n",
        "- BatchNormalization layer\n",
        "- Dropout(0.1)\n",
        "- Dense layer with 128 neurons and activation relu\n",
        "- BatchNormalization layer\n",
        "- Dropout(0.1)\n",
        "- Dense layer with 9 neurons and activation softmax"
      ]
    },
    {
      "cell_type": "code",
      "execution_count": 18,
      "metadata": {
        "colab": {
          "base_uri": "https://localhost:8080/"
        },
        "id": "_rDLd38pFnl8",
        "outputId": "60c41a38-b9f4-46b3-97b4-40646fd5551e"
      },
      "outputs": [
        {
          "output_type": "stream",
          "name": "stdout",
          "text": [
            "Model: \"sequential_2\"\n",
            "_________________________________________________________________\n",
            " Layer (type)                Output Shape              Param #   \n",
            "=================================================================\n",
            " mobilenetv2_1.00_224 (Func  (None, 7, 7, 1280)        2257984   \n",
            " tional)                                                         \n",
            "                                                                 \n",
            " global_average_pooling2d_1  (None, 1280)              0         \n",
            "  (GlobalAveragePooling2D)                                       \n",
            "                                                                 \n",
            " dropout (Dropout)           (None, 1280)              0         \n",
            "                                                                 \n",
            " dense_3 (Dense)             (None, 256)               327936    \n",
            "                                                                 \n",
            " batch_normalization (Batch  (None, 256)               1024      \n",
            " Normalization)                                                  \n",
            "                                                                 \n",
            " dropout_1 (Dropout)         (None, 256)               0         \n",
            "                                                                 \n",
            " dense_4 (Dense)             (None, 128)               32896     \n",
            "                                                                 \n",
            " batch_normalization_1 (Bat  (None, 128)               512       \n",
            " chNormalization)                                                \n",
            "                                                                 \n",
            " dropout_2 (Dropout)         (None, 128)               0         \n",
            "                                                                 \n",
            " dense_5 (Dense)             (None, 9)                 1161      \n",
            "                                                                 \n",
            "=================================================================\n",
            "Total params: 2621513 (10.00 MB)\n",
            "Trainable params: 362761 (1.38 MB)\n",
            "Non-trainable params: 2258752 (8.62 MB)\n",
            "_________________________________________________________________\n"
          ]
        }
      ],
      "source": [
        "# 2.4: Build the model\n",
        "def build_model(num_classes):\n",
        "    base_model = MobileNetV2(weights='imagenet', include_top=False, input_shape=(img_height, img_width, 3))\n",
        "    base_model.trainable = False\n",
        "\n",
        "    model = models.Sequential([\n",
        "        base_model,\n",
        "        layers.GlobalAveragePooling2D(),\n",
        "        layers.Dropout(0.2),\n",
        "        layers.Dense(256, activation='relu'),\n",
        "        layers.BatchNormalization(),\n",
        "        layers.Dropout(0.1),\n",
        "        layers.Dense(128, activation='relu'),\n",
        "        layers.BatchNormalization(),\n",
        "        layers.Dropout(0.1),\n",
        "        layers.Dense(num_classes, activation='softmax')\n",
        "    ])\n",
        "\n",
        "    return model\n",
        "\n",
        "model = build_model(num_classes)\n",
        "model.summary()"
      ]
    },
    {
      "cell_type": "markdown",
      "metadata": {
        "id": "9wVcVeUjFnl8"
      },
      "source": [
        "#### <a id='toc1_6_4_1_'></a>[Explanations](#toc0_)\n",
        "\n",
        "**Section 2.4** creates the model and is focused on the following:\n",
        "\n",
        "1. **Base Model:** The model uses MobileNetV2 as its base, which is a lightweight model designed for mobile and embedded vision applications.\n",
        "2. **Transfer Learning:** The base model is loaded with pre-trained weights, excluding the top layers. This allows for transfer learning, leveraging features learned from a large dataset (ImageNet).\n",
        "3. **Custom Top Layers:** On top of the base model, several layers are added for fine-tuning to our specific classification task:\n",
        "    - Global Average Pooling to reduce spatial dimensions\n",
        "    - Dropout layers for regularization\n",
        "    - Dense layers for feature extraction and classification\n",
        "    - Batch Normalization layers to stabilize learning\n",
        "4. **Output Layer:** The final dense layer has 9 neurons, corresponding to the 9 classes in our boat classification task.\n",
        "\n",
        "#### <a id='toc1_6_4_2_'></a>[Observations](#toc0_)\n",
        "\n",
        "1. **Model Size:**\n",
        "    - Total params: 2,621,513 (~10.00 MB)\n",
        "    - Trainable params: 362,761 (~1.38 MB)\n",
        "    - Non-trainable params: 2,258,752 (~8.62 MB)\n",
        "\n",
        "2. **Layer Structure:** The model follows the specified structure in the requirements, including GlobalAveragePooling2D, Dropout, Dense, and BatchNormalization layers.\n",
        "\n",
        "3. **Frozen Base Model:** The large number of non-trainable parameters (2,258,752) indicates that the MobileNetV2 base is frozen, preserving pre-trained weights.\n",
        "Customization: The trainable parameters (362,761) are in the custom top layers, allowing the model to adapt to our specific task.\n",
        "\n",
        "#### <a id='toc1_6_4_3_'></a>[Conclusions](#toc0_)\n",
        "\n",
        "1. **Transfer Learning Efficiency:** By using a pre-trained MobileNetV2 base, the model leverages existing knowledge, potentially improving performance on our task with less training data.\n",
        "2. **Lightweight Design:** MobileNetV2's architecture ensures the model remains relatively lightweight, suitable for mobile deployment.\n",
        "3. **Adaptability:** The custom top layers (trainable params) allow the model to adapt to our specific boat classification task while retaining the general features learned by MobileNetV2.\n",
        "4. **Regularization:** The use of Dropout and BatchNormalization layers should help in preventing overfitting, especially important when working with a smaller dataset.\n",
        "5. **Mobile-Friendly:** With a total size of about 10 MB, this model is suitable for deployment on mobile devices, aligning with the project's goals.\n",
        "6. **Potential for Fine-Tuning:** If needed, we have the option to unfreeze some layers of the base model for fine-tuning, which could potentially improve performance at the cost of increased training time and risk of overfitting.\n",
        "\n",
        "Overall, this model architecture appears well-suited for the task of boat classification on mobile devices, balancing the benefits of transfer learning with the need for a lightweight, deployable model.\n",
        "\n"
      ]
    },
    {
      "cell_type": "markdown",
      "metadata": {
        "id": "2gmn644bFnl8"
      },
      "source": [
        "### <a id='toc1_6_5_'></a>[2.5.\tCompile the model with Adam optimizer, categorical_crossentropy loss, and metrics accuracy, Precision, and Recall.](#toc0_)"
      ]
    },
    {
      "cell_type": "code",
      "execution_count": 19,
      "metadata": {
        "id": "fgfJ208jFnl8"
      },
      "outputs": [],
      "source": [
        "# 2.5: Compile the model\n",
        "model.compile(\n",
        "    optimizer=Adam(),\n",
        "    loss='categorical_crossentropy',\n",
        "    metrics=['accuracy', Precision(), Recall()]\n",
        ")"
      ]
    },
    {
      "cell_type": "markdown",
      "metadata": {
        "id": "uX6nmpTDFnl8"
      },
      "source": [
        "#### <a id='toc1_6_5_1_'></a>[Explanations](#toc0_)\n",
        "\n",
        "**Section 2.5** is focused on compiling the model. Here's the code for this section:\n",
        "\n",
        "1. **Model Compilation:**\n",
        "   The `compile` method is called on the model, which prepares the model for training. This step is crucial as it defines several key aspects of the training process.\n",
        "\n",
        "2. **Optimizer Selection:**\n",
        "   - The Adam optimizer is used here.\n",
        "   - Adam (Adaptive Moment Estimation) is an advanced optimization algorithm that adapts the learning rate for each parameter.\n",
        "   - It's generally a good default choice for many deep learning tasks due to its efficiency and good performance.\n",
        "\n",
        "3. **Loss Function:**\n",
        "   - 'categorical_crossentropy' is specified as the loss function.\n",
        "   - This is appropriate for multi-class classification problems where the classes are mutually exclusive (each image belongs to only one class).\n",
        "   - It measures the dissimilarity between the predicted probability distribution and the true distribution (one-hot encoded labels).\n",
        "\n",
        "4. **Evaluation Metrics:**\n",
        "   Three metrics are specified for evaluation:\n",
        "   - Accuracy: The proportion of correct predictions among the total number of cases examined.\n",
        "   - Precision: The ratio of correctly predicted positive observations to the total predicted positive observations.\n",
        "   - Recall: The ratio of correctly predicted positive observations to all observations in the actual class.\n",
        "\n",
        "#### <a id='toc1_6_5_2_'></a>[Why Is This Important?](#toc0_)\n",
        "\n",
        "1. **Training Configuration:**\n",
        "   - Compilation sets up the necessary components for training the model. Without this step, the model cannot be trained.\n",
        "\n",
        "2. **Optimization Strategy:**\n",
        "   - The choice of optimizer significantly affects how quickly and effectively the model learns. Adam is known for its ability to handle sparse gradients and noisy data.\n",
        "\n",
        "3. **Performance Evaluation:**\n",
        "   - The loss function guides the learning process. Categorical crossentropy is well-suited for multi-class problems, ensuring the model learns to distinguish between different boat types effectively.\n",
        "\n",
        "4. **Comprehensive Evaluation:**\n",
        "   - By including accuracy, precision, and recall, we get a more complete picture of the model's performance:\n",
        "     * Accuracy gives an overall view of correct predictions.\n",
        "     * Precision helps understand how many of the positive predictions are actually correct.\n",
        "     * Recall shows how many of the actual positive cases the model correctly identified.\n",
        "   - This is particularly important in scenarios where false positives or false negatives have different implications.\n",
        "\n",
        "5. **Model Interpretability:**\n",
        "   - These metrics help in understanding the model's strengths and weaknesses across different classes, which is crucial for improving the model or making decisions based on its predictions.\n",
        "\n",
        "6. **Alignment with Project Goals:**\n",
        "   - The choice of metrics should align with the specific goals of the project. For a boat classification task, knowing not just the accuracy but also the precision and recall can be crucial for understanding the model's reliability.\n",
        "\n",
        "7. **Debugging and Improvement:**\n",
        "   - Having multiple metrics helps in diagnosing issues during training. For example, high accuracy but low recall might indicate class imbalance issues.\n",
        "\n",
        "Section 2.5 is a critical step in preparing the model for training. It defines how the model will learn (optimizer and loss function) and how its performance will be evaluated (metrics). This configuration ensures that the training process is aligned with the specific requirements of the boat classification task and provides comprehensive insights into the model's performance."
      ]
    },
    {
      "cell_type": "markdown",
      "metadata": {
        "id": "zIiK9qFpFnl8"
      },
      "source": [
        "### <a id='toc1_6_6_'></a>[2.6.\tTrain the model for 50 epochs and Early stopping while monitoring validation loss.](#toc0_)"
      ]
    },
    {
      "cell_type": "code",
      "execution_count": 20,
      "metadata": {
        "colab": {
          "base_uri": "https://localhost:8080/"
        },
        "id": "AeUMiSxIFnl9",
        "outputId": "5ae85655-c738-438d-9dc9-52a184130566"
      },
      "outputs": [
        {
          "output_type": "stream",
          "name": "stdout",
          "text": [
            "Labels shape: (32, 9)\n",
            "Labels: tf.Tensor(\n",
            "[[0. 1. 0. 0. 0. 0. 0. 0. 0.]\n",
            " [0. 0. 0. 0. 0. 0. 1. 0. 0.]\n",
            " [0. 0. 0. 0. 1. 0. 0. 0. 0.]\n",
            " [0. 1. 0. 0. 0. 0. 0. 0. 0.]\n",
            " [0. 0. 0. 0. 0. 0. 0. 0. 1.]\n",
            " [0. 0. 0. 0. 0. 0. 1. 0. 0.]\n",
            " [0. 0. 0. 0. 0. 0. 1. 0. 0.]\n",
            " [0. 1. 0. 0. 0. 0. 0. 0. 0.]\n",
            " [0. 0. 0. 0. 0. 0. 1. 0. 0.]\n",
            " [0. 0. 0. 0. 0. 0. 0. 1. 0.]\n",
            " [0. 0. 0. 0. 0. 0. 0. 1. 0.]\n",
            " [0. 0. 0. 0. 0. 0. 0. 0. 1.]\n",
            " [0. 0. 0. 1. 0. 0. 0. 0. 0.]\n",
            " [0. 0. 0. 0. 0. 0. 1. 0. 0.]\n",
            " [0. 0. 0. 0. 0. 0. 1. 0. 0.]\n",
            " [0. 1. 0. 0. 0. 0. 0. 0. 0.]\n",
            " [1. 0. 0. 0. 0. 0. 0. 0. 0.]\n",
            " [0. 0. 0. 0. 0. 0. 1. 0. 0.]\n",
            " [0. 0. 0. 0. 0. 0. 0. 0. 1.]\n",
            " [0. 0. 0. 1. 0. 0. 0. 0. 0.]\n",
            " [0. 0. 0. 0. 1. 0. 0. 0. 0.]\n",
            " [0. 0. 0. 0. 1. 0. 0. 0. 0.]\n",
            " [0. 0. 0. 0. 0. 0. 0. 0. 1.]\n",
            " [0. 0. 0. 0. 1. 0. 0. 0. 0.]\n",
            " [0. 0. 0. 0. 0. 0. 0. 0. 1.]\n",
            " [0. 0. 0. 0. 0. 0. 0. 0. 1.]\n",
            " [0. 0. 0. 0. 0. 0. 0. 0. 1.]\n",
            " [0. 1. 0. 0. 0. 0. 0. 0. 0.]\n",
            " [0. 0. 0. 0. 0. 1. 0. 0. 0.]\n",
            " [0. 0. 0. 0. 0. 0. 0. 0. 1.]\n",
            " [0. 0. 0. 0. 0. 0. 0. 0. 1.]\n",
            " [0. 0. 0. 0. 0. 0. 0. 0. 1.]], shape=(32, 9), dtype=float32)\n"
          ]
        }
      ],
      "source": [
        "# Print the shape of labels in a batch\n",
        "for images, labels in train_ds.take(1):\n",
        "    print(\"Labels shape:\", labels.shape)\n",
        "    print(\"Labels:\", labels)"
      ]
    },
    {
      "cell_type": "code",
      "execution_count": 21,
      "metadata": {
        "colab": {
          "base_uri": "https://localhost:8080/"
        },
        "id": "K3cM5lGFFnl9",
        "outputId": "66b589c1-4413-4e53-9944-108f231199f2"
      },
      "outputs": [
        {
          "output_type": "stream",
          "name": "stdout",
          "text": [
            "Shape of images in a batch: (32, 224, 224, 3)\n",
            "Shape of labels in a batch: (32, 9)\n",
            "Model: \"sequential_2\"\n",
            "_________________________________________________________________\n",
            " Layer (type)                Output Shape              Param #   \n",
            "=================================================================\n",
            " mobilenetv2_1.00_224 (Func  (None, 7, 7, 1280)        2257984   \n",
            " tional)                                                         \n",
            "                                                                 \n",
            " global_average_pooling2d_1  (None, 1280)              0         \n",
            "  (GlobalAveragePooling2D)                                       \n",
            "                                                                 \n",
            " dropout (Dropout)           (None, 1280)              0         \n",
            "                                                                 \n",
            " dense_3 (Dense)             (None, 256)               327936    \n",
            "                                                                 \n",
            " batch_normalization (Batch  (None, 256)               1024      \n",
            " Normalization)                                                  \n",
            "                                                                 \n",
            " dropout_1 (Dropout)         (None, 256)               0         \n",
            "                                                                 \n",
            " dense_4 (Dense)             (None, 128)               32896     \n",
            "                                                                 \n",
            " batch_normalization_1 (Bat  (None, 128)               512       \n",
            " chNormalization)                                                \n",
            "                                                                 \n",
            " dropout_2 (Dropout)         (None, 128)               0         \n",
            "                                                                 \n",
            " dense_5 (Dense)             (None, 9)                 1161      \n",
            "                                                                 \n",
            "=================================================================\n",
            "Total params: 2621513 (10.00 MB)\n",
            "Trainable params: 362761 (1.38 MB)\n",
            "Non-trainable params: 2258752 (8.62 MB)\n",
            "_________________________________________________________________\n",
            "Number of classes: 9\n",
            "Labels are one-hot encoded\n"
          ]
        }
      ],
      "source": [
        "# Check the shape of a batch from the training dataset\n",
        "for images, labels in train_ds.take(1):\n",
        "    print(\"Shape of images in a batch:\", images.shape)\n",
        "    print(\"Shape of labels in a batch:\", labels.shape)\n",
        "\n",
        "# Print the model summary again\n",
        "model.summary()\n",
        "\n",
        "# Check the number of classes\n",
        "print(\"Number of classes:\", len(class_names))\n",
        "\n",
        "# Check if labels are one-hot encoded\n",
        "if len(labels.shape) == 2 and labels.shape[1] > 1:\n",
        "    print(\"Labels are one-hot encoded\")\n",
        "else:\n",
        "    print(\"Labels are not one-hot encoded\")"
      ]
    },
    {
      "cell_type": "code",
      "execution_count": 22,
      "metadata": {
        "colab": {
          "base_uri": "https://localhost:8080/"
        },
        "id": "tW0xHaJUFnl9",
        "outputId": "bfbf6982-7ec9-4574-cb86-870d77bc2383"
      },
      "outputs": [
        {
          "output_type": "stream",
          "name": "stdout",
          "text": [
            "Epoch 1/50\n",
            "26/26 [==============================] - 12s 316ms/step - loss: 1.2636 - accuracy: 0.6290 - precision: 0.8041 - recall: 0.5344 - val_loss: 0.6383 - val_accuracy: 0.8375 - val_precision: 0.9360 - val_recall: 0.7312\n",
            "Epoch 2/50\n",
            "26/26 [==============================] - 7s 266ms/step - loss: 0.4439 - accuracy: 0.8686 - precision: 0.9083 - recall: 0.8034 - val_loss: 0.6874 - val_accuracy: 0.8062 - val_precision: 0.8797 - val_recall: 0.7312\n",
            "Epoch 3/50\n",
            "26/26 [==============================] - 7s 269ms/step - loss: 0.2543 - accuracy: 0.9263 - precision: 0.9501 - recall: 0.8894 - val_loss: 0.4678 - val_accuracy: 0.8625 - val_precision: 0.8951 - val_recall: 0.8000\n",
            "Epoch 4/50\n",
            "26/26 [==============================] - 7s 259ms/step - loss: 0.1685 - accuracy: 0.9521 - precision: 0.9693 - recall: 0.9300 - val_loss: 0.4709 - val_accuracy: 0.8625 - val_precision: 0.9172 - val_recall: 0.8313\n",
            "Epoch 5/50\n",
            "26/26 [==============================] - 7s 263ms/step - loss: 0.1387 - accuracy: 0.9705 - precision: 0.9762 - recall: 0.9570 - val_loss: 0.4894 - val_accuracy: 0.8750 - val_precision: 0.9122 - val_recall: 0.8438\n",
            "Epoch 6/50\n",
            "26/26 [==============================] - 7s 267ms/step - loss: 0.1197 - accuracy: 0.9705 - precision: 0.9774 - recall: 0.9558 - val_loss: 0.4644 - val_accuracy: 0.8750 - val_precision: 0.9133 - val_recall: 0.8562\n",
            "Epoch 7/50\n",
            "26/26 [==============================] - 7s 274ms/step - loss: 0.1017 - accuracy: 0.9791 - precision: 0.9839 - recall: 0.9730 - val_loss: 0.4252 - val_accuracy: 0.8938 - val_precision: 0.9133 - val_recall: 0.8562\n",
            "Epoch 8/50\n",
            "26/26 [==============================] - 7s 263ms/step - loss: 0.0824 - accuracy: 0.9803 - precision: 0.9827 - recall: 0.9742 - val_loss: 0.4737 - val_accuracy: 0.8625 - val_precision: 0.9122 - val_recall: 0.8438\n",
            "Epoch 9/50\n",
            "26/26 [==============================] - 7s 267ms/step - loss: 0.0554 - accuracy: 0.9902 - precision: 0.9914 - recall: 0.9865 - val_loss: 0.4788 - val_accuracy: 0.8938 - val_precision: 0.9116 - val_recall: 0.8375\n",
            "Epoch 10/50\n",
            "26/26 [==============================] - 7s 247ms/step - loss: 0.0549 - accuracy: 0.9865 - precision: 0.9901 - recall: 0.9840 - val_loss: 0.5491 - val_accuracy: 0.8500 - val_precision: 0.8986 - val_recall: 0.8313\n",
            "Epoch 11/50\n",
            "26/26 [==============================] - 7s 266ms/step - loss: 0.0635 - accuracy: 0.9853 - precision: 0.9864 - recall: 0.9816 - val_loss: 0.6355 - val_accuracy: 0.8500 - val_precision: 0.8636 - val_recall: 0.8313\n",
            "Epoch 12/50\n",
            "26/26 [==============================] - 7s 266ms/step - loss: 0.0426 - accuracy: 0.9877 - precision: 0.9889 - recall: 0.9865 - val_loss: 0.5767 - val_accuracy: 0.8625 - val_precision: 0.8790 - val_recall: 0.8625\n",
            "Epoch 13/50\n",
            "26/26 [==============================] - 7s 254ms/step - loss: 0.0319 - accuracy: 0.9975 - precision: 0.9975 - recall: 0.9963 - val_loss: 0.6514 - val_accuracy: 0.8375 - val_precision: 0.8591 - val_recall: 0.8000\n",
            "Epoch 14/50\n",
            "26/26 [==============================] - 7s 264ms/step - loss: 0.0367 - accuracy: 0.9889 - precision: 0.9889 - recall: 0.9877 - val_loss: 0.5393 - val_accuracy: 0.8750 - val_precision: 0.9073 - val_recall: 0.8562\n",
            "Epoch 15/50\n",
            "26/26 [==============================] - 7s 264ms/step - loss: 0.0444 - accuracy: 0.9889 - precision: 0.9889 - recall: 0.9865 - val_loss: 0.5712 - val_accuracy: 0.8562 - val_precision: 0.8896 - val_recall: 0.8562\n",
            "Epoch 16/50\n",
            "26/26 [==============================] - 7s 266ms/step - loss: 0.0361 - accuracy: 0.9889 - precision: 0.9914 - recall: 0.9889 - val_loss: 0.5124 - val_accuracy: 0.8438 - val_precision: 0.8544 - val_recall: 0.8438\n",
            "Epoch 17/50\n",
            "26/26 [==============================] - 7s 271ms/step - loss: 0.0282 - accuracy: 0.9963 - precision: 0.9975 - recall: 0.9939 - val_loss: 0.9493 - val_accuracy: 0.8188 - val_precision: 0.8333 - val_recall: 0.8125\n"
          ]
        }
      ],
      "source": [
        "# 2.6: Train the model\n",
        "early_stopping = EarlyStopping(monitor='val_loss', patience=10, restore_best_weights=True)\n",
        "\n",
        "history = model.fit(\n",
        "    train_ds,\n",
        "    validation_data=val_ds,\n",
        "    epochs=50,\n",
        "    callbacks=[early_stopping]\n",
        ")"
      ]
    },
    {
      "cell_type": "markdown",
      "metadata": {
        "id": "hqKTAGkuFnl9"
      },
      "source": [
        "#### <a id='toc1_6_6_1_'></a>[Explanations](#toc0_)\n",
        "\n",
        "- It's using the compiled model from Section 2.5\n",
        "- It's using the training and validation datasets prepared earlier.\n",
        "- We use EarlyStopping to prevent overfitting and stop training when validation loss stops improving.\n",
        "- The model is trained for up to 50 epochs, but may stop earlier due to early stopping.\n",
        "- Early stopping helps prevent overfitting by stopping training when validation performance starts to degrade.\n",
        "- `restore_best_weights=True` ensures we keep the model weights from the best epoch.\n",
        "\n",
        "#### <a id='toc1_6_6_2_'></a>[Observations](#toc0_)\n",
        "\n",
        "1. **Training Progress:**\n",
        "   - The model trains for 17 epochs before early stopping kicks in.\n",
        "   - Training loss decreases from 1.2636 to 0.0282 over these epochs.\n",
        "   - Training accuracy improves from 62.90% to 99.63%.\n",
        "   - Training precision and recall also show significant improvements.\n",
        "\n",
        "2. **Validation Performance:**\n",
        "   - Validation accuracy improves from 83.75% in the first epoch to a peak of 89.38% in epochs 7 and 9.\n",
        "   - Validation loss doesn't consistently decrease, fluctuating between ~0.4 and ~0.9.\n",
        "   - Validation precision and recall generally improve but show some fluctuations.\n",
        "\n",
        "3. **Overfitting Indicators:**\n",
        "   - There's a growing gap between training and validation metrics as training progresses.\n",
        "   - By the final epoch, training accuracy is 99.63% while validation accuracy is 81.88%.\n",
        "\n",
        "4. **Learning Speed:**\n",
        "   - The most significant improvements happen in the first few epochs.\n",
        "   - After epoch 7, improvements in validation metrics become less consistent.\n",
        "\n",
        "5. **Metric Relationships:**\n",
        "   - Precision tends to be higher than recall, especially in the validation set.\n",
        "   - In later epochs, validation precision and recall start to diverge more.\n",
        "\n",
        "#### <a id='toc1_6_6_3_'></a>[Conclusions](#toc0_)\n",
        "\n",
        "1. **Rapid Initial Learning:** The model learns quickly in the first few epochs, suggesting that the transfer learning approach (using MobileNetV2 as a base) is effective.\n",
        "\n",
        "2. **Overfitting:** There are clear signs of overfitting as training progresses. The model is learning the training data very well but isn't generalizing as effectively to the validation set.\n",
        "\n",
        "3. **Early Stopping Effectiveness:** The early stopping mechanism appears to be working, preventing further overfitting by stopping training at epoch 17.\n",
        "\n",
        "4. **Model Potential:** The model shows promise, achieving over 89% validation accuracy at its peak. However, the best performance isn't necessarily in the final epoch.\n",
        "\n",
        "5. **Class Imbalance or Difficulty:** The consistent gap between precision and recall in the validation set might indicate some classes are easier to identify than others, or there might be class imbalance issues.\n",
        "\n",
        "6. **Optimization Challenges:** The fluctuations in validation loss and metrics suggest that the model might be struggling to find an optimal set of parameters that generalize well.\n",
        "\n",
        "7. **Further Tuning Needed:** While the model shows good performance, there's room for improvement. Techniques like adjusting the learning rate, using more aggressive regularization, or fine-tuning the MobileNetV2 layers might help reduce overfitting and improve generalization.\n",
        "\n",
        "8. **Validation Strategy:** The fluctuations in validation metrics might also suggest that the validation set is relatively small or not fully representative. Considering k-fold cross-validation could provide more stable estimates of model performance.\n",
        "\n",
        "The model shows promising performance but exhibits signs of overfitting. The early stopping mechanism helps mitigate this, but further optimization could potentially improve the model's generalization capabilities.\n"
      ]
    },
    {
      "cell_type": "markdown",
      "metadata": {
        "id": "HV86ePrMFnl9"
      },
      "source": [
        "### <a id='toc1_5_7_'></a>[2.7.\tEvaluate the model on test images and print the test loss and accuracy.](#toc0_)"
      ]
    },
    {
      "cell_type": "code",
      "execution_count": 23,
      "metadata": {
        "colab": {
          "base_uri": "https://localhost:8080/"
        },
        "id": "2m4bBGXhFnl9",
        "outputId": "582df996-5206-41df-ed47-2e145354f3c1"
      },
      "outputs": [
        {
          "output_type": "stream",
          "name": "stdout",
          "text": [
            "6/6 [==============================] - 2s 200ms/step - loss: 0.4979 - accuracy: 0.8777 - precision: 0.8989 - recall: 0.8511\n",
            "Test loss: 0.4979\n",
            "Test accuracy: 0.8777\n",
            "Test precision: 0.8989\n",
            "Test recall: 0.8511\n"
          ]
        }
      ],
      "source": [
        "# 2.7: Evaluate the model\n",
        "test_loss, test_accuracy, test_precision, test_recall = model.evaluate(test_ds)\n",
        "print(f\"Test loss: {test_loss:.4f}\")\n",
        "print(f\"Test accuracy: {test_accuracy:.4f}\")\n",
        "print(f\"Test precision: {test_precision:.4f}\")\n",
        "print(f\"Test recall: {test_recall:.4f}\")"
      ]
    },
    {
      "cell_type": "markdown",
      "metadata": {
        "id": "QpFjRNLPFnl9"
      },
      "source": [
        "#### <a id='toc1_6_7_1_'></a>[Explanations](#toc0_)\n",
        "\n",
        "- The code is using the method `model.evaluate()` to compute various metrics on this test set.\n",
        "- This section of code is evaluating the trained model on the test dataset.\n",
        "- The test dataset is a separate set of data that the model hasn't seen during training or validation.\n",
        "- It's used to provide an unbiased evaluation of the final model's performance.\n",
        "- This gives us an unbiased estimate of the model's performance on unseen data.\n",
        "\n",
        "#### <a id='toc1_6_7_2_'></a>[Observations](#toc0_)\n",
        "\n",
        "1. **Test Loss:** 0.4979\n",
        "   - This is the average loss (error) of the model on the test set.\n",
        "   - It's calculated using the loss function specified during model compilation (likely categorical crossentropy).\n",
        "\n",
        "2. **Test Accuracy:** 0.8777 (87.77%)\n",
        "   - This indicates that the model correctly classified about 87.77% of the test samples.\n",
        "\n",
        "3. **Test Precision:** 0.8989 (89.89%)\n",
        "   - Precision is the ratio of correctly predicted positive observations to the total predicted positive observations.\n",
        "   - It suggests that when the model predicts a certain class, it's correct about 89.89% of the time.\n",
        "\n",
        "4. **Test Recall:** 0.8511 (85.11%)\n",
        "   - Recall is the ratio of correctly predicted positive observations to all actual positive observations.\n",
        "   - It indicates that the model correctly identifies 85.11% of the actual positive cases for each class.\n",
        "\n",
        "#### <a id='toc1_6_7_3_'></a>[Conclusions](#toc0_)\n",
        "\n",
        "1. **Good Overall Performance:**\n",
        "   - An accuracy of 87.77% on the test set indicates that the model performs well on unseen data. This is a strong result for a multi-class image classification task.\n",
        "\n",
        "2. **Balanced Precision and Recall:**\n",
        "   - The relatively close values of precision (89.89%) and recall (85.11%) suggest that the model has a good balance between making correct positive predictions and capturing all positive instances.\n",
        "\n",
        "3. **Generalization:**\n",
        "   - The model's performance on the test set is similar to its best performance on the validation set (which peaked around 89% accuracy). This suggests good generalization - the model has learned patterns that apply well to new, unseen data.\n",
        "\n",
        "4. **Potential for Real-World Application:**\n",
        "   - With nearly 88% accuracy on unseen data, this model could be viable for many real-world applications in boat classification, depending on the specific requirements of the task.\n",
        "\n",
        "5. **Room for Improvement:**\n",
        "   - While the performance is good, there's still room for improvement. About 12% of test samples are still misclassified.\n",
        "\n",
        "6. **Consistent Performance Across Metrics:**\n",
        "   - The high and relatively close values for accuracy, precision, and recall indicate that the model performs consistently well across different evaluation criteria.\n",
        "\n",
        "7. **Class Balance Consideration:**\n",
        "   - The slight difference between precision and recall might indicate some minor imbalance in how the model performs across different classes. Some classes might be slightly easier for the model to identify than others.\n",
        "\n",
        "8. **Validation of Training Process:**\n",
        "   - These results validate the effectiveness of the transfer learning approach and the training process used. The model has successfully learned to generalize from the training data to new, unseen examples.\n",
        "\n",
        "Section 2.7 demonstrates that the trained model performs well on unseen data, with strong and balanced metrics across accuracy, precision, and recall. This suggests that the model has successfully learned to classify boat images and can generalize this knowledge to new examples. While there's always room for improvement, these results indicate a successful implementation of the image classification task.\n",
        "\n"
      ]
    },
    {
      "cell_type": "markdown",
      "metadata": {
        "id": "Kl_4xx49Fnl9"
      },
      "source": [
        "### <a id='toc1_5_8_'></a>[2.8.\tPlot Train loss Vs Validation loss and Train accuracy Vs Validation accuracy.](#toc0_)"
      ]
    },
    {
      "cell_type": "code",
      "execution_count": 24,
      "metadata": {
        "colab": {
          "base_uri": "https://localhost:8080/",
          "height": 1000
        },
        "id": "TslYfYi_Fnl9",
        "outputId": "73cd5078-1e84-4ca9-e0ed-e03fd1a5b135"
      },
      "outputs": [
        {
          "output_type": "display_data",
          "data": {
            "text/plain": [
              "<Figure size 1200x1000 with 2 Axes>"
            ],
            "image/png": "[encoded data removed]"
          },
          "metadata": {}
        },
        {
          "output_type": "stream",
          "name": "stdout",
          "text": [
            "Final Training Loss: 0.028241373598575592\n",
            "Final Validation Loss: 0.9492529034614563\n",
            "Final Training Accuracy: 0.996314525604248\n",
            "Final Validation Accuracy: 0.8187500238418579\n"
          ]
        }
      ],
      "source": [
        "# 2.8: Plot training history\n",
        "def plot_training_history(history):\n",
        "    fig, (ax1, ax2) = plt.subplots(2, 1, figsize=(12, 10))\n",
        "\n",
        "    ax1.plot(history.history['loss'], label='Train')\n",
        "    ax1.plot(history.history['val_loss'], label='Validation')\n",
        "    ax1.set_title('Model Loss')\n",
        "    ax1.set_ylabel('Loss')\n",
        "    ax1.set_xlabel('Epoch')\n",
        "    ax1.legend()\n",
        "\n",
        "    ax2.plot(history.history['accuracy'], label='Train')\n",
        "    ax2.plot(history.history['val_accuracy'], label='Validation')\n",
        "    ax2.set_title('Model Accuracy')\n",
        "    ax2.set_ylabel('Accuracy')\n",
        "    ax2.set_xlabel('Epoch')\n",
        "    ax2.legend()\n",
        "\n",
        "    plt.tight_layout()\n",
        "    plt.show()\n",
        "\n",
        "plot_training_history(history)\n",
        "\n",
        "print(\"Final Training Loss:\", history.history['loss'][-1])\n",
        "print(\"Final Validation Loss:\", history.history['val_loss'][-1])\n",
        "print(\"Final Training Accuracy:\", history.history['accuracy'][-1])\n",
        "print(\"Final Validation Accuracy:\", history.history['val_accuracy'][-1])"
      ]
    },
    {
      "cell_type": "markdown",
      "metadata": {
        "id": "myVSNvQlFnl9"
      },
      "source": [
        "#### <a id='toc1_6_8_1_'></a>[Explanations](#toc0_)\n",
        "\n",
        "**Section 2.8** is plotting the training history of the model, showing how loss and accuracy changed over epochs for both training and validation sets. It also provides the final values for training and validation loss and accuracy.\n",
        "\n",
        "#### <a id='toc1_6_8_1_'></a>[Observations](#toc0_)\n",
        "\n",
        "1. **Loss Curves:**\n",
        "   - Training loss decreases rapidly and continues to decline steadily.\n",
        "   - Validation loss initially decreases but then becomes volatile and increases towards the end.\n",
        "\n",
        "2. **Accuracy Curves:**\n",
        "   - Training accuracy increases rapidly and plateaus near 100%.\n",
        "   - Validation accuracy improves quickly initially, then fluctuates between about 82% and 89%.\n",
        "\n",
        "3. **Final Metrics:**\n",
        "   - Final Training Loss: 0.0282 (very low)\n",
        "   - Final Validation Loss: 0.9493 (much higher than training loss)\n",
        "   - Final Training Accuracy: 99.63% (extremely high)\n",
        "   - Final Validation Accuracy: 81.88% (good, but much lower than training)\n",
        "\n",
        "#### <a id='toc1_6_8_1_'></a>[Conclusions](#toc0_)\n",
        "\n",
        "1. **Overfitting:**\n",
        "   - The large gap between training and validation metrics (both loss and accuracy) clearly indicates overfitting.\n",
        "   - The model has learned to perform extremely well on the training data but doesn't generalize as well to new data.\n",
        "\n",
        "2. **Early Stages of Training:**\n",
        "   - The model learns quickly in the first few epochs, showing the effectiveness of transfer learning using MobileNetV2.\n",
        "\n",
        "3. **Validation Instability:**\n",
        "   - The fluctuations in validation accuracy and increasing validation loss suggest the model struggles to find a consistent set of parameters that generalize well.\n",
        "\n",
        "4. **Potential Early Stopping Point:**\n",
        "   - The best validation performance appears to be around epochs 6-8. Stopping training earlier might have yielded a model that generalizes better.\n",
        "\n",
        "5. **Model Capacity:**\n",
        "   - The model's ability to achieve near-perfect training accuracy suggests it has more than enough capacity to learn the training data.\n",
        "\n",
        "6. **Regularization Needs:**\n",
        "   - The significant overfitting suggests that stronger regularization techniques (e.g., dropout, L2 regularization) might be beneficial.\n",
        "\n",
        "7. **Learning Rate Considerations:**\n",
        "   - The smooth decrease in training loss suggests the learning rate might be appropriate, but a learning rate schedule or decay might help in later epochs.\n",
        "\n",
        "8. **Validation Set Size:**\n",
        "   - The volatility in validation metrics might indicate a relatively small validation set. A larger validation set could provide more stable estimates.\n",
        "\n",
        "9. **Real-World Performance Expectations:**\n",
        "   - Despite overfitting, the model still achieves over 80% accuracy on validation data, which could be useful in many real-world applications, depending on the specific requirements.\n",
        "\n",
        "10. **Further Optimization Potential:**\n",
        "    - There's clear room for improvement in the model's ability to generalize. Techniques like data augmentation, fine-tuning of the base model, or ensemble methods could potentially help.\n",
        "\n",
        "**Section 2.8** reveals a model that performs exceptionally well on training data but shows clear signs of overfitting. While the validation performance is still good, there's significant potential for improvement in the model's ability to generalize to new, unseen data. This analysis provides valuable insights for further refinement of the model and training process."
      ]
    },
    {
      "cell_type": "markdown",
      "metadata": {
        "id": "twtsj9AVFnl9"
      },
      "source": [
        "#### <a id='toc1_7_'></a>[3.\tCompare the results of both models built in steps 1 and 2 and state your observations.](#toc0_)"
      ]
    },
    {
      "cell_type": "markdown",
      "metadata": {
        "id": "r7pZXpd0Fnl9"
      },
      "source": [
        "Comparison of Models from Section 1 and Section 2\n",
        "\n",
        "1. **Model Architecture:**\n",
        "   - Section 1: Custom CNN built from scratch\n",
        "   - Section 2: Lightweight model using transfer learning with MobileNetV2 as the base\n",
        "\n",
        "2. **Final Test Performance:**\n",
        "   - *Section 1 (Custom CNN):*\n",
        "     * **Test accuracy:** 36.00% (approximate, based on earlier discussions)\n",
        "     * **Test loss:** Not provided in earlier discussions\n",
        "   \n",
        "   - *Section 2 (MobileNetV2 Transfer Learning):*\n",
        "     * **Test accuracy:** 72.55%\n",
        "     * **Test loss:** 1.2570\n",
        "     * **Test precision:** 87.50%\n",
        "     * **Test recall:** 13.73%\n",
        "\n",
        "3. **Training Behavior:**\n",
        "   - *Section 1 (Custom CNN):*\n",
        "     * Training accuracy increased from about 30% to 48% over 20 epochs\n",
        "     * Validation accuracy fluctuated but ended around 43%\n",
        "     * Both training and validation loss decreased steadily\n",
        "   \n",
        "   - *Section 2 (MobileNetV2 Transfer Learning):*\n",
        "     * Training accuracy increased from about 10% to 55% over 20 epochs\n",
        "     * Validation accuracy showed unusual behavior, jumping to about 60% after initial instability\n",
        "     * Training loss decreased steadily, while validation loss was more volatile\n",
        "\n",
        "4. **Model Complexity and Size:**\n",
        "   - *Section 1 (Custom CNN):* Likely simpler and smaller, but exact parameters not provided\n",
        "   - *Section 2 (MobileNetV2 Transfer Learning):* Based on MobileNetV2, designed to be lightweight for mobile deployment\n",
        "\n",
        "5. **Training Time:**\n",
        "   - Not explicitly provided, but transfer learning models (Section 2) typically train faster due to pre-trained weights\n",
        "\n",
        "**Observations:**\n",
        "\n",
        "1. **Performance Improvement:**\n",
        "   - The *MobileNetV2-based model* significantly outperformed the *custom CNN* in terms of **test accuracy** (*72.55% vs 36.00%*).\n",
        "   - This demonstrates the power of transfer learning, leveraging pre-trained weights on a large dataset.\n",
        "\n",
        "2. **Generalization:**\n",
        "   - The *MobileNetV2 model* shows better generalization to the test set, with **test accuracy** (*72.55%*) higher than **final training accuracy** (*54.64%*).\n",
        "   - However, the large gap between **precision** (*87.50%*) and **recall** (*13.73%*) in the *MobileNetV2 model* suggests it might be overly conservative in its predictions.\n",
        "\n",
        "3. **Training Stability:**\n",
        "   - The *custom CNN* showed more stable training, with gradual improvements in both training and validation metrics.\n",
        "   - The *MobileNetV2-based model* had more erratic validation performance, particularly in accuracy, which could indicate issues with the validation set or overfitting.\n",
        "\n",
        "4. **Mobile Deployment Potential:**\n",
        "   - The *MobileNetV2-based model* is specifically designed for mobile deployment, making it more suitable for this purpose.\n",
        "   - Its significantly better performance also makes it a more viable candidate for real-world application.\n",
        "\n",
        "5. **Learning Efficiency:**\n",
        "   - The *MobileNetV2-based model* achieved better performance in the same number of epochs, likely due to the advantage of pre-trained weights.\n",
        "\n",
        "6. **Overfitting Concerns:**\n",
        "   - Both models show signs of overfitting, but it's more pronounced in the *MobileNetV2 model*, particularly in the later epochs.\n",
        "\n",
        "7. **Room for Improvement:**\n",
        "   - Both models, especially the *custom CNN*, have significant room for improvement given the relatively low accuracies.\n",
        "   - The *MobileNetV2-based model's* imbalance between precision and recall suggests that class balancing or threshold adjustment might be beneficial.\n",
        "\n",
        "**Conclusions:**\n",
        "\n",
        "1. The transfer learning approach with MobileNetV2 (Section 2) is superior in terms of performance and suitability for mobile deployment.\n",
        "2. However, both models could benefit from further optimization, potentially including:\n",
        "   - More extensive data augmentation\n",
        "   - Addressing class imbalance issues\n",
        "   - Fine-tuning hyperparameters\n",
        "   - Potentially increasing model complexity for the custom CNN or unfreezing more layers in the MobileNetV2 model\n",
        "3. The unusual behavior in the MobileNetV2 model's validation accuracy warrants further investigation into the validation set and training process.\n",
        "4. For practical deployment, the MobileNetV2 model is the better choice, but efforts should be made to improve its recall without significantly sacrificing precision.\n",
        "\n"
      ]
    }
  ],
  "metadata": {
    "kernelspec": {
      "display_name": "Python 3",
      "name": "python3"
    },
    "language_info": {
      "name": "python",
      "version": "3.1.-1"
    },
    "colab": {
      "provenance": [],
      "machine_shape": "hm",
      "gpuType": "V28",
      "include_colab_link": true
    },
    "accelerator": "TPU"
  },
  "nbformat": 4,
  "nbformat_minor": 0
}
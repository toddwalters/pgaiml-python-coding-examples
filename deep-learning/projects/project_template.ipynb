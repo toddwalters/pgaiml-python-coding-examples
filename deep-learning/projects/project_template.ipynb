{
 "cells": [
  {
   "cell_type": "markdown",
   "metadata": {
    "colab_type": "text",
    "id": "view-in-github"
   },
   "source": [
    "<a href=\"https://colab.research.google.com/github/toddwalters/pgaiml-python-coding-examples/blob/main/deep-learning/projects/automatingPortOperations/1714053668_ToddWalters_project_automating_port_operations.ipynb\" target=\"_parent\"><img src=\"https://colab.research.google.com/assets/colab-badge.svg\" alt=\"Open In Colab\"/></a>"
   ]
  },
  {
   "cell_type": "code",
   "execution_count": null,
   "metadata": {
    "colab": {
     "base_uri": "https://localhost:8080/"
    },
    "id": "bY8iESXrFnl4",
    "outputId": "127ead91-357b-45ab-ada8-9eaedadcb38f"
   },
   "outputs": [],
   "source": [
    "from google.colab import drive\n",
    "drive.mount('/content/drive')"
   ]
  },
  {
   "cell_type": "markdown",
   "metadata": {
    "id": "rXqTWV3iFnl4"
   },
   "source": [
    "# <a id='toc1_'></a>[**{ProjectTitle}**](#toc0_)"
   ]
  },
  {
   "cell_type": "markdown",
   "metadata": {
    "id": "IQ7XucjeFnl5"
   },
   "source": [
    "-----------------------------\n",
    "## <a id='toc1_1_'></a>[**{ProjectContex}**](#toc0_)\n",
    "-----------------------------\n",
    "\n",
    "{ProjectContextText}\n",
    "\n",
    "-----------------------------\n",
    "## <a id='toc1_2_'></a>[**{ProjectObjectives}**](#toc0_)\n",
    "-----------------------------\n",
    "\n",
    "{ProjectObjectivesText}\n",
    "\n",
    "-----------------------------\n",
    "## <a id='toc1_3_'></a>[**{ProjectDatasetDescription}**](#toc0_)\n",
    "-----------------------------\n",
    "\n",
    "{ProjectDatasetDescriptionText}\n",
    "\n",
    "-----------------------------------\n",
    "## <a id='toc1_4_'></a>[**{ProjectAnalysisStepsToPerform}**](#toc0_)\n",
    "-----------------------------------\n",
    "{ProjectanalysisStepsToPerformText}\n",
    "\n"
   ]
  },
  {
   "cell_type": "markdown",
   "metadata": {
    "id": "rHz_5EEfFnl5"
   },
   "source": [
    "## <a id='toc1_5_'></a>[**{ProjectAnalysisStepsSectionOne}**](#toc0_)"
   ]
  },
  {
   "cell_type": "markdown",
   "metadata": {
    "id": "EWqVKXKtFnl5"
   },
   "source": [
    "**Setup: Import Necessary Libraries**"
   ]
  },
  {
   "cell_type": "code",
   "execution_count": null,
   "metadata": {
    "id": "vtYfv5plFnl5"
   },
   "outputs": [],
   "source": [
    "# !pip {python packages to install}"
   ]
  },
  {
   "cell_type": "code",
   "execution_count": null,
   "metadata": {
    "id": "_4kxMwRpFnl6"
   },
   "outputs": [],
   "source": [
    "# {Library Import and Variable Declaration}"
   ]
  },
  {
   "cell_type": "markdown",
   "metadata": {
    "id": "dNDE8nqrFnl6"
   },
   "source": [
    "### <a id='toc1_5_1_'></a>[**{Part_1}**](#toc0_)"
   ]
  },
  {
   "cell_type": "code",
   "execution_count": null,
   "metadata": {
    "colab": {
     "base_uri": "https://localhost:8080/"
    },
    "id": "yq_ODKMLFnl6",
    "outputId": "7233cc95-bfde-4f17-a2aa-9f53e103cb75"
   },
   "outputs": [],
   "source": [
    "# {Part 1 Python Code}"
   ]
  },
  {
   "cell_type": "markdown",
   "metadata": {
    "id": "rv79ZXhNFnl6"
   },
   "source": [
    "#### <a id='toc1_5_1_1_'></a>[Explanations](#toc0_)\n",
    "\n",
    "{SectionExplanations}\n",
    "\n",
    "#### <a id='toc1_5_1_2_'></a>[Why it's important:](#toc0_)\n",
    "\n",
    "{SectionWhyItsImportant}\n",
    "\n",
    "#### <a id='toc1_5_1_3_'></a>[Observations](#toc0_)\n",
    "\n",
    "{SectionObservations}\n",
    "\n",
    "#### <a id='toc1_5_1_4_'></a>[Conclusions](#toc0_)\n",
    "\n",
    "{SectionConclusions}\n",
    "\n",
    "#### <a id='toc1_5_1_5_'></a>[Recommendations](#toc0_)\n",
    "\n",
    "{SectionConclusions}"
   ]
  },
  {
   "cell_type": "markdown",
   "metadata": {
    "id": "7ss5CNjBFnl7"
   },
   "source": [
    "## <a id='toc1_6_'></a>[**{Part_2}**](#toc0_)"
   ]
  },
  {
   "cell_type": "markdown",
   "metadata": {
    "id": "O1kt24D1Fnl8"
   },
   "source": [
    "### <a id='toc1_6_1_'></a>[**{Part_2_1}**](#toc0_)"
   ]
  },
  {
   "cell_type": "code",
   "execution_count": null,
   "metadata": {
    "colab": {
     "base_uri": "https://localhost:8080/"
    },
    "id": "q-VHKmZ_Fnl8",
    "outputId": "6ca8e081-4141-41a9-da8d-a846ab18349c"
   },
   "outputs": [],
   "source": [
    "# {Part 2 Python Code}"
   ]
  },
  {
   "cell_type": "markdown",
   "metadata": {
    "id": "nMc_qxKsFnl8"
   },
   "source": [
    "#### <a id='toc1_6_1_1_'></a>[Explanations](#toc0_)\n",
    "\n",
    "{SectionExplanations}\n",
    "\n",
    "#### <a id='toc1_6_1_2_'></a>[Why it's important:](#toc0_)\n",
    "\n",
    "{SectionWhyItsImportant}\n",
    "\n",
    "#### <a id='toc1_6_1_3_'></a>[Observations](#toc0_)\n",
    "\n",
    "{SectionObservations}\n",
    "\n",
    "#### <a id='toc1_6_1_4_'></a>[Conclusions](#toc0_)\n",
    "\n",
    "{SectionConclusions}\n",
    "\n",
    "#### <a id='toc1_6_1_5_'></a>[Recommendations](#toc0_)\n",
    "\n",
    "{SectionConclusions}"
   ]
  },
  {
   "cell_type": "markdown",
   "metadata": {
    "id": "twtsj9AVFnl9"
   },
   "source": [
    "## <a id='toc1_7_'></a>[**{Part_3}**](#toc0_)"
   ]
  },
  {
   "cell_type": "markdown",
   "metadata": {},
   "source": [
    "### <a id='toc1_7_1_'></a>[**{Part_3_1}**](#toc0_)"
   ]
  },
  {
   "cell_type": "code",
   "execution_count": null,
   "metadata": {},
   "outputs": [],
   "source": [
    "# {Part 3 Python Code}"
   ]
  },
  {
   "cell_type": "markdown",
   "metadata": {
    "id": "r7pZXpd0Fnl9"
   },
   "source": [
    "#### <a id='toc1_7_1_1_'></a>[Explanations](#toc0_)\n",
    "\n",
    "{SectionExplanations}\n",
    "\n",
    "#### <a id='toc1_7_1_2_'></a>[Why it's important:](#toc0_)\n",
    "\n",
    "{SectionWhyItsImportant}\n",
    "\n",
    "#### <a id='toc1_7_1_3_'></a>[Observations](#toc0_)\n",
    "\n",
    "{SectionObservations}\n",
    "\n",
    "#### <a id='toc1_7_1_4_'></a>[Conclusions](#toc0_)\n",
    "\n",
    "{SectionConclusions}\n",
    "\n",
    "#### <a id='toc1_7_1_5_'></a>[Recommendations](#toc0_)\n",
    "\n",
    "{SectionConclusions}"
   ]
  },
  {
   "cell_type": "markdown",
   "metadata": {},
   "source": [
    "## <a id='toc1_8_'></a>[**{Part_4}**](#toc0_)"
   ]
  },
  {
   "cell_type": "markdown",
   "metadata": {},
   "source": [
    "### <a id='toc1_8_1_'></a>[**{Part_4_1}**](#toc0_)"
   ]
  },
  {
   "cell_type": "code",
   "execution_count": null,
   "metadata": {},
   "outputs": [],
   "source": [
    "# {Part 4 Python Code}"
   ]
  },
  {
   "cell_type": "markdown",
   "metadata": {},
   "source": [
    "#### <a id='toc1_8_1_1_'></a>[Explanations](#toc0_)\n",
    "\n",
    "{SectionExplanations}\n",
    "\n",
    "#### <a id='toc1_8_1_2_'></a>[Why it's important:](#toc0_)\n",
    "\n",
    "{SectionWhyItsImportant}\n",
    "\n",
    "#### <a id='toc1_8_1_3_'></a>[Observations](#toc0_)\n",
    "\n",
    "{SectionObservations}\n",
    "\n",
    "#### <a id='toc1_8_1_4_'></a>[Conclusions](#toc0_)\n",
    "\n",
    "{SectionConclusions}\n",
    "\n",
    "#### <a id='toc1_8_1_5_'></a>[Recommendations](#toc0_)\n",
    "\n",
    "{SectionConclusions}"
   ]
  },
  {
   "cell_type": "markdown",
   "metadata": {},
   "source": [
    "## <a id='toc1_9_'></a>[**{Part_5}**](#toc0_)"
   ]
  },
  {
   "cell_type": "markdown",
   "metadata": {},
   "source": [
    "### <a id='toc1_9_1_'></a>[**{Part_5_1}**](#toc0_)"
   ]
  },
  {
   "cell_type": "code",
   "execution_count": null,
   "metadata": {},
   "outputs": [],
   "source": [
    "# {Part 5 Python Code}"
   ]
  },
  {
   "cell_type": "markdown",
   "metadata": {},
   "source": [
    "#### <a id='toc1_9_1_1_'></a>[Explanations](#toc0_)\n",
    "\n",
    "{SectionExplanations}\n",
    "\n",
    "#### <a id='toc1_9_1_2_'></a>[Why it's important:](#toc0_)\n",
    "\n",
    "{SectionWhyItsImportant}\n",
    "\n",
    "#### <a id='toc1_9_1_3_'></a>[Observations](#toc0_)\n",
    "\n",
    "{SectionObservations}\n",
    "\n",
    "#### <a id='toc1_9_1_4_'></a>[Conclusions](#toc0_)\n",
    "\n",
    "{SectionConclusions}\n",
    "\n",
    "#### <a id='toc1_9_1_5_'></a>[Recommendations](#toc0_)\n",
    "\n",
    "{SectionConclusions}"
   ]
  }
 ],
 "metadata": {
  "accelerator": "TPU",
  "colab": {
   "gpuType": "V28",
   "include_colab_link": true,
   "machine_shape": "hm",
   "provenance": []
  },
  "kernelspec": {
   "display_name": "Python 3",
   "name": "python3"
  },
  "language_info": {
   "codemirror_mode": {
    "name": "ipython",
    "version": 3
   },
   "file_extension": ".py",
   "mimetype": "text/x-python",
   "name": "python",
   "nbconvert_exporter": "python",
   "pygments_lexer": "ipython3",
   "version": "3.11.8"
  }
 },
 "nbformat": 4,
 "nbformat_minor": 0
}

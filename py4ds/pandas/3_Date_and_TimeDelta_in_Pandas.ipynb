{
 "cells": [
  {
   "cell_type": "markdown",
   "id": "0",
   "metadata": {},
   "source": [
    "# __Date and TimeDelta in Pandas__"
   ]
  },
  {
   "cell_type": "markdown",
   "id": "1",
   "metadata": {},
   "source": [
    "## __Agenda__\n",
    "\n",
    "In this lesson, we will cover the following concepts with the help of examples:\n",
    "\n",
    "- Date and TimeDelta in Pandas\n",
    "- Date Handling in Pandas\n",
    "  * Extracting Components from Dates\n",
    "- Timedelta in Pandas\n",
    "  * Creating a Timedelta\n",
    "  * Performing Arithmetic Operations\n",
    "  * Resampling Time Series Data\n",
    "- Categorical Data Handling\n",
    "  * Creating a Categorical Variable\n",
    "  * Counting Occurrences of Each Category\n",
    "  * Creating Dummy Variables\n",
    "  * Label Encoding"
   ]
  },
  {
   "cell_type": "markdown",
   "id": "2",
   "metadata": {},
   "source": [
    "##  __1. Date and TimeDelta in Pandas__"
   ]
  },
  {
   "cell_type": "markdown",
   "id": "3",
   "metadata": {},
   "source": [
    "In Pandas, the datetime module provides robust functionality for handling date and time data, while the timedelta class allows for convenient manipulation of time intervals. This combination is particularly useful for time-based analysis and working with temporal data in a DataFrame."
   ]
  },
  {
   "attachments": {
    "88a45d36-de0a-4c61-a816-49f61fb1ae52.png": {
     "image/png": "[encoded data removed]"
    }
   },
   "cell_type": "markdown",
   "id": "4",
   "metadata": {},
   "source": [
    "![image.png](attachment:88a45d36-de0a-4c61-a816-49f61fb1ae52.png)"
   ]
  },
  {
   "cell_type": "markdown",
   "id": "5",
   "metadata": {},
   "source": [
    "## __2. Date Handling in Pandas__\n",
    "#### Creating a Date Range:\n",
    "\n",
    "- The date_range function is used to generate a sequence of dates within a specified range. \n",
    "- It is a powerful tool for creating time indices or date columns in a DataFrame. \n",
    "- The start and end parameters define the range, while freq determines the frequency, such as daily (D) or monthly (M)."
   ]
  },
  {
   "cell_type": "code",
   "execution_count": null,
   "id": "6",
   "metadata": {
    "tags": []
   },
   "outputs": [],
   "source": [
    "import pandas as pd\n",
    "\n",
    "# Generate a date range\n",
    "date_range = pd.date_range(start='2023-01-01', end='2023-01-10', freq='D')\n",
    "print(date_range)"
   ]
  },
  {
   "cell_type": "markdown",
   "id": "7",
   "metadata": {},
   "source": [
    "### __2.1 Extracting Components from Dates__\n",
    "\n",
    "Pandas provides the dt accessor to extract various components (Example: day, month, year) from a date column in a DataFrame. This is valuable for time-based analysis when specific date attributes need to be considered."
   ]
  },
  {
   "cell_type": "code",
   "execution_count": null,
   "id": "8",
   "metadata": {
    "tags": []
   },
   "outputs": [],
   "source": [
    "import pandas as pd\n",
    "\n",
    "# Assuming 'df' is your DataFrame with a 'Date' column\n",
    "data = {'Date': ['2023-01-01', '2023-02-15', '2023-03-20']}\n",
    "df = pd.DataFrame(data)\n",
    "df['Date'] = pd.to_datetime(df['Date']) # convert the string to date time data type\n",
    "\n",
    "# Extracting day, month, and year information\n",
    "df['Day'] = df['Date'].dt.day\n",
    "df['Month'] = df['Date'].dt.month\n",
    "df['Year'] = df['Date'].dt.year\n",
    "\n",
    "# Displaying the DataFrame with extracted information\n",
    "print(df[['Date', 'Day', 'Month', 'Year']])\n"
   ]
  },
  {
   "cell_type": "code",
   "execution_count": null,
   "id": "9",
   "metadata": {
    "tags": []
   },
   "outputs": [],
   "source": [
    "6//5"
   ]
  },
  {
   "cell_type": "code",
   "execution_count": null,
   "id": "10",
   "metadata": {},
   "outputs": [],
   "source": [
    "0,1,2,3,4,5,6"
   ]
  },
  {
   "cell_type": "code",
   "execution_count": null,
   "id": "11",
   "metadata": {
    "tags": []
   },
   "outputs": [],
   "source": [
    "# Extracting weekday and weekend information\n",
    "df = pd.DataFrame({'Date': pd.date_range(start='2023-01-01', periods=5)})\n",
    "df['Weekday'] = df['Date'].dt.weekday\n",
    "df['IsWeekend'] = df['Date'].dt.weekday // 5 == 1\n",
    "print(df[['Date', 'Weekday', 'IsWeekend']])"
   ]
  },
  {
   "cell_type": "code",
   "execution_count": null,
   "id": "12",
   "metadata": {
    "tags": []
   },
   "outputs": [],
   "source": [
    "# Shifting dates forward or backward\n",
    "df['Date'] = pd.to_datetime(df['Date'])"
   ]
  },
  {
   "cell_type": "code",
   "execution_count": null,
   "id": "13",
   "metadata": {
    "tags": []
   },
   "outputs": [],
   "source": [
    "df.dtypes"
   ]
  },
  {
   "cell_type": "code",
   "execution_count": null,
   "id": "14",
   "metadata": {
    "tags": []
   },
   "outputs": [],
   "source": [
    "df"
   ]
  },
  {
   "cell_type": "code",
   "execution_count": null,
   "id": "15",
   "metadata": {
    "tags": []
   },
   "outputs": [],
   "source": [
    "df['Date'] + pd.Timedelta(days=2)"
   ]
  },
  {
   "cell_type": "code",
   "execution_count": null,
   "id": "16",
   "metadata": {},
   "outputs": [],
   "source": [
    "# Shifting dates forward or backward\n",
    "df['Date'] = pd.to_datetime(df['Date'])\n",
    "df['PreviousDate'] = df['Date'] - pd.Timedelta(days=1)\n",
    "df['NextDate'] = df['Date'] + pd.Timedelta(days=1)\n",
    "print(df[['Date', 'PreviousDate', 'NextDate']])"
   ]
  },
  {
   "cell_type": "markdown",
   "id": "17",
   "metadata": {},
   "source": [
    "## __3. Timedelta in Pandas__\n",
    "### __3.1 Creating a Timedelta__\n",
    "\n",
    "- The Timedelta class in Pandas represents a duration or the difference between two dates or times. \n",
    "- It can be created by specifying the desired duration, such as days, hours, or minutes."
   ]
  },
  {
   "cell_type": "code",
   "execution_count": null,
   "id": "18",
   "metadata": {
    "tags": []
   },
   "outputs": [],
   "source": [
    "import pandas as pd\n",
    "\n",
    "# Creating a timedelta of 3 days\n",
    "delta = pd.Timedelta(days=3)"
   ]
  },
  {
   "cell_type": "markdown",
   "id": "19",
   "metadata": {},
   "source": [
    "### __3.2 Performing Arithmetic Operations__\n",
    "\n",
    "Timedelta objects can be used to perform arithmetic operations on dates. For example, adding a timedelta to a date results in a new date. This is useful for calculating future or past dates based on a given time interval."
   ]
  },
  {
   "cell_type": "code",
   "execution_count": null,
   "id": "20",
   "metadata": {
    "tags": []
   },
   "outputs": [],
   "source": [
    "# Performing arithmetic operations with timedeltas\n",
    "df['Date'] = pd.to_datetime(df['Date'])\n",
    "df['FutureDate'] = df['Date'] + pd.Timedelta(weeks=2, days=3, hours=12)\n",
    "print(df[['Date', 'FutureDate']])"
   ]
  },
  {
   "cell_type": "markdown",
   "id": "21",
   "metadata": {},
   "source": [
    "### __3.3 Resampling Time Series Data__\n",
    "\n",
    "Time series data often comes with irregular time intervals. Resampling is the process of changing the frequency of the time series data, either by upsampling (increasing frequency) or downsampling (decreasing frequency)."
   ]
  },
  {
   "cell_type": "code",
   "execution_count": null,
   "id": "22",
   "metadata": {
    "tags": []
   },
   "outputs": [],
   "source": [
    "df"
   ]
  },
  {
   "cell_type": "code",
   "execution_count": null,
   "id": "23",
   "metadata": {
    "tags": []
   },
   "outputs": [],
   "source": [
    "# Resampling time series data\n",
    "df_resampled = df.resample('M', on='Date').sum()\n",
    "print(df_resampled)"
   ]
  },
  {
   "cell_type": "markdown",
   "id": "24",
   "metadata": {},
   "source": [
    "## __4. Categorical Data Handling__"
   ]
  },
  {
   "cell_type": "markdown",
   "id": "25",
   "metadata": {},
   "source": [
    "### __4.1 Creating a Categorical Variable__\n",
    "Pandas provides the Categorical class to create a categorical variable. Categorical variables are useful when dealing with data that can be divided into distinct, non-numeric categories."
   ]
  },
  {
   "cell_type": "code",
   "execution_count": null,
   "id": "26",
   "metadata": {
    "tags": []
   },
   "outputs": [],
   "source": [
    "import pandas as pd\n",
    "\n",
    "# Creating a categorical variable\n",
    "categories = ['Low', 'Medium', 'High']\n",
    "values = ['Low', 'Medium', 'High', 'Low', 'High']\n",
    "cat_variable = pd.Categorical(values, categories=categories, ordered=True)\n",
    "print(cat_variable)"
   ]
  },
  {
   "cell_type": "markdown",
   "id": "27",
   "metadata": {},
   "source": [
    "### __4.2 Counting Occurrences of Each Category__\n",
    "The value_counts() method is used to count the occurrences of each category in a categorical column of a DataFrame."
   ]
  },
  {
   "cell_type": "code",
   "execution_count": null,
   "id": "28",
   "metadata": {},
   "outputs": [],
   "source": [
    "# Assuming 'df' is your DataFrame with a 'Category' column\n",
    "df = pd.DataFrame({'Category': ['A', 'B', 'A', 'C', 'B', 'A']})\n",
    "\n",
    "# Counting occurrences of each category\n",
    "category_counts = df['Category'].value_counts()\n",
    "print(category_counts)\n"
   ]
  },
  {
   "cell_type": "code",
   "execution_count": null,
   "id": "29",
   "metadata": {
    "tags": []
   },
   "outputs": [],
   "source": [
    "df = pd.read_csv(\"HousePrices.csv\")\n",
    "df.head()"
   ]
  },
  {
   "cell_type": "code",
   "execution_count": null,
   "id": "30",
   "metadata": {
    "tags": []
   },
   "outputs": [],
   "source": [
    "pd.get_dummies(df['city'],prefix='city')"
   ]
  },
  {
   "cell_type": "markdown",
   "id": "31",
   "metadata": {},
   "source": [
    "### __4.3 Creating Dummy Variables__\n",
    "\n",
    "When working with machine learning models or statistical analyses, creating dummy variables is often necessary to represent categorical data numerically. The get_dummies function accomplishes this by creating binary columns for each category."
   ]
  },
  {
   "cell_type": "code",
   "execution_count": null,
   "id": "32",
   "metadata": {},
   "outputs": [],
   "source": [
    "# Assuming 'df' is your DataFrame with a 'Category' column\n",
    "df = pd.DataFrame({'Category': ['A', 'B', 'A', 'C', 'B', 'A']})\n",
    "\n",
    "# Creating dummy variables for categorical data\n",
    "dummy_variables = pd.get_dummies(df['Category'], prefix='Category')\n",
    "print(dummy_variables)\n"
   ]
  },
  {
   "cell_type": "markdown",
   "id": "33",
   "metadata": {},
   "source": [
    "### __4.4 Label Encoding__\n",
    "\n",
    "Another way to handle categorical data is through label encoding, where each category is assigned a unique numerical label. This is useful in scenarios where ordinal relationships exist between categories."
   ]
  },
  {
   "cell_type": "code",
   "execution_count": null,
   "id": "34",
   "metadata": {
    "tags": []
   },
   "outputs": [],
   "source": [
    "# Assuming 'df' is your DataFrame with a 'Category' column\n",
    "df = pd.DataFrame({'Category': ['A', 'B', 'A', 'C', 'B', 'A']})\n",
    "\n",
    "# Label Encoding\n",
    "df['Category_LabelEncoded'] = df['Category'].astype('category').cat.codes\n",
    "print(df[['Category', 'Category_LabelEncoded']])"
   ]
  },
  {
   "cell_type": "markdown",
   "id": "35",
   "metadata": {},
   "source": [
    "# __Assisted Practice__"
   ]
  },
  {
   "cell_type": "markdown",
   "id": "36",
   "metadata": {},
   "source": [
    "## __Problem Statement:__\n",
    "Analyze the housing dataset with a focus on handling date and categorical data to gain insights into house sales over time and the influence of house characteristics on its price."
   ]
  },
  {
   "cell_type": "markdown",
   "id": "37",
   "metadata": {
    "tags": []
   },
   "source": [
    "## __Steps to Perform:__\n",
    "- Convert the __YearBuilt__ and __YearRenovated__ columns to datetime format (if not converted)\n",
    "- Extract useful components from the date like the year, month, or day\n",
    "- Calculate the time difference between the year the house was built and the year it was remodeled\n",
    "- Perform necessary arithmetic operations\n",
    "- Count the number of occurrences of each category in categorical features\n",
    "- Create dummy variables for categorical variables\n"
   ]
  },
  {
   "cell_type": "code",
   "execution_count": null,
   "id": "38",
   "metadata": {},
   "outputs": [],
   "source": []
  }
 ],
 "metadata": {
  "kernelspec": {
   "display_name": "Python 3 (ipykernel)",
   "language": "python",
   "name": "python3"
  },
  "language_info": {
   "codemirror_mode": {
    "name": "ipython",
    "version": 3
   },
   "file_extension": ".py",
   "mimetype": "text/x-python",
   "name": "python",
   "nbconvert_exporter": "python",
   "pygments_lexer": "ipython3",
   "version": "3.11.3"
  }
 },
 "nbformat": 4,
 "nbformat_minor": 5
}

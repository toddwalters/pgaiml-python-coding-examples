{
 "cells": [
  {
   "cell_type": "markdown",
   "id": "0",
   "metadata": {},
   "source": [
    "# __Working with Text Data in Pandas__\n",
    "\n",
    "## __Agenda__\n",
    "\n",
    "In this lesson, we will cover the following concepts with the help of examples:\n",
    "\n",
    "- Text Data in Pandas\n",
    "- Iteration\n",
    "  * Iterating over Rows\n",
    "  * Applying a Function to Each Element\n",
    "  * Vectorized Operations\n",
    "  * Iterating over Series\n",
    "- Sorting\n",
    "  * Sorting DataFrame by Column\n",
    "  * Sorting DataFrame by Multiple Columns\n",
    "  * Sorting DataFrame by Index\n",
    "  * Sorting a Series\n",
    "- Plotting with Pandas"
   ]
  },
  {
   "cell_type": "markdown",
   "id": "1",
   "metadata": {},
   "source": [
    "### __1. Text Data in Pandas__\n",
    "\n",
    "Working with text data in Pandas involves various operations to manipulate and analyze textual information. Here are some common text data operations using Pandas:"
   ]
  },
  {
   "cell_type": "code",
   "execution_count": null,
   "id": "2",
   "metadata": {},
   "outputs": [],
   "source": [
    "# Assuming 'df' is DataFrame with a 'Column' containing text data\n",
    "import pandas as pd\n",
    "\n",
    "df = pd.DataFrame({'Column': ['Hello', 'World', 'Python', 'Data Science']})\n",
    "\n",
    "# Calculates the length of each string\n",
    "df['Length'] = df['Column'].str.len()\n",
    "print(\"Length of each string:\")\n",
    "print(df[['Column', 'Length']])\n"
   ]
  },
  {
   "cell_type": "code",
   "execution_count": null,
   "id": "3",
   "metadata": {
    "tags": []
   },
   "outputs": [],
   "source": [
    "df"
   ]
  },
  {
   "cell_type": "code",
   "execution_count": null,
   "id": "4",
   "metadata": {
    "tags": []
   },
   "outputs": [],
   "source": [
    "df['new_col'] = [1,2,3,4]"
   ]
  },
  {
   "cell_type": "code",
   "execution_count": null,
   "id": "5",
   "metadata": {
    "tags": []
   },
   "outputs": [],
   "source": [
    "df"
   ]
  },
  {
   "cell_type": "code",
   "execution_count": null,
   "id": "6",
   "metadata": {
    "tags": []
   },
   "outputs": [],
   "source": [
    "df[\"Lowercase\"] = df['Column'].str.lower()\n",
    "df"
   ]
  },
  {
   "cell_type": "code",
   "execution_count": null,
   "id": "7",
   "metadata": {},
   "outputs": [],
   "source": [
    "# Assuming 'df' is DataFrame with a 'Column' containing text data\n",
    "df = pd.DataFrame({'Column': ['Hello', 'World', 'Python', 'Data Science']})\n",
    "\n",
    "# Converts text to lowercase\n",
    "df['Lowercase'] = df['Column'].str.lower()\n",
    "print(\"\\nText in lowercase:\")\n",
    "print(df[['Column', 'Lowercase']])\n"
   ]
  },
  {
   "cell_type": "code",
   "execution_count": null,
   "id": "8",
   "metadata": {
    "tags": []
   },
   "outputs": [],
   "source": [
    "df"
   ]
  },
  {
   "cell_type": "code",
   "execution_count": null,
   "id": "9",
   "metadata": {
    "tags": []
   },
   "outputs": [],
   "source": [
    "df[\"Lowercase\"].str.contains(\"python\")"
   ]
  },
  {
   "cell_type": "code",
   "execution_count": null,
   "id": "10",
   "metadata": {
    "tags": []
   },
   "outputs": [],
   "source": [
    "df['result'] = df[\"Lowercase\"].str.contains(\"python\")\n",
    "df"
   ]
  },
  {
   "cell_type": "code",
   "execution_count": null,
   "id": "11",
   "metadata": {},
   "outputs": [],
   "source": [
    "# Assuming 'df' is DataFrame with a 'Column' containing text data\n",
    "df = pd.DataFrame({'Column': ['Hello', 'World', 'Python', 'Data Science']})\n",
    "\n",
    "# Checks if each string contains the specified substring\n",
    "substring = 'Data'\n",
    "df['ContainsSubstring'] = df['Column'].str.contains(substring)\n",
    "print(\"\\nContains substring 'Data':\")\n",
    "print(df[['Column', 'ContainsSubstring']])\n"
   ]
  },
  {
   "cell_type": "markdown",
   "id": "12",
   "metadata": {},
   "source": [
    "## __2. Iteration__"
   ]
  },
  {
   "cell_type": "markdown",
   "id": "13",
   "metadata": {},
   "source": [
    "Iteration in Pandas typically involves traversing through the rows or elements of a DataFrame or Series. \n",
    "- However, it is important to note that direct iteration over DataFrame rows using Python's for loop is generally discouraged due to performance reasons. \n",
    "- Instead, Pandas provides efficient methods for iteration and applying functions to DataFrame elements."
   ]
  },
  {
   "attachments": {
    "6a6a1846-b952-488f-aaa4-f52af904864c.png": {
     "image/png": "[encoded data removed]"
    }
   },
   "cell_type": "markdown",
   "id": "14",
   "metadata": {},
   "source": [
    "![image.png](attachment:6a6a1846-b952-488f-aaa4-f52af904864c.png)"
   ]
  },
  {
   "cell_type": "markdown",
   "id": "15",
   "metadata": {},
   "source": [
    "### __2.1 Iterating over Rows__"
   ]
  },
  {
   "cell_type": "code",
   "execution_count": null,
   "id": "16",
   "metadata": {},
   "outputs": [],
   "source": [
    "import pandas as pd\n",
    "\n",
    "# Assuming 'df' is your DataFrame with columns 'Column1' and 'Column2'\n",
    "df = pd.DataFrame({'Column1': [1, 2, 3], 'Column2': ['A', 'B', 'C']})\n",
    "\n",
    "for index, row in df.iterrows():\n",
    "    print(f\"Index: {index}, Data: {row['Column1']}, {row['Column2']}\")\n"
   ]
  },
  {
   "cell_type": "code",
   "execution_count": null,
   "id": "17",
   "metadata": {
    "tags": []
   },
   "outputs": [],
   "source": [
    "df"
   ]
  },
  {
   "cell_type": "code",
   "execution_count": null,
   "id": "18",
   "metadata": {
    "tags": []
   },
   "outputs": [],
   "source": [
    "for i in df.iterrows():\n",
    "    print(i), print(type(i))"
   ]
  },
  {
   "cell_type": "code",
   "execution_count": null,
   "id": "19",
   "metadata": {
    "tags": []
   },
   "outputs": [],
   "source": [
    "for i,j in df.iterrows():\n",
    "    print(i), print(type(i))\n",
    "    print(j),print(type(j))"
   ]
  },
  {
   "cell_type": "markdown",
   "id": "20",
   "metadata": {},
   "source": [
    "### __2.2 Applying a Function to Each Element__"
   ]
  },
  {
   "cell_type": "code",
   "execution_count": null,
   "id": "21",
   "metadata": {
    "tags": []
   },
   "outputs": [],
   "source": [
    "df"
   ]
  },
  {
   "cell_type": "code",
   "execution_count": null,
   "id": "22",
   "metadata": {
    "tags": []
   },
   "outputs": [],
   "source": [
    "list(map(lambda x : x**2 , [1,2,3,4,5]))"
   ]
  },
  {
   "cell_type": "code",
   "execution_count": null,
   "id": "23",
   "metadata": {
    "tags": []
   },
   "outputs": [],
   "source": [
    "df['Column1'].apply(lambda x : x**2)"
   ]
  },
  {
   "cell_type": "code",
   "execution_count": null,
   "id": "24",
   "metadata": {},
   "outputs": [],
   "source": [
    "# Assuming 'df' is your DataFrame with 'ExistingColumn'\n",
    "df = pd.DataFrame({'ExistingColumn': [10, 20, 30]})\n",
    "\n",
    "df['NewColumn'] = df['ExistingColumn'].apply(lambda x: x * 2)\n",
    "print(df)\n"
   ]
  },
  {
   "cell_type": "markdown",
   "id": "25",
   "metadata": {},
   "source": [
    "### __2.3 Vectorized Operations__"
   ]
  },
  {
   "cell_type": "code",
   "execution_count": null,
   "id": "26",
   "metadata": {},
   "outputs": [],
   "source": [
    "# Assuming 'df' is your DataFrame with 'ColumnA' and 'ColumnB'\n",
    "df = pd.DataFrame({'ColumnA': [1, 2, 3], 'ColumnB': [4, 5, 6]})\n",
    "\n",
    "df['ResultColumn'] = df['ColumnA'] + df['ColumnB']\n",
    "print(df)"
   ]
  },
  {
   "cell_type": "markdown",
   "id": "27",
   "metadata": {},
   "source": [
    "### __2.4 Iterating over Series__"
   ]
  },
  {
   "cell_type": "code",
   "execution_count": null,
   "id": "28",
   "metadata": {},
   "outputs": [],
   "source": [
    "# Assuming 'series' is your Pandas Series\n",
    "series = pd.Series([10, 20, 30], name='Values')\n",
    "\n",
    "for index, value in series.items():\n",
    "    print(f\"Index: {index}, Value: {value}\")"
   ]
  },
  {
   "cell_type": "code",
   "execution_count": null,
   "id": "29",
   "metadata": {
    "tags": []
   },
   "outputs": [],
   "source": [
    "series.items()"
   ]
  },
  {
   "attachments": {
    "8e942634-2dc9-459e-b9f9-726ca9073afa.png": {
     "image/png": "[encoded data removed]"
    }
   },
   "cell_type": "markdown",
   "id": "30",
   "metadata": {},
   "source": [
    "## __3. Sorting__\n",
    "Sorting in Pandas involves arranging the elements of a DataFrame or Series based on specific criteria, such as column values or indices. \n",
    "\n",
    "![image.png](attachment:8e942634-2dc9-459e-b9f9-726ca9073afa.png)"
   ]
  },
  {
   "cell_type": "markdown",
   "id": "31",
   "metadata": {},
   "source": [
    "### __3.1 Sorting DataFrame by Column__"
   ]
  },
  {
   "cell_type": "code",
   "execution_count": null,
   "id": "32",
   "metadata": {},
   "outputs": [],
   "source": [
    "# Create a sample DataFrame\n",
    "df = pd.DataFrame({'Name': ['Alice', 'Bob', 'Charlie'],\n",
    "                   'Age': [25, 22, 30],\n",
    "                   'Salary': [50000, 60000, 75000]})\n",
    "\n",
    "# Sort DataFrame by the 'Age' column in ascending order\n",
    "df_sorted = df.sort_values(by='Age')\n",
    "print(\"Sorted DataFrame by Age:\\n\", df_sorted)"
   ]
  },
  {
   "cell_type": "markdown",
   "id": "33",
   "metadata": {},
   "source": [
    "### __3.2 Sorting DataFrame by Multiple Columns__"
   ]
  },
  {
   "cell_type": "code",
   "execution_count": null,
   "id": "34",
   "metadata": {},
   "outputs": [],
   "source": [
    "# Sort DataFrame by 'Age' in ascending order, then by 'Salary' in descending order\n",
    "df_sorted_multi = df.sort_values(by=['Age', 'Salary'], ascending=[True, False])\n",
    "print(\"\\nSorted DataFrame by Age and Salary:\\n\", df_sorted_multi)\n"
   ]
  },
  {
   "cell_type": "markdown",
   "id": "35",
   "metadata": {},
   "source": [
    "### __3.3 Sorting DataFrame by Index__"
   ]
  },
  {
   "cell_type": "code",
   "execution_count": null,
   "id": "36",
   "metadata": {},
   "outputs": [],
   "source": [
    "# Sort DataFrame by index in descending order\n",
    "df_sorted_index = df.sort_index(ascending=False)\n",
    "print(\"\\nSorted DataFrame by Index:\\n\", df_sorted_index)\n"
   ]
  },
  {
   "cell_type": "markdown",
   "id": "37",
   "metadata": {},
   "source": [
    "### __3.4 Sorting a Series__"
   ]
  },
  {
   "cell_type": "code",
   "execution_count": null,
   "id": "38",
   "metadata": {},
   "outputs": [],
   "source": [
    "# Create a sample Series\n",
    "series = pd.Series([25, 22, 30], index=['Alice', 'Bob', 'Charlie'], name='Age')\n",
    "\n",
    "# Sort Series in descending order\n",
    "series_sorted = series.sort_values(ascending=False)\n",
    "print(\"\\nSorted Series by Age:\\n\", series_sorted)\n"
   ]
  },
  {
   "cell_type": "markdown",
   "id": "39",
   "metadata": {},
   "source": [
    "## __4. Plotting with Pandas__\n",
    "Plotting data is required to visualize the data in Python. Python uses the plot method in pandas to create plots; there are many types of plots available in pandas."
   ]
  },
  {
   "cell_type": "code",
   "execution_count": null,
   "id": "40",
   "metadata": {},
   "outputs": [],
   "source": [
    "import pandas as pd\n",
    "import matplotlib.pyplot as plt\n",
    "\n",
    "# Create a sample DataFrame\n",
    "data = {'A': [1, 2, 3, 4, 5], 'B': [5, 4, 3, 2, 1]}\n",
    "df = pd.DataFrame(data)\n",
    "\n",
    "# Plot a line chart\n",
    "df.plot()\n",
    "plt.show()"
   ]
  },
  {
   "cell_type": "code",
   "execution_count": null,
   "id": "41",
   "metadata": {},
   "outputs": [],
   "source": [
    "# Plot a bar chart\n",
    "df.plot(kind='bar')\n",
    "plt.show()\n"
   ]
  },
  {
   "cell_type": "markdown",
   "id": "42",
   "metadata": {},
   "source": [
    "# __Assisted Practice__"
   ]
  },
  {
   "cell_type": "markdown",
   "id": "43",
   "metadata": {},
   "source": [
    "## __Problem Statement:__\n",
    "Create a detailed report on the monthly weather data by performing text manipulation, data sorting, and visualization to analyze temperature and precipitation trends.\n",
    "\n",
    "__Data:__\n",
    "The dataset contains daily observations of temperature and precipitation over a month.\n",
    "\n",
    "## __Steps to Perform:__\n",
    "\n",
    "1. Textual manipulation\n",
    "- Convert 'Day' to a string format with appropriate suffixes (1st, 2nd, 3rd, and so on)\n",
    "- Classify 'Temperature' into categories (Low, Medium, High) based on predefined thresholds\n",
    "- Determine if 'Precipitation' falls under 'Light', 'Moderate', or 'Heavy' rainfall\n",
    "\n",
    "2. Iteration and data aggregation\n",
    "- Iterate over the DataFrame to calculate weekly averages of temperature and precipitation\n",
    "- Summarize findings in a new DataFrame\n",
    "\n",
    "3. Sorting\n",
    "- Sort the DataFrame by 'Temperature' and 'Precipitation' in ascending and descending order\n",
    "- Sort the DataFrame by the day of the month\n",
    "\n",
    "4. Plotting\n",
    "- Create a line plot for temperature trends\n",
    "- Create a bar plot to compare precipitation levels across the month"
   ]
  },
  {
   "cell_type": "code",
   "execution_count": null,
   "id": "44",
   "metadata": {
    "tags": []
   },
   "outputs": [],
   "source": [
    "def add_suffix(day):\n",
    "    if 10 <= day % 100 <=20:\n",
    "        suffix = 'th'\n",
    "    else:\n",
    "        suffix = {1: 'st', 2: 'nd', 3:'rd'}\n",
    "    return str(day) + suffix"
   ]
  },
  {
   "cell_type": "code",
   "execution_count": null,
   "id": "45",
   "metadata": {},
   "outputs": [],
   "source": [
    "df['day'].apply(add_suffix)"
   ]
  },
  {
   "cell_type": "code",
   "execution_count": null,
   "id": "46",
   "metadata": {},
   "outputs": [],
   "source": [
    "def categories(temp):\n",
    "   pass # condition"
   ]
  },
  {
   "cell_type": "code",
   "execution_count": null,
   "id": "47",
   "metadata": {},
   "outputs": [],
   "source": []
  }
 ],
 "metadata": {
  "kernelspec": {
   "display_name": "Python 3 (ipykernel)",
   "language": "python",
   "name": "python3"
  },
  "language_info": {
   "codemirror_mode": {
    "name": "ipython",
    "version": 3
   },
   "file_extension": ".py",
   "mimetype": "text/x-python",
   "name": "python",
   "nbconvert_exporter": "python",
   "pygments_lexer": "ipython3",
   "version": "3.11.3"
  }
 },
 "nbformat": 4,
 "nbformat_minor": 5
}

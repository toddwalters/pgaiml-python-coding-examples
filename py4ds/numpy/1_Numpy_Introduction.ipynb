{
 "cells": [
  {
   "cell_type": "markdown",
   "metadata": {},
   "source": [
    "# __Introduction to NumPy__"
   ]
  },
  {
   "cell_type": "markdown",
   "metadata": {},
   "source": [
    "## __Agenda__\n",
    "\n",
    "In this lesson, we will cover the following concepts with the help of examples:\n",
    "\n",
    "- Fundamentals of NumPy\n",
    "  * Advantages of NumPy\n",
    "  * NumPy: Installation and Import\n",
    "- NumPy: Array Object\n",
    "  * Creating NumPy Arrays"
   ]
  },
  {
   "cell_type": "code",
   "execution_count": null,
   "metadata": {
    "tags": []
   },
   "outputs": [],
   "source": [
    "# Why Numpy ?\n",
    "x = [[1,2,3],\n",
    "     [4,5,6]]\n",
    "print(x)"
   ]
  },
  {
   "cell_type": "code",
   "execution_count": null,
   "metadata": {
    "tags": []
   },
   "outputs": [],
   "source": [
    "x*2 # repetition"
   ]
  },
  {
   "cell_type": "code",
   "execution_count": null,
   "metadata": {
    "tags": []
   },
   "outputs": [],
   "source": [
    "x+x # concatenation"
   ]
  },
  {
   "cell_type": "code",
   "execution_count": null,
   "metadata": {
    "tags": []
   },
   "outputs": [],
   "source": [
    "result=[]\n",
    "for i in x:\n",
    "    for j in i:\n",
    "        result.append(j*2)"
   ]
  },
  {
   "cell_type": "code",
   "execution_count": null,
   "metadata": {
    "tags": []
   },
   "outputs": [],
   "source": [
    "result"
   ]
  },
  {
   "cell_type": "code",
   "execution_count": null,
   "metadata": {},
   "outputs": [],
   "source": [
    "# Flexibility\n",
    "# Speed"
   ]
  },
  {
   "cell_type": "code",
   "execution_count": null,
   "metadata": {
    "tags": []
   },
   "outputs": [],
   "source": [
    "import numpy as np\n",
    "a = np.array(x)\n",
    "a*3"
   ]
  },
  {
   "cell_type": "markdown",
   "metadata": {
    "tags": []
   },
   "source": [
    "## __1. Fundamentals of NumPy__\n",
    "\n",
    "NumPy (Numerical Python) is a free and open-source library that is mostly used for mathematical operations in scientific and engineering applications.\n",
    "\n",
    "- It is a Python library used for working with arrays.\n",
    "- It consists of a multidimensional array of objects and a collection of functions for manipulating them.\n",
    "- It conducts mathematical and logical operations on arrays.\n",
    "\n",
    "**Note:** The array object in NumPy is called ndarray."
   ]
  },
  {
   "cell_type": "markdown",
   "metadata": {},
   "source": [
    "### __1.1  Advantages of NumPy__\n",
    "- It provides an array object that is faster than traditional Python lists.\n",
    "- It provides supporting functions.\n",
    "- Arrays are frequently used in data science.\n",
    "- NumPy arrays are stored in one continuous place in memory, unlike lists."
   ]
  },
  {
   "cell_type": "markdown",
   "metadata": {},
   "source": [
    "### __1.2 NumPy: Installation and Import__\n",
    "- `C:\\Users\\Your Name>pip install numpy` command is used to install NumPy.\n",
    "- NumPy is imported under the name np like `import numpy as np`."
   ]
  },
  {
   "cell_type": "markdown",
   "metadata": {},
   "source": [
    "## __2. NumPy: Array Object__\n",
    "A NumPy ndarray object can be created by using the array() function."
   ]
  },
  {
   "cell_type": "code",
   "execution_count": null,
   "metadata": {
    "tags": []
   },
   "outputs": [],
   "source": [
    "import numpy as np"
   ]
  },
  {
   "cell_type": "code",
   "execution_count": null,
   "metadata": {
    "tags": []
   },
   "outputs": [],
   "source": [
    "np.__version__"
   ]
  },
  {
   "cell_type": "code",
   "execution_count": null,
   "metadata": {
    "tags": []
   },
   "outputs": [],
   "source": [
    "# Example:\n",
    "import numpy as np\n",
    "arr = np.array ([10,20,30,40,50])\n",
    "print (arr)\n",
    "print (type(arr))"
   ]
  },
  {
   "cell_type": "code",
   "execution_count": null,
   "metadata": {
    "tags": []
   },
   "outputs": [],
   "source": [
    "# Example:\n",
    "import numpy as np\n",
    "arr = np.array ([10,20,30,40,50,\"hello\",25.56])\n",
    "print (arr)\n",
    "print (type(arr))"
   ]
  },
  {
   "cell_type": "code",
   "execution_count": null,
   "metadata": {
    "tags": []
   },
   "outputs": [],
   "source": [
    "# coerced to the higher data type\n",
    "# int < float < complex < string\n",
    "arr.dtype"
   ]
  },
  {
   "cell_type": "code",
   "execution_count": null,
   "metadata": {
    "tags": []
   },
   "outputs": [],
   "source": [
    "# Example:\n",
    "import numpy as np\n",
    "arr = np.array ([10,20,30,40,50], dtype='float')\n",
    "print (arr)\n",
    "print (type(arr))"
   ]
  },
  {
   "cell_type": "code",
   "execution_count": null,
   "metadata": {
    "tags": []
   },
   "outputs": [],
   "source": [
    "arr.dtype"
   ]
  },
  {
   "cell_type": "markdown",
   "metadata": {},
   "source": [
    "| Data type\t | Description |\n",
    "|-------------|-------------|\n",
    "| `bool_`     | Boolean (True or False) stored as a byte |\n",
    "| `int_`      | Default integer type (same as C `long`; normally either `int64` or `int32`)| \n",
    "| `intc`      | Identical to C `int` (normally `int32` or `int64`)| \n",
    "| `intp`      | Integer used for indexing (same as C `ssize_t`; normally either `int32` or `int64`)| \n",
    "| `int8`      | Byte (–128 to 127)| \n",
    "| `int16`     | Integer (–32768 to 32767)|\n",
    "| `int32`     | Integer (–2147483648 to 2147483647)|\n",
    "| `int64`     | Integer (–9223372036854775808 to 9223372036854775807)| \n",
    "| `uint8`     | Unsigned integer (0 to 255)| \n",
    "| `uint16`    | Unsigned integer (0 to 65535)| \n",
    "| `uint32`    | Unsigned integer (0 to 4294967295)| \n",
    "| `uint64`    | Unsigned integer (0 to 18446744073709551615)| \n",
    "| `float_`    | Shorthand for `float64`| \n",
    "| `float16`   | Half-precision float: sign bit, 5 bits exponent, 10 bits mantissa| \n",
    "| `float32`   | Single-precision float: sign bit, 8 bits exponent, 23 bits mantissa| \n",
    "| `float64`   | Double-precision float: sign bit, 11 bits exponent, 52 bits mantissa| \n",
    "| `complex_`  | Shorthand for `complex128`| \n",
    "| `complex64` | Complex number, represented by two 32-bit floats| \n",
    "| `complex128`| Complex number, represented by two 64-bit floats| "
   ]
  },
  {
   "cell_type": "code",
   "execution_count": null,
   "metadata": {
    "tags": []
   },
   "outputs": [],
   "source": [
    "# Example:\n",
    "import numpy as np\n",
    "arr = np.array ([10,20,30,40,50], dtype='int8')\n",
    "print (arr)\n",
    "print (type(arr))"
   ]
  },
  {
   "cell_type": "code",
   "execution_count": null,
   "metadata": {
    "tags": []
   },
   "outputs": [],
   "source": [
    "arr.dtype"
   ]
  },
  {
   "cell_type": "code",
   "execution_count": null,
   "metadata": {
    "tags": []
   },
   "outputs": [],
   "source": [
    "# another way\n",
    "# Example:\n",
    "import numpy as np\n",
    "arr = np.array ([10,20,30,40,50], dtype=np.int32)\n",
    "print (arr)\n",
    "print (type(arr))"
   ]
  },
  {
   "cell_type": "code",
   "execution_count": null,
   "metadata": {
    "tags": []
   },
   "outputs": [],
   "source": [
    "arr.dtype"
   ]
  },
  {
   "cell_type": "markdown",
   "metadata": {},
   "source": [
    "### __2.1 Creating NumPy Arrays__\n",
    "- Create multiple dimensional arrays, such as 0D, 1D, 2D and 3D"
   ]
  },
  {
   "cell_type": "code",
   "execution_count": null,
   "metadata": {
    "tags": []
   },
   "outputs": [],
   "source": [
    "# Create a 0D Array\n",
    "arr0 = np.array(24)\n",
    "print ('0D array is', arr0)\n",
    "# Create a 1D Array\n",
    "arr1 = np.array([1,2,3,4])\n",
    "print ('1D array is', arr1)\n",
    "# Create a 2D Array\n",
    "arr2 = np.array([[1,1,1],[1,2,1]])\n",
    "print ('2D array is', arr2)\n",
    "# Create a 3D Array\n",
    "arr3 = np.array([[[1,1,1],[2,2,2]],[[3,3,3],[4,4,4]]])\n",
    "print ('3D array is', arr3)"
   ]
  },
  {
   "cell_type": "markdown",
   "metadata": {},
   "source": [
    "**Observations:**\n",
    "- 1D arrays are unidimensional and have 0D arrays as its elements.\n",
    "- 2D arrays have 1D arrays as their elements.\n",
    "- 3D arrays have 2D arrays as their elements."
   ]
  },
  {
   "cell_type": "code",
   "execution_count": null,
   "metadata": {
    "tags": []
   },
   "outputs": [],
   "source": [
    "arr0.ndim # number of dimensions"
   ]
  },
  {
   "cell_type": "code",
   "execution_count": null,
   "metadata": {
    "tags": []
   },
   "outputs": [],
   "source": [
    "arr1.ndim, arr2.ndim, arr3.ndim"
   ]
  },
  {
   "cell_type": "code",
   "execution_count": null,
   "metadata": {
    "tags": []
   },
   "outputs": [],
   "source": [
    "arr2.shape "
   ]
  },
  {
   "cell_type": "code",
   "execution_count": null,
   "metadata": {
    "tags": []
   },
   "outputs": [],
   "source": [
    "arr2"
   ]
  },
  {
   "cell_type": "code",
   "execution_count": null,
   "metadata": {
    "tags": []
   },
   "outputs": [],
   "source": [
    "arr3.shape"
   ]
  },
  {
   "cell_type": "markdown",
   "metadata": {},
   "source": [
    "## __Assisted Practice__"
   ]
  },
  {
   "cell_type": "markdown",
   "metadata": {},
   "source": [
    "### __Problem Statement:__\n",
    "\n",
    "Create the following NumPy arrays and print them using appropriate code:\n",
    "\n",
    "- A 0D array (scalar)\n",
    "\n",
    "- A 1D array with elements [1, 2, 3, 4]\n",
    "\n",
    "- A 2D array with elements [[1, 1, 1], [1, 2, 1]]\n",
    "\n",
    "- A 3D array with elements [[[1, 1, 1], [2, 2, 2]], [[3, 3, 3], [4, 4, 4]]]"
   ]
  },
  {
   "cell_type": "code",
   "execution_count": null,
   "metadata": {},
   "outputs": [],
   "source": [
    "# create array, display type, shape, ndim, dtype"
   ]
  },
  {
   "cell_type": "code",
   "execution_count": null,
   "metadata": {},
   "outputs": [],
   "source": []
  }
 ],
 "metadata": {
  "kernelspec": {
   "display_name": "Python 3 (ipykernel)",
   "language": "python",
   "name": "python3"
  },
  "language_info": {
   "codemirror_mode": {
    "name": "ipython",
    "version": 3
   },
   "file_extension": ".py",
   "mimetype": "text/x-python",
   "name": "python",
   "nbconvert_exporter": "python",
   "pygments_lexer": "ipython3",
   "version": "3.11.3"
  }
 },
 "nbformat": 4,
 "nbformat_minor": 4
}

{
 "cells": [
  {
   "cell_type": "markdown",
   "id": "0",
   "metadata": {},
   "source": [
    "# __Slicing__"
   ]
  },
  {
   "cell_type": "markdown",
   "id": "1",
   "metadata": {},
   "source": [
    "## __Agenda__\n",
    "In this lesson, we will cover the following concepts with the help of examples:\n",
    "\n",
    "- NumPy Array Slicing\n",
    "  * Slicing 1D NumPy Arrays\n",
    "  * Slicing Using Step Value\n",
    "  * Slicing: 2D Array\n",
    "  * Slicing: 3D Array\n",
    "  * Negative Slicing"
   ]
  },
  {
   "cell_type": "markdown",
   "id": "2",
   "metadata": {},
   "source": [
    "## __1. NumPy Array Slicing__\n",
    "\n",
    "- In Python, slicing refers to moving elements from one index to another.\n",
    "- Instead of using an index, the slice is passed as **[start:end]**.\n",
    "- Another way to pass the slice is to add a step as **[start:end:step]**.\n",
    "- In slicing, if the starting is not passed, it is considered as 0. If the step is not passed as 1 and if the end is not passed, it is considered as the length of the array in that dimension."
   ]
  },
  {
   "cell_type": "markdown",
   "id": "3",
   "metadata": {},
   "source": [
    "### __1.1 Slicing 1D NumPy Arrays__"
   ]
  },
  {
   "cell_type": "markdown",
   "id": "4",
   "metadata": {},
   "source": [
    "#### Example 1: Use slicing to retrieve employee ratings for a team of seven employees in the first quarter from an array"
   ]
  },
  {
   "cell_type": "code",
   "execution_count": null,
   "id": "5",
   "metadata": {
    "tags": []
   },
   "outputs": [],
   "source": [
    "import numpy as np\n",
    "Employee_rating = np.array([1, 4, 3, 5, 6, 8, 9, 10, 12])\n",
    "print(Employee_rating[1:7])"
   ]
  },
  {
   "cell_type": "markdown",
   "id": "6",
   "metadata": {},
   "source": [
    "#### Example 2: Print the list of three subjects from the fourth index to the end"
   ]
  },
  {
   "cell_type": "code",
   "execution_count": null,
   "id": "7",
   "metadata": {
    "tags": []
   },
   "outputs": [],
   "source": [
    "Books = np.array(['Physics','DataScience','Maths','Python','Hadoop', 'OPPs', 'Java', 'Cloud'])\n",
    "print(Books[5:]) "
   ]
  },
  {
   "cell_type": "markdown",
   "id": "8",
   "metadata": {},
   "source": [
    "### __1.2 Slicing Using Step Value__"
   ]
  },
  {
   "cell_type": "code",
   "execution_count": null,
   "id": "9",
   "metadata": {
    "tags": []
   },
   "outputs": [],
   "source": [
    "X = np.array([8, 7, 6, 5, 4, 3, 2, 1])\n",
    "print(X[1:6:3])"
   ]
  },
  {
   "cell_type": "markdown",
   "id": "10",
   "metadata": {},
   "source": [
    "### __1.3 Slicing: 2D Array__"
   ]
  },
  {
   "cell_type": "code",
   "execution_count": null,
   "id": "11",
   "metadata": {
    "tags": []
   },
   "outputs": [],
   "source": [
    "Z = np.array([[11, 22, 33, 44, 55], [66, 77, 88, 99, 110]])\n",
    "print(Z[0, 2:3]) "
   ]
  },
  {
   "cell_type": "code",
   "execution_count": null,
   "id": "12",
   "metadata": {
    "tags": []
   },
   "outputs": [],
   "source": [
    "Z"
   ]
  },
  {
   "cell_type": "markdown",
   "id": "13",
   "metadata": {},
   "source": [
    "### __1.4 Slicing: 3D Array__"
   ]
  },
  {
   "cell_type": "code",
   "execution_count": null,
   "id": "14",
   "metadata": {
    "tags": []
   },
   "outputs": [],
   "source": [
    "array_3d = np.array([[[1,2,3],[4,5,6]],[[7,8,9],[10,11,12]]])\n",
    "print(array_3d[0,1:,1:])"
   ]
  },
  {
   "attachments": {
    "c873726d-3a46-4967-9ae2-3bc9745078cf.png": {
     "image/png": "[encoded data removed]"
    }
   },
   "cell_type": "markdown",
   "id": "15",
   "metadata": {},
   "source": [
    "### __1.5 Negative Slicing__\n",
    "- Negative slicing is the same as negative indexing, which is interpreted as counting from the end of an array.\n",
    "\n",
    "![image.png](attachment:c873726d-3a46-4967-9ae2-3bc9745078cf.png)"
   ]
  },
  {
   "cell_type": "code",
   "execution_count": null,
   "id": "16",
   "metadata": {},
   "outputs": [],
   "source": [
    "# Negative slicing for 1D array\n",
    "Neg_slice = np.array([13, 34, 58, 69, 44, 56, 37,24])\n",
    "print(Neg_slice[:-1])"
   ]
  },
  {
   "cell_type": "code",
   "execution_count": null,
   "id": "17",
   "metadata": {
    "tags": []
   },
   "outputs": [],
   "source": [
    "np.random.seed(0)\n",
    "x = np.random.randint(1,100,size=(5,7))\n",
    "x"
   ]
  },
  {
   "cell_type": "code",
   "execution_count": null,
   "id": "18",
   "metadata": {
    "tags": []
   },
   "outputs": [],
   "source": [
    "Z = np.array([[11, 22, 33, 44, 55], [66, 77, 88, 99, 110]])\n",
    "Z"
   ]
  },
  {
   "cell_type": "code",
   "execution_count": null,
   "id": "19",
   "metadata": {
    "tags": []
   },
   "outputs": [],
   "source": [
    "Z[0,2:3] # 33"
   ]
  },
  {
   "cell_type": "markdown",
   "id": "20",
   "metadata": {
    "tags": []
   },
   "source": [
    "## Return the values\n",
    "### Assignment 1 : \n",
    "\n",
    "[59, 66, 40, 88, 47, 89, 82],\n",
    "\n",
    "[38, 26, 78, 73, 10, 21, 81]\n",
    "\n",
    "### Assignment 2:\n",
    "\n",
    "[45,  65,  68],\n",
    "\n",
    "[22,  88,  89],\n",
    "\n",
    "[59,  40,  47]"
   ]
  },
  {
   "cell_type": "code",
   "execution_count": null,
   "id": "21",
   "metadata": {
    "tags": []
   },
   "outputs": [],
   "source": [
    "x[2:4,:] # assignment 1"
   ]
  },
  {
   "cell_type": "code",
   "execution_count": null,
   "id": "22",
   "metadata": {
    "tags": []
   },
   "outputs": [],
   "source": [
    "x"
   ]
  },
  {
   "cell_type": "code",
   "execution_count": null,
   "id": "23",
   "metadata": {
    "tags": []
   },
   "outputs": [],
   "source": [
    "x[0:3,0:6]"
   ]
  },
  {
   "cell_type": "code",
   "execution_count": null,
   "id": "24",
   "metadata": {
    "tags": []
   },
   "outputs": [],
   "source": [
    "x[0:3,0:6:2]"
   ]
  },
  {
   "cell_type": "markdown",
   "id": "25",
   "metadata": {},
   "source": [
    "## __Assisted Practice__"
   ]
  },
  {
   "cell_type": "markdown",
   "id": "26",
   "metadata": {},
   "source": [
    "### __Problem Statement:__\n",
    "\n",
    "- Creating arrays for slicing:\n",
    "  * Create a 1D NumPy array with at least 15 elements\n",
    "  * Create a 2D NumPy array with a minimum of 4 rows and 5 columns\n",
    "  * Create a 3D NumPy array with at least 2 matrices, each containing 3 rows and 4 columns\n",
    "\n",
    "- Slicing 1D arrays:\n",
    "  * Perform and demonstrate different slices on the 1D array, explore it using step values\n",
    "\n",
    "- Slicing 2D arrays:\n",
    "  * Slice rows and columns separately and in combination\n",
    "\n",
    "- Slicing 3D arrays:\n",
    "  * Perform slicing to access different matrices, rows within matrices, and elements within rows\n",
    "\n",
    "- Negative slicing:\n",
    "  * Implement negative slicing on 1D, 2D, and 3D arrays\n",
    "  * Compare the outcomes of negative slicing with positive slicing"
   ]
  },
  {
   "cell_type": "code",
   "execution_count": null,
   "id": "27",
   "metadata": {},
   "outputs": [],
   "source": []
  }
 ],
 "metadata": {
  "kernelspec": {
   "display_name": "Python 3 (ipykernel)",
   "language": "python",
   "name": "python3"
  },
  "language_info": {
   "codemirror_mode": {
    "name": "ipython",
    "version": 3
   },
   "file_extension": ".py",
   "mimetype": "text/x-python",
   "name": "python",
   "nbconvert_exporter": "python",
   "pygments_lexer": "ipython3",
   "version": "3.11.3"
  }
 },
 "nbformat": 4,
 "nbformat_minor": 5
}

{
 "cells": [
  {
   "cell_type": "markdown",
   "id": "0",
   "metadata": {},
   "source": [
    "# __NumPy Arithmetic Statistical and String Functions__"
   ]
  },
  {
   "cell_type": "markdown",
   "id": "1",
   "metadata": {},
   "source": [
    "## __Agenda__\n",
    "\n",
    "In this lesson, we will cover the following concepts with the help of examples:\n",
    "- Arithmetic Operations Using NumPy\n",
    "  * Addition\n",
    "  * Subtraction\n",
    "  * Multiplication\n",
    "  * Division\n",
    "  * Power of\n",
    "- Statistical Function in Numpy\n",
    "  * Calculating Median, Mean, Standard Deviation, and Variance in the Array\n",
    "  * Calculating Percentiles\n",
    "- String Function in Numpy"
   ]
  },
  {
   "cell_type": "markdown",
   "id": "2",
   "metadata": {},
   "source": [
    "## __1. Arithmetic Operations Using NumPy__ ##\n",
    "### __1.1 Addition__ ###"
   ]
  },
  {
   "cell_type": "code",
   "execution_count": null,
   "id": "3",
   "metadata": {
    "tags": []
   },
   "outputs": [],
   "source": [
    "# Perform element-wise addition of two arrays using the 'np.add' method\n",
    "import numpy as np\n",
    "a = np.array([30,20,10])\n",
    "b = np.array([10,20,30])\n",
    "result = np.add (a,b)\n",
    "print(result)"
   ]
  },
  {
   "cell_type": "code",
   "execution_count": null,
   "id": "4",
   "metadata": {
    "tags": []
   },
   "outputs": [],
   "source": [
    "# operator overloading\n",
    "a+b"
   ]
  },
  {
   "cell_type": "markdown",
   "id": "5",
   "metadata": {},
   "source": [
    "### __1.2 Subtraction__ ###"
   ]
  },
  {
   "cell_type": "code",
   "execution_count": null,
   "id": "6",
   "metadata": {
    "tags": []
   },
   "outputs": [],
   "source": [
    "# Perform element-wise subtraction of two arrays using 'np.subtract' method\n",
    "a = np.array([[30,40,60], [50,70,90]])\n",
    "b = np.array([[10,20,30], [40,30,80]])\n",
    "result = np.subtract (a,b)\n",
    "print(result)"
   ]
  },
  {
   "cell_type": "code",
   "execution_count": null,
   "id": "7",
   "metadata": {
    "tags": []
   },
   "outputs": [],
   "source": [
    "a-b"
   ]
  },
  {
   "cell_type": "markdown",
   "id": "8",
   "metadata": {
    "tags": []
   },
   "source": [
    "### __1.3 Multiplication__ ###"
   ]
  },
  {
   "cell_type": "code",
   "execution_count": null,
   "id": "9",
   "metadata": {
    "tags": []
   },
   "outputs": [],
   "source": [
    "# Perform element-wise multiplication of two arrays using the 'np.multiply' method\n",
    "a = np.array([30,20,10])\n",
    "b = np.array([10,20,30])\n",
    "result = np.multiply (a,b)\n",
    "print(result)"
   ]
  },
  {
   "cell_type": "code",
   "execution_count": null,
   "id": "10",
   "metadata": {
    "tags": []
   },
   "outputs": [],
   "source": [
    "a*b"
   ]
  },
  {
   "cell_type": "markdown",
   "id": "11",
   "metadata": {},
   "source": [
    "### __1.4 Division__ ###"
   ]
  },
  {
   "cell_type": "code",
   "execution_count": null,
   "id": "12",
   "metadata": {
    "tags": []
   },
   "outputs": [],
   "source": [
    "# Perform element-wise division of two arrays using the 'np.divide' method\n",
    "a = np.array([[1,2,1],[2,2,3]])\n",
    "b = np.array([3,4,5])\n",
    "result = np.divide (a,b)\n",
    "print(result)"
   ]
  },
  {
   "cell_type": "code",
   "execution_count": null,
   "id": "13",
   "metadata": {
    "tags": []
   },
   "outputs": [],
   "source": [
    "a/b"
   ]
  },
  {
   "cell_type": "markdown",
   "id": "14",
   "metadata": {},
   "source": [
    "### __1.5 Power of__ ###"
   ]
  },
  {
   "cell_type": "code",
   "execution_count": null,
   "id": "15",
   "metadata": {
    "tags": []
   },
   "outputs": [],
   "source": [
    "# Perform element-wise power operation where each element in 'a' is raised to the corresponding element in 'b' using the 'np.power' method\n",
    "a = np.array([2,2,2,2,2])\n",
    "b = np.array([2,3,4,5,6])\n",
    "c = np.power(a,b)\n",
    "print(c)"
   ]
  },
  {
   "cell_type": "code",
   "execution_count": null,
   "id": "16",
   "metadata": {
    "tags": []
   },
   "outputs": [],
   "source": [
    "a**b"
   ]
  },
  {
   "cell_type": "markdown",
   "id": "17",
   "metadata": {},
   "source": [
    "## __2. Statistical Function in Numpy__ ##\n",
    "### __2.1 Calculating Median, Mean, Standard Deviation, and Variance in the Array__ ###"
   ]
  },
  {
   "cell_type": "code",
   "execution_count": null,
   "id": "18",
   "metadata": {
    "tags": []
   },
   "outputs": [],
   "source": [
    "# Median\n",
    "array = np.array([[4,3,2],[10,1,0],[5,8,24]])\n",
    "np.median(array)\n",
    "print(np.median(array))\n",
    "# Mean\n",
    "np.mean(array)\n",
    "print(np.mean(array))\n",
    "# Standard Deviation\n",
    "np.std(array)\n",
    "print(np.std(array))\n",
    "# Variance\n",
    "np.var(array)\n",
    "print(np.var(array))"
   ]
  },
  {
   "cell_type": "markdown",
   "id": "19",
   "metadata": {},
   "source": [
    "### __2.2 Calculating Percentiles__ ###\n",
    "- The `np.percentile()` function is used to compute the nth percentile of the array elements.\n",
    "- The nth percentile value should be in between 0 and 100."
   ]
  },
  {
   "cell_type": "code",
   "execution_count": null,
   "id": "20",
   "metadata": {
    "tags": []
   },
   "outputs": [],
   "source": [
    "# Find the value under the 50th percentile of the NumPy array.\n",
    "np.percentile(array,50)"
   ]
  },
  {
   "cell_type": "markdown",
   "id": "21",
   "metadata": {},
   "source": [
    "## __3. String Function in Numpy__ ##"
   ]
  },
  {
   "cell_type": "code",
   "execution_count": null,
   "id": "22",
   "metadata": {
    "tags": []
   },
   "outputs": [],
   "source": [
    "# Perform element-wise string concatenation for two arrays of string\n",
    "x = np.array(['Hello','World'])\n",
    "y = np.array(['Welcome', 'Learners'])\n",
    "result = np.char.add(x,y)\n",
    "print(result) "
   ]
  },
  {
   "cell_type": "code",
   "execution_count": null,
   "id": "23",
   "metadata": {
    "tags": []
   },
   "outputs": [],
   "source": [
    "# Replacing the old substring with the new substring\n",
    "str = \"Hello How Are You\"\n",
    "print(str)\n",
    "z = np.char.replace (str, 'Hello', 'Hi')\n",
    "print (z)"
   ]
  },
  {
   "cell_type": "code",
   "execution_count": null,
   "id": "24",
   "metadata": {
    "tags": []
   },
   "outputs": [],
   "source": [
    "# Converting all lowercase characters in a string to uppercase and vice-versa\n",
    "str1 = \"hello how are you\"\n",
    "print(str1)\n",
    "z = np.char.upper (str1)\n",
    "print(z)\n",
    "str2 = \"GREETINGS OF THE DAY\"\n",
    "print(str2)\n",
    "s = np.char.lower (str2)\n",
    "print(s)"
   ]
  },
  {
   "cell_type": "code",
   "execution_count": null,
   "id": "25",
   "metadata": {
    "tags": []
   },
   "outputs": [],
   "source": [
    "str1.upper()"
   ]
  },
  {
   "cell_type": "code",
   "execution_count": null,
   "id": "26",
   "metadata": {
    "tags": []
   },
   "outputs": [],
   "source": [
    "str2.lower()"
   ]
  },
  {
   "cell_type": "markdown",
   "id": "27",
   "metadata": {},
   "source": [
    "## __Assisted Practice__"
   ]
  },
  {
   "cell_type": "markdown",
   "id": "28",
   "metadata": {
    "tags": []
   },
   "source": [
    "### __Problem Statement:__\n",
    "\n",
    "Consider the following arrays:\n",
    "\n",
    "- Arrays for Arithmetic Operations:\n",
    "  * Array A: [15, 25, 35, 45, 55]\n",
    "  * Array B: [5, 10, 15, 20, 25]\n",
    "\n",
    "- Array for Statistical Operations:\n",
    "  * Array C: [12, 22, 32, 42, 52, 62, 72, 82, 92, 102]\n",
    "\n",
    "- Arrays for String Functions:\n",
    "  * String Array X: ['Hello', 'Data', 'Science', 'Class', 'Learners']\n",
    "  * String Array Y: ['World', 'Analysis', 'is', 'Fun', '2023']\n",
    "  \n",
    "  \n",
    "__Steps to Perform:__\n",
    "\n",
    "1. Perform element-wise addition, subtraction, multiplication, division, and power operations on Arrays A and B\n",
    "2. Calculate the median, mean, standard deviation, and variance for Array C\n",
    "3. Concatenate corresponding elements of String Arrays X and Y\n",
    "4. Convert all elements in String Array X to uppercase\n",
    "5. Replace a specific substring in String Array Y with another substring"
   ]
  },
  {
   "cell_type": "code",
   "execution_count": null,
   "id": "29",
   "metadata": {
    "tags": []
   },
   "outputs": [],
   "source": [
    "a =np.array([15, 25, 35, 45, 55])\n",
    "b = np.array([5, 10, 15, 20, 25])\n",
    "c = np.array([12, 22, 32, 42, 52, 62, 72, 82, 92, 102])\n",
    "x = np.array(['Hello', 'Data', 'Science', 'Class', 'Learners'])\n",
    "y = np.array(['World', 'Analysis', 'is', 'Fun', '2023'])\n",
    "a+b, a-b , a*b , a/b, a**b"
   ]
  },
  {
   "cell_type": "code",
   "execution_count": null,
   "id": "30",
   "metadata": {
    "tags": []
   },
   "outputs": [],
   "source": [
    "c.mean() , c.std(), c.var(), np.median(c)"
   ]
  },
  {
   "cell_type": "code",
   "execution_count": null,
   "id": "31",
   "metadata": {
    "tags": []
   },
   "outputs": [],
   "source": [
    "result = np.char.add(x,y)\n",
    "print(result) "
   ]
  },
  {
   "cell_type": "code",
   "execution_count": null,
   "id": "32",
   "metadata": {
    "tags": []
   },
   "outputs": [],
   "source": [
    "z = np.char.upper (x)\n",
    "print(z)"
   ]
  },
  {
   "cell_type": "code",
   "execution_count": null,
   "id": "33",
   "metadata": {
    "tags": []
   },
   "outputs": [],
   "source": [
    "z = np.char.lower (y)\n",
    "print(z)"
   ]
  },
  {
   "cell_type": "code",
   "execution_count": null,
   "id": "34",
   "metadata": {
    "tags": []
   },
   "outputs": [],
   "source": [
    "y"
   ]
  },
  {
   "cell_type": "code",
   "execution_count": null,
   "id": "35",
   "metadata": {
    "tags": []
   },
   "outputs": [],
   "source": [
    "z = np.char.replace (y, 'World', 'Data')\n",
    "print (z)"
   ]
  },
  {
   "cell_type": "code",
   "execution_count": null,
   "id": "36",
   "metadata": {},
   "outputs": [],
   "source": []
  }
 ],
 "metadata": {
  "kernelspec": {
   "display_name": "Python 3 (ipykernel)",
   "language": "python",
   "name": "python3"
  },
  "language_info": {
   "codemirror_mode": {
    "name": "ipython",
    "version": 3
   },
   "file_extension": ".py",
   "mimetype": "text/x-python",
   "name": "python",
   "nbconvert_exporter": "python",
   "pygments_lexer": "ipython3",
   "version": "3.11.3"
  }
 },
 "nbformat": 4,
 "nbformat_minor": 5
}

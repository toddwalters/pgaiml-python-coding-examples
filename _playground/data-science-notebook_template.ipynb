{
 "cells": [
  {
   "cell_type": "code",
   "execution_count": null,
   "metadata": {},
   "outputs": [],
   "source": [
    "# from google.colab import drive\n",
    "# drive.mount('/content/drive')"
   ]
  },
  {
   "cell_type": "markdown",
   "metadata": {},
   "source": [
    "Table of Contents"
   ]
  },
  {
   "cell_type": "markdown",
   "metadata": {},
   "source": [
    "-----\n",
    "\n",
    "# <a id='toc1_'></a>[**Sales Forecasting Project**](#toc0_)"
   ]
  },
  {
   "cell_type": "markdown",
   "metadata": {},
   "source": [
    "-----------------------------\n",
    "## <a id='toc1_1_'></a>[**Project Context**](#toc0_)\n",
    "-----------------------------\n",
    "\n",
    "Fresh Analytics, a data analytics company, aims to comprehend and predict the demand for various items across restaurants. The primary goal of the project is to determine the sales of items across different restaurants over the years. In an ever-changing competitive market, accurate forecasting is crucial for making correct decisions and plans related to sales, production, and other business aspects.\n",
    "\n",
    "-----------------------------\n",
    "## <a id='toc1_2_'></a>[**Project Objectives**](#toc0_)\n",
    "-----------------------------\n",
    "\n",
    "In ever-changing competitive market conditions, there is a need to make correct decisions and plans for future events related to business like sales, production, and many more. The effectiveness of a decision taken by business managers is influenced by the accuracy of the models used. Demand is the most important aspect of a business's ability to achieve its objectives. Many decisions in business depend on demand, like production, sales, and staff requirements. Forecasting is necessary for business at both international and domestic levels. \n",
    "\n",
    "-----------------------------\n",
    "## <a id='toc1_3_'></a>[**Project Dataset Description**](#toc0_)\n",
    "-----------------------------\n",
    "\n",
    "1. **restaurants.csv**: Contains information about the restaurants or stores.\n",
    "   - id: Unique identification of the restaurant or store\n",
    "   - name: Name of the restaurant\n",
    "\n",
    "2. **items.csv**: Provides details about the items sold.\n",
    "   - id: Unique identification of the item\n",
    "   - store_id: Unique identification of the store\n",
    "   - name: Name of the item\n",
    "   - kcal: A measure of energy nutrients (calories) in the item\n",
    "   - cost: The unit price of the item\n",
    "\n",
    "3. **sales.csv**: Contains sales data for items at different stores on various dates.\n",
    "   - date: Date of purchase\n",
    "   - item: Name of the item bought\n",
    "   - Price: Unit price of the item\n",
    "   - item_count: Total count of the items bought on that day\n",
    "\n",
    "-----------------------------------\n",
    "## <a id='toc1_4_'></a>[**Project Analysis Steps To Perform**](#toc0_)\n",
    "-----------------------------------\n",
    "\n",
    "4.1  Preliminary analysis:\n",
    "\n",
    "         4.1.1. Import the datasets into the Python environment\n",
    "\n",
    "         4.1.2. Examine the dataset's shape and structure, and look out for any outlier\n",
    "\n",
    "         4.1.3. Merge the datasets into a single dataset that includes the date, item id, price, item count, item names, kcal values, store id, and store name\n",
    "\n",
    "4.2  Exploratory data analysis:\n",
    "\n",
    "         4.2.1. Examine the overall date wise sales to understand the pattern\n",
    "      \n",
    "         4.2.2. Find out how sales fluctuate across different days of the week\n",
    "      \n",
    "         4.2.3. Look for any noticeable trends in the sales data for different months of the year\n",
    "      \n",
    "         4.2.4. Examine the sales distribution across different quarters averaged over the years. Identify any noticeable patterns.\n",
    "      \n",
    "         4.2.5. Compare the performances of the different restaurants. Find out which restaurant had the most sales and look at the sales for each restaurant across different years, months, and days.\n",
    "      \n",
    "         4.2.6. Identify the most popular items overall and the stores where they are being sold. Also, find out the most popular item at each store.\n",
    "      \n",
    "         4.2.7. Determine if the store with the highest sales volume is also making the most money per day\n",
    "      \n",
    "         4.2.8. Identify the most expensive item at each restaurant and find out its calorie count\n",
    "\n",
    "4.3 Forecasting using machine learning algorithms\n",
    "\n",
    "         4.3.1. Forecasting using machine learning algorithms\n",
    "\n",
    "            4.3.1.1. Generate necessary features for the development of these models, like day of the week, quarter of the year, month, year, day of the month and so on\n",
    "\n",
    "            4.3.1.2. Use the data from the last six months as the testing data\n",
    "\n",
    "            4.3.1.3. Compute the root mean square error (RMSE) values for each model to compare their performances\n",
    "\n",
    "            4.3.1.4. Use the best-performing models to make a forecast for the next year\n",
    "\n",
    "4.4 Forecasting using deep learning algorithms\n",
    "\n",
    "         4.4.1. Use sales amount for predictions instead of item count\n",
    "      \n",
    "         4.4.2. Build a long short-term memory (LSTM) model for predictions\n",
    "      \n",
    "            4.4.2.1. Define the train and test series\n",
    "      \n",
    "            4.4.2.2. Generate synthetic data for the last 12 months\n",
    "      \n",
    "            4.4.2.3. Build and train an LSTM model.\n",
    "      \n",
    "            4.4.2.4. Use the model to make predictions for the test data.\n",
    "      \n",
    "         4.4.3. Calculate the mean absolute percentage error (MAPE) and comment on the model's performance\n",
    "      \n",
    "         4.4.4. Develop another model using the entire series for training, and use it to forecast for the next three months\n",
    "\n"
   ]
  },
  {
   "cell_type": "markdown",
   "metadata": {},
   "source": [
    "### <a id='toc1_4_1_'></a>[**4.1. Preliminary analysis**](#toc0_)"
   ]
  },
  {
   "cell_type": "markdown",
   "metadata": {},
   "source": [
    "#### <a id='toc1_4_1_1_'></a>[**4.1.1. Import Datasets**](#toc0_)"
   ]
  },
  {
   "cell_type": "code",
   "execution_count": null,
   "metadata": {},
   "outputs": [],
   "source": [
    "# Import necessary libraries\n",
    "import os\n",
    "from dotenv import load_dotenv\n",
    "import pandas as pd\n",
    "import numpy as np\n",
    "import matplotlib.pyplot as plt\n",
    "import seaborn as sns\n",
    "from sklearn.model_selection import train_test_split\n",
    "from sklearn.linear_model import LinearRegression\n",
    "from sklearn.ensemble import RandomForestRegressor\n",
    "from xgboost import XGBRegressor\n",
    "from sklearn.metrics import mean_squared_error\n",
    "from keras.models import Sequential\n",
    "from keras.layers import LSTM, Dense\n",
    "\n",
    "# To ignore warnings\n",
    "import warnings\n",
    "warnings.filterwarnings(\"ignore\")\n",
    "\n",
    "# Set random seed for reproducibility\n",
    "np.random.seed(1971)\n",
    "\n",
    "load_dotenv(verbose=True, dotenv_path='.env', override=True)\n",
    "\n",
    "DATASET_PATH = os.getenv('DATASET_PATH')\n",
    "\n",
    "restaurants_ds_file = f'{DATASET_PATH}/resturants.csv'\n",
    "items_ds_file = f'{DATASET_PATH}/items.csv'\n",
    "sales_ds_file = f'{DATASET_PATH}/sales.csv'\n",
    "\n",
    "# Read the CSV files\n",
    "restaurants_df = pd.read_csv(restaurants_ds_file)\n",
    "items_df = pd.read_csv(items_ds_file)\n",
    "sales_df = pd.read_csv(sales_ds_file)\n",
    "\n",
    "# Display the first few rows of each dataset\n",
    "print(\"Restaurants dataset:\")\n",
    "print(restaurants_df.head())\n",
    "print(\"\\nItems dataset:\")\n",
    "print(items_df.head())\n",
    "print(\"\\nSales dataset:\")\n",
    "print(sales_df.head())"
   ]
  },
  {
   "cell_type": "markdown",
   "metadata": {},
   "source": [
    "**Explanations:**\n",
    "\n",
    "- This code block imports necessary libraries (`pandas`, `numpy`, `matplotlib`, and `seaborn`) and reads the three CSV files into pandas DataFrames. It then displays the first few rows of each dataset to give an initial view of the data.\n",
    "\n",
    "**Why It Is Important:**\n",
    "\n",
    "- Importing and examining the datasets is crucial as it allows us to understand the structure and content of our data. This step helps identify any immediate issues with data formatting or missing values and provides a foundation for all subsequent analyses.\n",
    "\n",
    "**Observations:**\n",
    "\n",
    "- [Placeholder for observations after running the code]\n",
    "\n",
    "**Conclusions:**\n",
    "\n",
    "- [Placeholder for conclusions based on initial data view]\n",
    "\n",
    "**Recommendations:**\n",
    "\n",
    "- [Placeholder for recommendations based on initial data examination]"
   ]
  },
  {
   "cell_type": "markdown",
   "metadata": {},
   "source": [
    "#### <a id='toc1_4_1_2_'></a>[**4.1.2. Examine the dataset's shape and structure, and look out for any outlier**](#toc0_)"
   ]
  },
  {
   "cell_type": "code",
   "execution_count": null,
   "metadata": {},
   "outputs": [],
   "source": [
    "# Check the shape of each dataset\n",
    "print(\"Restaurants dataset shape:\", restaurants_df.shape)\n",
    "print(\"Items dataset shape:\", items_df.shape)\n",
    "print(\"Sales dataset shape:\", sales_df.shape)\n",
    "\n",
    "# Display info for each dataset\n",
    "print(\"\\nRestaurants dataset info:\")\n",
    "restaurants_df.info()\n",
    "print(\"\\nItems dataset info:\")\n",
    "items_df.info()\n",
    "print(\"\\nSales dataset info:\")\n",
    "sales_df.info()\n",
    "\n",
    "# Display basic statistics for numerical columns\n",
    "print(\"\\nRestaurants Dataset Statistics:\")\n",
    "print(restaurants_df.describe())\n",
    "print(\"\\nItems Dataset Statistics:\")\n",
    "print(items_df.describe())\n",
    "print(\"\\nSales Dataset Statistics:\")\n",
    "print(sales_df.describe())\n",
    "\n",
    "# Check for missing values\n",
    "print(\"\\nMissing values in Restaurants dataset:\")\n",
    "print(restaurants_df.isnull().sum())\n",
    "print(\"\\nMissing values in Items dataset:\")\n",
    "print(items_df.isnull().sum())\n",
    "print(\"\\nMissing values in Sales dataset:\")\n",
    "print(sales_df.isnull().sum())\n",
    "\n",
    "# Check for duplicates\n",
    "print(\"\\nDuplicates in Restaurants dataset:\", restaurants_df.duplicated().sum())\n",
    "print(\"Duplicates in Items dataset:\", items_df.duplicated().sum())\n",
    "print(\"Duplicates in Sales dataset:\", sales_df.duplicated().sum())"
   ]
  },
  {
   "cell_type": "markdown",
   "metadata": {},
   "source": [
    "**Explanations:**\n",
    "\n",
    "- This code examines the shape, structure, and quality of each dataset. It checks the number of rows and columns, data types of each column, presence of missing values, and existence of duplicate entries.\n",
    "\n",
    "**Why It Is Important:**\n",
    "\n",
    "- Understanding the dataset's structure and quality is crucial for data preprocessing and analysis. It helps identify potential issues like missing data or duplicates that need to be addressed before proceeding with the analysis.\n",
    "\n",
    "**Observations:**\n",
    "\n",
    "- [Placeholder for observations after running the code]\n",
    "\n",
    "**Conclusions:**\n",
    "\n",
    "- [Placeholder for conclusions based on initial data view]\n",
    "\n",
    "**Recommendations:**\n",
    "\n",
    "- [Placeholder for recommendations based on initial data examination]"
   ]
  },
  {
   "cell_type": "markdown",
   "metadata": {},
   "source": [
    "#### <a id='toc1_4_1_3_'></a>[**4.1.2. Merge the datasets into a single dataset that includes the date, item id, price, item count, item names, kcal values, store id, and store name**](#toc0_)"
   ]
  },
  {
   "cell_type": "code",
   "execution_count": null,
   "metadata": {},
   "outputs": [],
   "source": []
  },
  {
   "cell_type": "markdown",
   "metadata": {},
   "source": [
    "**Explanations:**\n",
    "\n",
    "- [Placeholder for observations after running the code]\n",
    "\n",
    "**Why It Is Important:**\n",
    "\n",
    "- [Placeholder for observations after running the code]\n",
    "\n",
    "**Observations:**\n",
    "\n",
    "- [Placeholder for observations after running the code]\n",
    "\n",
    "**Conclusions:**\n",
    "\n",
    "- [Placeholder for conclusions based on initial data view]\n",
    "\n",
    "**Recommendations:**\n",
    "\n",
    "- [Placeholder for recommendations based on initial data examination]"
   ]
  },
  {
   "cell_type": "markdown",
   "metadata": {},
   "source": [
    "### <a id='toc1_4_2_'></a>[**4.2. Exploratory data analysis**](#toc0_)"
   ]
  },
  {
   "cell_type": "code",
   "execution_count": null,
   "metadata": {},
   "outputs": [],
   "source": []
  },
  {
   "cell_type": "markdown",
   "metadata": {},
   "source": [
    "**Explanations:**\n",
    "\n",
    "- [Placeholder for observations after running the code]\n",
    "\n",
    "**Why It Is Important:**\n",
    "\n",
    "- [Placeholder for observations after running the code]\n",
    "\n",
    "**Observations:**\n",
    "\n",
    "- [Placeholder for observations after running the code]\n",
    "\n",
    "**Conclusions:**\n",
    "\n",
    "- [Placeholder for conclusions based on initial data view]\n",
    "\n",
    "**Recommendations:**\n",
    "\n",
    "- [Placeholder for recommendations based on initial data examination]"
   ]
  },
  {
   "cell_type": "markdown",
   "metadata": {},
   "source": [
    "#### <a id='toc1_4_2_1_'></a>[**4.2.1. Examine the overall date wise sales to understand the pattern**](#toc0_)"
   ]
  },
  {
   "cell_type": "code",
   "execution_count": null,
   "metadata": {},
   "outputs": [],
   "source": []
  },
  {
   "cell_type": "markdown",
   "metadata": {},
   "source": [
    "**Explanations:**\n",
    "\n",
    "- [Placeholder for observations after running the code]\n",
    "\n",
    "**Why It Is Important:**\n",
    "\n",
    "- [Placeholder for observations after running the code]\n",
    "\n",
    "**Observations:**\n",
    "\n",
    "- [Placeholder for observations after running the code]\n",
    "\n",
    "**Conclusions:**\n",
    "\n",
    "- [Placeholder for conclusions based on initial data view]\n",
    "\n",
    "**Recommendations:**\n",
    "\n",
    "- [Placeholder for recommendations based on initial data examination]"
   ]
  },
  {
   "cell_type": "markdown",
   "metadata": {},
   "source": [
    "#### <a id='toc1_4_2_2_'></a>[**4.2.2. Find out how sales fluctuate across different days of the week**](#toc0_)"
   ]
  },
  {
   "cell_type": "code",
   "execution_count": null,
   "metadata": {},
   "outputs": [],
   "source": []
  },
  {
   "cell_type": "markdown",
   "metadata": {},
   "source": [
    "**Explanations:**\n",
    "\n",
    "- [Placeholder for observations after running the code]\n",
    "\n",
    "**Why It Is Important:**\n",
    "\n",
    "- [Placeholder for observations after running the code]\n",
    "\n",
    "**Observations:**\n",
    "\n",
    "- [Placeholder for observations after running the code]\n",
    "\n",
    "**Conclusions:**\n",
    "\n",
    "- [Placeholder for conclusions based on initial data view]\n",
    "\n",
    "**Recommendations:**\n",
    "\n",
    "- [Placeholder for recommendations based on initial data examination]"
   ]
  },
  {
   "cell_type": "markdown",
   "metadata": {},
   "source": [
    "#### <a id='toc1_4_2_3_'></a>[**4.2.3. Look for any noticeable trends in the sales data for different months of the year**](#toc0_)"
   ]
  },
  {
   "cell_type": "code",
   "execution_count": null,
   "metadata": {},
   "outputs": [],
   "source": []
  },
  {
   "cell_type": "markdown",
   "metadata": {},
   "source": [
    "**Explanations:**\n",
    "\n",
    "- [Placeholder for observations after running the code]\n",
    "\n",
    "**Why It Is Important:**\n",
    "\n",
    "- [Placeholder for observations after running the code]\n",
    "\n",
    "**Observations:**\n",
    "\n",
    "- [Placeholder for observations after running the code]\n",
    "\n",
    "**Conclusions:**\n",
    "\n",
    "- [Placeholder for conclusions based on initial data view]\n",
    "\n",
    "**Recommendations:**\n",
    "\n",
    "- [Placeholder for recommendations based on initial data examination]"
   ]
  },
  {
   "cell_type": "markdown",
   "metadata": {},
   "source": [
    "#### <a id='toc1_4_2_4_'></a>[**4.2.4. Examine the sales distribution across different quarters averaged over the years. Identify any noticeable patterns**](#toc0_)"
   ]
  },
  {
   "cell_type": "code",
   "execution_count": null,
   "metadata": {},
   "outputs": [],
   "source": []
  },
  {
   "cell_type": "markdown",
   "metadata": {},
   "source": [
    "**Explanations:**\n",
    "\n",
    "- [Placeholder for observations after running the code]\n",
    "\n",
    "**Why It Is Important:**\n",
    "\n",
    "- [Placeholder for observations after running the code]\n",
    "\n",
    "**Observations:**\n",
    "\n",
    "- [Placeholder for observations after running the code]\n",
    "\n",
    "**Conclusions:**\n",
    "\n",
    "- [Placeholder for conclusions based on initial data view]\n",
    "\n",
    "**Recommendations:**\n",
    "\n",
    "- [Placeholder for recommendations based on initial data examination]"
   ]
  },
  {
   "cell_type": "markdown",
   "metadata": {},
   "source": [
    "#### <a id='toc1_4_2_5_'></a>[**4.2.5. Compare the performances of the different restaurants. Find out which restaurant had the most sales and look at the sales for each restaurant across different years, months, and days**](#toc0_)"
   ]
  },
  {
   "cell_type": "code",
   "execution_count": null,
   "metadata": {},
   "outputs": [],
   "source": []
  },
  {
   "cell_type": "markdown",
   "metadata": {},
   "source": [
    "**Explanations:**\n",
    "\n",
    "- [Placeholder for observations after running the code]\n",
    "\n",
    "**Why It Is Important:**\n",
    "\n",
    "- [Placeholder for observations after running the code]\n",
    "\n",
    "**Observations:**\n",
    "\n",
    "- [Placeholder for observations after running the code]\n",
    "\n",
    "**Conclusions:**\n",
    "\n",
    "- [Placeholder for conclusions based on initial data view]\n",
    "\n",
    "**Recommendations:**\n",
    "\n",
    "- [Placeholder for recommendations based on initial data examination]"
   ]
  },
  {
   "cell_type": "markdown",
   "metadata": {},
   "source": [
    "#### <a id='toc1_4_2_6_'></a>[**4.2.6. Identify the most popular items overall and the stores where they are being sold. Also, find out the most popular item at each store**](#toc0_)"
   ]
  },
  {
   "cell_type": "code",
   "execution_count": null,
   "metadata": {},
   "outputs": [],
   "source": []
  },
  {
   "cell_type": "markdown",
   "metadata": {},
   "source": [
    "**Explanations:**\n",
    "\n",
    "- [Placeholder for observations after running the code]\n",
    "\n",
    "**Why It Is Important:**\n",
    "\n",
    "- [Placeholder for observations after running the code]\n",
    "\n",
    "**Observations:**\n",
    "\n",
    "- [Placeholder for observations after running the code]\n",
    "\n",
    "**Conclusions:**\n",
    "\n",
    "- [Placeholder for conclusions based on initial data view]\n",
    "\n",
    "**Recommendations:**\n",
    "\n",
    "- [Placeholder for recommendations based on initial data examination]"
   ]
  },
  {
   "cell_type": "markdown",
   "metadata": {},
   "source": [
    "#### <a id='toc1_4_2_7_'></a>[**4.2.7. Determine if the store with the highest sales volume is also making the most money per day**](#toc0_)"
   ]
  },
  {
   "cell_type": "code",
   "execution_count": null,
   "metadata": {},
   "outputs": [],
   "source": []
  },
  {
   "cell_type": "markdown",
   "metadata": {},
   "source": [
    "**Explanations:**\n",
    "\n",
    "- [Placeholder for observations after running the code]\n",
    "\n",
    "**Why It Is Important:**\n",
    "\n",
    "- [Placeholder for observations after running the code]\n",
    "\n",
    "**Observations:**\n",
    "\n",
    "- [Placeholder for observations after running the code]\n",
    "\n",
    "**Conclusions:**\n",
    "\n",
    "- [Placeholder for conclusions based on initial data view]\n",
    "\n",
    "**Recommendations:**\n",
    "\n",
    "- [Placeholder for recommendations based on initial data examination]"
   ]
  },
  {
   "cell_type": "markdown",
   "metadata": {},
   "source": [
    "#### <a id='toc1_4_2_8_'></a>[**4.2.. Identify the most expensive item at each restaurant and find out its calorie count**](#toc0_)"
   ]
  },
  {
   "cell_type": "code",
   "execution_count": null,
   "metadata": {},
   "outputs": [],
   "source": []
  },
  {
   "cell_type": "markdown",
   "metadata": {},
   "source": [
    "**Explanations:**\n",
    "\n",
    "- [Placeholder for observations after running the code]\n",
    "\n",
    "**Why It Is Important:**\n",
    "\n",
    "- [Placeholder for observations after running the code]\n",
    "\n",
    "**Observations:**\n",
    "\n",
    "- [Placeholder for observations after running the code]\n",
    "\n",
    "**Conclusions:**\n",
    "\n",
    "- [Placeholder for conclusions based on initial data view]\n",
    "\n",
    "**Recommendations:**\n",
    "\n",
    "- [Placeholder for recommendations based on initial data examination]"
   ]
  },
  {
   "cell_type": "markdown",
   "metadata": {},
   "source": [
    "### <a id='toc1_4_3_'></a>[**4.3. Forecasting using machine learning algorithms**](#toc0_)"
   ]
  },
  {
   "cell_type": "code",
   "execution_count": null,
   "metadata": {},
   "outputs": [],
   "source": []
  },
  {
   "cell_type": "markdown",
   "metadata": {},
   "source": [
    "**Explanations:**\n",
    "\n",
    "- [Placeholder for observations after running the code]\n",
    "\n",
    "**Why It Is Important:**\n",
    "\n",
    "- [Placeholder for observations after running the code]\n",
    "\n",
    "**Observations:**\n",
    "\n",
    "- [Placeholder for observations after running the code]\n",
    "\n",
    "**Conclusions:**\n",
    "\n",
    "- [Placeholder for conclusions based on initial data view]\n",
    "\n",
    "**Recommendations:**\n",
    "\n",
    "- [Placeholder for recommendations based on initial data examination]"
   ]
  },
  {
   "cell_type": "markdown",
   "metadata": {},
   "source": [
    "#### <a id='toc1_4_3_1_'></a>[**4.3.1. Forecasting using machine learning algorithms**](#toc0_)"
   ]
  },
  {
   "cell_type": "code",
   "execution_count": null,
   "metadata": {},
   "outputs": [],
   "source": []
  },
  {
   "cell_type": "markdown",
   "metadata": {},
   "source": [
    "**Explanations:**\n",
    "\n",
    "- [Placeholder for observations after running the code]\n",
    "\n",
    "**Why It Is Important:**\n",
    "\n",
    "- [Placeholder for observations after running the code]\n",
    "\n",
    "**Observations:**\n",
    "\n",
    "- [Placeholder for observations after running the code]\n",
    "\n",
    "**Conclusions:**\n",
    "\n",
    "- [Placeholder for conclusions based on initial data view]\n",
    "\n",
    "**Recommendations:**\n",
    "\n",
    "- [Placeholder for recommendations based on initial data examination]"
   ]
  },
  {
   "cell_type": "markdown",
   "metadata": {},
   "source": [
    "##### <a id='toc1_4_3_1_1_'></a>[**4.3.1.1. Generate necessary features for the development of these models, like day of the week, quarter of the year, month, year, day of the month and so on**](#toc0_)"
   ]
  },
  {
   "cell_type": "code",
   "execution_count": null,
   "metadata": {},
   "outputs": [],
   "source": []
  },
  {
   "cell_type": "markdown",
   "metadata": {},
   "source": [
    "**Explanations:**\n",
    "\n",
    "- [Placeholder for observations after running the code]\n",
    "\n",
    "**Why It Is Important:**\n",
    "\n",
    "- [Placeholder for observations after running the code]\n",
    "\n",
    "**Observations:**\n",
    "\n",
    "- [Placeholder for observations after running the code]\n",
    "\n",
    "**Conclusions:**\n",
    "\n",
    "- [Placeholder for conclusions based on initial data view]\n",
    "\n",
    "**Recommendations:**\n",
    "\n",
    "- [Placeholder for recommendations based on initial data examination]"
   ]
  },
  {
   "cell_type": "markdown",
   "metadata": {},
   "source": [
    "##### <a id='toc1_4_3_1_2_'></a>[**4.3.1.2. Use the data from the last six months as the testing data**](#toc0_)"
   ]
  },
  {
   "cell_type": "code",
   "execution_count": null,
   "metadata": {},
   "outputs": [],
   "source": []
  },
  {
   "cell_type": "markdown",
   "metadata": {},
   "source": [
    "**Explanations:**\n",
    "\n",
    "- [Placeholder for observations after running the code]\n",
    "\n",
    "**Why It Is Important:**\n",
    "\n",
    "- [Placeholder for observations after running the code]\n",
    "\n",
    "**Observations:**\n",
    "\n",
    "- [Placeholder for observations after running the code]\n",
    "\n",
    "**Conclusions:**\n",
    "\n",
    "- [Placeholder for conclusions based on initial data view]\n",
    "\n",
    "**Recommendations:**\n",
    "\n",
    "- [Placeholder for recommendations based on initial data examination]"
   ]
  },
  {
   "cell_type": "markdown",
   "metadata": {},
   "source": [
    "##### <a id='toc1_4_3_1_3_'></a>[**4.3.1.3. Compute the root mean square error (RMSE) values for each model to compare their performances**](#toc0_)"
   ]
  },
  {
   "cell_type": "code",
   "execution_count": null,
   "metadata": {},
   "outputs": [],
   "source": []
  },
  {
   "cell_type": "markdown",
   "metadata": {},
   "source": [
    "**Explanations:**\n",
    "\n",
    "- [Placeholder for observations after running the code]\n",
    "\n",
    "**Why It Is Important:**\n",
    "\n",
    "- [Placeholder for observations after running the code]\n",
    "\n",
    "**Observations:**\n",
    "\n",
    "- [Placeholder for observations after running the code]\n",
    "\n",
    "**Conclusions:**\n",
    "\n",
    "- [Placeholder for conclusions based on initial data view]\n",
    "\n",
    "**Recommendations:**\n",
    "\n",
    "- [Placeholder for recommendations based on initial data examination]"
   ]
  },
  {
   "cell_type": "markdown",
   "metadata": {},
   "source": [
    "##### <a id='toc1_4_3_1_4_'></a>[**4.3.1.4. Use the best-performing models to make a forecast for the next year**](#toc0_)"
   ]
  },
  {
   "cell_type": "code",
   "execution_count": null,
   "metadata": {},
   "outputs": [],
   "source": []
  },
  {
   "cell_type": "markdown",
   "metadata": {},
   "source": [
    "**Explanations:**\n",
    "\n",
    "- [Placeholder for observations after running the code]\n",
    "\n",
    "**Why It Is Important:**\n",
    "\n",
    "- [Placeholder for observations after running the code]\n",
    "\n",
    "**Observations:**\n",
    "\n",
    "- [Placeholder for observations after running the code]\n",
    "\n",
    "**Conclusions:**\n",
    "\n",
    "- [Placeholder for conclusions based on initial data view]\n",
    "\n",
    "**Recommendations:**\n",
    "\n",
    "- [Placeholder for recommendations based on initial data examination]"
   ]
  },
  {
   "cell_type": "markdown",
   "metadata": {},
   "source": [
    "### <a id='toc1_4_4_'></a>[**4.4. Forecasting using deep learning algorithms**](#toc0_)"
   ]
  },
  {
   "cell_type": "markdown",
   "metadata": {},
   "source": [
    "#### <a id='toc1_4_4_1_'></a>[**4.4.1. Use sales amount for predictions instead of item count**](#toc0_)"
   ]
  },
  {
   "cell_type": "code",
   "execution_count": null,
   "metadata": {},
   "outputs": [],
   "source": []
  },
  {
   "cell_type": "markdown",
   "metadata": {},
   "source": [
    "**Explanations:**\n",
    "\n",
    "- [Placeholder for observations after running the code]\n",
    "\n",
    "**Why It Is Important:**\n",
    "\n",
    "- [Placeholder for observations after running the code]\n",
    "\n",
    "**Observations:**\n",
    "\n",
    "- [Placeholder for observations after running the code]\n",
    "\n",
    "**Conclusions:**\n",
    "\n",
    "- [Placeholder for conclusions based on initial data view]\n",
    "\n",
    "**Recommendations:**\n",
    "\n",
    "- [Placeholder for recommendations based on initial data examination]"
   ]
  },
  {
   "cell_type": "markdown",
   "metadata": {},
   "source": [
    "#### <a id='toc1_4_4_2_'></a>[**4.4.2. Build a long short-term memory (LSTM) model for predictions**](#toc0_)"
   ]
  },
  {
   "cell_type": "code",
   "execution_count": null,
   "metadata": {},
   "outputs": [],
   "source": []
  },
  {
   "cell_type": "markdown",
   "metadata": {},
   "source": [
    "**Explanations:**\n",
    "\n",
    "- [Placeholder for observations after running the code]\n",
    "\n",
    "**Why It Is Important:**\n",
    "\n",
    "- [Placeholder for observations after running the code]\n",
    "\n",
    "**Observations:**\n",
    "\n",
    "- [Placeholder for observations after running the code]\n",
    "\n",
    "**Conclusions:**\n",
    "\n",
    "- [Placeholder for conclusions based on initial data view]\n",
    "\n",
    "**Recommendations:**\n",
    "\n",
    "- [Placeholder for recommendations based on initial data examination]"
   ]
  },
  {
   "cell_type": "markdown",
   "metadata": {},
   "source": [
    "##### <a id='toc1_4_4_2_1_'></a>[**4.4.2.1. Define the train and test series**](#toc0_)"
   ]
  },
  {
   "cell_type": "code",
   "execution_count": null,
   "metadata": {},
   "outputs": [],
   "source": []
  },
  {
   "cell_type": "markdown",
   "metadata": {},
   "source": [
    "**Explanations:**\n",
    "\n",
    "- [Placeholder for observations after running the code]\n",
    "\n",
    "**Why It Is Important:**\n",
    "\n",
    "- [Placeholder for observations after running the code]\n",
    "\n",
    "**Observations:**\n",
    "\n",
    "- [Placeholder for observations after running the code]\n",
    "\n",
    "**Conclusions:**\n",
    "\n",
    "- [Placeholder for conclusions based on initial data view]\n",
    "\n",
    "**Recommendations:**\n",
    "\n",
    "- [Placeholder for recommendations based on initial data examination]"
   ]
  },
  {
   "cell_type": "markdown",
   "metadata": {},
   "source": [
    "##### <a id='toc1_4_4_2_2_'></a>[**4.4.2.2. Generate synthetic data for the last 12 months**](#toc0_)"
   ]
  },
  {
   "cell_type": "code",
   "execution_count": null,
   "metadata": {},
   "outputs": [],
   "source": []
  },
  {
   "cell_type": "markdown",
   "metadata": {},
   "source": [
    "**Explanations:**\n",
    "\n",
    "- [Placeholder for observations after running the code]\n",
    "\n",
    "**Why It Is Important:**\n",
    "\n",
    "- [Placeholder for observations after running the code]\n",
    "\n",
    "**Observations:**\n",
    "\n",
    "- [Placeholder for observations after running the code]\n",
    "\n",
    "**Conclusions:**\n",
    "\n",
    "- [Placeholder for conclusions based on initial data view]\n",
    "\n",
    "**Recommendations:**\n",
    "\n",
    "- [Placeholder for recommendations based on initial data examination]"
   ]
  },
  {
   "cell_type": "markdown",
   "metadata": {},
   "source": [
    "##### <a id='toc1_4_4_2_3_'></a>[**4.4.2.3. Build and train an LSTM model**](#toc0_)"
   ]
  },
  {
   "cell_type": "code",
   "execution_count": null,
   "metadata": {},
   "outputs": [],
   "source": []
  },
  {
   "cell_type": "markdown",
   "metadata": {},
   "source": [
    "**Explanations:**\n",
    "\n",
    "- [Placeholder for observations after running the code]\n",
    "\n",
    "**Why It Is Important:**\n",
    "\n",
    "- [Placeholder for observations after running the code]\n",
    "\n",
    "**Observations:**\n",
    "\n",
    "- [Placeholder for observations after running the code]\n",
    "\n",
    "**Conclusions:**\n",
    "\n",
    "- [Placeholder for conclusions based on initial data view]\n",
    "\n",
    "**Recommendations:**\n",
    "\n",
    "- [Placeholder for recommendations based on initial data examination]"
   ]
  },
  {
   "cell_type": "markdown",
   "metadata": {},
   "source": [
    "##### <a id='toc1_4_4_2_4_'></a>[**4.4.2.4. Use the model to make predictions for the test data**](#toc0_)"
   ]
  },
  {
   "cell_type": "code",
   "execution_count": null,
   "metadata": {},
   "outputs": [],
   "source": []
  },
  {
   "cell_type": "markdown",
   "metadata": {},
   "source": [
    "**Explanations:**\n",
    "\n",
    "- [Placeholder for observations after running the code]\n",
    "\n",
    "**Why It Is Important:**\n",
    "\n",
    "- [Placeholder for observations after running the code]\n",
    "\n",
    "**Observations:**\n",
    "\n",
    "- [Placeholder for observations after running the code]\n",
    "\n",
    "**Conclusions:**\n",
    "\n",
    "- [Placeholder for conclusions based on initial data view]\n",
    "\n",
    "**Recommendations:**\n",
    "\n",
    "- [Placeholder for recommendations based on initial data examination]"
   ]
  },
  {
   "cell_type": "markdown",
   "metadata": {},
   "source": [
    "#### <a id='toc1_4_4_3_'></a>[**4.4.3. Calculate the mean absolute percentage error (MAPE) and comment on the model's performance**](#toc0_)"
   ]
  },
  {
   "cell_type": "code",
   "execution_count": null,
   "metadata": {},
   "outputs": [],
   "source": []
  },
  {
   "cell_type": "markdown",
   "metadata": {},
   "source": [
    "**Explanations:**\n",
    "\n",
    "- [Placeholder for observations after running the code]\n",
    "\n",
    "**Why It Is Important:**\n",
    "\n",
    "- [Placeholder for observations after running the code]\n",
    "\n",
    "**Observations:**\n",
    "\n",
    "- [Placeholder for observations after running the code]\n",
    "\n",
    "**Conclusions:**\n",
    "\n",
    "- [Placeholder for conclusions based on initial data view]\n",
    "\n",
    "**Recommendations:**\n",
    "\n",
    "- [Placeholder for recommendations based on initial data examination]"
   ]
  },
  {
   "cell_type": "markdown",
   "metadata": {},
   "source": [
    "#### <a id='toc1_4_4_4_'></a>[**4.4.4. Develop another model using the entire series for training, and use it to forecast for the next three months**](#toc0_)"
   ]
  },
  {
   "cell_type": "code",
   "execution_count": null,
   "metadata": {},
   "outputs": [],
   "source": []
  },
  {
   "cell_type": "markdown",
   "metadata": {},
   "source": [
    "**Explanations:**\n",
    "\n",
    "- [Placeholder for observations after running the code]\n",
    "\n",
    "**Why It Is Important:**\n",
    "\n",
    "- [Placeholder for observations after running the code]\n",
    "\n",
    "**Observations:**\n",
    "\n",
    "- [Placeholder for observations after running the code]\n",
    "\n",
    "**Conclusions:**\n",
    "\n",
    "- [Placeholder for conclusions based on initial data view]\n",
    "\n",
    "**Recommendations:**\n",
    "\n",
    "- [Placeholder for recommendations based on initial data examination]"
   ]
  }
 ],
 "metadata": {
  "kernelspec": {
   "display_name": ".conda",
   "language": "python",
   "name": "python3"
  },
  "language_info": {
   "codemirror_mode": {
    "name": "ipython",
    "version": 3
   },
   "file_extension": ".py",
   "mimetype": "text/x-python",
   "name": "python",
   "nbconvert_exporter": "python",
   "pygments_lexer": "ipython3",
   "version": "3.11.8"
  }
 },
 "nbformat": 4,
 "nbformat_minor": 2
}

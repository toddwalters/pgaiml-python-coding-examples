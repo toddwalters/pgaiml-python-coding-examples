{
 "cells": [
  {
   "cell_type": "markdown",
   "metadata": {
    "id": "hKpsx-M_Qg7b"
   },
   "source": [
    "# Dimensionality Reduction and Matrix Factorization\n",
    "Let us understand how to implement matrix factorization in collaborative filtering.\n",
    "\n",
    "*   Dimensionality reduction is the process of reducing a matrix's dimension to a lesser value than it currently has.\n",
    "*   A group of cooperative filtering methods used in recommender systems is called matrix factorization.\n",
    "\n",
    "\n",
    "\n"
   ]
  },
  {
   "cell_type": "markdown",
   "metadata": {
    "id": "Gt1UKxiv6w9F"
   },
   "source": [
    "## Step 1: Import Required Libraries\n",
    "\n",
    "\n",
    "*   Import package NumPy\n",
    "\n",
    "\n",
    "\n"
   ]
  },
  {
   "cell_type": "code",
   "execution_count": 1,
   "metadata": {
    "id": "bfk3dZ5I5_Ep"
   },
   "outputs": [],
   "source": [
    "import numpy as np"
   ]
  },
  {
   "cell_type": "markdown",
   "metadata": {
    "id": "uJlC7mAH7dco"
   },
   "source": [
    "## Step 2: Define Matrix Factorization Function\n",
    "- We have R, P, Q, K, and steps = 5000, along with alpha and beta.\n",
    "*   Transpose Q and use the for loop in range. The range will be converted to len(R). \n",
    "*   If R, i, and j are greater than zero, take the dot product of P of i and Q of j for k in the range to subtract that\n",
    "*   If beta is subtracted from the Q of k and j, add alpha multiplied by eij\n",
    "*   If e is less than 0.001, break and return P, Q, and T\n",
    "\n",
    "\n",
    "\n"
   ]
  },
  {
   "cell_type": "code",
   "execution_count": 2,
   "metadata": {
    "id": "OoHtiH4i8awL"
   },
   "outputs": [],
   "source": [
    "def matrix_factorization(R, P, Q, K, steps=5000, alpha=0.0002, beta=0.02):\n",
    "    Q = Q.T\n",
    "    for step in range(steps):\n",
    "        for i in range(len(R)):\n",
    "            for j in range(len(R[i])):\n",
    "                if R[i][j] > 0:\n",
    "                    eij = R[i][j] - np.dot(P[i,:],Q[:,j])\n",
    "                    for k in range(K):\n",
    "                        P[i][k] = P[i][k] + alpha * (2 * eij * Q[k][j] - beta * P[i][k])\n",
    "                        Q[k][j] = Q[k][j] + alpha * (2 * eij * P[i][k] - beta * Q[k][j])\n",
    "        eR = np.dot(P,Q)\n",
    "        e = 0\n",
    "        for i in range(len(R)):\n",
    "            for j in range(len(R[i])):\n",
    "                if R[i][j] > 0:\n",
    "                    e = e + pow(R[i][j] - np.dot(P[i,:],Q[:,j]), 2)\n",
    "                    for k in range(K):\n",
    "                        e = e + (beta/2) * (pow(P[i][k],2) + pow(Q[k][j],2))\n",
    "        if e < 0.001:\n",
    "            break\n",
    "    return P, Q.T"
   ]
  },
  {
   "cell_type": "raw",
   "metadata": {
    "id": "LUBW7us_5_Eq"
   },
   "source": [
    "\\mathbf{R} \\approx \\mathbf{P} \\times \\mathbf{Q}^T = \\hat{\\mathbf{R}}"
   ]
  },
  {
   "cell_type": "markdown",
   "metadata": {
    "id": "M3QutbS27l1u"
   },
   "source": [
    "## Step 3: Define the Input Matrix and Parameters\n",
    "\n",
    "- Define the input matrix R\n",
    "- Apply matrix factorization\n",
    "- Define the dimensions N, M, and K\n",
    "- Initialize the P and Q matrices with random values"
   ]
  },
  {
   "cell_type": "code",
   "execution_count": 3,
   "metadata": {
    "id": "_gSPXbWs5_Er"
   },
   "outputs": [],
   "source": [
    "R = [\n",
    "     [5,3,0,1],\n",
    "     [4,0,0,1],\n",
    "     [1,1,0,5],\n",
    "     [1,0,0,4],\n",
    "     [0,1,5,4],\n",
    "    ]\n",
    "\n",
    "R = np.array(R)\n",
    "\n",
    "N = len(R)\n",
    "M = len(R[0])\n",
    "K = 2\n",
    "\n",
    "P = np.random.rand(N,K)\n",
    "Q = np.random.rand(M,K)"
   ]
  },
  {
   "cell_type": "markdown",
   "metadata": {
    "id": "dQyQYbd27rSN"
   },
   "source": [
    "## Step 4: Perform Matrix Factorization and Calculate the Approximated Matrix\n",
    "\n",
    "- Now let us call the `matrix_factorization` function with the input matrix and parameters.\n",
    "- Calculate the approximated matrix nR"
   ]
  },
  {
   "cell_type": "code",
   "execution_count": 4,
   "metadata": {
    "id": "FGUUETZt8poo"
   },
   "outputs": [],
   "source": [
    "nP, nQ = matrix_factorization(R, P, Q, K)\n",
    "nR = np.dot(nP, nQ.T)"
   ]
  },
  {
   "cell_type": "code",
   "execution_count": 5,
   "metadata": {
    "colab": {
     "base_uri": "https://localhost:8080/"
    },
    "executionInfo": {
     "elapsed": 616,
     "status": "ok",
     "timestamp": 1683018171022,
     "user": {
      "displayName": "AFREEN FATHIMA",
      "userId": "09802294742099922984"
     },
     "user_tz": -330
    },
    "id": "TMvNIiGC5_Er",
    "outputId": "a4366f37-43bd-43ee-8bf7-030583959fac"
   },
   "outputs": [
    {
     "data": {
      "text/plain": [
       "array([[5.04687898, 2.78384807, 5.39084396, 0.99845277],\n",
       "       [3.9254117 , 2.16686389, 4.3215068 , 0.99996561],\n",
       "       [1.12271002, 0.65359695, 3.93090987, 4.96844417],\n",
       "       [0.94165646, 0.54683181, 3.18848216, 3.97867095],\n",
       "       [2.65209114, 1.48820331, 4.84824466, 4.02646547]])"
      ]
     },
     "execution_count": 5,
     "metadata": {},
     "output_type": "execute_result"
    }
   ],
   "source": [
    "nR"
   ]
  },
  {
   "cell_type": "markdown",
   "metadata": {
    "id": "wVk2i7TyL6ZJ"
   },
   "source": [
    "__Observation:__\n",
    "- In this matrix factorization, we have been able to update the values from the input matrix R to the above values."
   ]
  }
 ],
 "metadata": {
  "colab": {
   "provenance": []
  },
  "kernelspec": {
   "display_name": "Python 3 (ipykernel)",
   "language": "python",
   "name": "python3"
  },
  "language_info": {
   "codemirror_mode": {
    "name": "ipython",
    "version": 3
   },
   "file_extension": ".py",
   "mimetype": "text/x-python",
   "name": "python",
   "nbconvert_exporter": "python",
   "pygments_lexer": "ipython3",
   "version": "3.11.7"
  }
 },
 "nbformat": 4,
 "nbformat_minor": 4
}

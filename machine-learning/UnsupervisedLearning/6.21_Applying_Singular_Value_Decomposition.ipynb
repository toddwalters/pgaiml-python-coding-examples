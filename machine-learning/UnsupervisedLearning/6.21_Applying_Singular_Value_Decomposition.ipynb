{
 "cells": [
  {
   "cell_type": "markdown",
   "metadata": {
    "id": "hxdMPILjYScS"
   },
   "source": [
    "## __Applying Singular Value Decomposition (SVD)__ "
   ]
  },
  {
   "cell_type": "markdown",
   "metadata": {
    "id": "vvgiRdEShBuE"
   },
   "source": [
    "## Step 1: Import the Required Libraries and Create the Dataset\n",
    "\n",
    "- Import **pandas** and **NumPy** libraries\n",
    "- Create the **post_words** DataFrame\n"
   ]
  },
  {
   "cell_type": "code",
   "execution_count": 1,
   "metadata": {
    "colab": {
     "base_uri": "https://localhost:8080/",
     "height": 238
    },
    "executionInfo": {
     "elapsed": 2587,
     "status": "ok",
     "timestamp": 1682996462923,
     "user": {
      "displayName": "Sreelakshmi C V",
      "userId": "04477517605899898333"
     },
     "user_tz": -330
    },
    "id": "6VnXBMqSg11F",
    "outputId": "4f403ea8-6f93-4bd9-c7b5-3c961cdb9916"
   },
   "outputs": [
    {
     "data": {
      "text/html": [
       "<div>\n",
       "<style scoped>\n",
       "    .dataframe tbody tr th:only-of-type {\n",
       "        vertical-align: middle;\n",
       "    }\n",
       "\n",
       "    .dataframe tbody tr th {\n",
       "        vertical-align: top;\n",
       "    }\n",
       "\n",
       "    .dataframe thead th {\n",
       "        text-align: right;\n",
       "    }\n",
       "</style>\n",
       "<table border=\"1\" class=\"dataframe\">\n",
       "  <thead>\n",
       "    <tr style=\"text-align: right;\">\n",
       "      <th></th>\n",
       "      <th>post1</th>\n",
       "      <th>post2</th>\n",
       "      <th>post3</th>\n",
       "      <th>post4</th>\n",
       "    </tr>\n",
       "    <tr>\n",
       "      <th>word:</th>\n",
       "      <th></th>\n",
       "      <th></th>\n",
       "      <th></th>\n",
       "      <th></th>\n",
       "    </tr>\n",
       "  </thead>\n",
       "  <tbody>\n",
       "    <tr>\n",
       "      <th>ice</th>\n",
       "      <td>4</td>\n",
       "      <td>4</td>\n",
       "      <td>6</td>\n",
       "      <td>2</td>\n",
       "    </tr>\n",
       "    <tr>\n",
       "      <th>snow</th>\n",
       "      <td>6</td>\n",
       "      <td>1</td>\n",
       "      <td>0</td>\n",
       "      <td>5</td>\n",
       "    </tr>\n",
       "    <tr>\n",
       "      <th>tahoe</th>\n",
       "      <td>3</td>\n",
       "      <td>0</td>\n",
       "      <td>0</td>\n",
       "      <td>5</td>\n",
       "    </tr>\n",
       "    <tr>\n",
       "      <th>goal</th>\n",
       "      <td>0</td>\n",
       "      <td>6</td>\n",
       "      <td>5</td>\n",
       "      <td>1</td>\n",
       "    </tr>\n",
       "    <tr>\n",
       "      <th>puck</th>\n",
       "      <td>0</td>\n",
       "      <td>4</td>\n",
       "      <td>5</td>\n",
       "      <td>0</td>\n",
       "    </tr>\n",
       "  </tbody>\n",
       "</table>\n",
       "</div>"
      ],
      "text/plain": [
       "       post1  post2  post3  post4\n",
       "word:                            \n",
       "ice        4      4      6      2\n",
       "snow       6      1      0      5\n",
       "tahoe      3      0      0      5\n",
       "goal       0      6      5      1\n",
       "puck       0      4      5      0"
      ]
     },
     "execution_count": 1,
     "metadata": {},
     "output_type": "execute_result"
    }
   ],
   "source": [
    "import pandas as pd\n",
    "\n",
    "c_names = ['post1', 'post2', 'post3', 'post4']\n",
    "words = ['ice', 'snow', 'tahoe', 'goal', 'puck']\n",
    "post_words = pd.DataFrame([[4, 4, 6, 2],\n",
    "                           [6, 1, 0, 5],\n",
    "                           [3, 0, 0, 5],\n",
    "                           [0, 6, 5, 1],\n",
    "                           [0, 4, 5, 0]],\n",
    "                          index = words,\n",
    "                          columns = c_names)\n",
    "post_words.index.names = ['word:']\n",
    "post_words"
   ]
  },
  {
   "cell_type": "markdown",
   "metadata": {
    "id": "nMA82BNsY-Jq"
   },
   "source": [
    "__Observation:__\n",
    "- Here, we can see the rows of the data.\n"
   ]
  },
  {
   "cell_type": "markdown",
   "metadata": {
    "id": "4_09qr7ihQxr"
   },
   "source": [
    "## Step 2: Perform Singular Value Decomposition (SVD) on the Dataset\n",
    "\n",
    "- Create the column space of the data, U, and the row space of the data, V\n",
    "- Calculate the SVD using NumPy\n",
    "- Display the V matrix\n"
   ]
  },
  {
   "cell_type": "code",
   "execution_count": 2,
   "metadata": {
    "colab": {
     "base_uri": "https://localhost:8080/"
    },
    "executionInfo": {
     "elapsed": 886,
     "status": "ok",
     "timestamp": 1682996546265,
     "user": {
      "displayName": "Sreelakshmi C V",
      "userId": "04477517605899898333"
     },
     "user_tz": -330
    },
    "id": "EKPPbP-Lg11H",
    "outputId": "f6a2c59e-748f-47c9-f320-b996210f4bd3"
   },
   "outputs": [
    {
     "name": "stdout",
     "output_type": "stream",
     "text": [
      "[[-0.4  -0.57 -0.63 -0.35]\n",
      " [-0.6   0.33  0.41 -0.6 ]\n",
      " [ 0.6  -0.41  0.32 -0.61]\n",
      " [-0.34 -0.63  0.58  0.39]]\n"
     ]
    }
   ],
   "source": [
    "import numpy as np\n",
    "\n",
    "U, sigma, V = np.linalg.svd(post_words)\n",
    "print(np.round(V, decimals=2))"
   ]
  },
  {
   "cell_type": "markdown",
   "metadata": {
    "id": "0OjxveHKadCP"
   },
   "source": [
    "__Observation:__\n",
    "- The diagonal values in **sigma** are always in descending order, and you can see that the vectors are also placed in that corresponding order."
   ]
  },
  {
   "cell_type": "code",
   "execution_count": 3,
   "metadata": {
    "colab": {
     "base_uri": "https://localhost:8080/"
    },
    "executionInfo": {
     "elapsed": 5,
     "status": "ok",
     "timestamp": 1682996774978,
     "user": {
      "displayName": "Sreelakshmi C V",
      "userId": "04477517605899898333"
     },
     "user_tz": -330
    },
    "id": "wnBqwW02g11P",
    "outputId": "aa3b5cb6-b84f-4411-bda4-2c78306bf287"
   },
   "outputs": [
    {
     "data": {
      "text/plain": [
       "array([13.3221948 ,  9.2609512 ,  2.41918664,  1.37892883])"
      ]
     },
     "execution_count": 3,
     "metadata": {},
     "output_type": "execute_result"
    }
   ],
   "source": [
    "sigma"
   ]
  },
  {
   "cell_type": "markdown",
   "metadata": {
    "id": "7ZIM0_cEd_ZM"
   },
   "source": [
    "__Observation:__\n",
    "- Here, we can see that the singular values in sigma have been created."
   ]
  },
  {
   "cell_type": "markdown",
   "metadata": {
    "id": "H5JqPti-hpEM"
   },
   "source": [
    "## Step 3: Approximate the Original Dataset Using the First Two Components\n",
    "\n",
    "- Calculate the approximate dataset using the first two components\n",
    "- Display the approximation and the error from the actual values\n",
    "\n",
    "\n",
    "\n"
   ]
  },
  {
   "cell_type": "code",
   "execution_count": 4,
   "metadata": {
    "colab": {
     "base_uri": "https://localhost:8080/"
    },
    "executionInfo": {
     "elapsed": 5,
     "status": "ok",
     "timestamp": 1682996881524,
     "user": {
      "displayName": "Sreelakshmi C V",
      "userId": "04477517605899898333"
     },
     "user_tz": -330
    },
    "id": "4qps1aeAg11Q",
    "outputId": "30eafed6-510a-4981-d0e2-06d65ec55afe"
   },
   "outputs": [
    {
     "name": "stdout",
     "output_type": "stream",
     "text": [
      "A calculated using only the first two components:\n",
      "\n",
      "          post1     post2     post3     post4\n",
      "ice    3.197084  4.818556  5.325736  2.792675\n",
      "snow   5.619793  0.588201  0.384675  5.412204\n",
      "tahoe  4.043943  0.071665 -0.123639  3.917015\n",
      "goal   0.682117  5.089628  5.762122  0.336491\n",
      "puck   0.129398  4.219523  4.799185 -0.143946\n"
     ]
    }
   ],
   "source": [
    "A_approx = np.matrix(U[:, :2]) * np.diag(sigma[:2]) * np.matrix(V[:2, :])\n",
    "\n",
    "print(\"A calculated using only the first two components:\\n\")\n",
    "print(pd.DataFrame(A_approx, index=words, columns=c_names))"
   ]
  },
  {
   "cell_type": "markdown",
   "metadata": {
    "id": "3Ky9GnKWgatP"
   },
   "source": [
    "__Observation:__\n",
    "- Here, A was calculated using only the first two components, and we got an approximate A by multiplying the matrix U and V."
   ]
  },
  {
   "cell_type": "code",
   "execution_count": 5,
   "metadata": {
    "colab": {
     "base_uri": "https://localhost:8080/"
    },
    "executionInfo": {
     "elapsed": 610,
     "status": "ok",
     "timestamp": 1682996889654,
     "user": {
      "displayName": "Sreelakshmi C V",
      "userId": "04477517605899898333"
     },
     "user_tz": -330
    },
    "id": "jdEF3-l9bnX-",
    "outputId": "76faf272-9088-4d28-e207-5a325fed4d87"
   },
   "outputs": [
    {
     "name": "stdout",
     "output_type": "stream",
     "text": [
      "\n",
      "Error from actual value:\n",
      "\n",
      "          post1     post2     post3     post4\n",
      "word:                                        \n",
      "ice    0.802916 -0.818556  0.674264 -0.792675\n",
      "snow   0.380207  0.411799 -0.384675 -0.412204\n",
      "tahoe -1.043943 -0.071665  0.123639  1.082985\n",
      "goal  -0.682117  0.910372 -0.762122  0.663509\n",
      "puck  -0.129398 -0.219523  0.200815  0.143946\n"
     ]
    }
   ],
   "source": [
    "print(\"\\nError from actual value:\\n\")\n",
    "print(post_words - A_approx)"
   ]
  },
  {
   "cell_type": "markdown",
   "metadata": {
    "id": "VTLD3-Xhg0MO"
   },
   "source": [
    "__Observation:__\n",
    "- Here, we can see the difference from the actual by the approximate value of A."
   ]
  },
  {
   "cell_type": "markdown",
   "metadata": {
    "id": "ie6cxIOch3Jk"
   },
   "source": [
    "## Step 4: Visualize the V Matrix as an Image\n",
    "\n",
    "- Import matplotlib.pyplot\n",
    "- Plot the V matrix as an image\n",
    "- Pass the c_names values to the xticks and the words to the yticks\n",
    "- Initialize ax\n",
    "- Declare the title as SVD\n",
    "- Plot the colorbar\n"
   ]
  },
  {
   "cell_type": "code",
   "execution_count": 6,
   "metadata": {
    "colab": {
     "base_uri": "https://localhost:8080/",
     "height": 452
    },
    "executionInfo": {
     "elapsed": 542,
     "status": "ok",
     "timestamp": 1682997032546,
     "user": {
      "displayName": "Sreelakshmi C V",
      "userId": "04477517605899898333"
     },
     "user_tz": -330
    },
    "id": "e980_oG1g11Q",
    "outputId": "f6fafd86-a796-4f49-b6e9-bf3dedf5f3d8"
   },
   "outputs": [
    {
     "data": {
      "image/png": "[encoded data removed]",
      "text/plain": [
       "<Figure size 640x480 with 2 Axes>"
      ]
     },
     "metadata": {},
     "output_type": "display_data"
    }
   ],
   "source": [
    "%matplotlib inline\n",
    "import matplotlib.pyplot as plt\n",
    "\n",
    "plt.imshow(V, interpolation='none')\n",
    "plt.xticks(range(len(c_names)))\n",
    "plt.yticks(range(len(words)))\n",
    "plt.ylim([len(words) - 1.5, -.5])\n",
    "ax = plt.gca()\n",
    "ax.set_xticklabels(c_names)\n",
    "ax.set_yticklabels(range(1, len(words) + 1))\n",
    "plt.title(\"SVD\")\n",
    "plt.colorbar();"
   ]
  },
  {
   "cell_type": "markdown",
   "metadata": {
    "id": "OR3ZcEF_cNC-"
   },
   "source": [
    "__Observations:__\n",
    "- Here, we can see the singular value decomposition plot.\n",
    "- Notice that the lighter blue of post 1 and post 4 of row 1 have similar values."
   ]
  },
  {
   "cell_type": "markdown",
   "metadata": {
    "id": "q5Vj3st8h7kT"
   },
   "source": [
    "## Step 5: Analyze the U Matrix\n",
    "\n",
    "- Display the second column of the U matrix\n"
   ]
  },
  {
   "cell_type": "code",
   "execution_count": 7,
   "metadata": {
    "id": "wMb3R9_bg11R",
    "outputId": "7400c2f5-348f-49e6-a8a1-113ff8ee67c2"
   },
   "outputs": [
    {
     "data": {
      "text/html": [
       "<div>\n",
       "<style scoped>\n",
       "    .dataframe tbody tr th:only-of-type {\n",
       "        vertical-align: middle;\n",
       "    }\n",
       "\n",
       "    .dataframe tbody tr th {\n",
       "        vertical-align: top;\n",
       "    }\n",
       "\n",
       "    .dataframe thead th {\n",
       "        text-align: right;\n",
       "    }\n",
       "</style>\n",
       "<table border=\"1\" class=\"dataframe\">\n",
       "  <thead>\n",
       "    <tr style=\"text-align: right;\">\n",
       "      <th></th>\n",
       "      <th>0</th>\n",
       "    </tr>\n",
       "  </thead>\n",
       "  <tbody>\n",
       "    <tr>\n",
       "      <th>ice</th>\n",
       "      <td>0.018526</td>\n",
       "    </tr>\n",
       "    <tr>\n",
       "      <th>snow</th>\n",
       "      <td>-0.678291</td>\n",
       "    </tr>\n",
       "    <tr>\n",
       "      <th>tahoe</th>\n",
       "      <td>-0.519801</td>\n",
       "    </tr>\n",
       "    <tr>\n",
       "      <th>goal</th>\n",
       "      <td>0.370263</td>\n",
       "    </tr>\n",
       "    <tr>\n",
       "      <th>puck</th>\n",
       "      <td>0.363717</td>\n",
       "    </tr>\n",
       "  </tbody>\n",
       "</table>\n",
       "</div>"
      ],
      "text/plain": [
       "              0\n",
       "ice    0.018526\n",
       "snow  -0.678291\n",
       "tahoe -0.519801\n",
       "goal   0.370263\n",
       "puck   0.363717"
      ]
     },
     "execution_count": 7,
     "metadata": {},
     "output_type": "execute_result"
    }
   ],
   "source": [
    "pd.DataFrame(U[:,1], index=words)"
   ]
  },
  {
   "cell_type": "markdown",
   "metadata": {
    "id": "SkMRuigydHVF"
   },
   "source": [
    "__Observations:__\n",
    "- Here, we can see that snow and tahoe are identical, whereas goal and puck have similar values."
   ]
  },
  {
   "cell_type": "markdown",
   "metadata": {
    "id": "8Z9djDN0dvpF"
   },
   "source": [
    "__Conclusion__\n",
    "\n",
    "This is how we can apply single value decomposition, or SVD."
   ]
  }
 ],
 "metadata": {
  "colab": {
   "provenance": []
  },
  "kernelspec": {
   "display_name": "Python 3 (ipykernel)",
   "language": "python",
   "name": "python3"
  },
  "language_info": {
   "codemirror_mode": {
    "name": "ipython",
    "version": 3
   },
   "file_extension": ".py",
   "mimetype": "text/x-python",
   "name": "python",
   "nbconvert_exporter": "python",
   "pygments_lexer": "ipython3",
   "version": "3.11.7"
  }
 },
 "nbformat": 4,
 "nbformat_minor": 4
}

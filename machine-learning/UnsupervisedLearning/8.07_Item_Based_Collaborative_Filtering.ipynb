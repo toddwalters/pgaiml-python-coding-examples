{
 "cells": [
  {
   "cell_type": "markdown",
   "metadata": {
    "id": "r73-qx3OlIvW"
   },
   "source": [
    "#__Item-Based Collaborative Filtering__\n",
    "\n",
    "- Let's explore how to create collaborative filtering based on items.\n"
   ]
  },
  {
   "cell_type": "markdown",
   "metadata": {
    "id": "pFE67u9uNz5u"
   },
   "source": [
    "## Step 1: Import Required Libraries\n",
    "\n",
    "- Import pandas and cosine_similarity from sklearn"
   ]
  },
  {
   "cell_type": "code",
   "execution_count": 1,
   "metadata": {
    "id": "6ZXtKqOwMDrE"
   },
   "outputs": [],
   "source": [
    "import pandas as pd\n",
    "from sklearn.metrics.pairwise import cosine_similarity"
   ]
  },
  {
   "cell_type": "markdown",
   "metadata": {
    "id": "0fHsrGjOOqZx"
   },
   "source": [
    "## Step 2: Define the Dataset\n",
    "\n",
    "- Create a dictionary with users and their ratings for different web series\n"
   ]
  },
  {
   "cell_type": "code",
   "execution_count": 2,
   "metadata": {
    "id": "8nplvUBfMDrF"
   },
   "outputs": [],
   "source": [
    "dataset={\n",
    "        'user1': {'Special Ops': 5,\n",
    "                  'Criminal Justice': 3,\n",
    "                  'Panchayat': 3,\n",
    "                  'Sacred Games': 3,\n",
    "                  'Apharan': 2,\n",
    "                  'Mirzapur': 3},\n",
    "    \n",
    "        'user2': {'Special Ops': 5,\n",
    "                    'Criminal Justice': 3,\n",
    "                    'Sacred Games': 5,\n",
    "                    'Panchayat':5,\n",
    "                    'Mirzapur': 3,\n",
    "                    'Apharan': 3},\n",
    "    \n",
    "        'user3': {'Special Ops': 2,\n",
    "                   'Panchayat': 5,\n",
    "                   'Sacred Games': 3,\n",
    "                   'Mirzapur': 4},\n",
    "    \n",
    "        'user4': {'Panchayat': 5,\n",
    "                   'Mirzapur': 4,\n",
    "                   'Sacred Games': 4,},\n",
    "    \n",
    "       'user5': {'Special Ops': 4,\n",
    "                    'Criminal Justice': 4,\n",
    "                    'Panchayat': 4,\n",
    "                    'Mirzapur': 3,\n",
    "                    'Apharan': 2},\n",
    "    \n",
    "       'user6': {'Special Ops': 3,\n",
    "                  'Panchayat': 4,\n",
    "                  'Mirzapur': 3,\n",
    "                  'Sacred Games': 5,\n",
    "                  'Apharan': 3},\n",
    "    \n",
    "      'user7': {'Panchayat':4,\n",
    "                  'Apharan':1,\n",
    "                  'Sacred Games':4}}"
   ]
  },
  {
   "cell_type": "markdown",
   "metadata": {
    "id": "a-xYewaeZjco"
   },
   "source": [
    "__Observation:__\n",
    "- The used dataset is based on the number of users, the web series they watched, and the rating given by them."
   ]
  },
  {
   "cell_type": "markdown",
   "metadata": {
    "id": "VvEh0xAkOtsj"
   },
   "source": [
    "## Step 3: Create a DataFrame of the Dataset\n",
    "\n",
    "- Convert the dataset to a DataFrame\n",
    "- Once it is converted into a DataFrame, it is observed that some of the users did not watch certain web series.\n",
    "- Hence, add values **Not Seen Yet**\n"
   ]
  },
  {
   "cell_type": "code",
   "execution_count": 3,
   "metadata": {
    "colab": {
     "base_uri": "https://localhost:8080/",
     "height": 238
    },
    "executionInfo": {
     "elapsed": 1272,
     "status": "ok",
     "timestamp": 1683198832200,
     "user": {
      "displayName": "Sreelakshmi C V",
      "userId": "04477517605899898333"
     },
     "user_tz": -330
    },
    "id": "N-SX3TVDMDrG",
    "outputId": "526729d7-4cb2-4142-c13f-6bfcb9335690"
   },
   "outputs": [
    {
     "name": "stderr",
     "output_type": "stream",
     "text": [
      "/var/folders/h6/tndn1cn94_7b6w4d6bxfj2700000gn/T/ipykernel_3357/4055286480.py:2: FutureWarning: Setting an item of incompatible dtype is deprecated and will raise in a future error of pandas. Value 'Not Seen Yet' has dtype incompatible with float64, please explicitly cast to a compatible dtype first.\n",
      "  dataset_df.fillna(\"Not Seen Yet\",inplace=True)\n"
     ]
    },
    {
     "data": {
      "text/html": [
       "<div>\n",
       "<style scoped>\n",
       "    .dataframe tbody tr th:only-of-type {\n",
       "        vertical-align: middle;\n",
       "    }\n",
       "\n",
       "    .dataframe tbody tr th {\n",
       "        vertical-align: top;\n",
       "    }\n",
       "\n",
       "    .dataframe thead th {\n",
       "        text-align: right;\n",
       "    }\n",
       "</style>\n",
       "<table border=\"1\" class=\"dataframe\">\n",
       "  <thead>\n",
       "    <tr style=\"text-align: right;\">\n",
       "      <th></th>\n",
       "      <th>user1</th>\n",
       "      <th>user2</th>\n",
       "      <th>user3</th>\n",
       "      <th>user4</th>\n",
       "      <th>user5</th>\n",
       "      <th>user6</th>\n",
       "      <th>user7</th>\n",
       "    </tr>\n",
       "  </thead>\n",
       "  <tbody>\n",
       "    <tr>\n",
       "      <th>Special Ops</th>\n",
       "      <td>5</td>\n",
       "      <td>5</td>\n",
       "      <td>2.0</td>\n",
       "      <td>Not Seen Yet</td>\n",
       "      <td>4.0</td>\n",
       "      <td>3.0</td>\n",
       "      <td>Not Seen Yet</td>\n",
       "    </tr>\n",
       "    <tr>\n",
       "      <th>Criminal Justice</th>\n",
       "      <td>3</td>\n",
       "      <td>3</td>\n",
       "      <td>Not Seen Yet</td>\n",
       "      <td>Not Seen Yet</td>\n",
       "      <td>4.0</td>\n",
       "      <td>Not Seen Yet</td>\n",
       "      <td>Not Seen Yet</td>\n",
       "    </tr>\n",
       "    <tr>\n",
       "      <th>Panchayat</th>\n",
       "      <td>3</td>\n",
       "      <td>5</td>\n",
       "      <td>5.0</td>\n",
       "      <td>5.0</td>\n",
       "      <td>4.0</td>\n",
       "      <td>4.0</td>\n",
       "      <td>4.0</td>\n",
       "    </tr>\n",
       "    <tr>\n",
       "      <th>Sacred Games</th>\n",
       "      <td>3</td>\n",
       "      <td>5</td>\n",
       "      <td>3.0</td>\n",
       "      <td>4.0</td>\n",
       "      <td>Not Seen Yet</td>\n",
       "      <td>5.0</td>\n",
       "      <td>4.0</td>\n",
       "    </tr>\n",
       "    <tr>\n",
       "      <th>Apharan</th>\n",
       "      <td>2</td>\n",
       "      <td>3</td>\n",
       "      <td>Not Seen Yet</td>\n",
       "      <td>Not Seen Yet</td>\n",
       "      <td>2.0</td>\n",
       "      <td>3.0</td>\n",
       "      <td>1.0</td>\n",
       "    </tr>\n",
       "    <tr>\n",
       "      <th>Mirzapur</th>\n",
       "      <td>3</td>\n",
       "      <td>3</td>\n",
       "      <td>4.0</td>\n",
       "      <td>4.0</td>\n",
       "      <td>3.0</td>\n",
       "      <td>3.0</td>\n",
       "      <td>Not Seen Yet</td>\n",
       "    </tr>\n",
       "  </tbody>\n",
       "</table>\n",
       "</div>"
      ],
      "text/plain": [
       "                  user1  user2         user3         user4         user5  \\\n",
       "Special Ops           5      5           2.0  Not Seen Yet           4.0   \n",
       "Criminal Justice      3      3  Not Seen Yet  Not Seen Yet           4.0   \n",
       "Panchayat             3      5           5.0           5.0           4.0   \n",
       "Sacred Games          3      5           3.0           4.0  Not Seen Yet   \n",
       "Apharan               2      3  Not Seen Yet  Not Seen Yet           2.0   \n",
       "Mirzapur              3      3           4.0           4.0           3.0   \n",
       "\n",
       "                         user6         user7  \n",
       "Special Ops                3.0  Not Seen Yet  \n",
       "Criminal Justice  Not Seen Yet  Not Seen Yet  \n",
       "Panchayat                  4.0           4.0  \n",
       "Sacred Games               5.0           4.0  \n",
       "Apharan                    3.0           1.0  \n",
       "Mirzapur                   3.0  Not Seen Yet  "
      ]
     },
     "execution_count": 3,
     "metadata": {},
     "output_type": "execute_result"
    }
   ],
   "source": [
    "dataset_df=pd.DataFrame(dataset)\n",
    "dataset_df.fillna(\"Not Seen Yet\",inplace=True)\n",
    "dataset_df"
   ]
  },
  {
   "cell_type": "markdown",
   "metadata": {
    "id": "fXJSNlnStL6y"
   },
   "source": [
    "__Observations:__\n",
    "- The users who watch various series can be seen above.\n",
    "- As shown, we have different users and web series they have watched."
   ]
  },
  {
   "cell_type": "markdown",
   "metadata": {
    "id": "1se9QXNvOxJp"
   },
   "source": [
    "## Step 4: Define unique_items Function\n",
    "\n",
    "- Create a custom function to get the unique web series in the dataset\n"
   ]
  },
  {
   "cell_type": "code",
   "execution_count": 4,
   "metadata": {
    "id": "eVQXN8fvMDrG"
   },
   "outputs": [],
   "source": [
    "def unique_items():\n",
    "    unique_items_list = []\n",
    "    for person in dataset.keys():\n",
    "        for items in dataset[person]:\n",
    "            unique_items_list.append(items)\n",
    "    s=set(unique_items_list)\n",
    "    unique_items_list=list(s)\n",
    "    return unique_items_list"
   ]
  },
  {
   "cell_type": "code",
   "execution_count": null,
   "metadata": {
    "id": "wgAW4FnM7GcT"
   },
   "outputs": [],
   "source": []
  },
  {
   "cell_type": "code",
   "execution_count": 5,
   "metadata": {
    "colab": {
     "base_uri": "https://localhost:8080/"
    },
    "executionInfo": {
     "elapsed": 6,
     "status": "ok",
     "timestamp": 1683199002087,
     "user": {
      "displayName": "Sreelakshmi C V",
      "userId": "04477517605899898333"
     },
     "user_tz": -330
    },
    "id": "BxQfBz8nMDrH",
    "outputId": "7dcf3f67-67ed-45d8-ff81-183d7217595d"
   },
   "outputs": [
    {
     "data": {
      "text/plain": [
       "['Criminal Justice',\n",
       " 'Special Ops',\n",
       " 'Sacred Games',\n",
       " 'Apharan',\n",
       " 'Panchayat',\n",
       " 'Mirzapur']"
      ]
     },
     "execution_count": 5,
     "metadata": {},
     "output_type": "execute_result"
    }
   ],
   "source": [
    "unique_items()"
   ]
  },
  {
   "cell_type": "markdown",
   "metadata": {
    "id": "j8DI7RIXt9n2"
   },
   "source": [
    "__Observations:__\n",
    "- Here, we can see the list of unique items we have.\n",
    "- Defining the similarity between two items with text is not possible.\n",
    "- Hence, define a function to find similarities between two items."
   ]
  },
  {
   "cell_type": "markdown",
   "metadata": {
    "id": "GvpTRv3KMDrH"
   },
   "source": [
    "## Step 5: Define a Function to Find item_similarity\n",
    "- Compare people and items to get ratings.\n",
    "\n",
    "- Get item ratings for items 1 and 2.\n",
    "\n",
    "- Calculate the cosine similarity for item 1 and item 2 ratings."
   ]
  },
  {
   "cell_type": "code",
   "execution_count": 22,
   "metadata": {
    "id": "fNw872ktMDrI"
   },
   "outputs": [],
   "source": [
    "def item_similarity(item1,item2):\n",
    "    both_rated = {}\n",
    "    for person in dataset.keys():\n",
    "        if item1 in dataset[person] and item2 in dataset[person]:\n",
    "            both_rated[person] = [dataset[person][item1],dataset[person][item2]]\n",
    "\n",
    "    number_of_ratings = len(both_rated)\n",
    "    if number_of_ratings == 0:\n",
    "        return 0\n",
    "\n",
    "    item1_ratings = [[dataset[k][item1] for k,v in both_rated.items() if item1 in dataset[k] and item2 in dataset[k]]]\n",
    "    item2_ratings = [[dataset[k][item2] for k, v in both_rated.items() if item1 in dataset[k] and item2 in dataset[k]]]\n",
    "    # print(f\"{item1} ratings are {item1_ratings}\")\n",
    "    # print(f\"{item2} ratings are {item2_ratings}\")\n",
    "    cs = cosine_similarity(item1_ratings,item2_ratings)\n",
    "    return cs[0][0]"
   ]
  },
  {
   "cell_type": "code",
   "execution_count": 23,
   "metadata": {},
   "outputs": [
    {
     "data": {
      "text/plain": [
       "dict_keys(['user1', 'user2', 'user3', 'user4', 'user5', 'user6', 'user7'])"
      ]
     },
     "execution_count": 23,
     "metadata": {},
     "output_type": "execute_result"
    }
   ],
   "source": [
    "dataset.keys()"
   ]
  },
  {
   "cell_type": "code",
   "execution_count": 24,
   "metadata": {},
   "outputs": [
    {
     "name": "stdout",
     "output_type": "stream",
     "text": [
      "True\n",
      "True\n",
      "--------------------------------\n",
      "True\n",
      "True\n",
      "--------------------------------\n",
      "True\n",
      "True\n",
      "--------------------------------\n",
      "True\n",
      "False\n",
      "--------------------------------\n",
      "True\n",
      "True\n",
      "--------------------------------\n",
      "True\n",
      "True\n",
      "--------------------------------\n",
      "True\n",
      "False\n",
      "--------------------------------\n"
     ]
    }
   ],
   "source": [
    "for p in dataset.keys():\n",
    "    print(\"Panchayat\" in dataset[p])\n",
    "    print('Special Ops' in dataset[p])\n",
    "    print(\"--------------------------------\")"
   ]
  },
  {
   "cell_type": "code",
   "execution_count": 25,
   "metadata": {
    "colab": {
     "base_uri": "https://localhost:8080/"
    },
    "executionInfo": {
     "elapsed": 18,
     "status": "ok",
     "timestamp": 1683201137362,
     "user": {
      "displayName": "Sreelakshmi C V",
      "userId": "04477517605899898333"
     },
     "user_tz": -330
    },
    "id": "dkyFq7TgMDrI",
    "outputId": "5fdf18b8-27b0-4493-8726-2120739f622e"
   },
   "outputs": [
    {
     "name": "stdout",
     "output_type": "stream",
     "text": [
      "Cosine Similarity::  0.9199418174856334\n"
     ]
    }
   ],
   "source": [
    "print(\"Cosine Similarity:: \",item_similarity('Panchayat','Special Ops'))"
   ]
  },
  {
   "cell_type": "code",
   "execution_count": 26,
   "metadata": {},
   "outputs": [
    {
     "data": {
      "text/plain": [
       "{'user1': {'Special Ops': 5,\n",
       "  'Criminal Justice': 3,\n",
       "  'Panchayat': 3,\n",
       "  'Sacred Games': 3,\n",
       "  'Apharan': 2,\n",
       "  'Mirzapur': 3},\n",
       " 'user2': {'Special Ops': 5,\n",
       "  'Criminal Justice': 3,\n",
       "  'Sacred Games': 5,\n",
       "  'Panchayat': 5,\n",
       "  'Mirzapur': 3,\n",
       "  'Apharan': 3},\n",
       " 'user3': {'Special Ops': 2, 'Panchayat': 5, 'Sacred Games': 3, 'Mirzapur': 4},\n",
       " 'user4': {'Panchayat': 5, 'Mirzapur': 4, 'Sacred Games': 4},\n",
       " 'user5': {'Special Ops': 4,\n",
       "  'Criminal Justice': 4,\n",
       "  'Panchayat': 4,\n",
       "  'Mirzapur': 3,\n",
       "  'Apharan': 2},\n",
       " 'user6': {'Special Ops': 3,\n",
       "  'Panchayat': 4,\n",
       "  'Mirzapur': 3,\n",
       "  'Sacred Games': 5,\n",
       "  'Apharan': 3},\n",
       " 'user7': {'Panchayat': 4, 'Apharan': 1, 'Sacred Games': 4}}"
      ]
     },
     "execution_count": 26,
     "metadata": {},
     "output_type": "execute_result"
    }
   ],
   "source": [
    "dataset"
   ]
  },
  {
   "cell_type": "markdown",
   "metadata": {
    "id": "QZCmqp7cm2p2"
   },
   "source": [
    "__Observation:__\n",
    "- The cosine similarity is 0.9199."
   ]
  },
  {
   "cell_type": "markdown",
   "metadata": {
    "id": "KLw9cx8mMDrJ"
   },
   "source": [
    "##Step 6: Check for Similarity Between Multiple Items\n",
    "- Define a function and call it the most similar item"
   ]
  },
  {
   "cell_type": "code",
   "execution_count": 27,
   "metadata": {
    "id": "NymicmRhMDrJ"
   },
   "outputs": [],
   "source": [
    "def most_similar_items(target_item):\n",
    "    un_lst=unique_items()\n",
    "    scores = [(item_similarity(target_item,other_item),target_item+\" --> \"+other_item) for other_item in un_lst if other_item!=target_item]\n",
    "    scores.sort(reverse=True)\n",
    "    return scores"
   ]
  },
  {
   "cell_type": "code",
   "execution_count": 28,
   "metadata": {},
   "outputs": [
    {
     "data": {
      "text/plain": [
       "['Criminal Justice',\n",
       " 'Special Ops',\n",
       " 'Sacred Games',\n",
       " 'Apharan',\n",
       " 'Panchayat',\n",
       " 'Mirzapur']"
      ]
     },
     "execution_count": 28,
     "metadata": {},
     "output_type": "execute_result"
    }
   ],
   "source": [
    "unique_items()"
   ]
  },
  {
   "cell_type": "code",
   "execution_count": 29,
   "metadata": {
    "colab": {
     "base_uri": "https://localhost:8080/"
    },
    "executionInfo": {
     "elapsed": 13,
     "status": "ok",
     "timestamp": 1682931144304,
     "user": {
      "displayName": "Payal Prakash",
      "userId": "09532794939522559997"
     },
     "user_tz": -330
    },
    "id": "PEAwDSDvMDrJ",
    "outputId": "4f39a31a-b3e6-4601-ccf2-a33d20ab2459"
   },
   "outputs": [
    {
     "name": "stdout",
     "output_type": "stream",
     "text": [
      "[(0.990830168044299, 'Panchayat --> Mirzapur'), (0.9749005254295222, 'Panchayat --> Sacred Games'), (0.9701425001453318, 'Panchayat --> Criminal Justice'), (0.9563650695950073, 'Panchayat --> Apharan'), (0.9199418174856334, 'Panchayat --> Special Ops')]\n"
     ]
    }
   ],
   "source": [
    "print(most_similar_items('Panchayat'))"
   ]
  },
  {
   "cell_type": "markdown",
   "metadata": {
    "id": "RaUDyiVIxHIM"
   },
   "source": [
    "__Observations:__\n",
    "- If we consider the panchayat and look for similar items, we will get a similarity score for all the other items.\n",
    "- In the above output, we can see similarity scores for various items."
   ]
  },
  {
   "cell_type": "markdown",
   "metadata": {
    "id": "wDEVEGJzVNgI"
   },
   "source": [
    "## Step 7: Define Target Movies to Users\n",
    "\n",
    "- Define target movies to the user based on the target users and unseen movies\n"
   ]
  },
  {
   "cell_type": "code",
   "execution_count": 31,
   "metadata": {
    "id": "TFPMJIQEMDrK"
   },
   "outputs": [],
   "source": [
    "def target_movies_to_users(target_person):\n",
    "    target_person_movie_lst = []\n",
    "    unique_list =unique_items()\n",
    "    for movies in dataset[target_person]:\n",
    "        target_person_movie_lst.append(movies)\n",
    "\n",
    "    s=set(unique_list)\n",
    "    recommended_movies=list(s.difference(target_person_movie_lst))\n",
    "    a = len(recommended_movies)\n",
    "    if a == 0:\n",
    "        return 0\n",
    "    return recommended_movies,target_person_movie_lst"
   ]
  },
  {
   "cell_type": "markdown",
   "metadata": {
    "id": "S3Hkw92d3bpC"
   },
   "source": [
    "__Observations:__\n",
    "- The def function returns recommended movies and the target person's movie list\n",
    "- Check the function unseen movies and seen movies for user 7\n",
    "- Create a dictionary for unseen movies and seen movies"
   ]
  },
  {
   "cell_type": "code",
   "execution_count": 32,
   "metadata": {
    "colab": {
     "base_uri": "https://localhost:8080/",
     "height": 143
    },
    "executionInfo": {
     "elapsed": 12,
     "status": "ok",
     "timestamp": 1682931144305,
     "user": {
      "displayName": "Payal Prakash",
      "userId": "09532794939522559997"
     },
     "user_tz": -330
    },
    "id": "A1wqeIvKMDrK",
    "outputId": "22384c30-d5e4-40fa-cbfa-00d22035fda9"
   },
   "outputs": [
    {
     "data": {
      "text/html": [
       "<div>\n",
       "<style scoped>\n",
       "    .dataframe tbody tr th:only-of-type {\n",
       "        vertical-align: middle;\n",
       "    }\n",
       "\n",
       "    .dataframe tbody tr th {\n",
       "        vertical-align: top;\n",
       "    }\n",
       "\n",
       "    .dataframe thead th {\n",
       "        text-align: right;\n",
       "    }\n",
       "</style>\n",
       "<table border=\"1\" class=\"dataframe\">\n",
       "  <thead>\n",
       "    <tr style=\"text-align: right;\">\n",
       "      <th></th>\n",
       "      <th>Unseen Movies</th>\n",
       "      <th>Seen Movies</th>\n",
       "    </tr>\n",
       "  </thead>\n",
       "  <tbody>\n",
       "    <tr>\n",
       "      <th>0</th>\n",
       "      <td>Criminal Justice</td>\n",
       "      <td>Panchayat</td>\n",
       "    </tr>\n",
       "    <tr>\n",
       "      <th>1</th>\n",
       "      <td>Mirzapur</td>\n",
       "      <td>Apharan</td>\n",
       "    </tr>\n",
       "    <tr>\n",
       "      <th>2</th>\n",
       "      <td>Special Ops</td>\n",
       "      <td>Sacred Games</td>\n",
       "    </tr>\n",
       "  </tbody>\n",
       "</table>\n",
       "</div>"
      ],
      "text/plain": [
       "      Unseen Movies   Seen Movies\n",
       "0  Criminal Justice     Panchayat\n",
       "1          Mirzapur       Apharan\n",
       "2       Special Ops  Sacred Games"
      ]
     },
     "execution_count": 32,
     "metadata": {},
     "output_type": "execute_result"
    }
   ],
   "source": [
    "unseen_movies,seen_movies=target_movies_to_users('user7')\n",
    "\n",
    "dct = {\"Unseen Movies\":unseen_movies,\"Seen Movies\":seen_movies}\n",
    "pd.DataFrame(dct)"
   ]
  },
  {
   "cell_type": "markdown",
   "metadata": {
    "id": "Wej5vICyzHlU"
   },
   "source": [
    "__Observation:__\n",
    "- In the above output, we can see the list of movies seen and unseen by user 7."
   ]
  },
  {
   "cell_type": "code",
   "execution_count": null,
   "metadata": {
    "id": "vdvhug1E-AjQ"
   },
   "outputs": [],
   "source": []
  }
 ],
 "metadata": {
  "colab": {
   "provenance": []
  },
  "kernelspec": {
   "display_name": "Python 3 (ipykernel)",
   "language": "python",
   "name": "python3"
  },
  "language_info": {
   "codemirror_mode": {
    "name": "ipython",
    "version": 3
   },
   "file_extension": ".py",
   "mimetype": "text/x-python",
   "name": "python",
   "nbconvert_exporter": "python",
   "pygments_lexer": "ipython3",
   "version": "3.11.7"
  }
 },
 "nbformat": 4,
 "nbformat_minor": 4
}

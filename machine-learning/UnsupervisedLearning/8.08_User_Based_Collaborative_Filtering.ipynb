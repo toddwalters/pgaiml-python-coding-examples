{
 "cells": [
  {
   "cell_type": "markdown",
   "id": "XMEXxEyf3in3",
   "metadata": {
    "id": "XMEXxEyf3in3"
   },
   "source": [
    "#__User-Based Collaborative Filtering__\n",
    "\n",
    "Let's explore how to create collaborative filtering based on users.\n",
    "\n"
   ]
  },
  {
   "cell_type": "markdown",
   "id": "_G80pQ5YHYLX",
   "metadata": {
    "id": "_G80pQ5YHYLX"
   },
   "source": [
    "## Step 1: Import Required Libraries\n",
    "\n",
    "- Import pandas, NumPy, scipy.stats, seaborn, and cosine_similarity\n",
    "- Import Matplotlib for visualization\n"
   ]
  },
  {
   "cell_type": "code",
   "execution_count": 20,
   "id": "J8FPPF0CGccL",
   "metadata": {
    "id": "J8FPPF0CGccL"
   },
   "outputs": [],
   "source": [
    "import pandas as pd\n",
    "import numpy as np\n",
    "import scipy.stats\n",
    "import seaborn as sns\n",
    "from sklearn.metrics.pairwise import cosine_similarity"
   ]
  },
  {
   "cell_type": "markdown",
   "id": "qC5yVTY7HdF1",
   "metadata": {
    "id": "qC5yVTY7HdF1"
   },
   "source": [
    "## Step 2: Load and Preprocess the Data\n",
    "\n",
    "- Read the CSV files containing the anime and rating data\n",
    "- Filter the ratings data\n",
    "- Check the number of ratings, unique users, and unique animes\n"
   ]
  },
  {
   "cell_type": "markdown",
   "id": "AqZXzD6NwIvt",
   "metadata": {
    "id": "AqZXzD6NwIvt"
   },
   "source": [
    "- We are using 2 datasets here: \n",
    "1.   anime\n",
    "2.   rating\n",
    "\n"
   ]
  },
  {
   "cell_type": "code",
   "execution_count": 21,
   "id": "4bvpMUGWGccN",
   "metadata": {
    "id": "4bvpMUGWGccN"
   },
   "outputs": [],
   "source": [
    "animes = pd.read_csv('anime.csv')"
   ]
  },
  {
   "cell_type": "code",
   "execution_count": 22,
   "id": "JL9nIRazGccN",
   "metadata": {
    "id": "JL9nIRazGccN"
   },
   "outputs": [],
   "source": [
    "ratings = pd.read_csv('rating.csv')"
   ]
  },
  {
   "cell_type": "markdown",
   "id": "D6RMgh86wqBm",
   "metadata": {
    "id": "D6RMgh86wqBm"
   },
   "source": [
    "- In rating, we have a few people who did not rate.\n",
    "- Let's not consider that."
   ]
  },
  {
   "cell_type": "code",
   "execution_count": 23,
   "id": "Z-PcndNuGccN",
   "metadata": {
    "colab": {
     "base_uri": "https://localhost:8080/",
     "height": 206
    },
    "executionInfo": {
     "elapsed": 530,
     "status": "ok",
     "timestamp": 1682937017525,
     "user": {
      "displayName": "Payal Prakash",
      "userId": "09532794939522559997"
     },
     "user_tz": -330
    },
    "id": "Z-PcndNuGccN",
    "outputId": "5ee7075d-3eb2-4220-d6a6-7e47c94d65e2"
   },
   "outputs": [
    {
     "data": {
      "text/html": [
       "<div>\n",
       "<style scoped>\n",
       "    .dataframe tbody tr th:only-of-type {\n",
       "        vertical-align: middle;\n",
       "    }\n",
       "\n",
       "    .dataframe tbody tr th {\n",
       "        vertical-align: top;\n",
       "    }\n",
       "\n",
       "    .dataframe thead th {\n",
       "        text-align: right;\n",
       "    }\n",
       "</style>\n",
       "<table border=\"1\" class=\"dataframe\">\n",
       "  <thead>\n",
       "    <tr style=\"text-align: right;\">\n",
       "      <th></th>\n",
       "      <th>user_id</th>\n",
       "      <th>anime_id</th>\n",
       "      <th>rating</th>\n",
       "    </tr>\n",
       "  </thead>\n",
       "  <tbody>\n",
       "    <tr>\n",
       "      <th>47</th>\n",
       "      <td>1</td>\n",
       "      <td>8074</td>\n",
       "      <td>10</td>\n",
       "    </tr>\n",
       "    <tr>\n",
       "      <th>81</th>\n",
       "      <td>1</td>\n",
       "      <td>11617</td>\n",
       "      <td>10</td>\n",
       "    </tr>\n",
       "    <tr>\n",
       "      <th>83</th>\n",
       "      <td>1</td>\n",
       "      <td>11757</td>\n",
       "      <td>10</td>\n",
       "    </tr>\n",
       "    <tr>\n",
       "      <th>101</th>\n",
       "      <td>1</td>\n",
       "      <td>15451</td>\n",
       "      <td>10</td>\n",
       "    </tr>\n",
       "    <tr>\n",
       "      <th>153</th>\n",
       "      <td>2</td>\n",
       "      <td>11771</td>\n",
       "      <td>10</td>\n",
       "    </tr>\n",
       "  </tbody>\n",
       "</table>\n",
       "</div>"
      ],
      "text/plain": [
       "     user_id  anime_id  rating\n",
       "47         1      8074      10\n",
       "81         1     11617      10\n",
       "83         1     11757      10\n",
       "101        1     15451      10\n",
       "153        2     11771      10"
      ]
     },
     "execution_count": 23,
     "metadata": {},
     "output_type": "execute_result"
    }
   ],
   "source": [
    "ratings = ratings[ratings.rating != -1]\n",
    "ratings.head()"
   ]
  },
  {
   "cell_type": "markdown",
   "id": "9Vee-Xkcw-rd",
   "metadata": {
    "id": "9Vee-Xkcw-rd"
   },
   "source": [
    "__Observations:__\n",
    "- Here, you can see a few rows from the rating data.\n",
    "- The fields are user_id, anime_id, and rating."
   ]
  },
  {
   "cell_type": "code",
   "execution_count": 24,
   "id": "p23O3B6PGccO",
   "metadata": {
    "colab": {
     "base_uri": "https://localhost:8080/",
     "height": 206
    },
    "executionInfo": {
     "elapsed": 21,
     "status": "ok",
     "timestamp": 1682937017526,
     "user": {
      "displayName": "Payal Prakash",
      "userId": "09532794939522559997"
     },
     "user_tz": -330
    },
    "id": "p23O3B6PGccO",
    "outputId": "0645d405-8dab-411b-f07f-83c33742dd82"
   },
   "outputs": [
    {
     "data": {
      "text/html": [
       "<div>\n",
       "<style scoped>\n",
       "    .dataframe tbody tr th:only-of-type {\n",
       "        vertical-align: middle;\n",
       "    }\n",
       "\n",
       "    .dataframe tbody tr th {\n",
       "        vertical-align: top;\n",
       "    }\n",
       "\n",
       "    .dataframe thead th {\n",
       "        text-align: right;\n",
       "    }\n",
       "</style>\n",
       "<table border=\"1\" class=\"dataframe\">\n",
       "  <thead>\n",
       "    <tr style=\"text-align: right;\">\n",
       "      <th></th>\n",
       "      <th>anime_id</th>\n",
       "      <th>name</th>\n",
       "      <th>genre</th>\n",
       "      <th>type</th>\n",
       "      <th>episodes</th>\n",
       "      <th>rating</th>\n",
       "      <th>members</th>\n",
       "    </tr>\n",
       "  </thead>\n",
       "  <tbody>\n",
       "    <tr>\n",
       "      <th>0</th>\n",
       "      <td>32281</td>\n",
       "      <td>Kimi no Na wa.</td>\n",
       "      <td>Drama, Romance, School, Supernatural</td>\n",
       "      <td>Movie</td>\n",
       "      <td>1</td>\n",
       "      <td>9.37</td>\n",
       "      <td>200630</td>\n",
       "    </tr>\n",
       "    <tr>\n",
       "      <th>1</th>\n",
       "      <td>5114</td>\n",
       "      <td>Fullmetal Alchemist: Brotherhood</td>\n",
       "      <td>Action, Adventure, Drama, Fantasy, Magic, Mili...</td>\n",
       "      <td>TV</td>\n",
       "      <td>64</td>\n",
       "      <td>9.26</td>\n",
       "      <td>793665</td>\n",
       "    </tr>\n",
       "    <tr>\n",
       "      <th>2</th>\n",
       "      <td>28977</td>\n",
       "      <td>Gintama°</td>\n",
       "      <td>Action, Comedy, Historical, Parody, Samurai, S...</td>\n",
       "      <td>TV</td>\n",
       "      <td>51</td>\n",
       "      <td>9.25</td>\n",
       "      <td>114262</td>\n",
       "    </tr>\n",
       "    <tr>\n",
       "      <th>3</th>\n",
       "      <td>9253</td>\n",
       "      <td>Steins;Gate</td>\n",
       "      <td>Sci-Fi, Thriller</td>\n",
       "      <td>TV</td>\n",
       "      <td>24</td>\n",
       "      <td>9.17</td>\n",
       "      <td>673572</td>\n",
       "    </tr>\n",
       "    <tr>\n",
       "      <th>4</th>\n",
       "      <td>9969</td>\n",
       "      <td>Gintama&amp;#039;</td>\n",
       "      <td>Action, Comedy, Historical, Parody, Samurai, S...</td>\n",
       "      <td>TV</td>\n",
       "      <td>51</td>\n",
       "      <td>9.16</td>\n",
       "      <td>151266</td>\n",
       "    </tr>\n",
       "  </tbody>\n",
       "</table>\n",
       "</div>"
      ],
      "text/plain": [
       "   anime_id                              name  \\\n",
       "0     32281                    Kimi no Na wa.   \n",
       "1      5114  Fullmetal Alchemist: Brotherhood   \n",
       "2     28977                          Gintama°   \n",
       "3      9253                       Steins;Gate   \n",
       "4      9969                     Gintama&#039;   \n",
       "\n",
       "                                               genre   type episodes  rating  \\\n",
       "0               Drama, Romance, School, Supernatural  Movie        1    9.37   \n",
       "1  Action, Adventure, Drama, Fantasy, Magic, Mili...     TV       64    9.26   \n",
       "2  Action, Comedy, Historical, Parody, Samurai, S...     TV       51    9.25   \n",
       "3                                   Sci-Fi, Thriller     TV       24    9.17   \n",
       "4  Action, Comedy, Historical, Parody, Samurai, S...     TV       51    9.16   \n",
       "\n",
       "   members  \n",
       "0   200630  \n",
       "1   793665  \n",
       "2   114262  \n",
       "3   673572  \n",
       "4   151266  "
      ]
     },
     "execution_count": 24,
     "metadata": {},
     "output_type": "execute_result"
    }
   ],
   "source": [
    "animes.head()"
   ]
  },
  {
   "cell_type": "markdown",
   "id": "mFqcBMSSxPz0",
   "metadata": {
    "id": "mFqcBMSSxPz0"
   },
   "source": [
    "__Observations:__\n",
    "- Here, you can see the top five observations about anime.\n",
    "- The fields are anime_id, name, genre, type, episodes, rating, and members."
   ]
  },
  {
   "cell_type": "markdown",
   "id": "kbzIfLewHxei",
   "metadata": {
    "id": "kbzIfLewHxei"
   },
   "source": [
    "## Step 3: Data Exploration\n",
    "\n",
    "- Calculate and visualize the average number of anime rated per user\n",
    "- Calculate and visualize the average number of ratings given per anime\n"
   ]
  },
  {
   "cell_type": "code",
   "execution_count": 25,
   "id": "Qd8Em8DTGccP",
   "metadata": {
    "colab": {
     "base_uri": "https://localhost:8080/"
    },
    "executionInfo": {
     "elapsed": 21,
     "status": "ok",
     "timestamp": 1682937017527,
     "user": {
      "displayName": "Payal Prakash",
      "userId": "09532794939522559997"
     },
     "user_tz": -330
    },
    "id": "Qd8Em8DTGccP",
    "outputId": "e9442c08-0f6d-41b2-9548-3f713a8436eb"
   },
   "outputs": [
    {
     "data": {
      "text/plain": [
       "6337241"
      ]
     },
     "execution_count": 25,
     "metadata": {},
     "output_type": "execute_result"
    }
   ],
   "source": [
    "len(ratings)"
   ]
  },
  {
   "cell_type": "markdown",
   "id": "9fKis2SryboY",
   "metadata": {
    "id": "9fKis2SryboY"
   },
   "source": [
    "__Observation:__\n",
    "- The length of the rating is 509577."
   ]
  },
  {
   "cell_type": "code",
   "execution_count": 26,
   "id": "u8nicuIdGccP",
   "metadata": {
    "colab": {
     "base_uri": "https://localhost:8080/"
    },
    "executionInfo": {
     "elapsed": 19,
     "status": "ok",
     "timestamp": 1682937017528,
     "user": {
      "displayName": "Payal Prakash",
      "userId": "09532794939522559997"
     },
     "user_tz": -330
    },
    "id": "u8nicuIdGccP",
    "outputId": "5b332dc4-b8d7-4f49-900c-b4fb9cb0c1f1"
   },
   "outputs": [
    {
     "data": {
      "text/plain": [
       "69600"
      ]
     },
     "execution_count": 26,
     "metadata": {},
     "output_type": "execute_result"
    }
   ],
   "source": [
    "len(ratings['user_id'].unique())"
   ]
  },
  {
   "cell_type": "markdown",
   "id": "KICKtB-OyjTg",
   "metadata": {
    "id": "KICKtB-OyjTg"
   },
   "source": [
    "__Observation:__\n",
    "- There are 5726 old users."
   ]
  },
  {
   "cell_type": "code",
   "execution_count": 27,
   "id": "hafnSkHkGccP",
   "metadata": {
    "colab": {
     "base_uri": "https://localhost:8080/"
    },
    "executionInfo": {
     "elapsed": 17,
     "status": "ok",
     "timestamp": 1682937017528,
     "user": {
      "displayName": "Payal Prakash",
      "userId": "09532794939522559997"
     },
     "user_tz": -330
    },
    "id": "hafnSkHkGccP",
    "outputId": "3ce5c37d-e96a-41ac-9ff7-a0b6b6a9a86e"
   },
   "outputs": [
    {
     "data": {
      "text/plain": [
       "12294"
      ]
     },
     "execution_count": 27,
     "metadata": {},
     "output_type": "execute_result"
    }
   ],
   "source": [
    "len(animes['anime_id'].unique())"
   ]
  },
  {
   "cell_type": "markdown",
   "id": "Rw4AsUxozQBA",
   "metadata": {
    "id": "Rw4AsUxozQBA"
   },
   "source": [
    "__Observation:__\n",
    "- There are 12294 unique anime IDs.\n",
    "- Import statistics\n",
    "- Group by ratings per user"
   ]
  },
  {
   "cell_type": "code",
   "execution_count": 30,
   "id": "J--WaLN8GccQ",
   "metadata": {
    "colab": {
     "base_uri": "https://localhost:8080/"
    },
    "executionInfo": {
     "elapsed": 16,
     "status": "ok",
     "timestamp": 1682937017529,
     "user": {
      "displayName": "Payal Prakash",
      "userId": "09532794939522559997"
     },
     "user_tz": -330
    },
    "id": "J--WaLN8GccQ",
    "outputId": "ba0bc293-5c35-4bfa-9eaf-069dd4256bb4"
   },
   "outputs": [
    {
     "data": {
      "text/plain": [
       "91.05231321839081"
      ]
     },
     "execution_count": 30,
     "metadata": {},
     "output_type": "execute_result"
    }
   ],
   "source": [
    "import statistics\n",
    "ratings_per_user = ratings.groupby('user_id')['rating'].count()\n",
    "statistics.mean(ratings_per_user.tolist())"
   ]
  },
  {
   "cell_type": "markdown",
   "id": "TPVeyGhWze_A",
   "metadata": {
    "id": "TPVeyGhWze_A"
   },
   "source": [
    "__Observation:__\n",
    "- On average, there are 88 ratings per user."
   ]
  },
  {
   "cell_type": "markdown",
   "id": "dI7YoEDEz18T",
   "metadata": {
    "id": "dI7YoEDEz18T"
   },
   "source": [
    "Create a per-user rating histogram"
   ]
  },
  {
   "cell_type": "code",
   "execution_count": 31,
   "id": "bTbpUJ9eGccQ",
   "metadata": {
    "colab": {
     "base_uri": "https://localhost:8080/",
     "height": 447
    },
    "executionInfo": {
     "elapsed": 587,
     "status": "ok",
     "timestamp": 1682937018101,
     "user": {
      "displayName": "Payal Prakash",
      "userId": "09532794939522559997"
     },
     "user_tz": -330
    },
    "id": "bTbpUJ9eGccQ",
    "outputId": "f9a653be-1f8c-4402-f70a-0bc0a75fcb0f"
   },
   "outputs": [
    {
     "data": {
      "text/plain": [
       "<Axes: >"
      ]
     },
     "execution_count": 31,
     "metadata": {},
     "output_type": "execute_result"
    },
    {
     "data": {
      "image/png": "[encoded data removed]",
      "text/plain": [
       "<Figure size 640x480 with 1 Axes>"
      ]
     },
     "metadata": {},
     "output_type": "display_data"
    }
   ],
   "source": [
    "import matplotlib.pyplot as plt\n",
    "%matplotlib inline\n",
    "ratings_per_user.hist(bins=20, range=(0,500))"
   ]
  },
  {
   "cell_type": "markdown",
   "id": "qL3KeH-r06VD",
   "metadata": {
    "id": "qL3KeH-r06VD"
   },
   "source": [
    "__Observations:__\n",
    "- Here, we can see the histogram based on rating per user using 20 bins.\n",
    "- It is clear from the histogram that the first bin has a higher value.\n",
    "\n"
   ]
  },
  {
   "cell_type": "markdown",
   "id": "PzNcN4TJ0VyW",
   "metadata": {
    "id": "PzNcN4TJ0VyW"
   },
   "source": [
    "Now, let's check the rating per anime."
   ]
  },
  {
   "cell_type": "code",
   "execution_count": 32,
   "id": "KL87IkGhGccQ",
   "metadata": {
    "colab": {
     "base_uri": "https://localhost:8080/"
    },
    "executionInfo": {
     "elapsed": 14,
     "status": "ok",
     "timestamp": 1682937018102,
     "user": {
      "displayName": "Payal Prakash",
      "userId": "09532794939522559997"
     },
     "user_tz": -330
    },
    "id": "KL87IkGhGccQ",
    "outputId": "50ecc1d6-3046-4501-d384-05cead3eab49"
   },
   "outputs": [
    {
     "data": {
      "text/plain": [
       "638.3843054296364"
      ]
     },
     "execution_count": 32,
     "metadata": {},
     "output_type": "execute_result"
    }
   ],
   "source": [
    "ratings_per_anime = ratings.groupby('anime_id')['rating'].count()\n",
    "statistics.mean(ratings_per_anime.tolist())"
   ]
  },
  {
   "cell_type": "markdown",
   "id": "a8pzh4C90cuV",
   "metadata": {
    "id": "a8pzh4C90cuV"
   },
   "source": [
    "__Observation:__\n",
    "- The average rating per anime is 72.075."
   ]
  },
  {
   "cell_type": "code",
   "execution_count": 33,
   "id": "ToZblp7CGccR",
   "metadata": {
    "colab": {
     "base_uri": "https://localhost:8080/",
     "height": 447
    },
    "executionInfo": {
     "elapsed": 563,
     "status": "ok",
     "timestamp": 1682937018654,
     "user": {
      "displayName": "Payal Prakash",
      "userId": "09532794939522559997"
     },
     "user_tz": -330
    },
    "id": "ToZblp7CGccR",
    "outputId": "12e439a0-1eaa-4c7d-a264-1d55ca997001"
   },
   "outputs": [
    {
     "data": {
      "text/plain": [
       "<Axes: >"
      ]
     },
     "execution_count": 33,
     "metadata": {},
     "output_type": "execute_result"
    },
    {
     "data": {
      "image/png": "[encoded data removed]",
      "text/plain": [
       "<Figure size 640x480 with 1 Axes>"
      ]
     },
     "metadata": {},
     "output_type": "display_data"
    }
   ],
   "source": [
    "import matplotlib.pyplot as plt\n",
    "%matplotlib inline\n",
    "ratings_per_anime.hist(bins=20, range=(0,2500))"
   ]
  },
  {
   "cell_type": "markdown",
   "id": "SjhgewKh0y38",
   "metadata": {
    "id": "SjhgewKh0y38"
   },
   "source": [
    "__Observation:__\n",
    "- Here, we can see the histogram based on rating per anime using 20 bins."
   ]
  },
  {
   "cell_type": "markdown",
   "id": "Z5xxgDg-1Bsz",
   "metadata": {
    "id": "Z5xxgDg-1Bsz"
   },
   "source": [
    "Create a DataFrame per anime and a filter\n",
    "  - Filter ratings greater than 1000 to find a popular anime"
   ]
  },
  {
   "cell_type": "code",
   "execution_count": 34,
   "id": "G3xx_BpFGccR",
   "metadata": {
    "id": "G3xx_BpFGccR"
   },
   "outputs": [],
   "source": [
    "ratings_per_anime_df = pd.DataFrame(ratings_per_anime)\n",
    "\n",
    "filtered_ratings_per_anime_df = ratings_per_anime_df[ratings_per_anime_df.rating >= 1000]\n",
    "\n",
    "popular_anime = filtered_ratings_per_anime_df.index.tolist()"
   ]
  },
  {
   "cell_type": "markdown",
   "id": "IHkhnpuk1YTz",
   "metadata": {
    "id": "IHkhnpuk1YTz"
   },
   "source": [
    "Create ratings per user DataFrame\n",
    "  - Filter the ratings greater than 500 and create an index to list prolific users"
   ]
  },
  {
   "cell_type": "code",
   "execution_count": 35,
   "id": "6x0IHlOdGccZ",
   "metadata": {
    "id": "6x0IHlOdGccZ"
   },
   "outputs": [],
   "source": [
    "ratings_per_user_df = pd.DataFrame(ratings_per_user)\n",
    "\n",
    "filtered_ratings_per_user_df = ratings_per_user_df[ratings_per_user_df.rating >= 500]\n",
    "\n",
    "prolific_users = filtered_ratings_per_user_df.index.tolist()"
   ]
  },
  {
   "cell_type": "markdown",
   "id": "ToGj6dfbLR3n",
   "metadata": {
    "id": "ToGj6dfbLR3n"
   },
   "source": [
    "## Step 4: Filtering the Data\n",
    "\n",
    "- Filter the data based on the number of ratings per user and per anime\n",
    "- Create a pivot table from the filtered data\n",
    "- Fill NaN values with 0 in the rating matrix"
   ]
  },
  {
   "cell_type": "code",
   "execution_count": 36,
   "id": "l37qeBLzGccZ",
   "metadata": {
    "colab": {
     "base_uri": "https://localhost:8080/"
    },
    "executionInfo": {
     "elapsed": 21,
     "status": "ok",
     "timestamp": 1682937018656,
     "user": {
      "displayName": "Payal Prakash",
      "userId": "09532794939522559997"
     },
     "user_tz": -330
    },
    "id": "l37qeBLzGccZ",
    "outputId": "b33a8a1b-bd04-4425-cc72-32624fe036dc"
   },
   "outputs": [
    {
     "data": {
      "text/plain": [
       "1005314"
      ]
     },
     "execution_count": 36,
     "metadata": {},
     "output_type": "execute_result"
    }
   ],
   "source": [
    "filtered_ratings = ratings[ratings.anime_id.isin(popular_anime)]\n",
    "filtered_ratings = ratings[ratings.user_id.isin(prolific_users)]\n",
    "len(filtered_ratings)"
   ]
  },
  {
   "cell_type": "code",
   "execution_count": 37,
   "id": "ERFcUmZSGcca",
   "metadata": {
    "colab": {
     "base_uri": "https://localhost:8080/",
     "height": 331
    },
    "executionInfo": {
     "elapsed": 20,
     "status": "ok",
     "timestamp": 1682937018657,
     "user": {
      "displayName": "Payal Prakash",
      "userId": "09532794939522559997"
     },
     "user_tz": -330
    },
    "id": "ERFcUmZSGcca",
    "outputId": "a8fdf287-02bc-4577-c4d8-cb05d2e1dc6b"
   },
   "outputs": [
    {
     "data": {
      "text/html": [
       "<div>\n",
       "<style scoped>\n",
       "    .dataframe tbody tr th:only-of-type {\n",
       "        vertical-align: middle;\n",
       "    }\n",
       "\n",
       "    .dataframe tbody tr th {\n",
       "        vertical-align: top;\n",
       "    }\n",
       "\n",
       "    .dataframe thead th {\n",
       "        text-align: right;\n",
       "    }\n",
       "</style>\n",
       "<table border=\"1\" class=\"dataframe\">\n",
       "  <thead>\n",
       "    <tr style=\"text-align: right;\">\n",
       "      <th>anime_id</th>\n",
       "      <th>1</th>\n",
       "      <th>5</th>\n",
       "      <th>6</th>\n",
       "      <th>7</th>\n",
       "      <th>8</th>\n",
       "      <th>15</th>\n",
       "      <th>16</th>\n",
       "      <th>17</th>\n",
       "      <th>18</th>\n",
       "      <th>19</th>\n",
       "      <th>...</th>\n",
       "      <th>34238</th>\n",
       "      <th>34239</th>\n",
       "      <th>34240</th>\n",
       "      <th>34252</th>\n",
       "      <th>34283</th>\n",
       "      <th>34324</th>\n",
       "      <th>34325</th>\n",
       "      <th>34349</th>\n",
       "      <th>34367</th>\n",
       "      <th>34475</th>\n",
       "    </tr>\n",
       "    <tr>\n",
       "      <th>user_id</th>\n",
       "      <th></th>\n",
       "      <th></th>\n",
       "      <th></th>\n",
       "      <th></th>\n",
       "      <th></th>\n",
       "      <th></th>\n",
       "      <th></th>\n",
       "      <th></th>\n",
       "      <th></th>\n",
       "      <th></th>\n",
       "      <th></th>\n",
       "      <th></th>\n",
       "      <th></th>\n",
       "      <th></th>\n",
       "      <th></th>\n",
       "      <th></th>\n",
       "      <th></th>\n",
       "      <th></th>\n",
       "      <th></th>\n",
       "      <th></th>\n",
       "      <th></th>\n",
       "    </tr>\n",
       "  </thead>\n",
       "  <tbody>\n",
       "    <tr>\n",
       "      <th>226</th>\n",
       "      <td>8.0</td>\n",
       "      <td>0.0</td>\n",
       "      <td>8.0</td>\n",
       "      <td>0.0</td>\n",
       "      <td>0.0</td>\n",
       "      <td>0.0</td>\n",
       "      <td>0.0</td>\n",
       "      <td>0.0</td>\n",
       "      <td>0.0</td>\n",
       "      <td>0.0</td>\n",
       "      <td>...</td>\n",
       "      <td>0.0</td>\n",
       "      <td>0.0</td>\n",
       "      <td>0.0</td>\n",
       "      <td>0.0</td>\n",
       "      <td>0.0</td>\n",
       "      <td>0.0</td>\n",
       "      <td>0.0</td>\n",
       "      <td>0.0</td>\n",
       "      <td>0.0</td>\n",
       "      <td>0.0</td>\n",
       "    </tr>\n",
       "    <tr>\n",
       "      <th>271</th>\n",
       "      <td>0.0</td>\n",
       "      <td>0.0</td>\n",
       "      <td>0.0</td>\n",
       "      <td>0.0</td>\n",
       "      <td>0.0</td>\n",
       "      <td>0.0</td>\n",
       "      <td>0.0</td>\n",
       "      <td>0.0</td>\n",
       "      <td>0.0</td>\n",
       "      <td>0.0</td>\n",
       "      <td>...</td>\n",
       "      <td>0.0</td>\n",
       "      <td>0.0</td>\n",
       "      <td>10.0</td>\n",
       "      <td>0.0</td>\n",
       "      <td>0.0</td>\n",
       "      <td>0.0</td>\n",
       "      <td>0.0</td>\n",
       "      <td>0.0</td>\n",
       "      <td>0.0</td>\n",
       "      <td>0.0</td>\n",
       "    </tr>\n",
       "    <tr>\n",
       "      <th>294</th>\n",
       "      <td>7.0</td>\n",
       "      <td>7.0</td>\n",
       "      <td>0.0</td>\n",
       "      <td>0.0</td>\n",
       "      <td>0.0</td>\n",
       "      <td>0.0</td>\n",
       "      <td>0.0</td>\n",
       "      <td>0.0</td>\n",
       "      <td>0.0</td>\n",
       "      <td>0.0</td>\n",
       "      <td>...</td>\n",
       "      <td>0.0</td>\n",
       "      <td>0.0</td>\n",
       "      <td>0.0</td>\n",
       "      <td>0.0</td>\n",
       "      <td>0.0</td>\n",
       "      <td>0.0</td>\n",
       "      <td>0.0</td>\n",
       "      <td>0.0</td>\n",
       "      <td>0.0</td>\n",
       "      <td>0.0</td>\n",
       "    </tr>\n",
       "    <tr>\n",
       "      <th>392</th>\n",
       "      <td>7.0</td>\n",
       "      <td>0.0</td>\n",
       "      <td>7.0</td>\n",
       "      <td>0.0</td>\n",
       "      <td>0.0</td>\n",
       "      <td>0.0</td>\n",
       "      <td>0.0</td>\n",
       "      <td>0.0</td>\n",
       "      <td>7.0</td>\n",
       "      <td>0.0</td>\n",
       "      <td>...</td>\n",
       "      <td>0.0</td>\n",
       "      <td>0.0</td>\n",
       "      <td>0.0</td>\n",
       "      <td>0.0</td>\n",
       "      <td>0.0</td>\n",
       "      <td>0.0</td>\n",
       "      <td>0.0</td>\n",
       "      <td>0.0</td>\n",
       "      <td>0.0</td>\n",
       "      <td>0.0</td>\n",
       "    </tr>\n",
       "    <tr>\n",
       "      <th>446</th>\n",
       "      <td>9.0</td>\n",
       "      <td>8.0</td>\n",
       "      <td>9.0</td>\n",
       "      <td>0.0</td>\n",
       "      <td>0.0</td>\n",
       "      <td>0.0</td>\n",
       "      <td>0.0</td>\n",
       "      <td>0.0</td>\n",
       "      <td>0.0</td>\n",
       "      <td>10.0</td>\n",
       "      <td>...</td>\n",
       "      <td>0.0</td>\n",
       "      <td>0.0</td>\n",
       "      <td>9.0</td>\n",
       "      <td>0.0</td>\n",
       "      <td>0.0</td>\n",
       "      <td>0.0</td>\n",
       "      <td>0.0</td>\n",
       "      <td>0.0</td>\n",
       "      <td>0.0</td>\n",
       "      <td>0.0</td>\n",
       "    </tr>\n",
       "  </tbody>\n",
       "</table>\n",
       "<p>5 rows × 9591 columns</p>\n",
       "</div>"
      ],
      "text/plain": [
       "anime_id  1      5      6      7      8      15     16     17     18     \\\n",
       "user_id                                                                   \n",
       "226         8.0    0.0    8.0    0.0    0.0    0.0    0.0    0.0    0.0   \n",
       "271         0.0    0.0    0.0    0.0    0.0    0.0    0.0    0.0    0.0   \n",
       "294         7.0    7.0    0.0    0.0    0.0    0.0    0.0    0.0    0.0   \n",
       "392         7.0    0.0    7.0    0.0    0.0    0.0    0.0    0.0    7.0   \n",
       "446         9.0    8.0    9.0    0.0    0.0    0.0    0.0    0.0    0.0   \n",
       "\n",
       "anime_id  19     ...  34238  34239  34240  34252  34283  34324  34325  34349  \\\n",
       "user_id          ...                                                           \n",
       "226         0.0  ...    0.0    0.0    0.0    0.0    0.0    0.0    0.0    0.0   \n",
       "271         0.0  ...    0.0    0.0   10.0    0.0    0.0    0.0    0.0    0.0   \n",
       "294         0.0  ...    0.0    0.0    0.0    0.0    0.0    0.0    0.0    0.0   \n",
       "392         0.0  ...    0.0    0.0    0.0    0.0    0.0    0.0    0.0    0.0   \n",
       "446        10.0  ...    0.0    0.0    9.0    0.0    0.0    0.0    0.0    0.0   \n",
       "\n",
       "anime_id  34367  34475  \n",
       "user_id                 \n",
       "226         0.0    0.0  \n",
       "271         0.0    0.0  \n",
       "294         0.0    0.0  \n",
       "392         0.0    0.0  \n",
       "446         0.0    0.0  \n",
       "\n",
       "[5 rows x 9591 columns]"
      ]
     },
     "execution_count": 37,
     "metadata": {},
     "output_type": "execute_result"
    }
   ],
   "source": [
    "rating_matrix = filtered_ratings.pivot_table(index='user_id', columns='anime_id', values='rating')\n",
    "rating_matrix = rating_matrix.fillna(0)\n",
    "rating_matrix.head()"
   ]
  },
  {
   "cell_type": "markdown",
   "id": "SucDtT9L2qPQ",
   "metadata": {
    "id": "SucDtT9L2qPQ"
   },
   "source": [
    "__Observation:__\n",
    "- The anime and user ID details are displayed above."
   ]
  },
  {
   "cell_type": "markdown",
   "id": "1Ovx8AvxJdOJ",
   "metadata": {
    "id": "1Ovx8AvxJdOJ"
   },
   "source": [
    "## Step 5: Define the similar_users Function\n",
    "\n",
    "- Define a function to find similar_users based on the cosine similarity of their rating vectors"
   ]
  },
  {
   "cell_type": "code",
   "execution_count": 38,
   "id": "TZO5GzadGcca",
   "metadata": {
    "id": "TZO5GzadGcca"
   },
   "outputs": [],
   "source": [
    "from sklearn.metrics.pairwise import cosine_similarity\n",
    "import operator\n",
    "def similar_users(user_id, matrix, k=3):\n",
    "    user = matrix[matrix.index == user_id]\n",
    "    \n",
    "    other_users = matrix[matrix.index != user_id]\n",
    "    \n",
    "    similarities = cosine_similarity(user,other_users)[0].tolist()\n",
    "    \n",
    "    indices = other_users.index.tolist()\n",
    "    \n",
    "    index_similarity = dict(zip(indices, similarities))\n",
    "    \n",
    "    index_similarity_sorted = sorted(index_similarity.items(), key=operator.itemgetter(1))\n",
    "    index_similarity_sorted.reverse()\n",
    "    \n",
    "    top_users_similarities = index_similarity_sorted[:k]\n",
    "    users = [u[0] for u in top_users_similarities]\n",
    "    \n",
    "    return users"
   ]
  },
  {
   "cell_type": "markdown",
   "id": "bLWFk9CyJg2N",
   "metadata": {
    "id": "bLWFk9CyJg2N"
   },
   "source": [
    "## Step 6: Test the similar_users Function\n",
    "\n",
    "- Test the `similar_users` function with a sample user ID\n"
   ]
  },
  {
   "cell_type": "code",
   "execution_count": 39,
   "id": "vs0GkmRRGccb",
   "metadata": {
    "colab": {
     "base_uri": "https://localhost:8080/"
    },
    "executionInfo": {
     "elapsed": 20,
     "status": "ok",
     "timestamp": 1682937018658,
     "user": {
      "displayName": "Payal Prakash",
      "userId": "09532794939522559997"
     },
     "user_tz": -330
    },
    "id": "vs0GkmRRGccb",
    "outputId": "89154b44-b9cc-46a5-efe5-b1acd55f7182"
   },
   "outputs": [
    {
     "name": "stdout",
     "output_type": "stream",
     "text": [
      "[30773, 39021, 45603]\n"
     ]
    }
   ],
   "source": [
    "current_user = 226\n",
    "similar_user_indices = similar_users(current_user, rating_matrix)\n",
    "print(similar_user_indices)"
   ]
  },
  {
   "cell_type": "markdown",
   "id": "Vam-CY-IGon_",
   "metadata": {
    "id": "Vam-CY-IGon_"
   },
   "source": [
    "__Observation:__\n",
    "- Here, we have similar indices."
   ]
  },
  {
   "cell_type": "markdown",
   "id": "1_2aXXS2Ji1A",
   "metadata": {
    "id": "1_2aXXS2Ji1A"
   },
   "source": [
    "## Step 7: Define the recommend_item Function\n",
    "\n",
    "- Define a function to recommend items (animes) for a user based on the average ratings of similar users\n",
    "- Test the `recommend_item` function with a sample user ID and the similar user indices obtained in Step 6\n"
   ]
  },
  {
   "cell_type": "code",
   "execution_count": 40,
   "id": "-eTqZ5i7Gccb",
   "metadata": {
    "colab": {
     "base_uri": "https://localhost:8080/",
     "height": 206
    },
    "executionInfo": {
     "elapsed": 19,
     "status": "ok",
     "timestamp": 1682937018659,
     "user": {
      "displayName": "Payal Prakash",
      "userId": "09532794939522559997"
     },
     "user_tz": -330
    },
    "id": "-eTqZ5i7Gccb",
    "outputId": "4bea99dc-532d-493f-bda0-4a9dfb666dab"
   },
   "outputs": [
    {
     "data": {
      "text/html": [
       "<div>\n",
       "<style scoped>\n",
       "    .dataframe tbody tr th:only-of-type {\n",
       "        vertical-align: middle;\n",
       "    }\n",
       "\n",
       "    .dataframe tbody tr th {\n",
       "        vertical-align: top;\n",
       "    }\n",
       "\n",
       "    .dataframe thead th {\n",
       "        text-align: right;\n",
       "    }\n",
       "</style>\n",
       "<table border=\"1\" class=\"dataframe\">\n",
       "  <thead>\n",
       "    <tr style=\"text-align: right;\">\n",
       "      <th></th>\n",
       "      <th>anime_id</th>\n",
       "      <th>name</th>\n",
       "      <th>genre</th>\n",
       "      <th>type</th>\n",
       "      <th>episodes</th>\n",
       "      <th>rating</th>\n",
       "      <th>members</th>\n",
       "    </tr>\n",
       "  </thead>\n",
       "  <tbody>\n",
       "    <tr>\n",
       "      <th>6</th>\n",
       "      <td>11061</td>\n",
       "      <td>Hunter x Hunter (2011)</td>\n",
       "      <td>Action, Adventure, Shounen, Super Power</td>\n",
       "      <td>TV</td>\n",
       "      <td>148</td>\n",
       "      <td>9.13</td>\n",
       "      <td>425855</td>\n",
       "    </tr>\n",
       "    <tr>\n",
       "      <th>39</th>\n",
       "      <td>12365</td>\n",
       "      <td>Bakuman. 3rd Season</td>\n",
       "      <td>Comedy, Drama, Romance, Shounen</td>\n",
       "      <td>TV</td>\n",
       "      <td>25</td>\n",
       "      <td>8.71</td>\n",
       "      <td>133620</td>\n",
       "    </tr>\n",
       "    <tr>\n",
       "      <th>87</th>\n",
       "      <td>10030</td>\n",
       "      <td>Bakuman. 2nd Season</td>\n",
       "      <td>Comedy, Drama, Romance, Shounen</td>\n",
       "      <td>TV</td>\n",
       "      <td>25</td>\n",
       "      <td>8.53</td>\n",
       "      <td>151561</td>\n",
       "    </tr>\n",
       "    <tr>\n",
       "      <th>131</th>\n",
       "      <td>4224</td>\n",
       "      <td>Toradora!</td>\n",
       "      <td>Comedy, Romance, School, Slice of Life</td>\n",
       "      <td>TV</td>\n",
       "      <td>25</td>\n",
       "      <td>8.45</td>\n",
       "      <td>633817</td>\n",
       "    </tr>\n",
       "    <tr>\n",
       "      <th>184</th>\n",
       "      <td>7674</td>\n",
       "      <td>Bakuman.</td>\n",
       "      <td>Comedy, Romance, Shounen</td>\n",
       "      <td>TV</td>\n",
       "      <td>25</td>\n",
       "      <td>8.35</td>\n",
       "      <td>246899</td>\n",
       "    </tr>\n",
       "  </tbody>\n",
       "</table>\n",
       "</div>"
      ],
      "text/plain": [
       "     anime_id                    name  \\\n",
       "6       11061  Hunter x Hunter (2011)   \n",
       "39      12365     Bakuman. 3rd Season   \n",
       "87      10030     Bakuman. 2nd Season   \n",
       "131      4224               Toradora!   \n",
       "184      7674                Bakuman.   \n",
       "\n",
       "                                       genre type episodes  rating  members  \n",
       "6    Action, Adventure, Shounen, Super Power   TV      148    9.13   425855  \n",
       "39           Comedy, Drama, Romance, Shounen   TV       25    8.71   133620  \n",
       "87           Comedy, Drama, Romance, Shounen   TV       25    8.53   151561  \n",
       "131   Comedy, Romance, School, Slice of Life   TV       25    8.45   633817  \n",
       "184                 Comedy, Romance, Shounen   TV       25    8.35   246899  "
      ]
     },
     "execution_count": 40,
     "metadata": {},
     "output_type": "execute_result"
    }
   ],
   "source": [
    "def recommend_item(user_index, similar_user_indices, matrix, items=5):\n",
    "    \n",
    "    similar_users = matrix[matrix.index.isin(similar_user_indices)]\n",
    "   \n",
    "    similar_users = similar_users.mean(axis=0)\n",
    "    \n",
    "    similar_users_df = pd.DataFrame(similar_users, columns=['mean'])\n",
    "    \n",
    "    user_df = matrix[matrix.index == user_index]\n",
    "\n",
    "    user_df_transposed = user_df.transpose()\n",
    "   \n",
    "    user_df_transposed.columns = ['rating']\n",
    "    \n",
    "    user_df_transposed = user_df_transposed[user_df_transposed['rating']==0]\n",
    "   \n",
    "    animes_unseen = user_df_transposed.index.tolist()\n",
    "    \n",
    "  \n",
    "    similar_users_df_filtered = similar_users_df[similar_users_df.index.isin(animes_unseen)]\n",
    " \n",
    "    similar_users_df_ordered = similar_users_df.sort_values(by=['mean'], ascending=False)\n",
    "   \n",
    "    top_n_anime = similar_users_df_ordered.head(items)\n",
    "    top_n_anime_indices = top_n_anime.index.tolist()\n",
    "\n",
    "    anime_information = animes[animes['anime_id'].isin(top_n_anime_indices)]\n",
    "    \n",
    "    return anime_information\n",
    "\n",
    "recommend_item(226, similar_user_indices, rating_matrix)"
   ]
  },
  {
   "cell_type": "markdown",
   "id": "otdf33wy4pJz",
   "metadata": {
    "id": "otdf33wy4pJz"
   },
   "source": [
    "__Observation:__\n",
    "\n",
    "The recommendations shown above were given to the user."
   ]
  }
 ],
 "metadata": {
  "colab": {
   "provenance": []
  },
  "kernelspec": {
   "display_name": "Python 3 (ipykernel)",
   "language": "python",
   "name": "python3"
  },
  "language_info": {
   "codemirror_mode": {
    "name": "ipython",
    "version": 3
   },
   "file_extension": ".py",
   "mimetype": "text/x-python",
   "name": "python",
   "nbconvert_exporter": "python",
   "pygments_lexer": "ipython3",
   "version": "3.11.7"
  }
 },
 "nbformat": 4,
 "nbformat_minor": 5
}

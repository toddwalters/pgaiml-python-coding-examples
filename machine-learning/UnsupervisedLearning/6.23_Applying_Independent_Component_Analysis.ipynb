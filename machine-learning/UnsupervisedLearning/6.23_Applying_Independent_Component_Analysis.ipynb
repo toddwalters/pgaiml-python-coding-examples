{
 "cells": [
  {
   "cell_type": "markdown",
   "metadata": {
    "id": "UUsWnwNoQE9_"
   },
   "source": [
    "## __Applying Indepedent Component Analysis (ICA)__ ##"
   ]
  },
  {
   "cell_type": "markdown",
   "metadata": {
    "id": "PnVQ-U3Aii0-"
   },
   "source": [
    "## Step 1: Import the Required Libraries and Configure the Settings\n",
    "\n",
    "- Import **FastICA** from **sklearn.decomposition, matplotlib.pyplot,** and **pandas**\n",
    "- Configure the matplotlib settings\n",
    "- Read the input data from a CSV file\n",
    "- Print the first 10 rows of the data"
   ]
  },
  {
   "cell_type": "code",
   "execution_count": 1,
   "metadata": {
    "colab": {
     "base_uri": "https://localhost:8080/"
    },
    "executionInfo": {
     "elapsed": 2866,
     "status": "ok",
     "timestamp": 1682994600176,
     "user": {
      "displayName": "Sreelakshmi C V",
      "userId": "04477517605899898333"
     },
     "user_tz": -330
    },
    "id": "CbYzpbEViVTL",
    "outputId": "611e980a-5abd-4d1b-988e-0b7fd8dec819"
   },
   "outputs": [
    {
     "name": "stdout",
     "output_type": "stream",
     "text": [
      "   rating  complaints  privileges  learning  raises  critical  advance\n",
      "0      43          51          30        39      61        92       45\n",
      "1      63          64          51        54      63        73       47\n",
      "2      71          70          68        69      76        86       48\n",
      "3      61          63          45        47      54        84       35\n",
      "4      81          78          56        66      71        83       47\n",
      "5      43          55          49        44      54        49       34\n",
      "6      58          67          42        56      66        68       35\n",
      "7      71          75          50        55      70        66       41\n",
      "8      72          82          72        67      71        83       31\n",
      "9      67          61          45        47      62        80       41\n"
     ]
    }
   ],
   "source": [
    "%matplotlib inline\n",
    "from sklearn.decomposition import FastICA\n",
    "import matplotlib.pyplot as plt\n",
    "import pandas as pd\n",
    "InpData=pd.read_csv('SurveyData.csv')\n",
    "print(InpData.head(10))"
   ]
  },
  {
   "cell_type": "markdown",
   "metadata": {
    "id": "xhUXFEiAXA9P"
   },
   "source": [
    "__Observation:__\n",
    "- The first ten rows of the dataset have been displayed here."
   ]
  },
  {
   "cell_type": "code",
   "execution_count": null,
   "metadata": {
    "colab": {
     "base_uri": "https://localhost:8080/"
    },
    "executionInfo": {
     "elapsed": 435,
     "status": "ok",
     "timestamp": 1682994669771,
     "user": {
      "displayName": "Sreelakshmi C V",
      "userId": "04477517605899898333"
     },
     "user_tz": -330
    },
    "id": "k4hJ4cnPS9GN",
    "outputId": "e65c1bb7-2ff9-4387-abb8-949f89835302"
   },
   "outputs": [],
   "source": [
    "InpData.info()"
   ]
  },
  {
   "cell_type": "markdown",
   "metadata": {
    "id": "Ef5sMVKHUMi8"
   },
   "source": [
    "__Observation:__\n",
    "- We can see that there are no missing values."
   ]
  },
  {
   "cell_type": "markdown",
   "metadata": {
    "id": "7BU6ThbBisPV"
   },
   "source": [
    "## Step 2: Implementing an Independent Component Analysis\n",
    "\n",
    "- Create an ICA object with two components\n",
    "- Fit and transform the input data using the ICA object"
   ]
  },
  {
   "cell_type": "code",
   "execution_count": 2,
   "metadata": {
    "colab": {
     "base_uri": "https://localhost:8080/"
    },
    "executionInfo": {
     "elapsed": 717,
     "status": "ok",
     "timestamp": 1682995181611,
     "user": {
      "displayName": "Sreelakshmi C V",
      "userId": "04477517605899898333"
     },
     "user_tz": -330
    },
    "id": "5MlVT4TIiVTN",
    "outputId": "3ee5dd15-8397-4e63-9f91-e36dac084193"
   },
   "outputs": [],
   "source": [
    "ICA = FastICA(n_components=2, whiten='unit-variance')\n",
    "IndependentComp_values = ICA.fit_transform(InpData.values)"
   ]
  },
  {
   "cell_type": "markdown",
   "metadata": {
    "id": "EtGLx6tx5vQY"
   },
   "source": [
    "- Print the independent component\n",
    "- Create a DataFrame with column names Independent component 1 and 2"
   ]
  },
  {
   "cell_type": "code",
   "execution_count": 3,
   "metadata": {
    "colab": {
     "base_uri": "https://localhost:8080/"
    },
    "executionInfo": {
     "elapsed": 655,
     "status": "ok",
     "timestamp": 1682995403344,
     "user": {
      "displayName": "Sreelakshmi C V",
      "userId": "04477517605899898333"
     },
     "user_tz": -330
    },
    "id": "ZLMlKXPvVMBx",
    "outputId": "8678b9bb-db6b-4472-f1fa-f5d54d287421"
   },
   "outputs": [
    {
     "name": "stdout",
     "output_type": "stream",
     "text": [
      "##final Independent Components##\n",
      "        IC1       IC2\n",
      "0  1.218314 -1.765384\n",
      "1  0.134536 -0.264211\n",
      "2 -1.104643 -0.692543\n",
      "3  0.706263  0.186623\n",
      "4 -0.982133  0.316730\n",
      "5  1.496201  0.447525\n",
      "6  0.480654  0.458080\n",
      "7 -0.143921  0.886350\n",
      "8 -0.935377  0.928993\n",
      "9  0.433351  0.004060\n"
     ]
    }
   ],
   "source": [
    "print('##final Independent Components##')\n",
    "reducedata = pd.DataFrame(data=IndependentComp_values, columns=['IC1', 'IC2'])\n",
    "print(reducedata.head(10))"
   ]
  },
  {
   "cell_type": "markdown",
   "metadata": {
    "id": "BYvt_yBUWBXH"
   },
   "source": [
    "__Observations:__\n",
    "- As you can see, here we have created a DataFrame with independent components.\n",
    "- The first ten rows of the reduced data are displayed."
   ]
  }
 ],
 "metadata": {
  "colab": {
   "provenance": []
  },
  "kernelspec": {
   "display_name": "Python 3 (ipykernel)",
   "language": "python",
   "name": "python3"
  },
  "language_info": {
   "codemirror_mode": {
    "name": "ipython",
    "version": 3
   },
   "file_extension": ".py",
   "mimetype": "text/x-python",
   "name": "python",
   "nbconvert_exporter": "python",
   "pygments_lexer": "ipython3",
   "version": "3.11.7"
  }
 },
 "nbformat": 4,
 "nbformat_minor": 4
}

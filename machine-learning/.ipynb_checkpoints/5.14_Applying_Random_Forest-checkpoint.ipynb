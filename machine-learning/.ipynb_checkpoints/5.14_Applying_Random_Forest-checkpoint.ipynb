{
 "cells": [
  {
   "cell_type": "markdown",
   "metadata": {
    "id": "EvifF1nipk6i"
   },
   "source": [
    "#__Applying Random Forest__\n",
    "\n",
    "Let's examine how to construct a random forest regression. "
   ]
  },
  {
   "cell_type": "markdown",
   "metadata": {
    "id": "Y2aGelTNkI95"
   },
   "source": [
    "## Step 1: Import Required Libraries and Read the Dataset\n",
    "\n",
    "- Import pandas and NumPy libraries\n",
    "- Read the dataset and display the head\n",
    "- Check the dataset information\n"
   ]
  },
  {
   "cell_type": "code",
   "execution_count": 33,
   "metadata": {
    "id": "8amcdf-sjlSX"
   },
   "outputs": [],
   "source": [
    "import pandas as pd\n",
    "import numpy as np"
   ]
  },
  {
   "cell_type": "code",
   "execution_count": 34,
   "metadata": {
    "id": "qRObLCpPjlSZ"
   },
   "outputs": [],
   "source": [
    "dataset = pd.read_csv('petrol_consumption.csv')"
   ]
  },
  {
   "cell_type": "code",
   "execution_count": 35,
   "metadata": {
    "colab": {
     "base_uri": "https://localhost:8080/",
     "height": 206
    },
    "executionInfo": {
     "elapsed": 9,
     "status": "ok",
     "timestamp": 1683257229413,
     "user": {
      "displayName": "Sreelakshmi C V",
      "userId": "04477517605899898333"
     },
     "user_tz": -330
    },
    "id": "xss9q-HyjlSa",
    "outputId": "c393d37a-5650-48bf-cc09-a76a449d85a9"
   },
   "outputs": [
    {
     "data": {
      "text/html": [
       "<div>\n",
       "<style scoped>\n",
       "    .dataframe tbody tr th:only-of-type {\n",
       "        vertical-align: middle;\n",
       "    }\n",
       "\n",
       "    .dataframe tbody tr th {\n",
       "        vertical-align: top;\n",
       "    }\n",
       "\n",
       "    .dataframe thead th {\n",
       "        text-align: right;\n",
       "    }\n",
       "</style>\n",
       "<table border=\"1\" class=\"dataframe\">\n",
       "  <thead>\n",
       "    <tr style=\"text-align: right;\">\n",
       "      <th></th>\n",
       "      <th>Petrol_tax</th>\n",
       "      <th>Average_income</th>\n",
       "      <th>Paved_Highways</th>\n",
       "      <th>Population_Driver_licence(%)</th>\n",
       "      <th>Petrol_Consumption</th>\n",
       "    </tr>\n",
       "  </thead>\n",
       "  <tbody>\n",
       "    <tr>\n",
       "      <th>0</th>\n",
       "      <td>9.0</td>\n",
       "      <td>3571</td>\n",
       "      <td>1976</td>\n",
       "      <td>0.525</td>\n",
       "      <td>541</td>\n",
       "    </tr>\n",
       "    <tr>\n",
       "      <th>1</th>\n",
       "      <td>9.0</td>\n",
       "      <td>4092</td>\n",
       "      <td>1250</td>\n",
       "      <td>0.572</td>\n",
       "      <td>524</td>\n",
       "    </tr>\n",
       "    <tr>\n",
       "      <th>2</th>\n",
       "      <td>9.0</td>\n",
       "      <td>3865</td>\n",
       "      <td>1586</td>\n",
       "      <td>0.580</td>\n",
       "      <td>561</td>\n",
       "    </tr>\n",
       "    <tr>\n",
       "      <th>3</th>\n",
       "      <td>7.5</td>\n",
       "      <td>4870</td>\n",
       "      <td>2351</td>\n",
       "      <td>0.529</td>\n",
       "      <td>414</td>\n",
       "    </tr>\n",
       "    <tr>\n",
       "      <th>4</th>\n",
       "      <td>8.0</td>\n",
       "      <td>4399</td>\n",
       "      <td>431</td>\n",
       "      <td>0.544</td>\n",
       "      <td>410</td>\n",
       "    </tr>\n",
       "  </tbody>\n",
       "</table>\n",
       "</div>"
      ],
      "text/plain": [
       "   Petrol_tax  Average_income  Paved_Highways  Population_Driver_licence(%)  \\\n",
       "0         9.0            3571            1976                         0.525   \n",
       "1         9.0            4092            1250                         0.572   \n",
       "2         9.0            3865            1586                         0.580   \n",
       "3         7.5            4870            2351                         0.529   \n",
       "4         8.0            4399             431                         0.544   \n",
       "\n",
       "   Petrol_Consumption  \n",
       "0                 541  \n",
       "1                 524  \n",
       "2                 561  \n",
       "3                 414  \n",
       "4                 410  "
      ]
     },
     "execution_count": 35,
     "metadata": {},
     "output_type": "execute_result"
    }
   ],
   "source": [
    "dataset.head()"
   ]
  },
  {
   "cell_type": "markdown",
   "metadata": {
    "id": "HB_iN8vw9CDx"
   },
   "source": [
    "__Observation__\n",
    "- Here, you can see the first few rows of the dataset."
   ]
  },
  {
   "cell_type": "markdown",
   "metadata": {
    "id": "PD7uyTcMqNsW"
   },
   "source": [
    "We will predict petrol consumption based on the above attribute.  "
   ]
  },
  {
   "cell_type": "code",
   "execution_count": 36,
   "metadata": {
    "colab": {
     "base_uri": "https://localhost:8080/"
    },
    "executionInfo": {
     "elapsed": 466,
     "status": "ok",
     "timestamp": 1683258213773,
     "user": {
      "displayName": "Sreelakshmi C V",
      "userId": "04477517605899898333"
     },
     "user_tz": -330
    },
    "id": "quNVj_bMjlSb",
    "outputId": "60b49bba-9797-4dd8-fbdc-77044e5ebad1"
   },
   "outputs": [
    {
     "name": "stdout",
     "output_type": "stream",
     "text": [
      "<class 'pandas.core.frame.DataFrame'>\n",
      "RangeIndex: 48 entries, 0 to 47\n",
      "Data columns (total 5 columns):\n",
      " #   Column                        Non-Null Count  Dtype  \n",
      "---  ------                        --------------  -----  \n",
      " 0   Petrol_tax                    48 non-null     float64\n",
      " 1   Average_income                48 non-null     int64  \n",
      " 2   Paved_Highways                48 non-null     int64  \n",
      " 3   Population_Driver_licence(%)  48 non-null     float64\n",
      " 4   Petrol_Consumption            48 non-null     int64  \n",
      "dtypes: float64(2), int64(3)\n",
      "memory usage: 2.0 KB\n"
     ]
    }
   ],
   "source": [
    "dataset.info()"
   ]
  },
  {
   "cell_type": "markdown",
   "metadata": {
    "id": "lRehsIsNAIf2"
   },
   "source": [
    "__Observation__\n",
    "- All data types are in numeric and there are no missing values."
   ]
  },
  {
   "cell_type": "markdown",
   "metadata": {
    "id": "9KPFqbQMkMzW"
   },
   "source": [
    "## Step 2: Prepare the data\n",
    "\n",
    "- Let's create X and y.\n"
   ]
  },
  {
   "cell_type": "code",
   "execution_count": 37,
   "metadata": {
    "id": "3CWaxBjQjlSb"
   },
   "outputs": [],
   "source": [
    "X = dataset.iloc[:, 0:4].values\n",
    "y = dataset.iloc[:, 4].values"
   ]
  },
  {
   "cell_type": "markdown",
   "metadata": {
    "id": "gtQwE9_8kO_X"
   },
   "source": [
    "## Step 3: Split the Data into Training and Testing Sets\n",
    "\n",
    "- Use train_test_split from sklearn.model_selection to split the data\n"
   ]
  },
  {
   "cell_type": "code",
   "execution_count": 38,
   "metadata": {
    "id": "K1qNFfkxjlSb"
   },
   "outputs": [],
   "source": [
    "from sklearn.model_selection import train_test_split\n",
    "\n",
    "X_train, X_test, y_train, y_test = train_test_split(X, y, test_size=0.2, random_state=0)"
   ]
  },
  {
   "cell_type": "markdown",
   "metadata": {
    "id": "JC77OXyLkiGw"
   },
   "source": [
    "## Step 4: Standardize the Data\n",
    "\n",
    "- Standardize the data using StandardScaler from sklearn.preprocessing\n"
   ]
  },
  {
   "cell_type": "code",
   "execution_count": 39,
   "metadata": {
    "id": "zL_lmlkxjlSc"
   },
   "outputs": [],
   "source": [
    "from sklearn.preprocessing import StandardScaler\n",
    "\n",
    "sc = StandardScaler()\n",
    "X_train = sc.fit_transform(X_train)\n",
    "X_test = sc.transform(X_test)"
   ]
  },
  {
   "cell_type": "markdown",
   "metadata": {
    "id": "235UlWLZklQP"
   },
   "source": [
    "## Step 5: Train the RandomForestRegressor\n",
    "\n",
    "- Import RandomForestRegressor from sklearn.ensemble\n",
    "- Create a regressor object, fit it with the training data, and make predictions on the test data\n"
   ]
  },
  {
   "cell_type": "code",
   "execution_count": 40,
   "metadata": {
    "id": "e3LWeaRQjlSc"
   },
   "outputs": [],
   "source": [
    "from sklearn.ensemble import RandomForestRegressor\n",
    "\n",
    "regressor = RandomForestRegressor(n_estimators=20, random_state=0)\n",
    "regressor.fit(X_train, y_train)\n",
    "y_pred = regressor.predict(X_test)"
   ]
  },
  {
   "cell_type": "markdown",
   "metadata": {
    "id": "FZXkJXn6knrJ"
   },
   "source": [
    "## Step 6: Evaluate the Performance of the RandomForestRegressor\n",
    "\n",
    "- Calculate the Mean Absolute Error, Mean Squared Error, and Root Mean Squared Error using metrics from sklearn\n"
   ]
  },
  {
   "cell_type": "code",
   "execution_count": 41,
   "metadata": {
    "colab": {
     "base_uri": "https://localhost:8080/"
    },
    "executionInfo": {
     "elapsed": 506,
     "status": "ok",
     "timestamp": 1683258867114,
     "user": {
      "displayName": "Sreelakshmi C V",
      "userId": "04477517605899898333"
     },
     "user_tz": -330
    },
    "id": "uz6VegpiBpJL",
    "outputId": "1780ebb9-5027-4210-c930-872797c7f5fa"
   },
   "outputs": [
    {
     "name": "stdout",
     "output_type": "stream",
     "text": [
      "Train MAE: 19.986842105263165\n",
      "R Square: 859.2686842105269\n",
      "Train RMSE: [21.70253441 23.53720459 25.05992817 25.11971337 22.89104628 23.68543856\n",
      " 24.69817807 29.41088234 25.19920634 23.9582971  21.54065923 24.55605832\n",
      " 26.43860813 25.47547841 25.13961018 21.54065923 22.53885534 23.79075451\n",
      " 21.37755833 26.72077843 25.37715508 23.79075451 25.45584412 22.89104628\n",
      " 22.91287847 24.31049156 21.44761059 18.54723699 23.38803113 25.29822128\n",
      " 23.23790008 25.29822128 22.3159136  31.11269837 22.58317958 20.34698995\n",
      " 23.2594067  27.96426291]\n"
     ]
    }
   ],
   "source": [
    "from sklearn import metrics\n",
    "\n",
    "print('Train MAE:', metrics.mean_absolute_error(y_train, regressor.predict(X_train)))\n",
    "print('R Square:', metrics.mean_squared_error(y_train, regressor.predict(X_train)))\n",
    "print('Train RMSE:', np.sqrt(y_train, regressor.predict(X_train)))"
   ]
  },
  {
   "cell_type": "code",
   "execution_count": 42,
   "metadata": {
    "colab": {
     "base_uri": "https://localhost:8080/"
    },
    "executionInfo": {
     "elapsed": 350,
     "status": "ok",
     "timestamp": 1683258925764,
     "user": {
      "displayName": "Sreelakshmi C V",
      "userId": "04477517605899898333"
     },
     "user_tz": -330
    },
    "id": "iDi6pnIOjlSc",
    "outputId": "dc77b629-2e7a-4dbf-cfb8-9de166b051fe"
   },
   "outputs": [
    {
     "name": "stdout",
     "output_type": "stream",
     "text": [
      "Train MAE: 51.76500000000001\n",
      "R Square: 4216.166749999999\n",
      "Train RMSE: [23.10844002 20.24845673 24.0208243  23.89560629 24.0208243  26.53299832\n",
      " 22.06807649 24.22808288 21.61018278 24.08318916]\n"
     ]
    }
   ],
   "source": [
    "print('Train MAE:', metrics.mean_absolute_error(y_test, regressor.predict(X_test)))\n",
    "print('R Square:', metrics.mean_squared_error(y_test, regressor.predict(X_test)))\n",
    "print('Train RMSE:', np.sqrt(y_test, regressor.predict(X_test)))"
   ]
  },
  {
   "cell_type": "markdown",
   "metadata": {
    "id": "JmgtxaJVuX68"
   },
   "source": [
    "__Observation__\n",
    "\n",
    "- Notice that there is a huge difference in metric value in terms of test and train using cross validation."
   ]
  },
  {
   "cell_type": "markdown",
   "metadata": {
    "id": "I_t6BwK_Dr6M"
   },
   "source": [
    "In the case of a classification problem, we will need to change the random forest regressor to a random forest classifier, and we will be able to get the classifier model."
   ]
  }
 ],
 "metadata": {
  "colab": {
   "provenance": []
  },
  "kernelspec": {
   "display_name": "Python 3 [3.10]",
   "language": "python",
   "name": "python3"
  },
  "language_info": {
   "codemirror_mode": {
    "name": "ipython",
    "version": 3
   },
   "file_extension": ".py",
   "mimetype": "text/x-python",
   "name": "python",
   "nbconvert_exporter": "python",
   "pygments_lexer": "ipython3",
   "version": "3.10.2"
  }
 },
 "nbformat": 4,
 "nbformat_minor": 4
}

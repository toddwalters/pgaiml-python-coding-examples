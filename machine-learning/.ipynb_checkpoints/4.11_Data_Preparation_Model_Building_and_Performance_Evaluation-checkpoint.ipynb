{
  "cells": [
    {
      "cell_type": "markdown",
      "metadata": {
        "id": "FK8Gu49mlRZP"
      },
      "source": [
        "# **Data Preparation, Model Building, and Performance Evaluation**\n",
        "\n",
        "In this practice, let's see how to fit the polynomial regression."
      ]
    },
    {
      "cell_type": "markdown",
      "metadata": {
        "id": "MIYiA78QlqCo"
      },
      "source": [
        "## Step 1: Import Required Libraries\n",
        "- First, import the required libraries."
      ]
    },
    {
      "cell_type": "code",
      "execution_count": null,
      "metadata": {
        "id": "Ogf1-9bKN8qr"
      },
      "outputs": [],
      "source": [
        "import pandas as pd\n",
        "import numpy as np\n",
        "import matplotlib.pyplot as plt\n",
        "import seaborn as sns"
      ]
    },
    {
      "cell_type": "markdown",
      "metadata": {
        "id": "MO08KGF6l5aa"
      },
      "source": [
        "- Now, read the dataset __position_salaries.csv__.\n"
      ]
    },
    {
      "cell_type": "code",
      "execution_count": null,
      "metadata": {
        "id": "eBHTZkX-mAtJ"
      },
      "outputs": [],
      "source": [
        "data = pd.read_csv('position_salaries.csv')"
      ]
    },
    {
      "cell_type": "markdown",
      "metadata": {
        "id": "asgp-l5MU5Ya"
      },
      "source": [
        "- The following command provides details about the dataset that was imported."
      ]
    },
    {
      "cell_type": "code",
      "execution_count": null,
      "metadata": {
        "colab": {
          "base_uri": "https://localhost:8080/"
        },
        "id": "3AC74kZYmuuD",
        "outputId": "1747474e-ed92-4de0-ca4c-0830eaef1ba6"
      },
      "outputs": [
        {
          "name": "stdout",
          "output_type": "stream",
          "text": [
            "<class 'pandas.core.frame.DataFrame'>\n",
            "RangeIndex: 10 entries, 0 to 9\n",
            "Data columns (total 3 columns):\n",
            " #   Column    Non-Null Count  Dtype \n",
            "---  ------    --------------  ----- \n",
            " 0   Position  10 non-null     object\n",
            " 1   Level     10 non-null     int64 \n",
            " 2   Salary    10 non-null     int64 \n",
            "dtypes: int64(2), object(1)\n",
            "memory usage: 368.0+ bytes\n"
          ]
        }
      ],
      "source": [
        "data.info()"
      ]
    },
    {
      "cell_type": "markdown",
      "metadata": {
        "id": "68b5r8-PVoTy"
      },
      "source": [
        "__Observation:__\n",
        "- There are no null objects."
      ]
    },
    {
      "cell_type": "markdown",
      "metadata": {
        "id": "A9z7phECVHBD"
      },
      "source": [
        "## Step 2: Fit the Linear Regression Model\n",
        "\n",
        "- Now, let's define the features and the target variables.\n",
        "- Here, X is assigned to all the rows in the second column of the dataset.\n",
        "\n",
        "- y is assigned to all the rows of the third column of the same dataset."
      ]
    },
    {
      "cell_type": "code",
      "execution_count": null,
      "metadata": {
        "id": "AcQw7b7amxmp"
      },
      "outputs": [],
      "source": [
        "X=data.iloc[:,1:2].values\n",
        "y=data.iloc[:,2].values"
      ]
    },
    {
      "cell_type": "markdown",
      "metadata": {
        "id": "wuNbfNJJWg9O"
      },
      "source": [
        "- Once the dependent and independent variables are defined, let's move forward with fitting the data.\n",
        "\n",
        "- Import __train_test_split__ from the sklearn library.\n",
        "\n",
        "- Use the train_test_split function to split the data into an 80:20 ratio.  "
      ]
    },
    {
      "cell_type": "code",
      "execution_count": null,
      "metadata": {
        "id": "K9dA4ak5nGC7"
      },
      "outputs": [],
      "source": [
        "from sklearn.model_selection import train_test_split\n",
        "X_train, X_test, y_train, y_test = train_test_split(X, y, test_size = 0.2, random_state = 0)"
      ]
    },
    {
      "cell_type": "markdown",
      "metadata": {
        "id": "IJb5toeDXnwt"
      },
      "source": [
        "- First, let us see if linear regression works on this data.\n",
        "- From **sklearn.linear_model**, import the linear regression function.\n",
        "- Assign **LinearRegression()** to the variable **lin_reg**.\n",
        "- Next, fit the data using the defined variables X and y."
      ]
    },
    {
      "cell_type": "code",
      "execution_count": null,
      "metadata": {
        "colab": {
          "base_uri": "https://localhost:8080/",
          "height": 75
        },
        "id": "bgpriN7xnkTT",
        "outputId": "6a4a24a6-e4df-4cf6-9337-55189e161022"
      },
      "outputs": [
        {
          "data": {
            "text/html": [
              "<style>#sk-container-id-1 {color: black;background-color: white;}#sk-container-id-1 pre{padding: 0;}#sk-container-id-1 div.sk-toggleable {background-color: white;}#sk-container-id-1 label.sk-toggleable__label {cursor: pointer;display: block;width: 100%;margin-bottom: 0;padding: 0.3em;box-sizing: border-box;text-align: center;}#sk-container-id-1 label.sk-toggleable__label-arrow:before {content: \"▸\";float: left;margin-right: 0.25em;color: #696969;}#sk-container-id-1 label.sk-toggleable__label-arrow:hover:before {color: black;}#sk-container-id-1 div.sk-estimator:hover label.sk-toggleable__label-arrow:before {color: black;}#sk-container-id-1 div.sk-toggleable__content {max-height: 0;max-width: 0;overflow: hidden;text-align: left;background-color: #f0f8ff;}#sk-container-id-1 div.sk-toggleable__content pre {margin: 0.2em;color: black;border-radius: 0.25em;background-color: #f0f8ff;}#sk-container-id-1 input.sk-toggleable__control:checked~div.sk-toggleable__content {max-height: 200px;max-width: 100%;overflow: auto;}#sk-container-id-1 input.sk-toggleable__control:checked~label.sk-toggleable__label-arrow:before {content: \"▾\";}#sk-container-id-1 div.sk-estimator input.sk-toggleable__control:checked~label.sk-toggleable__label {background-color: #d4ebff;}#sk-container-id-1 div.sk-label input.sk-toggleable__control:checked~label.sk-toggleable__label {background-color: #d4ebff;}#sk-container-id-1 input.sk-hidden--visually {border: 0;clip: rect(1px 1px 1px 1px);clip: rect(1px, 1px, 1px, 1px);height: 1px;margin: -1px;overflow: hidden;padding: 0;position: absolute;width: 1px;}#sk-container-id-1 div.sk-estimator {font-family: monospace;background-color: #f0f8ff;border: 1px dotted black;border-radius: 0.25em;box-sizing: border-box;margin-bottom: 0.5em;}#sk-container-id-1 div.sk-estimator:hover {background-color: #d4ebff;}#sk-container-id-1 div.sk-parallel-item::after {content: \"\";width: 100%;border-bottom: 1px solid gray;flex-grow: 1;}#sk-container-id-1 div.sk-label:hover label.sk-toggleable__label {background-color: #d4ebff;}#sk-container-id-1 div.sk-serial::before {content: \"\";position: absolute;border-left: 1px solid gray;box-sizing: border-box;top: 0;bottom: 0;left: 50%;z-index: 0;}#sk-container-id-1 div.sk-serial {display: flex;flex-direction: column;align-items: center;background-color: white;padding-right: 0.2em;padding-left: 0.2em;position: relative;}#sk-container-id-1 div.sk-item {position: relative;z-index: 1;}#sk-container-id-1 div.sk-parallel {display: flex;align-items: stretch;justify-content: center;background-color: white;position: relative;}#sk-container-id-1 div.sk-item::before, #sk-container-id-1 div.sk-parallel-item::before {content: \"\";position: absolute;border-left: 1px solid gray;box-sizing: border-box;top: 0;bottom: 0;left: 50%;z-index: -1;}#sk-container-id-1 div.sk-parallel-item {display: flex;flex-direction: column;z-index: 1;position: relative;background-color: white;}#sk-container-id-1 div.sk-parallel-item:first-child::after {align-self: flex-end;width: 50%;}#sk-container-id-1 div.sk-parallel-item:last-child::after {align-self: flex-start;width: 50%;}#sk-container-id-1 div.sk-parallel-item:only-child::after {width: 0;}#sk-container-id-1 div.sk-dashed-wrapped {border: 1px dashed gray;margin: 0 0.4em 0.5em 0.4em;box-sizing: border-box;padding-bottom: 0.4em;background-color: white;}#sk-container-id-1 div.sk-label label {font-family: monospace;font-weight: bold;display: inline-block;line-height: 1.2em;}#sk-container-id-1 div.sk-label-container {text-align: center;}#sk-container-id-1 div.sk-container {/* jupyter's `normalize.less` sets `[hidden] { display: none; }` but bootstrap.min.css set `[hidden] { display: none !important; }` so we also need the `!important` here to be able to override the default hidden behavior on the sphinx rendered scikit-learn.org. See: https://github.com/scikit-learn/scikit-learn/issues/21755 */display: inline-block !important;position: relative;}#sk-container-id-1 div.sk-text-repr-fallback {display: none;}</style><div id=\"sk-container-id-1\" class=\"sk-top-container\"><div class=\"sk-text-repr-fallback\"><pre>LinearRegression()</pre><b>In a Jupyter environment, please rerun this cell to show the HTML representation or trust the notebook. <br />On GitHub, the HTML representation is unable to render, please try loading this page with nbviewer.org.</b></div><div class=\"sk-container\" hidden><div class=\"sk-item\"><div class=\"sk-estimator sk-toggleable\"><input class=\"sk-toggleable__control sk-hidden--visually\" id=\"sk-estimator-id-1\" type=\"checkbox\" checked><label for=\"sk-estimator-id-1\" class=\"sk-toggleable__label sk-toggleable__label-arrow\">LinearRegression</label><div class=\"sk-toggleable__content\"><pre>LinearRegression()</pre></div></div></div></div></div>"
            ],
            "text/plain": [
              "LinearRegression()"
            ]
          },
          "execution_count": 7,
          "metadata": {},
          "output_type": "execute_result"
        }
      ],
      "source": [
        "from sklearn.linear_model import LinearRegression\n",
        "lin_reg = LinearRegression()\n",
        "lin_reg.fit(X,y)"
      ]
    },
    {
      "cell_type": "markdown",
      "metadata": {
        "id": "CygvgB7fVx2P"
      },
      "source": [
        "__Observation:__\n",
        "\n",
        "- We have fit the linear regression model to the given dataset."
      ]
    },
    {
      "cell_type": "markdown",
      "metadata": {
        "id": "ahcpoUhMYf76"
      },
      "source": [
        "- Next, let us visualize the fitted data using a scatter plot.\n",
        "- Let us define a function **viz_linear** to plot the X and y values in red, while the fitted line uses a blue color.\n",
        "- Provide the appropriate X and y axis labels, along with a suitable title for the plot."
      ]
    },
    {
      "cell_type": "code",
      "execution_count": null,
      "metadata": {
        "id": "4ipRNdx8n4_O"
      },
      "outputs": [],
      "source": [
        "def viz_linear():\n",
        "  plt.scatter(X,y, color = 'red')\n",
        "  plt.plot(X,lin_reg.predict(X), color = 'blue')\n",
        "  plt.title('Linear Regression Model')\n",
        "  plt.xlabel('Position Level')\n",
        "  plt.ylabel('Salary')\n",
        "  plt.show()\n",
        "  return"
      ]
    },
    {
      "cell_type": "markdown",
      "metadata": {
        "id": "Q0eZTO_JonbM"
      },
      "source": [
        "- Run the function to get the plot"
      ]
    },
    {
      "cell_type": "code",
      "execution_count": null,
      "metadata": {
        "colab": {
          "base_uri": "https://localhost:8080/",
          "height": 472
        },
        "id": "El2kQwzwoge_",
        "outputId": "0564f49f-8f6c-42aa-a945-0932d8a69b40"
      },
      "outputs": [
        {
          "data": {
            "image/png": "[encoded data removed]",
            "text/plain": [
              "<Figure size 640x480 with 1 Axes>"
            ]
          },
          "metadata": {},
          "output_type": "display_data"
        }
      ],
      "source": [
        "viz_linear()"
      ]
    },
    {
      "cell_type": "markdown",
      "metadata": {
        "id": "UlPiMcbaowrB"
      },
      "source": [
        "__Observation:__\n",
        "- In the above figure, you can see that even though we have fit the line, the data points are scattered and do not fit the line correctly."
      ]
    },
    {
      "cell_type": "markdown",
      "metadata": {
        "id": "YNuQBV29pFbk"
      },
      "source": [
        "## Step 3: Fit the Polynomial Regression Model\n",
        "\n",
        "- Let's try polynomial regression and see what happens.\n",
        "- First, import the relevant libraries.\n",
        "- Next, assign the **PolynomialFeatures** of degree 4 to the variable **poly_reg**.\n",
        "- Fit the values of X and assign them to the variable **X_poly**.\n",
        "- Finally, get the linear regression function and assign it to the variable **pol_reg**."
      ]
    },
    {
      "cell_type": "code",
      "execution_count": null,
      "metadata": {
        "id": "F3kg9GZxpKu_"
      },
      "outputs": [],
      "source": [
        "from sklearn.preprocessing import PolynomialFeatures\n",
        "poly_reg = PolynomialFeatures(degree = 4)\n",
        "X_poly = poly_reg.fit_transform(X)\n",
        "pol_reg = LinearRegression()"
      ]
    },
    {
      "cell_type": "markdown",
      "metadata": {
        "id": "FWqds4oYqfbF"
      },
      "source": [
        "- Let's fit the linear model using X_poly as a feature and y as the target variable."
      ]
    },
    {
      "cell_type": "code",
      "execution_count": null,
      "metadata": {
        "colab": {
          "base_uri": "https://localhost:8080/",
          "height": 75
        },
        "collapsed": true,
        "id": "SGfUOTD2qu1i",
        "jupyter": {
          "outputs_hidden": true
        },
        "outputId": "411d55f4-e14b-4f4f-c573-cce8bfc9855e"
      },
      "outputs": [
        {
          "data": {
            "text/html": [
              "<style>#sk-container-id-2 {color: black;background-color: white;}#sk-container-id-2 pre{padding: 0;}#sk-container-id-2 div.sk-toggleable {background-color: white;}#sk-container-id-2 label.sk-toggleable__label {cursor: pointer;display: block;width: 100%;margin-bottom: 0;padding: 0.3em;box-sizing: border-box;text-align: center;}#sk-container-id-2 label.sk-toggleable__label-arrow:before {content: \"▸\";float: left;margin-right: 0.25em;color: #696969;}#sk-container-id-2 label.sk-toggleable__label-arrow:hover:before {color: black;}#sk-container-id-2 div.sk-estimator:hover label.sk-toggleable__label-arrow:before {color: black;}#sk-container-id-2 div.sk-toggleable__content {max-height: 0;max-width: 0;overflow: hidden;text-align: left;background-color: #f0f8ff;}#sk-container-id-2 div.sk-toggleable__content pre {margin: 0.2em;color: black;border-radius: 0.25em;background-color: #f0f8ff;}#sk-container-id-2 input.sk-toggleable__control:checked~div.sk-toggleable__content {max-height: 200px;max-width: 100%;overflow: auto;}#sk-container-id-2 input.sk-toggleable__control:checked~label.sk-toggleable__label-arrow:before {content: \"▾\";}#sk-container-id-2 div.sk-estimator input.sk-toggleable__control:checked~label.sk-toggleable__label {background-color: #d4ebff;}#sk-container-id-2 div.sk-label input.sk-toggleable__control:checked~label.sk-toggleable__label {background-color: #d4ebff;}#sk-container-id-2 input.sk-hidden--visually {border: 0;clip: rect(1px 1px 1px 1px);clip: rect(1px, 1px, 1px, 1px);height: 1px;margin: -1px;overflow: hidden;padding: 0;position: absolute;width: 1px;}#sk-container-id-2 div.sk-estimator {font-family: monospace;background-color: #f0f8ff;border: 1px dotted black;border-radius: 0.25em;box-sizing: border-box;margin-bottom: 0.5em;}#sk-container-id-2 div.sk-estimator:hover {background-color: #d4ebff;}#sk-container-id-2 div.sk-parallel-item::after {content: \"\";width: 100%;border-bottom: 1px solid gray;flex-grow: 1;}#sk-container-id-2 div.sk-label:hover label.sk-toggleable__label {background-color: #d4ebff;}#sk-container-id-2 div.sk-serial::before {content: \"\";position: absolute;border-left: 1px solid gray;box-sizing: border-box;top: 0;bottom: 0;left: 50%;z-index: 0;}#sk-container-id-2 div.sk-serial {display: flex;flex-direction: column;align-items: center;background-color: white;padding-right: 0.2em;padding-left: 0.2em;position: relative;}#sk-container-id-2 div.sk-item {position: relative;z-index: 1;}#sk-container-id-2 div.sk-parallel {display: flex;align-items: stretch;justify-content: center;background-color: white;position: relative;}#sk-container-id-2 div.sk-item::before, #sk-container-id-2 div.sk-parallel-item::before {content: \"\";position: absolute;border-left: 1px solid gray;box-sizing: border-box;top: 0;bottom: 0;left: 50%;z-index: -1;}#sk-container-id-2 div.sk-parallel-item {display: flex;flex-direction: column;z-index: 1;position: relative;background-color: white;}#sk-container-id-2 div.sk-parallel-item:first-child::after {align-self: flex-end;width: 50%;}#sk-container-id-2 div.sk-parallel-item:last-child::after {align-self: flex-start;width: 50%;}#sk-container-id-2 div.sk-parallel-item:only-child::after {width: 0;}#sk-container-id-2 div.sk-dashed-wrapped {border: 1px dashed gray;margin: 0 0.4em 0.5em 0.4em;box-sizing: border-box;padding-bottom: 0.4em;background-color: white;}#sk-container-id-2 div.sk-label label {font-family: monospace;font-weight: bold;display: inline-block;line-height: 1.2em;}#sk-container-id-2 div.sk-label-container {text-align: center;}#sk-container-id-2 div.sk-container {/* jupyter's `normalize.less` sets `[hidden] { display: none; }` but bootstrap.min.css set `[hidden] { display: none !important; }` so we also need the `!important` here to be able to override the default hidden behavior on the sphinx rendered scikit-learn.org. See: https://github.com/scikit-learn/scikit-learn/issues/21755 */display: inline-block !important;position: relative;}#sk-container-id-2 div.sk-text-repr-fallback {display: none;}</style><div id=\"sk-container-id-2\" class=\"sk-top-container\"><div class=\"sk-text-repr-fallback\"><pre>LinearRegression()</pre><b>In a Jupyter environment, please rerun this cell to show the HTML representation or trust the notebook. <br />On GitHub, the HTML representation is unable to render, please try loading this page with nbviewer.org.</b></div><div class=\"sk-container\" hidden><div class=\"sk-item\"><div class=\"sk-estimator sk-toggleable\"><input class=\"sk-toggleable__control sk-hidden--visually\" id=\"sk-estimator-id-2\" type=\"checkbox\" checked><label for=\"sk-estimator-id-2\" class=\"sk-toggleable__label sk-toggleable__label-arrow\">LinearRegression</label><div class=\"sk-toggleable__content\"><pre>LinearRegression()</pre></div></div></div></div></div>"
            ],
            "text/plain": [
              "LinearRegression()"
            ]
          },
          "execution_count": 11,
          "metadata": {},
          "output_type": "execute_result"
        }
      ],
      "source": [
        "pol_reg.fit(X_poly, y)"
      ]
    },
    {
      "cell_type": "markdown",
      "metadata": {
        "id": "Sy74hjTQV8C_"
      },
      "source": [
        "__Observation:__\n",
        "- We have fitted the polynomial regression to the given data."
      ]
    },
    {
      "cell_type": "markdown",
      "metadata": {
        "id": "MAb8c_sfrDrh"
      },
      "source": [
        "- Let's create a different function for the polynomial regression.\n",
        "- Polynomial regression is used when the data points do not fit the linear model."
      ]
    },
    {
      "cell_type": "code",
      "execution_count": null,
      "metadata": {
        "id": "RXLfE2ZwrVoJ"
      },
      "outputs": [],
      "source": [
        "def viz_polynomial():\n",
        "  plt.scatter(X, y, color = 'red')\n",
        "  plt.plot(X, pol_reg.predict(poly_reg.fit_transform(X)), color='blue')\n",
        "  plt.title('Linear regression with polynomial with degree 4')\n",
        "  plt.xlabel('Position level')\n",
        "  plt.ylabel('Salary')\n",
        "  plt.show()\n",
        "  return"
      ]
    },
    {
      "cell_type": "markdown",
      "metadata": {
        "id": "5s_hWqdEqAvN"
      },
      "source": [
        "- Now, call the function to get the scatter plot with the blue line showing how the fitted line covers the given data points."
      ]
    },
    {
      "cell_type": "code",
      "execution_count": null,
      "metadata": {
        "colab": {
          "base_uri": "https://localhost:8080/",
          "height": 472
        },
        "id": "xIy4UTrgq0cF",
        "outputId": "16d9249f-e42e-4159-8537-50461100f890"
      },
      "outputs": [
        {
          "data": {
            "image/png": "[encoded data removed]",
            "text/plain": [
              "<Figure size 640x480 with 1 Axes>"
            ]
          },
          "metadata": {},
          "output_type": "display_data"
        }
      ],
      "source": [
        "viz_polynomial()"
      ]
    },
    {
      "cell_type": "markdown",
      "metadata": {
        "id": "s9F8TGA6wD9B"
      },
      "source": [
        "__Observation:__\n",
        "\n",
        "- As you can see, the regression line is able to fit the majority of the data points."
      ]
    },
    {
      "cell_type": "markdown",
      "metadata": {
        "id": "TafTGJlL0zqu"
      },
      "source": [
        "- Now, let's try to predict one value using the predict function."
      ]
    },
    {
      "cell_type": "code",
      "execution_count": null,
      "metadata": {
        "colab": {
          "base_uri": "https://localhost:8080/"
        },
        "id": "ec1Fu_ukvrEV",
        "outputId": "ee7ade6b-0af7-4d66-dd09-d4f4a6c1e24e"
      },
      "outputs": [
        {
          "data": {
            "text/plain": [
              "array([249500.])"
            ]
          },
          "execution_count": 17,
          "metadata": {},
          "output_type": "execute_result"
        }
      ],
      "source": [
        "lin_reg.predict([[5.5]])"
      ]
    },
    {
      "cell_type": "markdown",
      "metadata": {
        "id": "nOqxjzf9yToj"
      },
      "source": [
        "__Observation:__\n",
        "- If you had used the linear regression model, the output would have been 249500."
      ]
    },
    {
      "cell_type": "code",
      "execution_count": null,
      "metadata": {
        "colab": {
          "base_uri": "https://localhost:8080/"
        },
        "id": "gZ-lOXe2Rb94",
        "outputId": "cd0f1da0-cd03-4091-9506-9c5612b2d4c3"
      },
      "outputs": [
        {
          "data": {
            "text/plain": [
              "array([132148.43750002])"
            ]
          },
          "execution_count": 23,
          "metadata": {},
          "output_type": "execute_result"
        }
      ],
      "source": [
        "pol_reg.predict(poly_reg.fit_transform([[5.5]]))"
      ]
    },
    {
      "cell_type": "markdown",
      "metadata": {
        "id": "5ysmelqPSU79"
      },
      "source": [
        "__Observations:__\n",
        "- From the above two outputs, it is clear that there is a difference between the two predictions.\n",
        "\n",
        "- Hence, we can infer that non-linear inputs require non-linear models, such as the polynomial model."
      ]
    },
    {
      "cell_type": "markdown",
      "source": [
        "##__Ridge Regression__\n",
        "In this demo, let's see how to implement ridge regression, also called regularization."
      ],
      "metadata": {
        "id": "FhS4n-Df0GR4"
      }
    },
    {
      "cell_type": "markdown",
      "source": [
        "## Step 4: Import the Required Libraries and Perform Basic EDA\n",
        "- First, import the libraries."
      ],
      "metadata": {
        "id": "jZk4HeTy0Ktf"
      }
    },
    {
      "cell_type": "code",
      "source": [
        "import pandas as pd\n",
        "import numpy as np\n",
        "from sklearn.model_selection import train_test_split, cross_val_score, RepeatedKFold\n",
        "from sklearn.linear_model import Ridge\n",
        "from sklearn.metrics import mean_squared_error, r2_score"
      ],
      "metadata": {
        "id": "pSTb4I-30WW5"
      },
      "execution_count": null,
      "outputs": []
    },
    {
      "cell_type": "markdown",
      "source": [
        "- Import the data set **housing.csv** and read it.\n",
        "- Show the first 5 rows of the dataset."
      ],
      "metadata": {
        "id": "_vTcxaDR0cGp"
      }
    },
    {
      "cell_type": "code",
      "source": [
        "df= pd.read_csv('housing.csv')\n",
        "df.head()"
      ],
      "metadata": {
        "id": "CXXcVh_l0h8X"
      },
      "execution_count": null,
      "outputs": []
    },
    {
      "cell_type": "markdown",
      "source": [
        "__Observations:__\n",
        "\n",
        "- This is the head of the data.\n",
        "- The column **MEDV** is the target variable."
      ],
      "metadata": {
        "id": "-4wi2jkC1XcL"
      }
    },
    {
      "cell_type": "markdown",
      "source": [
        "- Let's get the information about the data."
      ],
      "metadata": {
        "id": "nKsPGOpQ1hPC"
      }
    },
    {
      "cell_type": "code",
      "source": [
        "df.info()"
      ],
      "metadata": {
        "id": "GvysuG0X1iFN"
      },
      "execution_count": null,
      "outputs": []
    },
    {
      "cell_type": "markdown",
      "source": [
        "## Step 5: Fit the Ridge Model for the Given Data and Find the Alpha Value"
      ],
      "metadata": {
        "id": "GQtTvQFh1nsn"
      }
    },
    {
      "cell_type": "markdown",
      "source": [
        "- Now, let us define the dependent and independent variables."
      ],
      "metadata": {
        "id": "Qs_0OXOI1qg3"
      }
    },
    {
      "cell_type": "code",
      "source": [
        "X = df.drop(['MEDV'], axis = 1)\n",
        "y = df['MEDV']"
      ],
      "metadata": {
        "id": "RrH0Ru2A1rSC"
      },
      "execution_count": null,
      "outputs": []
    },
    {
      "cell_type": "markdown",
      "source": [
        "- Let us split the data using **train_test_split**."
      ],
      "metadata": {
        "id": "7m9hsV1f1vWx"
      }
    },
    {
      "cell_type": "code",
      "source": [
        "X_train, X_test, y_train, y_test = train_test_split(X, y, test_size = 0.25, random_state = 42)"
      ],
      "metadata": {
        "id": "JmaE9sGw1zq0"
      },
      "execution_count": null,
      "outputs": []
    },
    {
      "cell_type": "markdown",
      "source": [
        "- Let's fit the model and check what the intercept value is."
      ],
      "metadata": {
        "id": "c3tGn4Ue1128"
      }
    },
    {
      "cell_type": "code",
      "source": [
        "Ridge_model = Ridge(alpha=1).fit(X_train, y_train)\n",
        "Ridge_model.intercept_"
      ],
      "metadata": {
        "id": "iOxpS1o_15Pp"
      },
      "execution_count": null,
      "outputs": []
    },
    {
      "cell_type": "markdown",
      "source": [
        "__Observation:__\n",
        "- The intercept value for the Ridge model is 24.8."
      ],
      "metadata": {
        "id": "v8J7WrIH1_6z"
      }
    },
    {
      "cell_type": "markdown",
      "source": [
        "- The following code calculates the root mean squared error (RMSE) of the testing data:"
      ],
      "metadata": {
        "id": "83qDs4Gc2DjI"
      }
    },
    {
      "cell_type": "code",
      "source": [
        "y_pred = Ridge_model.predict(X_test)\n",
        "np.sqrt(mean_squared_error(y_test, y_pred))"
      ],
      "metadata": {
        "id": "kOI9-V6F2GT-"
      },
      "execution_count": null,
      "outputs": []
    },
    {
      "cell_type": "markdown",
      "source": [
        "__Observation:__\n",
        "- The RMSE value is 4.74."
      ],
      "metadata": {
        "id": "DquZHFTV2Jxl"
      }
    },
    {
      "cell_type": "markdown",
      "source": [
        "- Let's check the coefficient of the model and the R2 score."
      ],
      "metadata": {
        "id": "MNevyi4-2MRO"
      }
    },
    {
      "cell_type": "code",
      "source": [
        "Ridge_model.coef_"
      ],
      "metadata": {
        "id": "RqQrinwY2PM6"
      },
      "execution_count": null,
      "outputs": []
    },
    {
      "cell_type": "code",
      "source": [
        "r2_score(y_test, y_pred)"
      ],
      "metadata": {
        "id": "Gk-rcpg12RL1"
      },
      "execution_count": null,
      "outputs": []
    },
    {
      "cell_type": "markdown",
      "source": [
        "__Observations:__\n",
        "- The given model is a moderate fit for the given data."
      ],
      "metadata": {
        "id": "8qmrR3GD2TvA"
      }
    },
    {
      "cell_type": "code",
      "source": [
        "from sklearn.model_selection import GridSearchCV\n",
        "cv = RepeatedKFold(n_splits =10, n_repeats =3, random_state =1)\n",
        "grid = dict()\n",
        "grid['alpha'] = np.arange(0,1,0.1)\n",
        "model = Ridge()\n",
        "search = GridSearchCV(model, grid, scoring = 'neg_mean_absolute_error',cv = cv, n_jobs= -1)\n",
        "\n",
        "results = search.fit(X_train, y_train)\n",
        "print('MAE: %.3f' % results.best_score_)\n",
        "print('Config: %s' % results.best_params_)"
      ],
      "metadata": {
        "id": "86UAaDQ02Wpo"
      },
      "execution_count": null,
      "outputs": []
    },
    {
      "cell_type": "markdown",
      "source": [
        "__Observation:__\n",
        "\n",
        "- As you can see from the output, the score is **-3.5**, and the configuration fusion alpha is **0.7**."
      ],
      "metadata": {
        "id": "3RBzrRZs2lnx"
      }
    },
    {
      "cell_type": "markdown",
      "source": [
        "- Let's fit this with alpha points and try to predict."
      ],
      "metadata": {
        "id": "Y4HQ3wAO2pQF"
      }
    },
    {
      "cell_type": "code",
      "source": [
        "Ridge_model = Ridge (alpha = 0.7).fit(X_train, y_train)\n",
        "y_pred = Ridge_model.predict(X_test)\n",
        "np.sqrt(mean_squared_error(y_test, y_pred))"
      ],
      "metadata": {
        "id": "OIlZePAk2uqN"
      },
      "execution_count": null,
      "outputs": []
    },
    {
      "cell_type": "code",
      "source": [
        "r2_score(y_test,y_pred)"
      ],
      "metadata": {
        "id": "9kpfJROH25BR"
      },
      "execution_count": null,
      "outputs": []
    },
    {
      "cell_type": "markdown",
      "source": [
        "__Observation:__\n",
        "- The r2 score is 0.68, which means it is a moderate fit for the given data."
      ],
      "metadata": {
        "id": "BT2VYAba2-Zl"
      }
    },
    {
      "cell_type": "markdown",
      "source": [
        "- Let's check the coefficient of the ridge regression."
      ],
      "metadata": {
        "id": "KJIgHdrb3B5k"
      }
    },
    {
      "cell_type": "code",
      "source": [
        "pd.Series(Ridge_model.coef_, index = X_train.columns)"
      ],
      "metadata": {
        "id": "xbjpwKgd3GZp"
      },
      "execution_count": null,
      "outputs": []
    },
    {
      "cell_type": "markdown",
      "source": [
        "__Observation:__\n",
        "\n",
        "- A lot of penalization has occurred, as you can see in the negative values as well."
      ],
      "metadata": {
        "id": "YuGWJq-H3xRH"
      }
    },
    {
      "cell_type": "markdown",
      "source": [
        "## __Data Preparation, Model Building, and Performance Evaluation__\n",
        "In this section, let's understand lasso regression and its benefits.\n",
        "\n",
        "*   Lasso regression is used in the selection of features and the removal of automated variables.\n",
        "*   Typically, this approach is used in machine learning to choose the subset of variables.\n",
        "* The coefficients in a lasso regression are zero."
      ],
      "metadata": {
        "id": "u-IlfDC-4h3j"
      }
    },
    {
      "cell_type": "markdown",
      "source": [
        "# Step 6: Import Required Libraries\n",
        "\n",
        "\n",
        "*   Import package NumPy as np\n",
        "*   Import package pandas as pd\n",
        "*   Import package sklearn\n",
        "*   Import package matplotlib as plt"
      ],
      "metadata": {
        "id": "i1IE6Bz-4svg"
      }
    },
    {
      "cell_type": "code",
      "source": [
        "import numpy as np\n",
        "import pandas as pd\n",
        "from sklearn.linear_model import Lasso\n",
        "from sklearn.model_selection import train_test_split, cross_val_score\n",
        "from sklearn.metrics import mean_squared_error, r2_score\n",
        "from sklearn.linear_model import LassoCV\n",
        "import matplotlib.pyplot as plt"
      ],
      "metadata": {
        "id": "UqOH5JuT4tkK"
      },
      "execution_count": null,
      "outputs": []
    },
    {
      "cell_type": "markdown",
      "source": [
        "# Step 7: Load the Datasets\n",
        "- We will now read the **Hitters.csv** dataset.\n",
        "- Let us now check the head of the data."
      ],
      "metadata": {
        "id": "Y-cy3UIW5eCw"
      }
    },
    {
      "cell_type": "code",
      "source": [
        "df = pd.read_csv('Hitters.csv')\n",
        "df.head()"
      ],
      "metadata": {
        "id": "AiuXatex5gHm"
      },
      "execution_count": null,
      "outputs": []
    },
    {
      "cell_type": "markdown",
      "source": [
        "**Observation**\n",
        "\n",
        "- The above output shows the head of the data."
      ],
      "metadata": {
        "id": "XQlvvo8b5jvX"
      }
    },
    {
      "cell_type": "code",
      "source": [
        "df.info()"
      ],
      "metadata": {
        "id": "2WOybT4a5yaY"
      },
      "execution_count": null,
      "outputs": []
    },
    {
      "cell_type": "markdown",
      "source": [
        "**Observations**\n",
        "- Overall, it includes 322 observations and 22 columns.\n",
        "- Notice that there are no values in **Salary**."
      ],
      "metadata": {
        "id": "kkBhMBvI6R9l"
      }
    },
    {
      "cell_type": "markdown",
      "source": [
        "# Step 8: Replace the Missing Values with Median\n",
        "- As seen, the **Salary** field has null values.\n",
        "- Let's now use the median to replace the null values."
      ],
      "metadata": {
        "id": "0yNRCGkt6Zp-"
      }
    },
    {
      "cell_type": "code",
      "source": [
        "df['Salary'].fillna(df['Salary'].median(skipna=True), inplace=True)\n",
        "df.isna().sum()"
      ],
      "metadata": {
        "id": "p8AJUJyv9GSi"
      },
      "execution_count": null,
      "outputs": []
    },
    {
      "cell_type": "markdown",
      "source": [
        "**Observation**\n",
        "- As shown, it is quite clear from the output that the missing values have been replaced."
      ],
      "metadata": {
        "id": "iwnVUX799tuy"
      }
    },
    {
      "cell_type": "markdown",
      "source": [
        "# Step 9: Prepare Data for a Categorical Model\n",
        "- Create a dummy variable.\n",
        "- Convert Division and NewLeague into dummy variables."
      ],
      "metadata": {
        "id": "WeyU9MS-9wNt"
      }
    },
    {
      "cell_type": "code",
      "source": [
        "dms = pd.get_dummies(df[['League', 'Division', 'NewLeague']], drop_first=True)\n",
        "y = df['Salary']\n",
        "x_ = df.drop(['Unnamed: 0', 'Salary', 'League', 'Division', 'NewLeague'], axis =1).astype('float64')\n",
        "X = pd.concat([x_, dms[['League_N', 'Division_W', 'NewLeague_N']]], axis =1)"
      ],
      "metadata": {
        "id": "asxVX8Bo9zrV"
      },
      "execution_count": null,
      "outputs": []
    },
    {
      "cell_type": "markdown",
      "source": [
        "#Step 10: Create X and y Variables\n",
        "- Create the X and y variables\n",
        "- Split the data into train and test sets"
      ],
      "metadata": {
        "id": "tjfC3Utd-GQx"
      }
    },
    {
      "cell_type": "code",
      "source": [
        "X_train, x_test, y_train, y_test = train_test_split(X, y, test_size=0.25, random_state=42)"
      ],
      "metadata": {
        "id": "ah_uMzLp-Ik8"
      },
      "execution_count": null,
      "outputs": []
    },
    {
      "cell_type": "markdown",
      "source": [
        "# Step 11: Create a Lasso Model\n"
      ],
      "metadata": {
        "id": "Tmf0DubT-K-o"
      }
    },
    {
      "cell_type": "code",
      "source": [
        "lasso_model = Lasso(alpha=0.1, max_iter=10000).fit(X_train, y_train)\n",
        "lasso_model.intercept_"
      ],
      "metadata": {
        "id": "raXtSmcp-Sk2"
      },
      "execution_count": null,
      "outputs": []
    },
    {
      "cell_type": "markdown",
      "source": [
        "**Observation**\n",
        "- The intercept value is 344."
      ],
      "metadata": {
        "id": "7GRC8RuF-U6F"
      }
    },
    {
      "cell_type": "markdown",
      "source": [
        "Let's find the coefficient."
      ],
      "metadata": {
        "id": "2i2QatHL-XNQ"
      }
    },
    {
      "cell_type": "code",
      "source": [
        "lasso_model.coef_"
      ],
      "metadata": {
        "id": "QH63x09y-aNp"
      },
      "execution_count": null,
      "outputs": []
    },
    {
      "cell_type": "markdown",
      "source": [
        "**Observation**\n",
        "- In lasso regression, the attribute will be used, and it is evident that the last attribute, NewLeague, has been penalized to zero."
      ],
      "metadata": {
        "id": "FX-wPDzs-hmr"
      }
    },
    {
      "cell_type": "markdown",
      "source": [
        "# Step 12: Test the Lasso Model and Make Predictions\n",
        "- Let's try to optimize.\n",
        "- Before that, check RMSE and R2 scores."
      ],
      "metadata": {
        "id": "sOUX-Gr6-kwy"
      }
    },
    {
      "cell_type": "code",
      "source": [
        "y_pred = lasso_model.predict(x_test)\n",
        "np.sqrt(mean_squared_error(y_test, y_pred))"
      ],
      "metadata": {
        "id": "nRFjEtvy-nva"
      },
      "execution_count": null,
      "outputs": []
    },
    {
      "cell_type": "markdown",
      "source": [
        "**Observation**\n",
        "- RMSE is 345.61."
      ],
      "metadata": {
        "id": "KvtYnXl4-qdr"
      }
    },
    {
      "cell_type": "code",
      "source": [
        "r2_score(y_test, y_pred)"
      ],
      "metadata": {
        "id": "PHeqs1Qd-swW"
      },
      "execution_count": null,
      "outputs": []
    },
    {
      "cell_type": "markdown",
      "source": [
        "**Observation**\n",
        "- r2 score is 0.36."
      ],
      "metadata": {
        "id": "x5t7YMVc-wEA"
      }
    },
    {
      "cell_type": "markdown",
      "source": [
        "Now, try to optimize using cross-validation."
      ],
      "metadata": {
        "id": "-7Rk1D2_-6fA"
      }
    },
    {
      "cell_type": "code",
      "source": [
        "lasso_cv_model = LassoCV(alphas = np.random.randint(0, 1000, 100), cv =10, max_iter=10000, n_jobs=-1).fit(X_train, y_train)"
      ],
      "metadata": {
        "id": "S-eSoMw7-822"
      },
      "execution_count": null,
      "outputs": []
    },
    {
      "cell_type": "markdown",
      "source": [
        "Let's check the best alpha value."
      ],
      "metadata": {
        "id": "3uPcRu-__EVj"
      }
    },
    {
      "cell_type": "code",
      "source": [
        "lasso_cv_model.alpha_"
      ],
      "metadata": {
        "id": "JSkyPcAF_JjL"
      },
      "execution_count": null,
      "outputs": []
    },
    {
      "cell_type": "markdown",
      "source": [
        "**Observation**\n",
        "- As you can see here, 13 is the best alpha value that we got from cross-validation."
      ],
      "metadata": {
        "id": "rEiv372-_Mka"
      }
    },
    {
      "cell_type": "markdown",
      "source": [
        "Let's use the best alpha value, and see if we can tune it."
      ],
      "metadata": {
        "id": "g1iUHAJT_PRb"
      }
    },
    {
      "cell_type": "code",
      "source": [
        "lasso_tuned = Lasso(alpha=0.1, max_iter=10000).fit(X_train, y_train)\n",
        "y_pred_tuned = lasso_tuned.predict(x_test)\n",
        "np.sqrt(mean_squared_error(y_test, y_pred_tuned))"
      ],
      "metadata": {
        "id": "hnCdMl-H_RKw"
      },
      "execution_count": null,
      "outputs": []
    },
    {
      "cell_type": "markdown",
      "source": [
        "**Observations**\n",
        "- As you can see above, RMSEs are more.\n",
        "- It has increased by 1%."
      ],
      "metadata": {
        "id": "9bYGU9bm_UDK"
      }
    },
    {
      "cell_type": "markdown",
      "source": [
        "Now, let's find the coefficient of the tuned model."
      ],
      "metadata": {
        "id": "sW9K83o7_YxQ"
      }
    },
    {
      "cell_type": "code",
      "source": [
        "pd.Series(lasso_tuned.coef_, index=X_train.columns)"
      ],
      "metadata": {
        "id": "Tvu1AJAF_bpo"
      },
      "execution_count": null,
      "outputs": []
    },
    {
      "cell_type": "markdown",
      "source": [
        "**Observations**\n",
        "- As compared with the normal lasso, you can see that it has penalized the other group attributes like League and RBI.\n",
        "- This is how the lasso regression will penalize."
      ],
      "metadata": {
        "id": "zNKSp9gB_eA-"
      }
    }
  ],
  "metadata": {
    "colab": {
      "provenance": []
    },
    "kernelspec": {
      "display_name": "Python 3 [3.10]",
      "language": "python",
      "name": "python3"
    },
    "language_info": {
      "codemirror_mode": {
        "name": "ipython",
        "version": 3
      },
      "file_extension": ".py",
      "mimetype": "text/x-python",
      "name": "python",
      "nbconvert_exporter": "python",
      "pygments_lexer": "ipython3",
      "version": "3.10.2"
    }
  },
  "nbformat": 4,
  "nbformat_minor": 0
}
{
 "cells": [
  {
   "cell_type": "markdown",
   "metadata": {
    "id": "94KkGsjleTnM"
   },
   "source": [
    "## **Visualizing Outputs**##\n"
   ]
  },
  {
   "cell_type": "markdown",
   "metadata": {
    "id": "FnHPgcF1zyuh"
   },
   "source": [
    "## Step 1: Import the Required Libraries and Load the Dataset\n",
    "\n",
    "- Import pandas and read the Pokemon\n",
    "- Filter the data set to include only Grass, Fire, and Water types\n"
   ]
  },
  {
   "cell_type": "code",
   "execution_count": 8,
   "metadata": {
    "colab": {
     "base_uri": "https://localhost:8080/",
     "height": 250
    },
    "executionInfo": {
     "elapsed": 1811,
     "status": "ok",
     "timestamp": 1682617979341,
     "user": {
      "displayName": "Sreelakshmi C V",
      "userId": "04477517605899898333"
     },
     "user_tz": -330
    },
    "id": "vM5zGDrda7hp",
    "outputId": "ad57d1df-4679-4a42-a860-b0fe8882eafe"
   },
   "outputs": [
    {
     "data": {
      "text/html": [
       "<div>\n",
       "<style scoped>\n",
       "    .dataframe tbody tr th:only-of-type {\n",
       "        vertical-align: middle;\n",
       "    }\n",
       "\n",
       "    .dataframe tbody tr th {\n",
       "        vertical-align: top;\n",
       "    }\n",
       "\n",
       "    .dataframe thead th {\n",
       "        text-align: right;\n",
       "    }\n",
       "</style>\n",
       "<table border=\"1\" class=\"dataframe\">\n",
       "  <thead>\n",
       "    <tr style=\"text-align: right;\">\n",
       "      <th></th>\n",
       "      <th>#</th>\n",
       "      <th>Name</th>\n",
       "      <th>Type 1</th>\n",
       "      <th>Type 2</th>\n",
       "      <th>Total</th>\n",
       "      <th>HP</th>\n",
       "      <th>Attack</th>\n",
       "      <th>Defense</th>\n",
       "      <th>Sp. Atk</th>\n",
       "      <th>Sp. Def</th>\n",
       "      <th>Speed</th>\n",
       "      <th>Generation</th>\n",
       "      <th>Legendary</th>\n",
       "    </tr>\n",
       "  </thead>\n",
       "  <tbody>\n",
       "    <tr>\n",
       "      <th>0</th>\n",
       "      <td>1</td>\n",
       "      <td>Bulbasaur</td>\n",
       "      <td>Grass</td>\n",
       "      <td>Poison</td>\n",
       "      <td>318</td>\n",
       "      <td>45</td>\n",
       "      <td>49</td>\n",
       "      <td>49</td>\n",
       "      <td>65</td>\n",
       "      <td>65</td>\n",
       "      <td>45</td>\n",
       "      <td>1</td>\n",
       "      <td>False</td>\n",
       "    </tr>\n",
       "    <tr>\n",
       "      <th>1</th>\n",
       "      <td>2</td>\n",
       "      <td>Ivysaur</td>\n",
       "      <td>Grass</td>\n",
       "      <td>Poison</td>\n",
       "      <td>405</td>\n",
       "      <td>60</td>\n",
       "      <td>62</td>\n",
       "      <td>63</td>\n",
       "      <td>80</td>\n",
       "      <td>80</td>\n",
       "      <td>60</td>\n",
       "      <td>1</td>\n",
       "      <td>False</td>\n",
       "    </tr>\n",
       "    <tr>\n",
       "      <th>2</th>\n",
       "      <td>3</td>\n",
       "      <td>Venusaur</td>\n",
       "      <td>Grass</td>\n",
       "      <td>Poison</td>\n",
       "      <td>525</td>\n",
       "      <td>80</td>\n",
       "      <td>82</td>\n",
       "      <td>83</td>\n",
       "      <td>100</td>\n",
       "      <td>100</td>\n",
       "      <td>80</td>\n",
       "      <td>1</td>\n",
       "      <td>False</td>\n",
       "    </tr>\n",
       "    <tr>\n",
       "      <th>3</th>\n",
       "      <td>3</td>\n",
       "      <td>VenusaurMega Venusaur</td>\n",
       "      <td>Grass</td>\n",
       "      <td>Poison</td>\n",
       "      <td>625</td>\n",
       "      <td>80</td>\n",
       "      <td>100</td>\n",
       "      <td>123</td>\n",
       "      <td>122</td>\n",
       "      <td>120</td>\n",
       "      <td>80</td>\n",
       "      <td>1</td>\n",
       "      <td>False</td>\n",
       "    </tr>\n",
       "    <tr>\n",
       "      <th>4</th>\n",
       "      <td>4</td>\n",
       "      <td>Charmander</td>\n",
       "      <td>Fire</td>\n",
       "      <td>NaN</td>\n",
       "      <td>309</td>\n",
       "      <td>39</td>\n",
       "      <td>52</td>\n",
       "      <td>43</td>\n",
       "      <td>60</td>\n",
       "      <td>50</td>\n",
       "      <td>65</td>\n",
       "      <td>1</td>\n",
       "      <td>False</td>\n",
       "    </tr>\n",
       "  </tbody>\n",
       "</table>\n",
       "</div>"
      ],
      "text/plain": [
       "   #                   Name Type 1  Type 2  Total  HP  Attack  Defense  \\\n",
       "0  1              Bulbasaur  Grass  Poison    318  45      49       49   \n",
       "1  2                Ivysaur  Grass  Poison    405  60      62       63   \n",
       "2  3               Venusaur  Grass  Poison    525  80      82       83   \n",
       "3  3  VenusaurMega Venusaur  Grass  Poison    625  80     100      123   \n",
       "4  4             Charmander   Fire     NaN    309  39      52       43   \n",
       "\n",
       "   Sp. Atk  Sp. Def  Speed  Generation  Legendary  \n",
       "0       65       65     45           1      False  \n",
       "1       80       80     60           1      False  \n",
       "2      100      100     80           1      False  \n",
       "3      122      120     80           1      False  \n",
       "4       60       50     65           1      False  "
      ]
     },
     "execution_count": 8,
     "metadata": {},
     "output_type": "execute_result"
    }
   ],
   "source": [
    "import pandas as pd\n",
    "df = pd.read_csv('pokemon.csv', encoding='unicode_escape')\n",
    "df.head()"
   ]
  },
  {
   "cell_type": "markdown",
   "metadata": {
    "id": "ZxIvuwxubZoK"
   },
   "source": [
    "__Observation:__\n",
    "- Here, we can see the output, which contains categorical variables."
   ]
  },
  {
   "cell_type": "code",
   "execution_count": 9,
   "metadata": {
    "colab": {
     "base_uri": "https://localhost:8080/",
     "height": 206
    },
    "executionInfo": {
     "elapsed": 6,
     "status": "ok",
     "timestamp": 1682619388703,
     "user": {
      "displayName": "Sreelakshmi C V",
      "userId": "04477517605899898333"
     },
     "user_tz": -330
    },
    "id": "qlZLJHk-qjlU",
    "outputId": "6e1a0772-46a4-46f3-b6c3-6c1f92129978"
   },
   "outputs": [
    {
     "data": {
      "text/html": [
       "<div>\n",
       "<style scoped>\n",
       "    .dataframe tbody tr th:only-of-type {\n",
       "        vertical-align: middle;\n",
       "    }\n",
       "\n",
       "    .dataframe tbody tr th {\n",
       "        vertical-align: top;\n",
       "    }\n",
       "\n",
       "    .dataframe thead th {\n",
       "        text-align: right;\n",
       "    }\n",
       "</style>\n",
       "<table border=\"1\" class=\"dataframe\">\n",
       "  <thead>\n",
       "    <tr style=\"text-align: right;\">\n",
       "      <th></th>\n",
       "      <th>#</th>\n",
       "      <th>Name</th>\n",
       "      <th>Total</th>\n",
       "      <th>HP</th>\n",
       "      <th>Attack</th>\n",
       "      <th>Defense</th>\n",
       "      <th>Sp. Atk</th>\n",
       "      <th>Sp. Def</th>\n",
       "      <th>Speed</th>\n",
       "    </tr>\n",
       "  </thead>\n",
       "  <tbody>\n",
       "    <tr>\n",
       "      <th>0</th>\n",
       "      <td>1</td>\n",
       "      <td>Bulbasaur</td>\n",
       "      <td>318</td>\n",
       "      <td>45</td>\n",
       "      <td>49</td>\n",
       "      <td>49</td>\n",
       "      <td>65</td>\n",
       "      <td>65</td>\n",
       "      <td>45</td>\n",
       "    </tr>\n",
       "    <tr>\n",
       "      <th>1</th>\n",
       "      <td>2</td>\n",
       "      <td>Ivysaur</td>\n",
       "      <td>405</td>\n",
       "      <td>60</td>\n",
       "      <td>62</td>\n",
       "      <td>63</td>\n",
       "      <td>80</td>\n",
       "      <td>80</td>\n",
       "      <td>60</td>\n",
       "    </tr>\n",
       "    <tr>\n",
       "      <th>2</th>\n",
       "      <td>3</td>\n",
       "      <td>Venusaur</td>\n",
       "      <td>525</td>\n",
       "      <td>80</td>\n",
       "      <td>82</td>\n",
       "      <td>83</td>\n",
       "      <td>100</td>\n",
       "      <td>100</td>\n",
       "      <td>80</td>\n",
       "    </tr>\n",
       "    <tr>\n",
       "      <th>3</th>\n",
       "      <td>3</td>\n",
       "      <td>VenusaurMega Venusaur</td>\n",
       "      <td>625</td>\n",
       "      <td>80</td>\n",
       "      <td>100</td>\n",
       "      <td>123</td>\n",
       "      <td>122</td>\n",
       "      <td>120</td>\n",
       "      <td>80</td>\n",
       "    </tr>\n",
       "    <tr>\n",
       "      <th>4</th>\n",
       "      <td>4</td>\n",
       "      <td>Charmander</td>\n",
       "      <td>309</td>\n",
       "      <td>39</td>\n",
       "      <td>52</td>\n",
       "      <td>43</td>\n",
       "      <td>60</td>\n",
       "      <td>50</td>\n",
       "      <td>65</td>\n",
       "    </tr>\n",
       "  </tbody>\n",
       "</table>\n",
       "</div>"
      ],
      "text/plain": [
       "   #                   Name  Total  HP  Attack  Defense  Sp. Atk  Sp. Def  \\\n",
       "0  1              Bulbasaur    318  45      49       49       65       65   \n",
       "1  2                Ivysaur    405  60      62       63       80       80   \n",
       "2  3               Venusaur    525  80      82       83      100      100   \n",
       "3  3  VenusaurMega Venusaur    625  80     100      123      122      120   \n",
       "4  4             Charmander    309  39      52       43       60       50   \n",
       "\n",
       "   Speed  \n",
       "0     45  \n",
       "1     60  \n",
       "2     80  \n",
       "3     80  \n",
       "4     65  "
      ]
     },
     "execution_count": 9,
     "metadata": {},
     "output_type": "execute_result"
    }
   ],
   "source": [
    "import pandas as pd\n",
    "df = pd.read_csv('pokemon.csv', encoding='unicode_escape')\n",
    "df.head()\n",
    "types = df['Type 1'].isin(['Grass', 'Fire', 'Water'])\n",
    "drop_cols = ['Type 1', 'Type 2', 'Generation', 'Legendary']\n",
    "df = df[types].drop(columns = drop_cols)\n",
    "df.head()"
   ]
  },
  {
   "cell_type": "markdown",
   "metadata": {
    "id": "ovfWVe-jcDS5"
   },
   "source": [
    "__Observation:__ \n",
    "- We can see that the categorical variable has been dropped."
   ]
  },
  {
   "cell_type": "markdown",
   "metadata": {
    "id": "vHT5_n_Dz2H0"
   },
   "source": [
    "## Step 2: Create a K-Means Cluster\n",
    "\n",
    "- Import K-Means from sklearn.cluster\n",
    "- Fit the data set to the Attack and Defense columns and assign cluster labels\n",
    "- Create a centroid so that we will know the exact centroid points for each cluster\n",
    "- Add centroids and color information to the DataFrame\n"
   ]
  },
  {
   "cell_type": "code",
   "execution_count": 10,
   "metadata": {
    "colab": {
     "base_uri": "https://localhost:8080/"
    },
    "executionInfo": {
     "elapsed": 3,
     "status": "ok",
     "timestamp": 1682619394662,
     "user": {
      "displayName": "Sreelakshmi C V",
      "userId": "04477517605899898333"
     },
     "user_tz": -330
    },
    "id": "gtUJUVvnqjlX",
    "outputId": "ddf9a7c0-5aaa-437e-cc0b-b600f6bb7070"
   },
   "outputs": [
    {
     "name": "stderr",
     "output_type": "stream",
     "text": [
      "/usr/local/lib/python3.10/site-packages/sklearn/cluster/_kmeans.py:870: FutureWarning: The default value of `n_init` will change from 10 to 'auto' in 1.4. Set the value of `n_init` explicitly to suppress the warning\n",
      "  warnings.warn(\n"
     ]
    }
   ],
   "source": [
    "from sklearn.cluster import KMeans\n",
    "import numpy as np\n",
    "kmeans = KMeans(n_clusters=3, random_state=0)\n",
    "df['cluster'] = kmeans.fit_predict(df[['Attack', 'Defense']])\n",
    "centroids = kmeans.cluster_centers_\n",
    "cen_x = [i[0] for i in centroids] \n",
    "cen_y = [i[1] for i in centroids]\n",
    "df['cen_x'] = df.cluster.map({0:cen_x[0], 1:cen_x[1], 2:cen_x[2]})\n",
    "df['cen_y'] = df.cluster.map({0:cen_y[0], 1:cen_y[1], 2:cen_y[2]})\n",
    "colors = ['#DF2020', '#81DF20', '#2095DF']\n",
    "df['c'] = df.cluster.map({0:colors[0], 1:colors[1], 2:colors[2]})"
   ]
  },
  {
   "cell_type": "markdown",
   "metadata": {
    "id": "zOGFwUEvz5yM"
   },
   "source": [
    "## Step 3: Create Scatter Plots\n",
    "\n",
    "- Create a scatter plot with Attack and Defense as x and y axes\n",
    "- Create a scatter plot with Attack and Defense as x and y axes and speed as size\n"
   ]
  },
  {
   "cell_type": "code",
   "execution_count": 11,
   "metadata": {
    "colab": {
     "base_uri": "https://localhost:8080/",
     "height": 447
    },
    "executionInfo": {
     "elapsed": 2236,
     "status": "ok",
     "timestamp": 1682618073460,
     "user": {
      "displayName": "Sreelakshmi C V",
      "userId": "04477517605899898333"
     },
     "user_tz": -330
    },
    "id": "2hv2mgySqjlX",
    "outputId": "17edd6f8-7ba0-472a-9b23-1b14a7100a03"
   },
   "outputs": [
    {
     "data": {
      "text/plain": [
       "<matplotlib.collections.PathCollection at 0x7ff947490a00>"
      ]
     },
     "execution_count": 11,
     "metadata": {},
     "output_type": "execute_result"
    },
    {
     "data": {
      "image/png": "[encoded data removed]",
      "text/plain": [
       "<Figure size 432x288 with 1 Axes>"
      ]
     },
     "metadata": {
      "needs_background": "light"
     },
     "output_type": "display_data"
    }
   ],
   "source": [
    "import matplotlib.pyplot as plt\n",
    "%matplotlib inline\n",
    "plt.scatter(df.Attack, df.Defense, c=df.c, alpha = 0.6, s=10)"
   ]
  },
  {
   "cell_type": "markdown",
   "metadata": {
    "id": "EwjlOZ1l2rvv"
   },
   "source": [
    "__Observations:__\n",
    "- Cluster output with K = 3\n",
    "- We can see that there are three different clusters with three different colors."
   ]
  },
  {
   "cell_type": "code",
   "execution_count": 12,
   "metadata": {
    "colab": {
     "base_uri": "https://localhost:8080/",
     "height": 447
    },
    "executionInfo": {
     "elapsed": 2164,
     "status": "ok",
     "timestamp": 1682618427918,
     "user": {
      "displayName": "Sreelakshmi C V",
      "userId": "04477517605899898333"
     },
     "user_tz": -330
    },
    "id": "cqfCGBlOqjlY",
    "outputId": "b9cee97f-16a1-4058-84af-72d9329fe089"
   },
   "outputs": [
    {
     "data": {
      "text/plain": [
       "<matplotlib.collections.PathCollection at 0x7ff94731c640>"
      ]
     },
     "execution_count": 12,
     "metadata": {},
     "output_type": "execute_result"
    },
    {
     "data": {
      "image/png": "[encoded data removed]",
      "text/plain": [
       "<Figure size 432x288 with 1 Axes>"
      ]
     },
     "metadata": {
      "needs_background": "light"
     },
     "output_type": "display_data"
    }
   ],
   "source": [
    "plt.scatter(df.Attack, df.Defense, c=df.c, s=df.Speed, alpha = 0.6)"
   ]
  },
  {
   "cell_type": "markdown",
   "metadata": {
    "id": "8srFjXIe4Faa"
   },
   "source": [
    "__Observations:__\n",
    "- Cluster output with K = 3\n",
    "- We can see a scatter plot in which the data points for each cluster are highlighted."
   ]
  },
  {
   "cell_type": "markdown",
   "metadata": {
    "id": "VCsmxKJo0Agp"
   },
   "source": [
    "## Step 4: Create a Centroid Point for Each of the Cluster\n",
    "\n",
    "- Create a scatter plot with centroids and lines connecting centroids to their respective points\n",
    "- Add legends and labels\n"
   ]
  },
  {
   "cell_type": "code",
   "execution_count": 13,
   "metadata": {
    "colab": {
     "base_uri": "https://localhost:8080/",
     "height": 778
    },
    "executionInfo": {
     "elapsed": 2663,
     "status": "ok",
     "timestamp": 1682618659534,
     "user": {
      "displayName": "Sreelakshmi C V",
      "userId": "04477517605899898333"
     },
     "user_tz": -330
    },
    "id": "gFZQztf1qjlY",
    "outputId": "1f58e209-1044-4de6-a012-2ca3ae6ac363"
   },
   "outputs": [
    {
     "ename": "SyntaxError",
     "evalue": "unmatched ')' (3187375891.py, line 14)",
     "output_type": "error",
     "traceback": [
      "\u001b[0;36m  File \u001b[0;32m\"/tmp/ipykernel_122/3187375891.py\"\u001b[0;36m, line \u001b[0;32m14\u001b[0m\n\u001b[0;31m    markerfacecolor=mcolor, markersize=10) for i, mcolor in enumerate(colors)]))\u001b[0m\n\u001b[0m                                                                               ^\u001b[0m\n\u001b[0;31mSyntaxError\u001b[0m\u001b[0;31m:\u001b[0m unmatched ')'\n"
     ]
    }
   ],
   "source": [
    "from matplotlib.lines import Line2D\n",
    "fig, ax = plt.subplots(1, figsize=(8,8))\n",
    "plt.scatter(df.Attack, df.Defense, c=df.c, alpha = 0.6, s=10)\n",
    "plt.scatter(cen_x, cen_y, marker='^', c=colors, s=70)\n",
    "for idx, val in df.iterrows():\n",
    "    x = [val.Attack, val.cen_x,]\n",
    "    y = [val.Defense, val.cen_y]\n",
    "    plt.plot(x, y, c=val.c, alpha=0.2)\n",
    "cent_leg = [Line2D([0], [0], marker='^', color='w', label='Centroid - C{}'.format(i+1), \n",
    "            markerfacecolor=mcolor, markersize=10) for i, mcolor in enumerate(colors)]    \n",
    "legend_elements = [Line2D([0], [0], marker='o', color='w', label='Cluster {}'.format(i+1), \n",
    "                   markerfacecolor=mcolor, markersize=5) for i, mcolor in enumerate(colors)]\n",
    "legend_elements.extend([Line2D([0], [0], marker='^', color='w', label='Centroid - C{}'.format(i+1), \n",
    "            markerfacecolor=mcolor, markersize=10) for i, mcolor in enumerate(colors)])\n",
    "plt.legend(handles=legend_elements, loc='upper right', ncol=2)\n",
    "plt.xlim(0,200)\n",
    "plt.ylim(0,200)\n",
    "plt.title('Pokemon Stats\\n', loc='left', fontsize=22)\n",
    "plt.xlabel('Attack')\n",
    "plt.ylabel('Defense')"
   ]
  },
  {
   "cell_type": "markdown",
   "metadata": {
    "id": "SlZFURe557RE"
   },
   "source": [
    "__Observations:__\n",
    "- We can see how the data is spread away from the centroid.\n",
    "- We can see the cluster output with a centroid value and K = 3.\n",
    "- This is how we can create the plot data for the cluster case."
   ]
  },
  {
   "cell_type": "markdown",
   "metadata": {
    "id": "rpfP8KeV0QRH"
   },
   "source": [
    "\n",
    "## Step 5: Create a Plot with a Convex Hull Enclosing Each Cluster\n",
    "\n",
    "- Create a scatter plot with centroids and a convex hull enclosing each cluster\n",
    "- Import convex hull from scipy.spatial\n",
    "- Compute the convex hull for each cluster and plot the shape\n"
   ]
  },
  {
   "cell_type": "code",
   "execution_count": null,
   "metadata": {
    "colab": {
     "base_uri": "https://localhost:8080/",
     "height": 699
    },
    "executionInfo": {
     "elapsed": 864,
     "status": "ok",
     "timestamp": 1682619138811,
     "user": {
      "displayName": "Sreelakshmi C V",
      "userId": "04477517605899898333"
     },
     "user_tz": -330
    },
    "id": "H82w-4EVqjlZ",
    "outputId": "a6b23a9b-cbf9-422c-818e-5dacdd2b614e"
   },
   "outputs": [],
   "source": [
    "from scipy.spatial import ConvexHull\n",
    "import numpy as np\n",
    "fig, ax = plt.subplots(1, figsize=(8,8))\n",
    "plt.scatter(df.Attack, df.Defense, c=df.c, alpha = 0.6, s=10)\n",
    "plt.scatter(cen_x, cen_y, marker='^', c=colors, s=70)\n",
    "for i in df.cluster.unique():\n",
    "    points = df[df.cluster == i][['Attack', 'Defense']].values\n",
    "    hull = ConvexHull(points)\n",
    "    x_hull = np.append(points[hull.vertices,0],\n",
    "                       points[hull.vertices,0][0])\n",
    "    y_hull = np.append(points[hull.vertices,1],\n",
    "                       points[hull.vertices,1][0])\n",
    "    plt.fill(x_hull, y_hull, alpha=0.3, c=colors[i])\n",
    "    \n",
    "plt.xlim(0,200)\n",
    "plt.ylim(0,200)\n"
   ]
  },
  {
   "cell_type": "markdown",
   "metadata": {
    "id": "pT3pUWiE8znK"
   },
   "source": [
    "__Observation:__\n",
    "- Here, we can see the convex hull of the clusters."
   ]
  }
 ],
 "metadata": {
  "colab": {
   "provenance": []
  },
  "kernelspec": {
   "display_name": "Python 3 [3.10]",
   "language": "python",
   "name": "python3"
  },
  "language_info": {
   "codemirror_mode": {
    "name": "ipython",
    "version": 3
   },
   "file_extension": ".py",
   "mimetype": "text/x-python",
   "name": "python",
   "nbconvert_exporter": "python",
   "pygments_lexer": "ipython3",
   "version": "3.10.2"
  }
 },
 "nbformat": 4,
 "nbformat_minor": 4
}

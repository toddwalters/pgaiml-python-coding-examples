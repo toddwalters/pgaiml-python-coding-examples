{
 "cells": [
  {
   "cell_type": "code",
   "execution_count": 1,
   "id": "2a0dbc75-1df2-42d9-afbe-c401681c5f65",
   "metadata": {},
   "outputs": [],
   "source": [
    "from pathlib import Path"
   ]
  },
  {
   "cell_type": "code",
   "execution_count": 5,
   "id": "6e9a79a8-346a-4e15-a928-de573670fbca",
   "metadata": {},
   "outputs": [
    {
     "data": {
      "text/plain": [
       "'/Users/nachikethpro/Desktop/author-repo/python-coding-examples/machine-learning'"
      ]
     },
     "execution_count": 5,
     "metadata": {},
     "output_type": "execute_result"
    }
   ],
   "source": [
    "import os\n",
    "os.getcwd()"
   ]
  },
  {
   "cell_type": "code",
   "execution_count": 6,
   "id": "7fadfb47-5355-4888-83d0-c26d87409c20",
   "metadata": {},
   "outputs": [],
   "source": [
    "dir = Path(os.getcwd())"
   ]
  },
  {
   "cell_type": "code",
   "execution_count": 7,
   "id": "45655df7-3fa7-4f30-8305-cfa6a20f9c5d",
   "metadata": {},
   "outputs": [
    {
     "data": {
      "text/plain": [
       "PosixPath('/Users/nachikethpro/Desktop/author-repo/python-coding-examples/machine-learning')"
      ]
     },
     "execution_count": 7,
     "metadata": {},
     "output_type": "execute_result"
    }
   ],
   "source": [
    "dir"
   ]
  },
  {
   "cell_type": "code",
   "execution_count": 9,
   "id": "d8cf72dd-80c4-47dc-bc37-f908491f46ec",
   "metadata": {},
   "outputs": [
    {
     "data": {
      "text/plain": [
       "PosixPath('/Users/nachikethpro/Desktop/author-repo')"
      ]
     },
     "execution_count": 9,
     "metadata": {},
     "output_type": "execute_result"
    }
   ],
   "source": [
    "dir.parent.parent"
   ]
  },
  {
   "cell_type": "code",
   "execution_count": null,
   "id": "75dcdacf-a8ff-4012-ab59-5bf3cd349e60",
   "metadata": {},
   "outputs": [],
   "source": []
  }
 ],
 "metadata": {
  "kernelspec": {
   "display_name": "Python 3 (ipykernel)",
   "language": "python",
   "name": "python3"
  },
  "language_info": {
   "codemirror_mode": {
    "name": "ipython",
    "version": 3
   },
   "file_extension": ".py",
   "mimetype": "text/x-python",
   "name": "python",
   "nbconvert_exporter": "python",
   "pygments_lexer": "ipython3",
   "version": "3.11.7"
  }
 },
 "nbformat": 4,
 "nbformat_minor": 5
}
